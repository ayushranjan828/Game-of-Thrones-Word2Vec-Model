{
 "cells": [
  {
   "cell_type": "code",
   "execution_count": 44,
   "metadata": {},
   "outputs": [],
   "source": [
    "import numpy as np\n",
    "import pandas as pd\n",
    "import gensim\n",
    "import os\n",
    "from nltk import sent_tokenize\n",
    "from gensim.utils import simple_preprocess"
   ]
  },
  {
   "cell_type": "code",
   "execution_count": 45,
   "metadata": {},
   "outputs": [
    {
     "name": "stderr",
     "output_type": "stream",
     "text": [
      "[nltk_data] Downloading package punkt to\n",
      "[nltk_data]     C:\\Users\\ayush\\AppData\\Roaming\\nltk_data...\n",
      "[nltk_data]   Package punkt is already up-to-date!\n"
     ]
    },
    {
     "data": {
      "text/plain": [
       "True"
      ]
     },
     "execution_count": 45,
     "metadata": {},
     "output_type": "execute_result"
    }
   ],
   "source": [
    "import nltk\n",
    "nltk.download('punkt')"
   ]
  },
  {
   "cell_type": "code",
   "execution_count": 46,
   "metadata": {},
   "outputs": [],
   "source": [
    "story = []\n",
    "for filename in os.listdir(\"E:/Assingment/Python Project/Game Of Thrones/Data\"):\n",
    "\n",
    "    f = open(os.path.join(\"E:/Assingment/Python Project/Game Of Thrones/Data\", filename))\n",
    "    corpus = f.read()\n",
    "\n",
    "    raw_sent = sent_tokenize(corpus)\n",
    "    \n",
    "    for sent in raw_sent:\n",
    "        story.append(simple_preprocess(sent))"
   ]
  },
  {
   "cell_type": "code",
   "execution_count": 47,
   "metadata": {},
   "outputs": [
    {
     "data": {
      "text/plain": [
       "145020"
      ]
     },
     "execution_count": 47,
     "metadata": {},
     "output_type": "execute_result"
    }
   ],
   "source": [
    "len(story)"
   ]
  },
  {
   "cell_type": "code",
   "execution_count": 48,
   "metadata": {},
   "outputs": [
    {
     "data": {
      "text/plain": [
       "[['game',\n",
       "  'of',\n",
       "  'thrones',\n",
       "  'book',\n",
       "  'one',\n",
       "  'of',\n",
       "  'song',\n",
       "  'of',\n",
       "  'ice',\n",
       "  'and',\n",
       "  'fire',\n",
       "  'by',\n",
       "  'george',\n",
       "  'martin',\n",
       "  'prologue',\n",
       "  'we',\n",
       "  'should',\n",
       "  'start',\n",
       "  'back',\n",
       "  'gared',\n",
       "  'urged',\n",
       "  'as',\n",
       "  'the',\n",
       "  'woods',\n",
       "  'began',\n",
       "  'to',\n",
       "  'grow',\n",
       "  'dark',\n",
       "  'around',\n",
       "  'them'],\n",
       " ['the', 'wildlings', 'are', 'dead'],\n",
       " ['do', 'the', 'dead', 'frighten', 'you'],\n",
       " ['ser',\n",
       "  'waymar',\n",
       "  'royce',\n",
       "  'asked',\n",
       "  'with',\n",
       "  'just',\n",
       "  'the',\n",
       "  'hint',\n",
       "  'of',\n",
       "  'smile'],\n",
       " ['gared', 'did', 'not', 'rise', 'to', 'the', 'bait'],\n",
       " ['he',\n",
       "  'was',\n",
       "  'an',\n",
       "  'old',\n",
       "  'man',\n",
       "  'past',\n",
       "  'fifty',\n",
       "  'and',\n",
       "  'he',\n",
       "  'had',\n",
       "  'seen',\n",
       "  'the',\n",
       "  'lordlings',\n",
       "  'come',\n",
       "  'and',\n",
       "  'go'],\n",
       " ['dead', 'is', 'dead', 'he', 'said'],\n",
       " ['we', 'have', 'no', 'business', 'with', 'the', 'dead'],\n",
       " ['are', 'they', 'dead'],\n",
       " ['royce', 'asked', 'softly'],\n",
       " ['what', 'proof', 'have', 'we'],\n",
       " ['will', 'saw', 'them', 'gared', 'said'],\n",
       " ['if',\n",
       "  'he',\n",
       "  'says',\n",
       "  'they',\n",
       "  'are',\n",
       "  'dead',\n",
       "  'that',\n",
       "  'proof',\n",
       "  'enough',\n",
       "  'for',\n",
       "  'me'],\n",
       " ['will',\n",
       "  'had',\n",
       "  'known',\n",
       "  'they',\n",
       "  'would',\n",
       "  'drag',\n",
       "  'him',\n",
       "  'into',\n",
       "  'the',\n",
       "  'quarrel',\n",
       "  'sooner',\n",
       "  'or',\n",
       "  'later'],\n",
       " ['he', 'wished', 'it', 'had', 'been', 'later', 'rather', 'than', 'sooner'],\n",
       " ['my',\n",
       "  'mother',\n",
       "  'told',\n",
       "  'me',\n",
       "  'that',\n",
       "  'dead',\n",
       "  'men',\n",
       "  'sing',\n",
       "  'no',\n",
       "  'songs',\n",
       "  'he',\n",
       "  'put',\n",
       "  'in'],\n",
       " ['my',\n",
       "  'wet',\n",
       "  'nurse',\n",
       "  'said',\n",
       "  'the',\n",
       "  'same',\n",
       "  'thing',\n",
       "  'will',\n",
       "  'royce',\n",
       "  'replied'],\n",
       " ['never', 'believe', 'anything', 'you', 'hear', 'at', 'woman', 'tit'],\n",
       " ['there',\n",
       "  'are',\n",
       "  'things',\n",
       "  'to',\n",
       "  'be',\n",
       "  'learned',\n",
       "  'even',\n",
       "  'from',\n",
       "  'the',\n",
       "  'dead'],\n",
       " ['his', 'voice', 'echoed', 'too', 'loud', 'in', 'the', 'twilit', 'forest'],\n",
       " ['page',\n",
       "  'we',\n",
       "  'have',\n",
       "  'long',\n",
       "  'ride',\n",
       "  'before',\n",
       "  'us',\n",
       "  'gared',\n",
       "  'pointed',\n",
       "  'out'],\n",
       " ['eight', 'days', 'maybe', 'nine'],\n",
       " ['and', 'night', 'is', 'falling'],\n",
       " ['ser',\n",
       "  'waymar',\n",
       "  'royce',\n",
       "  'glanced',\n",
       "  'at',\n",
       "  'the',\n",
       "  'sky',\n",
       "  'with',\n",
       "  'disinterest'],\n",
       " ['it', 'does', 'that', 'every', 'day', 'about', 'this', 'time'],\n",
       " ['are', 'you', 'unmanned', 'by', 'the', 'dark', 'gared'],\n",
       " ['will',\n",
       "  'could',\n",
       "  'see',\n",
       "  'the',\n",
       "  'tightness',\n",
       "  'around',\n",
       "  'gared',\n",
       "  'mouth',\n",
       "  'the',\n",
       "  'barely',\n",
       "  'sup',\n",
       "  'pressed',\n",
       "  'anger',\n",
       "  'in',\n",
       "  'his',\n",
       "  'eyes',\n",
       "  'under',\n",
       "  'the',\n",
       "  'thick',\n",
       "  'black',\n",
       "  'hood',\n",
       "  'of',\n",
       "  'his',\n",
       "  'cloak'],\n",
       " ['gared',\n",
       "  'had',\n",
       "  'spent',\n",
       "  'forty',\n",
       "  'years',\n",
       "  'in',\n",
       "  'the',\n",
       "  'night',\n",
       "  'watch',\n",
       "  'man',\n",
       "  'and',\n",
       "  'boy',\n",
       "  'and',\n",
       "  'he',\n",
       "  'was',\n",
       "  'not',\n",
       "  'accustomed',\n",
       "  'to',\n",
       "  'being',\n",
       "  'made',\n",
       "  'light',\n",
       "  'of'],\n",
       " ['yet', 'it', 'was', 'more', 'than', 'that'],\n",
       " ['under',\n",
       "  'the',\n",
       "  'wounded',\n",
       "  'pride',\n",
       "  'will',\n",
       "  'could',\n",
       "  'sense',\n",
       "  'something',\n",
       "  'else',\n",
       "  'in',\n",
       "  'the',\n",
       "  'older',\n",
       "  'man'],\n",
       " ['you',\n",
       "  'could',\n",
       "  'taste',\n",
       "  'it',\n",
       "  'nervous',\n",
       "  'tension',\n",
       "  'that',\n",
       "  'came',\n",
       "  'perilous',\n",
       "  'close',\n",
       "  'to',\n",
       "  'fear'],\n",
       " ['will', 'shared', 'his', 'unease'],\n",
       " ['he', 'had', 'been', 'four', 'years', 'on', 'the', 'wall'],\n",
       " ['the',\n",
       "  'first',\n",
       "  'time',\n",
       "  'he',\n",
       "  'had',\n",
       "  'been',\n",
       "  'sent',\n",
       "  'beyond',\n",
       "  'all',\n",
       "  'the',\n",
       "  'old',\n",
       "  'stories',\n",
       "  'had',\n",
       "  'come',\n",
       "  'rushing',\n",
       "  'back',\n",
       "  'and',\n",
       "  'his',\n",
       "  'bowels',\n",
       "  'had',\n",
       "  'turned',\n",
       "  'to',\n",
       "  'water'],\n",
       " ['he', 'had', 'laughed', 'about', 'it', 'afterward'],\n",
       " ['he',\n",
       "  'was',\n",
       "  'veteran',\n",
       "  'of',\n",
       "  'hundred',\n",
       "  'rangings',\n",
       "  'by',\n",
       "  'now',\n",
       "  'and',\n",
       "  'the',\n",
       "  'endless',\n",
       "  'dark',\n",
       "  'wilderness',\n",
       "  'that',\n",
       "  'the',\n",
       "  'southron',\n",
       "  'called',\n",
       "  'the',\n",
       "  'haunted',\n",
       "  'forest',\n",
       "  'had',\n",
       "  'no',\n",
       "  'more',\n",
       "  'terrors',\n",
       "  'for',\n",
       "  'him'],\n",
       " ['until', 'tonight'],\n",
       " ['something', 'was', 'different', 'tonight'],\n",
       " ['there',\n",
       "  'was',\n",
       "  'an',\n",
       "  'edge',\n",
       "  'to',\n",
       "  'this',\n",
       "  'darkness',\n",
       "  'that',\n",
       "  'made',\n",
       "  'his',\n",
       "  'hackles',\n",
       "  'rise'],\n",
       " ['nine',\n",
       "  'days',\n",
       "  'they',\n",
       "  'had',\n",
       "  'been',\n",
       "  'riding',\n",
       "  'north',\n",
       "  'and',\n",
       "  'northwest',\n",
       "  'and',\n",
       "  'then',\n",
       "  'north',\n",
       "  'again',\n",
       "  'farther',\n",
       "  'and',\n",
       "  'farther',\n",
       "  'from',\n",
       "  'the',\n",
       "  'wall',\n",
       "  'hard',\n",
       "  'on',\n",
       "  'the',\n",
       "  'track',\n",
       "  'of',\n",
       "  'band',\n",
       "  'of',\n",
       "  'wildling',\n",
       "  'raiders'],\n",
       " ['each',\n",
       "  'day',\n",
       "  'had',\n",
       "  'been',\n",
       "  'worse',\n",
       "  'than',\n",
       "  'the',\n",
       "  'day',\n",
       "  'that',\n",
       "  'had',\n",
       "  'come',\n",
       "  'before',\n",
       "  'it'],\n",
       " ['today', 'was', 'the', 'worst', 'of', 'all'],\n",
       " ['cold',\n",
       "  'wind',\n",
       "  'was',\n",
       "  'blowing',\n",
       "  'out',\n",
       "  'of',\n",
       "  'the',\n",
       "  'north',\n",
       "  'and',\n",
       "  'it',\n",
       "  'made',\n",
       "  'the',\n",
       "  'trees',\n",
       "  'rustle',\n",
       "  'like',\n",
       "  'living',\n",
       "  'things'],\n",
       " ['all',\n",
       "  'day',\n",
       "  'will',\n",
       "  'had',\n",
       "  'felt',\n",
       "  'as',\n",
       "  'though',\n",
       "  'something',\n",
       "  'were',\n",
       "  'watching',\n",
       "  'him',\n",
       "  'something',\n",
       "  'cold',\n",
       "  'and',\n",
       "  'implacable',\n",
       "  'that',\n",
       "  'loved',\n",
       "  'him',\n",
       "  'not'],\n",
       " ['gared', 'had', 'felt', 'it', 'too'],\n",
       " ['will',\n",
       "  'wanted',\n",
       "  'nothing',\n",
       "  'so',\n",
       "  'much',\n",
       "  'as',\n",
       "  'to',\n",
       "  'ride',\n",
       "  'hellbent',\n",
       "  'for',\n",
       "  'the',\n",
       "  'safety',\n",
       "  'of',\n",
       "  'the',\n",
       "  'wall',\n",
       "  'but',\n",
       "  'that',\n",
       "  'was',\n",
       "  'not',\n",
       "  'feeling',\n",
       "  'to',\n",
       "  'share',\n",
       "  'with',\n",
       "  'your',\n",
       "  'commander'],\n",
       " ['especially', 'not', 'commander', 'like', 'this', 'one'],\n",
       " ['ser',\n",
       "  'waymar',\n",
       "  'royce',\n",
       "  'was',\n",
       "  'the',\n",
       "  'youngest',\n",
       "  'son',\n",
       "  'of',\n",
       "  'an',\n",
       "  'ancient',\n",
       "  'house',\n",
       "  'with',\n",
       "  'too',\n",
       "  'many',\n",
       "  'heirs'],\n",
       " ['he',\n",
       "  'was',\n",
       "  'handsome',\n",
       "  'youth',\n",
       "  'of',\n",
       "  'eighteen',\n",
       "  'grey',\n",
       "  'eyed',\n",
       "  'and',\n",
       "  'graceful',\n",
       "  'and',\n",
       "  'slender',\n",
       "  'as',\n",
       "  'knife'],\n",
       " ['mounted',\n",
       "  'on',\n",
       "  'his',\n",
       "  'huge',\n",
       "  'black',\n",
       "  'destrier',\n",
       "  'the',\n",
       "  'knight',\n",
       "  'towered',\n",
       "  'above',\n",
       "  'will',\n",
       "  'and',\n",
       "  'gared',\n",
       "  'on',\n",
       "  'their',\n",
       "  'smaller',\n",
       "  'garrons'],\n",
       " ['he',\n",
       "  'wore',\n",
       "  'black',\n",
       "  'leather',\n",
       "  'boots',\n",
       "  'black',\n",
       "  'woolen',\n",
       "  'pants',\n",
       "  'black',\n",
       "  'moleskin',\n",
       "  'gloves',\n",
       "  'and',\n",
       "  'fine',\n",
       "  'supple',\n",
       "  'coat',\n",
       "  'of',\n",
       "  'gleaming',\n",
       "  'black',\n",
       "  'ringmail',\n",
       "  'over',\n",
       "  'layers',\n",
       "  'of',\n",
       "  'black',\n",
       "  'wool',\n",
       "  'and',\n",
       "  'boiled',\n",
       "  'leather'],\n",
       " ['ser',\n",
       "  'waymar',\n",
       "  'had',\n",
       "  'been',\n",
       "  'sworn',\n",
       "  'brother',\n",
       "  'of',\n",
       "  'the',\n",
       "  'night',\n",
       "  'watch',\n",
       "  'for',\n",
       "  'less',\n",
       "  'than',\n",
       "  'half',\n",
       "  'year',\n",
       "  'but',\n",
       "  'no',\n",
       "  'one',\n",
       "  'could',\n",
       "  'say',\n",
       "  'he',\n",
       "  'had',\n",
       "  'not',\n",
       "  'prepared',\n",
       "  'for',\n",
       "  'his',\n",
       "  'vocation'],\n",
       " ['at', 'least', 'insofar', 'as', 'his', 'wardrobe', 'was', 'concerned'],\n",
       " ['his',\n",
       "  'cloak',\n",
       "  'was',\n",
       "  'his',\n",
       "  'crowning',\n",
       "  'glory',\n",
       "  'sable',\n",
       "  'thick',\n",
       "  'and',\n",
       "  'black',\n",
       "  'and',\n",
       "  'soft',\n",
       "  'as',\n",
       "  'sin'],\n",
       " ['bet',\n",
       "  'he',\n",
       "  'killed',\n",
       "  'them',\n",
       "  'all',\n",
       "  'himself',\n",
       "  'he',\n",
       "  'did',\n",
       "  'gared',\n",
       "  'told',\n",
       "  'the',\n",
       "  'barracks',\n",
       "  'over',\n",
       "  'wine',\n",
       "  'twisted',\n",
       "  'their',\n",
       "  'little',\n",
       "  'heads',\n",
       "  'off',\n",
       "  'our',\n",
       "  'mighty',\n",
       "  'warrior'],\n",
       " ['they', 'had', 'all', 'shared', 'the', 'laugh'],\n",
       " ['it',\n",
       "  'is',\n",
       "  'hard',\n",
       "  'to',\n",
       "  'take',\n",
       "  'orders',\n",
       "  'from',\n",
       "  'man',\n",
       "  'you',\n",
       "  'laughed',\n",
       "  'at',\n",
       "  'in',\n",
       "  'your',\n",
       "  'cups',\n",
       "  'will',\n",
       "  'reflected',\n",
       "  'as',\n",
       "  'he',\n",
       "  'sat',\n",
       "  'shivering',\n",
       "  'atop',\n",
       "  'his',\n",
       "  'garron'],\n",
       " ['gared', 'must', 'have', 'felt', 'the', 'same'],\n",
       " ['mormont',\n",
       "  'said',\n",
       "  'as',\n",
       "  'we',\n",
       "  'should',\n",
       "  'track',\n",
       "  'them',\n",
       "  'and',\n",
       "  'we',\n",
       "  'did',\n",
       "  'gared',\n",
       "  'said'],\n",
       " ['they', 're', 'dead'],\n",
       " ['they', 'shan', 'trouble', 'us', 'no', 'more'],\n",
       " ['there', 'hard', 'riding', 'before', 'us'],\n",
       " ['don', 'like', 'this', 'weather'],\n",
       " ['if',\n",
       "  'it',\n",
       "  'snows',\n",
       "  'we',\n",
       "  'could',\n",
       "  'be',\n",
       "  'fortnight',\n",
       "  'getting',\n",
       "  'back',\n",
       "  'and',\n",
       "  'snow',\n",
       "  'the',\n",
       "  'best',\n",
       "  'we',\n",
       "  'can',\n",
       "  'hope',\n",
       "  'for'],\n",
       " ['ever', 'seen', 'an', 'ice', 'storm', 'my', 'lord'],\n",
       " ['the', 'lordling', 'seemed', 'not', 'to', 'hear', 'him'],\n",
       " ['he',\n",
       "  'studied',\n",
       "  'the',\n",
       "  'deepening',\n",
       "  'twilight',\n",
       "  'in',\n",
       "  'that',\n",
       "  'half',\n",
       "  'bored',\n",
       "  'half',\n",
       "  'distracted',\n",
       "  'page',\n",
       "  'way',\n",
       "  'he',\n",
       "  'had'],\n",
       " ['will',\n",
       "  'had',\n",
       "  'ridden',\n",
       "  'with',\n",
       "  'the',\n",
       "  'knight',\n",
       "  'long',\n",
       "  'enough',\n",
       "  'to',\n",
       "  'understand',\n",
       "  'that',\n",
       "  'it',\n",
       "  'was',\n",
       "  'best',\n",
       "  'not',\n",
       "  'to',\n",
       "  'interrupt',\n",
       "  'him',\n",
       "  'when',\n",
       "  'he',\n",
       "  'looked',\n",
       "  'like',\n",
       "  'that'],\n",
       " ['tell', 'me', 'again', 'what', 'you', 'saw', 'will'],\n",
       " ['all', 'the', 'details'],\n",
       " ['leave', 'nothing', 'out'],\n",
       " ['will',\n",
       "  'had',\n",
       "  'been',\n",
       "  'hunter',\n",
       "  'before',\n",
       "  'he',\n",
       "  'joined',\n",
       "  'the',\n",
       "  'night',\n",
       "  'watch'],\n",
       " ['well', 'poacher', 'in', 'truth'],\n",
       " ['mallister',\n",
       "  'freeriders',\n",
       "  'had',\n",
       "  'caught',\n",
       "  'him',\n",
       "  'red',\n",
       "  'handed',\n",
       "  'in',\n",
       "  'the',\n",
       "  'mallisters',\n",
       "  'own',\n",
       "  'woods',\n",
       "  'skinning',\n",
       "  'one',\n",
       "  'of',\n",
       "  'the',\n",
       "  'mallisters',\n",
       "  'own',\n",
       "  'bucks',\n",
       "  'and',\n",
       "  'it',\n",
       "  'had',\n",
       "  'been',\n",
       "  'choice',\n",
       "  'of',\n",
       "  'putting',\n",
       "  'on',\n",
       "  'the',\n",
       "  'black',\n",
       "  'or',\n",
       "  'losing',\n",
       "  'hand'],\n",
       " ['no',\n",
       "  'one',\n",
       "  'could',\n",
       "  'move',\n",
       "  'through',\n",
       "  'the',\n",
       "  'woods',\n",
       "  'as',\n",
       "  'silent',\n",
       "  'as',\n",
       "  'will',\n",
       "  'and',\n",
       "  'it',\n",
       "  'had',\n",
       "  'not',\n",
       "  'taken',\n",
       "  'the',\n",
       "  'black',\n",
       "  'brothers',\n",
       "  'long',\n",
       "  'to',\n",
       "  'discover',\n",
       "  'his',\n",
       "  'talent'],\n",
       " ['the',\n",
       "  'camp',\n",
       "  'is',\n",
       "  'two',\n",
       "  'miles',\n",
       "  'farther',\n",
       "  'on',\n",
       "  'over',\n",
       "  'that',\n",
       "  'ridge',\n",
       "  'hard',\n",
       "  'beside',\n",
       "  'stream',\n",
       "  'will',\n",
       "  'said'],\n",
       " ['got', 'close', 'as', 'dared'],\n",
       " ['there', 'eight', 'of', 'them', 'men', 'and', 'women', 'both'],\n",
       " ['no', 'children', 'could', 'see'],\n",
       " ['they', 'put', 'up', 'lean', 'to', 'against', 'the', 'rock'],\n",
       " ['the',\n",
       "  'snow',\n",
       "  'pretty',\n",
       "  'well',\n",
       "  'covered',\n",
       "  'it',\n",
       "  'now',\n",
       "  'but',\n",
       "  'could',\n",
       "  'still',\n",
       "  'make',\n",
       "  'it',\n",
       "  'out'],\n",
       " ['no',\n",
       "  'fire',\n",
       "  'burning',\n",
       "  'but',\n",
       "  'the',\n",
       "  'firepit',\n",
       "  'was',\n",
       "  'still',\n",
       "  'plain',\n",
       "  'as',\n",
       "  'day'],\n",
       " ['no', 'one', 'moving'],\n",
       " ['watched', 'long', 'time'],\n",
       " ['no', 'living', 'man', 'ever', 'lay', 'so', 'still'],\n",
       " ['did', 'you', 'see', 'any', 'blood'],\n",
       " ['well', 'no', 'will', 'admitted'],\n",
       " ['did', 'you', 'see', 'any', 'weapons'],\n",
       " ['some', 'swords', 'few', 'bows'],\n",
       " ['one', 'man', 'had', 'an', 'axe'],\n",
       " ['heavy', 'looking', 'double', 'bladed', 'cruel', 'piece', 'of', 'iron'],\n",
       " ['it',\n",
       "  'was',\n",
       "  'on',\n",
       "  'the',\n",
       "  'ground',\n",
       "  'beside',\n",
       "  'him',\n",
       "  'right',\n",
       "  'by',\n",
       "  'his',\n",
       "  'hand'],\n",
       " ['did',\n",
       "  'you',\n",
       "  'make',\n",
       "  'note',\n",
       "  'of',\n",
       "  'the',\n",
       "  'position',\n",
       "  'of',\n",
       "  'the',\n",
       "  'bodies'],\n",
       " ['will', 'shrugged'],\n",
       " ['couple', 'are', 'sitting', 'up', 'against', 'the', 'rock'],\n",
       " ['most', 'of', 'them', 'on', 'the', 'ground'],\n",
       " ['fallen', 'like'],\n",
       " ['or', 'sleeping', 'royce', 'suggested'],\n",
       " ['fallen', 'will', 'insisted'],\n",
       " ['there',\n",
       "  'one',\n",
       "  'woman',\n",
       "  'up',\n",
       "  'an',\n",
       "  'ironwood',\n",
       "  'halfhid',\n",
       "  'in',\n",
       "  'the',\n",
       "  'branches'],\n",
       " ['far', 'eyes'],\n",
       " ['he', 'smiled', 'thinly'],\n",
       " ['took', 'care', 'she', 'never', 'saw', 'me'],\n",
       " ['when', 'got', 'closer', 'saw', 'that', 'she', 'wasn', 'moving', 'neither'],\n",
       " ['despite', 'himself', 'he', 'shivered'],\n",
       " ['you', 'have', 'chill'],\n",
       " ['royce', 'asked'],\n",
       " ['some', 'will', 'muttered'],\n",
       " ['the', 'wind', 'lord'],\n",
       " ['the',\n",
       "  'young',\n",
       "  'knight',\n",
       "  'turned',\n",
       "  'back',\n",
       "  'to',\n",
       "  'his',\n",
       "  'grizzled',\n",
       "  'man',\n",
       "  'at',\n",
       "  'arms'],\n",
       " ['frostfallen',\n",
       "  'leaves',\n",
       "  'whispered',\n",
       "  'past',\n",
       "  'them',\n",
       "  'and',\n",
       "  'royce',\n",
       "  'destrier',\n",
       "  'moved',\n",
       "  'restlessly'],\n",
       " ['what',\n",
       "  'do',\n",
       "  'you',\n",
       "  'think',\n",
       "  'might',\n",
       "  'have',\n",
       "  'killed',\n",
       "  'these',\n",
       "  'men',\n",
       "  'gared'],\n",
       " ['ser', 'waymar', 'asked', 'casually'],\n",
       " ['he', 'adjusted', 'the', 'drape', 'of', 'his', 'long', 'sable', 'cloak'],\n",
       " ['it', 'was', 'the', 'cold', 'gared', 'said', 'with', 'iron', 'certainty'],\n",
       " ['saw',\n",
       "  'men',\n",
       "  'freeze',\n",
       "  'last',\n",
       "  'winter',\n",
       "  'and',\n",
       "  'the',\n",
       "  'one',\n",
       "  'before',\n",
       "  'when',\n",
       "  'was',\n",
       "  'half',\n",
       "  'boy'],\n",
       " ['everyone',\n",
       "  'talks',\n",
       "  'about',\n",
       "  'snows',\n",
       "  'forty',\n",
       "  'foot',\n",
       "  'deep',\n",
       "  'and',\n",
       "  'how',\n",
       "  'the',\n",
       "  'ice',\n",
       "  'wind',\n",
       "  'comes',\n",
       "  'howling',\n",
       "  'out',\n",
       "  'of',\n",
       "  'the',\n",
       "  'north',\n",
       "  'but',\n",
       "  'the',\n",
       "  'real',\n",
       "  'enemy',\n",
       "  'is',\n",
       "  'the',\n",
       "  'cold'],\n",
       " ['it',\n",
       "  'steals',\n",
       "  'up',\n",
       "  'on',\n",
       "  'you',\n",
       "  'quieter',\n",
       "  'than',\n",
       "  'will',\n",
       "  'and',\n",
       "  'at',\n",
       "  'first',\n",
       "  'you',\n",
       "  'shiver',\n",
       "  'and',\n",
       "  'your',\n",
       "  'teeth',\n",
       "  'chatter',\n",
       "  'and',\n",
       "  'you',\n",
       "  'stamp',\n",
       "  'your',\n",
       "  'feet',\n",
       "  'and',\n",
       "  'dream',\n",
       "  'of',\n",
       "  'mulled',\n",
       "  'wine',\n",
       "  'and',\n",
       "  'nice',\n",
       "  'hot',\n",
       "  'fires'],\n",
       " ['it', 'burns', 'it', 'does'],\n",
       " ['nothing', 'burns', 'like', 'the', 'cold'],\n",
       " ['but', 'only', 'for', 'while'],\n",
       " ['then',\n",
       "  'it',\n",
       "  'gets',\n",
       "  'inside',\n",
       "  'you',\n",
       "  'and',\n",
       "  'starts',\n",
       "  'to',\n",
       "  'fill',\n",
       "  'you',\n",
       "  'up',\n",
       "  'and',\n",
       "  'after',\n",
       "  'while',\n",
       "  'you',\n",
       "  'don',\n",
       "  'have',\n",
       "  'the',\n",
       "  'strength',\n",
       "  'to',\n",
       "  'fight',\n",
       "  'it'],\n",
       " ['it', 'easier', 'just', 'to', 'sit', 'down', 'or', 'go', 'to', 'sleep'],\n",
       " ['they', 'say', 'you', 'don', 'feel', 'any', 'pain', 'toward', 'the', 'end'],\n",
       " ['first',\n",
       "  'you',\n",
       "  'go',\n",
       "  'weak',\n",
       "  'and',\n",
       "  'drowsy',\n",
       "  'and',\n",
       "  'everything',\n",
       "  'starts',\n",
       "  'to',\n",
       "  'fade',\n",
       "  'and',\n",
       "  'then',\n",
       "  'it',\n",
       "  'like',\n",
       "  'sinking',\n",
       "  'into',\n",
       "  'sea',\n",
       "  'of',\n",
       "  'warm',\n",
       "  'milk'],\n",
       " ['peaceful', 'like'],\n",
       " ['such', 'eloquence', 'gared', 'ser', 'waymar', 'observed'],\n",
       " ['never', 'suspected', 'you', 'had', 'it', 'in', 'you'],\n",
       " ['page', 've', 'had', 'the', 'cold', 'in', 'me', 'too', 'lordling'],\n",
       " ['gared',\n",
       "  'pulled',\n",
       "  'back',\n",
       "  'his',\n",
       "  'hood',\n",
       "  'giving',\n",
       "  'ser',\n",
       "  'waymar',\n",
       "  'good',\n",
       "  'long',\n",
       "  'look',\n",
       "  'at',\n",
       "  'the',\n",
       "  'stumps',\n",
       "  'where',\n",
       "  'his',\n",
       "  'ears',\n",
       "  'had',\n",
       "  'been'],\n",
       " ['two',\n",
       "  'ears',\n",
       "  'three',\n",
       "  'toes',\n",
       "  'and',\n",
       "  'the',\n",
       "  'little',\n",
       "  'finger',\n",
       "  'off',\n",
       "  'my',\n",
       "  'left',\n",
       "  'hand'],\n",
       " ['got', 'off', 'light'],\n",
       " ['we',\n",
       "  'found',\n",
       "  'my',\n",
       "  'brother',\n",
       "  'frozen',\n",
       "  'at',\n",
       "  'his',\n",
       "  'watch',\n",
       "  'with',\n",
       "  'smile',\n",
       "  'on',\n",
       "  'his',\n",
       "  'face'],\n",
       " ['ser', 'waymar', 'shrugged'],\n",
       " ['you', 'ought', 'dress', 'more', 'warmly', 'gared'],\n",
       " ['gared',\n",
       "  'glared',\n",
       "  'at',\n",
       "  'the',\n",
       "  'lordling',\n",
       "  'the',\n",
       "  'scars',\n",
       "  'around',\n",
       "  'his',\n",
       "  'ear',\n",
       "  'holes',\n",
       "  'flushed',\n",
       "  'red',\n",
       "  'with',\n",
       "  'anger',\n",
       "  'where',\n",
       "  'maester',\n",
       "  'aemon',\n",
       "  'had',\n",
       "  'cut',\n",
       "  'the',\n",
       "  'ears',\n",
       "  'away'],\n",
       " ['we',\n",
       "  'll',\n",
       "  'see',\n",
       "  'how',\n",
       "  'warm',\n",
       "  'you',\n",
       "  'can',\n",
       "  'dress',\n",
       "  'when',\n",
       "  'the',\n",
       "  'winter',\n",
       "  'comes'],\n",
       " ['he',\n",
       "  'pulled',\n",
       "  'up',\n",
       "  'his',\n",
       "  'hood',\n",
       "  'and',\n",
       "  'hunched',\n",
       "  'over',\n",
       "  'his',\n",
       "  'garron',\n",
       "  'silent',\n",
       "  'and',\n",
       "  'sullen'],\n",
       " ['if', 'gared', 'said', 'it', 'was', 'the', 'cold'],\n",
       " [],\n",
       " [],\n",
       " ['will', 'began'],\n",
       " ['have', 'you', 'drawn', 'any', 'watches', 'this', 'past', 'week', 'will'],\n",
       " ['yes', 'lord'],\n",
       " ['there',\n",
       "  'never',\n",
       "  'was',\n",
       "  'week',\n",
       "  'when',\n",
       "  'he',\n",
       "  'did',\n",
       "  'not',\n",
       "  'draw',\n",
       "  'dozen',\n",
       "  'bloody',\n",
       "  'watches'],\n",
       " ['what', 'was', 'the', 'man', 'driving', 'at'],\n",
       " ['and', 'how', 'did', 'you', 'find', 'the', 'wall'],\n",
       " ['weeping', 'will', 'said', 'frowning'],\n",
       " ['he',\n",
       "  'saw',\n",
       "  'it',\n",
       "  'clear',\n",
       "  'enough',\n",
       "  'now',\n",
       "  'that',\n",
       "  'the',\n",
       "  'lordling',\n",
       "  'had',\n",
       "  'pointed',\n",
       "  'it',\n",
       "  'out'],\n",
       " ['they', 'couldn', 'have', 'froze'],\n",
       " ['not', 'if', 'the', 'wall', 'was', 'weeping'],\n",
       " ['it', 'wasn', 'cold', 'enough'],\n",
       " ['royce', 'nodded'],\n",
       " ['bright', 'lad'],\n",
       " ['we',\n",
       "  've',\n",
       "  'had',\n",
       "  'few',\n",
       "  'light',\n",
       "  'frosts',\n",
       "  'this',\n",
       "  'past',\n",
       "  'week',\n",
       "  'and',\n",
       "  'quick',\n",
       "  'flurry',\n",
       "  'of',\n",
       "  'snow',\n",
       "  'now',\n",
       "  'and',\n",
       "  'then',\n",
       "  'but',\n",
       "  'surely',\n",
       "  'no',\n",
       "  'cold',\n",
       "  'fierce',\n",
       "  'enough',\n",
       "  'to',\n",
       "  'kill',\n",
       "  'eight',\n",
       "  'grown',\n",
       "  'men'],\n",
       " ['men',\n",
       "  'clad',\n",
       "  'in',\n",
       "  'fur',\n",
       "  'and',\n",
       "  'leather',\n",
       "  'let',\n",
       "  'me',\n",
       "  'remind',\n",
       "  'you',\n",
       "  'with',\n",
       "  'shelter',\n",
       "  'near',\n",
       "  'at',\n",
       "  'hand',\n",
       "  'and',\n",
       "  'the',\n",
       "  'means',\n",
       "  'of',\n",
       "  'making',\n",
       "  'fire'],\n",
       " ['the', 'knight', 'smile', 'was', 'cocksure'],\n",
       " ['will', 'lead', 'us', 'there'],\n",
       " ['would', 'see', 'these', 'dead', 'men', 'for', 'myself'],\n",
       " ['and', 'then', 'there', 'was', 'nothing', 'to', 'be', 'done', 'for', 'it'],\n",
       " ['the',\n",
       "  'order',\n",
       "  'had',\n",
       "  'been',\n",
       "  'given',\n",
       "  'and',\n",
       "  'honor',\n",
       "  'bound',\n",
       "  'them',\n",
       "  'to',\n",
       "  'obey'],\n",
       " ['will',\n",
       "  'went',\n",
       "  'in',\n",
       "  'front',\n",
       "  'his',\n",
       "  'shaggy',\n",
       "  'little',\n",
       "  'garron',\n",
       "  'picking',\n",
       "  'the',\n",
       "  'way',\n",
       "  'carefully',\n",
       "  'through',\n",
       "  'the',\n",
       "  'undergrowth'],\n",
       " ['light',\n",
       "  'snow',\n",
       "  'had',\n",
       "  'fallen',\n",
       "  'the',\n",
       "  'night',\n",
       "  'before',\n",
       "  'and',\n",
       "  'there',\n",
       "  'were',\n",
       "  'stones',\n",
       "  'and',\n",
       "  'roots',\n",
       "  'and',\n",
       "  'hidden',\n",
       "  'sinks',\n",
       "  'lying',\n",
       "  'just',\n",
       "  'under',\n",
       "  'its',\n",
       "  'crust',\n",
       "  'waiting',\n",
       "  'for',\n",
       "  'the',\n",
       "  'careless',\n",
       "  'and',\n",
       "  'the',\n",
       "  'unwary'],\n",
       " ['ser',\n",
       "  'waymar',\n",
       "  'royce',\n",
       "  'came',\n",
       "  'next',\n",
       "  'his',\n",
       "  'great',\n",
       "  'black',\n",
       "  'destrier',\n",
       "  'snorting',\n",
       "  'impatiently'],\n",
       " ['the',\n",
       "  'warhorse',\n",
       "  'was',\n",
       "  'the',\n",
       "  'wrong',\n",
       "  'mount',\n",
       "  'for',\n",
       "  'ranging',\n",
       "  'but',\n",
       "  'try',\n",
       "  'and',\n",
       "  'tell',\n",
       "  'that',\n",
       "  'to',\n",
       "  'the',\n",
       "  'lordling'],\n",
       " ['gared', 'brought', 'up', 'the', 'rear'],\n",
       " ['the',\n",
       "  'old',\n",
       "  'man',\n",
       "  'at',\n",
       "  'arms',\n",
       "  'muttered',\n",
       "  'to',\n",
       "  'himself',\n",
       "  'as',\n",
       "  'he',\n",
       "  'rode'],\n",
       " ['twilight', 'deepened'],\n",
       " ['the',\n",
       "  'cloudless',\n",
       "  'sky',\n",
       "  'turned',\n",
       "  'deep',\n",
       "  'purple',\n",
       "  'the',\n",
       "  'color',\n",
       "  'of',\n",
       "  'an',\n",
       "  'old',\n",
       "  'bruise',\n",
       "  'then',\n",
       "  'faded',\n",
       "  'to',\n",
       "  'black'],\n",
       " ['the', 'stars', 'began', 'to', 'come', 'out'],\n",
       " ['half', 'moon', 'rose'],\n",
       " ['will', 'was', 'grateful', 'for', 'the', 'light'],\n",
       " ['we',\n",
       "  'can',\n",
       "  'make',\n",
       "  'better',\n",
       "  'pace',\n",
       "  'than',\n",
       "  'this',\n",
       "  'surely',\n",
       "  'royce',\n",
       "  'said',\n",
       "  'when',\n",
       "  'the',\n",
       "  'moon',\n",
       "  'was',\n",
       "  'full',\n",
       "  'risen'],\n",
       " ['not', 'with', 'this', 'horse', 'will', 'said'],\n",
       " ['fear', 'had', 'made', 'him', 'insolent'],\n",
       " ['perhaps', 'my', 'lord', 'would', 'care', 'to', 'take', 'the', 'lead'],\n",
       " ['ser', 'waymar', 'royce', 'did', 'not', 'deign', 'to', 'reply'],\n",
       " ['somewhere', 'off', 'in', 'the', 'wood', 'wolf', 'howled'],\n",
       " ['will',\n",
       "  'pulled',\n",
       "  'his',\n",
       "  'garron',\n",
       "  'over',\n",
       "  'beneath',\n",
       "  'an',\n",
       "  'ancient',\n",
       "  'gnarled',\n",
       "  'ironwood',\n",
       "  'and',\n",
       "  'dismounted'],\n",
       " ['page', 'why', 'are', 'you', 'stopping'],\n",
       " ['ser', 'waymar', 'asked'],\n",
       " ['best', 'go', 'the', 'rest', 'of', 'the', 'way', 'on', 'foot', 'lord'],\n",
       " ['it', 'just', 'over', 'that', 'ridge'],\n",
       " ['royce',\n",
       "  'paused',\n",
       "  'moment',\n",
       "  'staring',\n",
       "  'off',\n",
       "  'into',\n",
       "  'the',\n",
       "  'distance',\n",
       "  'his',\n",
       "  'face',\n",
       "  'reflective'],\n",
       " ['cold', 'wind', 'whispered', 'through', 'the', 'trees'],\n",
       " ['his',\n",
       "  'great',\n",
       "  'sable',\n",
       "  'cloak',\n",
       "  'stirred',\n",
       "  'behind',\n",
       "  'like',\n",
       "  'something',\n",
       "  'half',\n",
       "  'alive'],\n",
       " ['there', 'something', 'wrong', 'here', 'gared', 'muttered'],\n",
       " ['the', 'young', 'knight', 'gave', 'him', 'disdainful', 'smile'],\n",
       " ['is', 'there'],\n",
       " ['can', 'you', 'feel', 'it'],\n",
       " ['gared', 'asked'],\n",
       " ['listen', 'to', 'the', 'darkness'],\n",
       " ['will', 'could', 'feel', 'it'],\n",
       " ['four',\n",
       "  'years',\n",
       "  'in',\n",
       "  'the',\n",
       "  'night',\n",
       "  'watch',\n",
       "  'and',\n",
       "  'he',\n",
       "  'had',\n",
       "  'never',\n",
       "  'been',\n",
       "  'so',\n",
       "  'afraid'],\n",
       " ['what', 'was', 'it'],\n",
       " ['wind'],\n",
       " ['trees', 'rustling'],\n",
       " ['wolf'],\n",
       " ['which', 'sound', 'is', 'it', 'that', 'unmans', 'you', 'so', 'gared'],\n",
       " ['when',\n",
       "  'gared',\n",
       "  'did',\n",
       "  'not',\n",
       "  'answer',\n",
       "  'royce',\n",
       "  'slid',\n",
       "  'gracefully',\n",
       "  'from',\n",
       "  'his',\n",
       "  'saddle'],\n",
       " ['he',\n",
       "  'tied',\n",
       "  'the',\n",
       "  'destrier',\n",
       "  'securely',\n",
       "  'to',\n",
       "  'low',\n",
       "  'hanging',\n",
       "  'limb',\n",
       "  'well',\n",
       "  'away',\n",
       "  'from',\n",
       "  'the',\n",
       "  'other',\n",
       "  'horses',\n",
       "  'and',\n",
       "  'drew',\n",
       "  'his',\n",
       "  'longsword',\n",
       "  'from',\n",
       "  'its',\n",
       "  'sheath'],\n",
       " ['jewels',\n",
       "  'glittered',\n",
       "  'in',\n",
       "  'its',\n",
       "  'hilt',\n",
       "  'and',\n",
       "  'the',\n",
       "  'moonlight',\n",
       "  'ran',\n",
       "  'down',\n",
       "  'the',\n",
       "  'shining',\n",
       "  'steel'],\n",
       " ['it',\n",
       "  'was',\n",
       "  'splendid',\n",
       "  'weapon',\n",
       "  'castle',\n",
       "  'forged',\n",
       "  'and',\n",
       "  'new',\n",
       "  'made',\n",
       "  'from',\n",
       "  'the',\n",
       "  'look',\n",
       "  'of',\n",
       "  'it'],\n",
       " ['will', 'doubted', 'it', 'had', 'ever', 'been', 'swung', 'in', 'anger'],\n",
       " ['the', 'trees', 'press', 'close', 'here', 'will', 'warned'],\n",
       " ['that', 'sword', 'will', 'tangle', 'you', 'up', 'ord'],\n",
       " ['better', 'knife'],\n",
       " ['if',\n",
       "  'need',\n",
       "  'instruction',\n",
       "  'will',\n",
       "  'ask',\n",
       "  'for',\n",
       "  'it',\n",
       "  'the',\n",
       "  'young',\n",
       "  'lord',\n",
       "  'said'],\n",
       " ['gared', 'stay', 'here'],\n",
       " ['guard', 'the', 'horses'],\n",
       " ['gared', 'dismounted'],\n",
       " ['we', 'need', 'fire'],\n",
       " ['ll', 'see', 'to', 'it'],\n",
       " ['how', 'big', 'fool', 'are', 'you', 'old', 'man'],\n",
       " ['if',\n",
       "  'there',\n",
       "  'are',\n",
       "  'enemies',\n",
       "  'in',\n",
       "  'this',\n",
       "  'wood',\n",
       "  'fire',\n",
       "  'is',\n",
       "  'the',\n",
       "  'last',\n",
       "  'thing',\n",
       "  'we',\n",
       "  'want'],\n",
       " ['there', 'some', 'enemies', 'fire', 'will', 'keep', 'away', 'gared', 'said'],\n",
       " ['bears', 'and', 'direwolves', 'and', 'and', 'other', 'things'],\n",
       " [],\n",
       " [],\n",
       " ['ser', 'waymar', 'mouth', 'became', 'hard', 'line'],\n",
       " ['no', 'fire'],\n",
       " ['gared',\n",
       "  'hood',\n",
       "  'shadowed',\n",
       "  'his',\n",
       "  'face',\n",
       "  'but',\n",
       "  'will',\n",
       "  'could',\n",
       "  'see',\n",
       "  'the',\n",
       "  'hard',\n",
       "  'glitter',\n",
       "  'in',\n",
       "  'his',\n",
       "  'eyes',\n",
       "  'as',\n",
       "  'he',\n",
       "  'stared',\n",
       "  'at',\n",
       "  'the',\n",
       "  'knight'],\n",
       " ['for',\n",
       "  'moment',\n",
       "  'he',\n",
       "  'was',\n",
       "  'afraid',\n",
       "  'the',\n",
       "  'older',\n",
       "  'man',\n",
       "  'would',\n",
       "  'go',\n",
       "  'for',\n",
       "  'his',\n",
       "  'sword'],\n",
       " ['it',\n",
       "  'was',\n",
       "  'short',\n",
       "  'ugly',\n",
       "  'thing',\n",
       "  'its',\n",
       "  'grip',\n",
       "  'discolored',\n",
       "  'by',\n",
       "  'sweat',\n",
       "  'its',\n",
       "  'edge',\n",
       "  'nicked',\n",
       "  'from',\n",
       "  'hard',\n",
       "  'use',\n",
       "  'but',\n",
       "  'will',\n",
       "  'would',\n",
       "  'not',\n",
       "  'have',\n",
       "  'given',\n",
       "  'an',\n",
       "  'iron',\n",
       "  'bob',\n",
       "  'for',\n",
       "  'the',\n",
       "  'lordling',\n",
       "  'life',\n",
       "  'if',\n",
       "  'gared',\n",
       "  'pulled',\n",
       "  'it',\n",
       "  'from',\n",
       "  'its',\n",
       "  'scabbard'],\n",
       " ['finally', 'gared', 'looked', 'down'],\n",
       " ['no', 'fire', 'he', 'muttered', 'low', 'under', 'his', 'breath'],\n",
       " ['royce', 'took', 'it', 'for', 'acquiescence', 'and', 'turned', 'away'],\n",
       " ['lead', 'on', 'he', 'said', 'to', 'will'],\n",
       " ['will',\n",
       "  'threaded',\n",
       "  'their',\n",
       "  'way',\n",
       "  'through',\n",
       "  'thicket',\n",
       "  'then',\n",
       "  'started',\n",
       "  'up',\n",
       "  'the',\n",
       "  'slope',\n",
       "  'to',\n",
       "  'the',\n",
       "  'low',\n",
       "  'ridge',\n",
       "  'where',\n",
       "  'he',\n",
       "  'had',\n",
       "  'found',\n",
       "  'his',\n",
       "  'vantage',\n",
       "  'point',\n",
       "  'under',\n",
       "  'sentinel',\n",
       "  'tree'],\n",
       " ['under',\n",
       "  'the',\n",
       "  'thin',\n",
       "  'crust',\n",
       "  'of',\n",
       "  'snow',\n",
       "  'the',\n",
       "  'ground',\n",
       "  'was',\n",
       "  'damp',\n",
       "  'and',\n",
       "  'muddy',\n",
       "  'slick',\n",
       "  'footing',\n",
       "  'with',\n",
       "  'rocks',\n",
       "  'and',\n",
       "  'hidden',\n",
       "  'roots',\n",
       "  'to',\n",
       "  'trip',\n",
       "  'you',\n",
       "  'up'],\n",
       " ['will', 'made', 'no', 'sound', 'as', 'he', 'climbed'],\n",
       " ['behind',\n",
       "  'him',\n",
       "  'he',\n",
       "  'heard',\n",
       "  'the',\n",
       "  'soft',\n",
       "  'metallic',\n",
       "  'slither',\n",
       "  'of',\n",
       "  'the',\n",
       "  'lordling',\n",
       "  'ringmail',\n",
       "  'the',\n",
       "  'rustle',\n",
       "  'of',\n",
       "  'leaves',\n",
       "  'and',\n",
       "  'muttered',\n",
       "  'curses',\n",
       "  'as',\n",
       "  'reaching',\n",
       "  'branches',\n",
       "  'grabbed',\n",
       "  'at',\n",
       "  'his',\n",
       "  'longsword',\n",
       "  'and',\n",
       "  'tugged',\n",
       "  'on',\n",
       "  'his',\n",
       "  'splendid',\n",
       "  'sable',\n",
       "  'cloak'],\n",
       " ['the',\n",
       "  'great',\n",
       "  'sentinel',\n",
       "  'was',\n",
       "  'right',\n",
       "  'there',\n",
       "  'at',\n",
       "  'the',\n",
       "  'top',\n",
       "  'of',\n",
       "  'the',\n",
       "  'ridge',\n",
       "  'where',\n",
       "  'will',\n",
       "  'had',\n",
       "  'known',\n",
       "  'it',\n",
       "  'would',\n",
       "  'be',\n",
       "  'its',\n",
       "  'lowest',\n",
       "  'branches',\n",
       "  'bare',\n",
       "  'foot',\n",
       "  'off',\n",
       "  'the',\n",
       "  'ground'],\n",
       " ['will',\n",
       "  'slid',\n",
       "  'in',\n",
       "  'underneath',\n",
       "  'flat',\n",
       "  'on',\n",
       "  'his',\n",
       "  'belly',\n",
       "  'in',\n",
       "  'the',\n",
       "  'snow',\n",
       "  'and',\n",
       "  'the',\n",
       "  'mud',\n",
       "  'and',\n",
       "  'page',\n",
       "  'looked',\n",
       "  'down',\n",
       "  'on',\n",
       "  'the',\n",
       "  'empty',\n",
       "  'clearing',\n",
       "  'below'],\n",
       " ['his', 'heart', 'stopped', 'in', 'his', 'chest'],\n",
       " ['for', 'moment', 'he', 'dared', 'not', 'breathe'],\n",
       " ['moonlight',\n",
       "  'shone',\n",
       "  'down',\n",
       "  'on',\n",
       "  'the',\n",
       "  'clearing',\n",
       "  'the',\n",
       "  'ashes',\n",
       "  'of',\n",
       "  'the',\n",
       "  'firepit',\n",
       "  'the',\n",
       "  'snow',\n",
       "  'covered',\n",
       "  'lean',\n",
       "  'to',\n",
       "  'the',\n",
       "  'great',\n",
       "  'rock',\n",
       "  'the',\n",
       "  'little',\n",
       "  'half',\n",
       "  'frozen',\n",
       "  'stream'],\n",
       " ['everything',\n",
       "  'was',\n",
       "  'just',\n",
       "  'as',\n",
       "  'it',\n",
       "  'had',\n",
       "  'been',\n",
       "  'few',\n",
       "  'hours',\n",
       "  'ago'],\n",
       " ['they', 'were', 'gone'],\n",
       " ['all', 'the', 'bodies', 'were', 'gone'],\n",
       " ['gods'],\n",
       " ['he', 'heard', 'behind', 'him'],\n",
       " ['sword',\n",
       "  'slashed',\n",
       "  'at',\n",
       "  'branch',\n",
       "  'as',\n",
       "  'ser',\n",
       "  'waymar',\n",
       "  'royce',\n",
       "  'gained',\n",
       "  'the',\n",
       "  'ridge'],\n",
       " ['he',\n",
       "  'stood',\n",
       "  'there',\n",
       "  'beside',\n",
       "  'the',\n",
       "  'sentinel',\n",
       "  'longsword',\n",
       "  'in',\n",
       "  'hand',\n",
       "  'his',\n",
       "  'cloak',\n",
       "  'billowing',\n",
       "  'behind',\n",
       "  'him',\n",
       "  'as',\n",
       "  'the',\n",
       "  'wind',\n",
       "  'came',\n",
       "  'up',\n",
       "  'outlined',\n",
       "  'nobly',\n",
       "  'against',\n",
       "  'the',\n",
       "  'stars',\n",
       "  'for',\n",
       "  'all',\n",
       "  'to',\n",
       "  'see'],\n",
       " ['get', 'down'],\n",
       " ['will', 'whispered', 'urgently'],\n",
       " ['something', 'wrong'],\n",
       " ['royce', 'did', 'not', 'move'],\n",
       " ['he', 'looked', 'down', 'at', 'the', 'empty', 'clearing', 'and', 'laughed'],\n",
       " ['your', 'dead', 'men', 'seem', 'to', 'have', 'moved', 'camp', 'will'],\n",
       " ['will', 'voice', 'abandoned', 'him'],\n",
       " ['he', 'groped', 'for', 'words', 'that', 'did', 'not', 'come'],\n",
       " ['it', 'was', 'not', 'possible'],\n",
       " ['his',\n",
       "  'eyes',\n",
       "  'swept',\n",
       "  'back',\n",
       "  'and',\n",
       "  'forth',\n",
       "  'over',\n",
       "  'the',\n",
       "  'abandoned',\n",
       "  'campsite',\n",
       "  'stopped',\n",
       "  'on',\n",
       "  'the',\n",
       "  'axe'],\n",
       " ['huge',\n",
       "  'double',\n",
       "  'bladed',\n",
       "  'battle',\n",
       "  'axe',\n",
       "  'still',\n",
       "  'lying',\n",
       "  'where',\n",
       "  'he',\n",
       "  'had',\n",
       "  'seen',\n",
       "  'it',\n",
       "  'last',\n",
       "  'untouched'],\n",
       " ['valuable', 'weapon'],\n",
       " [],\n",
       " [],\n",
       " ['on', 'your', 'feet', 'will', 'ser', 'waymar', 'commanded'],\n",
       " ['there', 'no', 'one', 'here'],\n",
       " ['won', 'have', 'you', 'hiding', 'under', 'bush'],\n",
       " ['reluctantly', 'will', 'obeyed'],\n",
       " ['ser', 'waymar', 'looked', 'him', 'over', 'with', 'open', 'disapproval'],\n",
       " ['am',\n",
       "  'not',\n",
       "  'going',\n",
       "  'back',\n",
       "  'to',\n",
       "  'castle',\n",
       "  'black',\n",
       "  'failure',\n",
       "  'on',\n",
       "  'my',\n",
       "  'first',\n",
       "  'ranging'],\n",
       " ['we', 'will', 'find', 'these', 'men'],\n",
       " ['he', 'glanced', 'around'],\n",
       " ['up', 'the', 'tree'],\n",
       " ['be', 'quick', 'about', 'it'],\n",
       " ['look', 'for', 'fire'],\n",
       " ['will', 'turned', 'away', 'wordless'],\n",
       " ['there', 'was', 'no', 'use', 'to', 'argue'],\n",
       " ['the', 'wind', 'was', 'moving'],\n",
       " ['it', 'cut', 'right', 'through', 'him'],\n",
       " ['he',\n",
       "  'went',\n",
       "  'to',\n",
       "  'the',\n",
       "  'tree',\n",
       "  'vaulting',\n",
       "  'grey',\n",
       "  'green',\n",
       "  'sentinel',\n",
       "  'and',\n",
       "  'began',\n",
       "  'to',\n",
       "  'climb'],\n",
       " ['soon',\n",
       "  'his',\n",
       "  'hands',\n",
       "  'were',\n",
       "  'sticky',\n",
       "  'with',\n",
       "  'sap',\n",
       "  'and',\n",
       "  'he',\n",
       "  'was',\n",
       "  'lost',\n",
       "  'among',\n",
       "  'the',\n",
       "  'needles'],\n",
       " ['fear',\n",
       "  'filled',\n",
       "  'his',\n",
       "  'gut',\n",
       "  'like',\n",
       "  'meal',\n",
       "  'he',\n",
       "  'could',\n",
       "  'not',\n",
       "  'digest'],\n",
       " ['he',\n",
       "  'whispered',\n",
       "  'prayer',\n",
       "  'to',\n",
       "  'the',\n",
       "  'nameless',\n",
       "  'gods',\n",
       "  'of',\n",
       "  'the',\n",
       "  'wood',\n",
       "  'and',\n",
       "  'slipped',\n",
       "  'his',\n",
       "  'dirk',\n",
       "  'free',\n",
       "  'of',\n",
       "  'its',\n",
       "  'sheath'],\n",
       " ['he',\n",
       "  'put',\n",
       "  'it',\n",
       "  'between',\n",
       "  'his',\n",
       "  'teeth',\n",
       "  'to',\n",
       "  'keep',\n",
       "  'both',\n",
       "  'hands',\n",
       "  'free',\n",
       "  'for',\n",
       "  'climbing'],\n",
       " ['the',\n",
       "  'taste',\n",
       "  'of',\n",
       "  'cold',\n",
       "  'iron',\n",
       "  'in',\n",
       "  'his',\n",
       "  'mouth',\n",
       "  'gave',\n",
       "  'him',\n",
       "  'comfort'],\n",
       " ['down',\n",
       "  'below',\n",
       "  'the',\n",
       "  'lordling',\n",
       "  'called',\n",
       "  'out',\n",
       "  'suddenly',\n",
       "  'who',\n",
       "  'goes',\n",
       "  'there'],\n",
       " ['will', 'heard', 'uncertainty', 'in', 'the', 'challenge'],\n",
       " ['he', 'stopped', 'climbing', 'he', 'listened', 'he', 'watched'],\n",
       " ['the',\n",
       "  'woods',\n",
       "  'gave',\n",
       "  'answer',\n",
       "  'the',\n",
       "  'rustle',\n",
       "  'of',\n",
       "  'leaves',\n",
       "  'the',\n",
       "  'icy',\n",
       "  'rush',\n",
       "  'of',\n",
       "  'the',\n",
       "  'stream',\n",
       "  'distant',\n",
       "  'hoot',\n",
       "  'of',\n",
       "  'snow',\n",
       "  'owl'],\n",
       " ['the', 'others', 'made', 'no', 'sound'],\n",
       " ['will', 'saw', 'movement', 'from', 'the', 'corner', 'of', 'his', 'eye'],\n",
       " ['pale', 'shapes', 'gliding', 'through', 'the', 'wood'],\n",
       " ['he',\n",
       "  'turned',\n",
       "  'his',\n",
       "  'head',\n",
       "  'glimpsed',\n",
       "  'white',\n",
       "  'shadow',\n",
       "  'in',\n",
       "  'the',\n",
       "  'darkness'],\n",
       " ['then', 'it', 'was', 'gone'],\n",
       " ['branches',\n",
       "  'stirred',\n",
       "  'gently',\n",
       "  'in',\n",
       "  'the',\n",
       "  'wind',\n",
       "  'scratching',\n",
       "  'at',\n",
       "  'one',\n",
       "  'another',\n",
       "  'with',\n",
       "  'wooden',\n",
       "  'fingers'],\n",
       " ['will',\n",
       "  'opened',\n",
       "  'his',\n",
       "  'mouth',\n",
       "  'to',\n",
       "  'call',\n",
       "  'down',\n",
       "  'warning',\n",
       "  'and',\n",
       "  'the',\n",
       "  'words',\n",
       "  'seemed',\n",
       "  'to',\n",
       "  'freeze',\n",
       "  'in',\n",
       "  'his',\n",
       "  'throat'],\n",
       " ['perhaps', 'he', 'was', 'wrong'],\n",
       " ['perhaps',\n",
       "  'it',\n",
       "  'had',\n",
       "  'only',\n",
       "  'been',\n",
       "  'bird',\n",
       "  'reflection',\n",
       "  'on',\n",
       "  'the',\n",
       "  'snow',\n",
       "  'some',\n",
       "  'trick',\n",
       "  'of',\n",
       "  'the',\n",
       "  'moonlight'],\n",
       " ['what', 'had', 'he', 'seen', 'after', 'all'],\n",
       " ['will', 'where', 'are', 'you'],\n",
       " ['ser', 'waymar', 'called', 'up'],\n",
       " ['can', 'you', 'see', 'anything'],\n",
       " ['he',\n",
       "  'was',\n",
       "  'turning',\n",
       "  'in',\n",
       "  'slow',\n",
       "  'circle',\n",
       "  'suddenly',\n",
       "  'wary',\n",
       "  'his',\n",
       "  'sword',\n",
       "  'in',\n",
       "  'hand'],\n",
       " ['he', 'must', 'have', 'felt', 'them', 'as', 'will', 'felt', 'them'],\n",
       " ['there', 'was', 'nothing', 'to', 'see'],\n",
       " ['page', 'answer', 'me'],\n",
       " ['why', 'is', 'it', 'so', 'cold'],\n",
       " ['it', 'was', 'cold'],\n",
       " ['shivering', 'will', 'clung', 'more', 'tightly', 'to', 'his', 'perch'],\n",
       " ['his',\n",
       "  'face',\n",
       "  'pressed',\n",
       "  'hard',\n",
       "  'against',\n",
       "  'the',\n",
       "  'trunk',\n",
       "  'of',\n",
       "  'the',\n",
       "  'sentinel'],\n",
       " ['he',\n",
       "  'could',\n",
       "  'feel',\n",
       "  'the',\n",
       "  'sweet',\n",
       "  'sticky',\n",
       "  'sap',\n",
       "  'on',\n",
       "  'his',\n",
       "  'cheek'],\n",
       " ['shadow', 'emerged', 'from', 'the', 'dark', 'of', 'the', 'wood'],\n",
       " ['it', 'stood', 'in', 'front', 'of', 'royce'],\n",
       " ['tall',\n",
       "  'it',\n",
       "  'was',\n",
       "  'and',\n",
       "  'gaunt',\n",
       "  'and',\n",
       "  'hard',\n",
       "  'as',\n",
       "  'old',\n",
       "  'bones',\n",
       "  'with',\n",
       "  'flesh',\n",
       "  'pale',\n",
       "  'as',\n",
       "  'milk'],\n",
       " ['its',\n",
       "  'armor',\n",
       "  'seemed',\n",
       "  'to',\n",
       "  'change',\n",
       "  'color',\n",
       "  'as',\n",
       "  'it',\n",
       "  'moved',\n",
       "  'here',\n",
       "  'it',\n",
       "  'was',\n",
       "  'white',\n",
       "  'as',\n",
       "  'new',\n",
       "  'fallen',\n",
       "  'snow',\n",
       "  'there',\n",
       "  'black',\n",
       "  'as',\n",
       "  'shadow',\n",
       "  'everywhere',\n",
       "  'dappled',\n",
       "  'with',\n",
       "  'the',\n",
       "  'deep',\n",
       "  'grey',\n",
       "  'green',\n",
       "  'of',\n",
       "  'the',\n",
       "  'trees'],\n",
       " ['the',\n",
       "  'patterns',\n",
       "  'ran',\n",
       "  'like',\n",
       "  'moonlight',\n",
       "  'on',\n",
       "  'water',\n",
       "  'with',\n",
       "  'every',\n",
       "  'step',\n",
       "  'it',\n",
       "  'took'],\n",
       " ['will',\n",
       "  'heard',\n",
       "  'the',\n",
       "  'breath',\n",
       "  'go',\n",
       "  'out',\n",
       "  'of',\n",
       "  'ser',\n",
       "  'waymar',\n",
       "  'royce',\n",
       "  'in',\n",
       "  'long',\n",
       "  'hiss'],\n",
       " ['come', 'no', 'farther', 'the', 'lordling', 'warned'],\n",
       " ['his', 'voice', 'cracked', 'like', 'boy'],\n",
       " ['he',\n",
       "  'threw',\n",
       "  'the',\n",
       "  'long',\n",
       "  'sable',\n",
       "  'cloak',\n",
       "  'back',\n",
       "  'over',\n",
       "  'his',\n",
       "  'shoulders',\n",
       "  'to',\n",
       "  'free',\n",
       "  'his',\n",
       "  'arms',\n",
       "  'for',\n",
       "  'battle',\n",
       "  'and',\n",
       "  'took',\n",
       "  'his',\n",
       "  'sword',\n",
       "  'in',\n",
       "  'both',\n",
       "  'hands'],\n",
       " ['the', 'wind', 'had', 'stopped'],\n",
       " ['it', 'was', 'very', 'cold'],\n",
       " ['the', 'other', 'slid', 'forward', 'on', 'silent', 'feet'],\n",
       " ['in',\n",
       "  'its',\n",
       "  'hand',\n",
       "  'was',\n",
       "  'longsword',\n",
       "  'like',\n",
       "  'none',\n",
       "  'that',\n",
       "  'will',\n",
       "  'had',\n",
       "  'ever',\n",
       "  'seen'],\n",
       " ['no',\n",
       "  'human',\n",
       "  'metal',\n",
       "  'had',\n",
       "  'gone',\n",
       "  'into',\n",
       "  'the',\n",
       "  'forging',\n",
       "  'of',\n",
       "  'that',\n",
       "  'blade'],\n",
       " ['it',\n",
       "  'was',\n",
       "  'alive',\n",
       "  'with',\n",
       "  'moonlight',\n",
       "  'translucent',\n",
       "  'shard',\n",
       "  'of',\n",
       "  'crystal',\n",
       "  'so',\n",
       "  'thin',\n",
       "  'that',\n",
       "  'it',\n",
       "  'seemed',\n",
       "  'almost',\n",
       "  'to',\n",
       "  'vanish',\n",
       "  'when',\n",
       "  'seen',\n",
       "  'edge',\n",
       "  'on'],\n",
       " ['there',\n",
       "  'was',\n",
       "  'faint',\n",
       "  'blue',\n",
       "  'shimmer',\n",
       "  'to',\n",
       "  'the',\n",
       "  'thing',\n",
       "  'ghost',\n",
       "  'light',\n",
       "  'that',\n",
       "  'played',\n",
       "  'around',\n",
       "  'its',\n",
       "  'edges',\n",
       "  'and',\n",
       "  'somehow',\n",
       "  'will',\n",
       "  'knew',\n",
       "  'it',\n",
       "  'was',\n",
       "  'sharper',\n",
       "  'than',\n",
       "  'any',\n",
       "  'razor'],\n",
       " ['ser', 'waymar', 'met', 'him', 'bravely'],\n",
       " ['dance', 'with', 'me', 'then'],\n",
       " ['he', 'lifted', 'his', 'sword', 'high', 'over', 'his', 'head', 'defiant'],\n",
       " ['his',\n",
       "  'hands',\n",
       "  'trembled',\n",
       "  'from',\n",
       "  'the',\n",
       "  'weight',\n",
       "  'of',\n",
       "  'it',\n",
       "  'or',\n",
       "  'perhaps',\n",
       "  'from',\n",
       "  'the',\n",
       "  'cold'],\n",
       " ['yet',\n",
       "  'in',\n",
       "  'that',\n",
       "  'moment',\n",
       "  'will',\n",
       "  'thought',\n",
       "  'he',\n",
       "  'was',\n",
       "  'boy',\n",
       "  'no',\n",
       "  'longer',\n",
       "  'but',\n",
       "  'man',\n",
       "  'of',\n",
       "  'the',\n",
       "  'night',\n",
       "  'watch'],\n",
       " ['the', 'other', 'halted'],\n",
       " ['will',\n",
       "  'saw',\n",
       "  'its',\n",
       "  'eyes',\n",
       "  'blue',\n",
       "  'deeper',\n",
       "  'and',\n",
       "  'bluer',\n",
       "  'than',\n",
       "  'any',\n",
       "  'human',\n",
       "  'eyes',\n",
       "  'blue',\n",
       "  'that',\n",
       "  'burned',\n",
       "  'like',\n",
       "  'ice'],\n",
       " ['they',\n",
       "  'fixed',\n",
       "  'on',\n",
       "  'the',\n",
       "  'longsword',\n",
       "  'trembling',\n",
       "  'on',\n",
       "  'high',\n",
       "  'watched',\n",
       "  'the',\n",
       "  'moonlight',\n",
       "  'running',\n",
       "  'cold',\n",
       "  'along',\n",
       "  'the',\n",
       "  'metal'],\n",
       " ['for', 'heartbeat', 'he', 'dared', 'to', 'hope'],\n",
       " ['they',\n",
       "  'emerged',\n",
       "  'silently',\n",
       "  'from',\n",
       "  'the',\n",
       "  'shadows',\n",
       "  'twins',\n",
       "  'to',\n",
       "  'the',\n",
       "  'first'],\n",
       " ['three', 'of', 'them'],\n",
       " [],\n",
       " [],\n",
       " ['four'],\n",
       " [],\n",
       " [],\n",
       " ['five'],\n",
       " [],\n",
       " [],\n",
       " ['ser',\n",
       "  'waymar',\n",
       "  'may',\n",
       "  'have',\n",
       "  'felt',\n",
       "  'the',\n",
       "  'cold',\n",
       "  'that',\n",
       "  'came',\n",
       "  'with',\n",
       "  'them',\n",
       "  'but',\n",
       "  'he',\n",
       "  'never',\n",
       "  'saw',\n",
       "  'them',\n",
       "  'never',\n",
       "  'heard',\n",
       "  'them'],\n",
       " ['will', 'had', 'to', 'call', 'out'],\n",
       " ['it', 'was', 'his', 'duty'],\n",
       " ['and', 'his', 'death', 'if', 'he', 'did'],\n",
       " ['he',\n",
       "  'shivered',\n",
       "  'and',\n",
       "  'hugged',\n",
       "  'the',\n",
       "  'tree',\n",
       "  'and',\n",
       "  'kept',\n",
       "  'the',\n",
       "  'silence'],\n",
       " ['the', 'pale', 'sword', 'came', 'shivering', 'through', 'the', 'air'],\n",
       " ['ser', 'waymar', 'met', 'it', 'with', 'steel'],\n",
       " ['when',\n",
       "  'the',\n",
       "  'blades',\n",
       "  'met',\n",
       "  'there',\n",
       "  'was',\n",
       "  'no',\n",
       "  'ring',\n",
       "  'of',\n",
       "  'metal',\n",
       "  'on',\n",
       "  'metal',\n",
       "  'only',\n",
       "  'high',\n",
       "  'thin',\n",
       "  'sound',\n",
       "  'at',\n",
       "  'the',\n",
       "  'edge',\n",
       "  'of',\n",
       "  'hearing',\n",
       "  'like',\n",
       "  'an',\n",
       "  'animal',\n",
       "  'screaming',\n",
       "  'in',\n",
       "  'pain'],\n",
       " ['royce',\n",
       "  'checked',\n",
       "  'second',\n",
       "  'blow',\n",
       "  'and',\n",
       "  'third',\n",
       "  'then',\n",
       "  'fell',\n",
       "  'back',\n",
       "  'step'],\n",
       " ['another', 'flurry', 'of', 'blows', 'and', 'he', 'fell', 'back', 'again'],\n",
       " ['behind',\n",
       "  'him',\n",
       "  'to',\n",
       "  'right',\n",
       "  'to',\n",
       "  'left',\n",
       "  'all',\n",
       "  'around',\n",
       "  'him',\n",
       "  'the',\n",
       "  'watchers',\n",
       "  'stood',\n",
       "  'patient',\n",
       "  'faceless',\n",
       "  'silent',\n",
       "  'the',\n",
       "  'shifting',\n",
       "  'patterns',\n",
       "  'of',\n",
       "  'their',\n",
       "  'delicate',\n",
       "  'armor',\n",
       "  'making',\n",
       "  'them',\n",
       "  'all',\n",
       "  'but',\n",
       "  'invisible',\n",
       "  'in',\n",
       "  'the',\n",
       "  'wood'],\n",
       " ['yet', 'they', 'made', 'no', 'move', 'to', 'interfere'],\n",
       " ['again',\n",
       "  'and',\n",
       "  'again',\n",
       "  'the',\n",
       "  'swords',\n",
       "  'met',\n",
       "  'until',\n",
       "  'will',\n",
       "  'wanted',\n",
       "  'to',\n",
       "  'cover',\n",
       "  'his',\n",
       "  'ears',\n",
       "  'against',\n",
       "  'the',\n",
       "  'strange',\n",
       "  'anguished',\n",
       "  'keening',\n",
       "  'of',\n",
       "  'their',\n",
       "  'clash'],\n",
       " ['ser',\n",
       "  'waymar',\n",
       "  'was',\n",
       "  'panting',\n",
       "  'from',\n",
       "  'the',\n",
       "  'effort',\n",
       "  'now',\n",
       "  'his',\n",
       "  'breath',\n",
       "  'steaming',\n",
       "  'in',\n",
       "  'the',\n",
       "  'moonlight'],\n",
       " ['his',\n",
       "  'blade',\n",
       "  'was',\n",
       "  'white',\n",
       "  'with',\n",
       "  'frost',\n",
       "  'the',\n",
       "  'other',\n",
       "  'danced',\n",
       "  'with',\n",
       "  'pale',\n",
       "  'blue',\n",
       "  'light'],\n",
       " ['then', 'royce', 'parry', 'came', 'beat', 'too', 'late'],\n",
       " ['the',\n",
       "  'pale',\n",
       "  'sword',\n",
       "  'bit',\n",
       "  'through',\n",
       "  'the',\n",
       "  'ringmail',\n",
       "  'beneath',\n",
       "  'his',\n",
       "  'arm'],\n",
       " ['the', 'young', 'lord', 'cried', 'out', 'in', 'pain'],\n",
       " ['blood', 'welled', 'between', 'the', 'rings'],\n",
       " ['it',\n",
       "  'steamed',\n",
       "  'in',\n",
       "  'the',\n",
       "  'cold',\n",
       "  'and',\n",
       "  'the',\n",
       "  'droplets',\n",
       "  'seemed',\n",
       "  'red',\n",
       "  'as',\n",
       "  'fire',\n",
       "  'where',\n",
       "  'they',\n",
       "  'touched',\n",
       "  'the',\n",
       "  'snow'],\n",
       " ['ser', 'page', 'waymar', 'fingers', 'brushed', 'his', 'side'],\n",
       " ['his', 'moleskin', 'glove', 'came', 'away', 'soaked', 'with', 'red'],\n",
       " ['the',\n",
       "  'other',\n",
       "  'said',\n",
       "  'something',\n",
       "  'in',\n",
       "  'language',\n",
       "  'that',\n",
       "  'will',\n",
       "  'did',\n",
       "  'not',\n",
       "  'know',\n",
       "  'his',\n",
       "  'voice',\n",
       "  'was',\n",
       "  'like',\n",
       "  'the',\n",
       "  'cracking',\n",
       "  'of',\n",
       "  'ice',\n",
       "  'on',\n",
       "  'winter',\n",
       "  'lake',\n",
       "  'and',\n",
       "  'the',\n",
       "  'words',\n",
       "  'were',\n",
       "  'mocking'],\n",
       " ['ser', 'waymar', 'royce', 'found', 'his', 'fury'],\n",
       " ['for', 'robert'],\n",
       " ['he',\n",
       "  'shouted',\n",
       "  'and',\n",
       "  'he',\n",
       "  'came',\n",
       "  'up',\n",
       "  'snarling',\n",
       "  'lifting',\n",
       "  'the',\n",
       "  'frost',\n",
       "  'covered',\n",
       "  'longsword',\n",
       "  'with',\n",
       "  'both',\n",
       "  'hands',\n",
       "  'and',\n",
       "  'swinging',\n",
       "  'it',\n",
       "  'around',\n",
       "  'in',\n",
       "  'flat',\n",
       "  'sidearm',\n",
       "  'slash',\n",
       "  'with',\n",
       "  'all',\n",
       "  'his',\n",
       "  'weight',\n",
       "  'behind',\n",
       "  'it'],\n",
       " ['the', 'other', 'parry', 'was', 'almost', 'lazy'],\n",
       " ['when', 'the', 'blades', 'touched', 'the', 'steel', 'shattered'],\n",
       " ['scream',\n",
       "  'echoed',\n",
       "  'through',\n",
       "  'the',\n",
       "  'forest',\n",
       "  'night',\n",
       "  'and',\n",
       "  'the',\n",
       "  'longsword',\n",
       "  'shivered',\n",
       "  'into',\n",
       "  'hundred',\n",
       "  'brittle',\n",
       "  'pieces',\n",
       "  'the',\n",
       "  'shards',\n",
       "  'scattering',\n",
       "  'like',\n",
       "  'rain',\n",
       "  'of',\n",
       "  'needles'],\n",
       " ['royce',\n",
       "  'went',\n",
       "  'to',\n",
       "  'his',\n",
       "  'knees',\n",
       "  'shrieking',\n",
       "  'and',\n",
       "  'covered',\n",
       "  'his',\n",
       "  'eyes'],\n",
       " ['blood', 'welled', 'between', 'his', 'fingers'],\n",
       " ['the',\n",
       "  'watchers',\n",
       "  'moved',\n",
       "  'forward',\n",
       "  'together',\n",
       "  'as',\n",
       "  'if',\n",
       "  'some',\n",
       "  'signal',\n",
       "  'had',\n",
       "  'been',\n",
       "  'given'],\n",
       " ['swords', 'rose', 'and', 'fell', 'all', 'in', 'deathly', 'silence'],\n",
       " ['it', 'was', 'cold', 'butchery'],\n",
       " ['the',\n",
       "  'pale',\n",
       "  'blades',\n",
       "  'sliced',\n",
       "  'through',\n",
       "  'ringmail',\n",
       "  'as',\n",
       "  'if',\n",
       "  'it',\n",
       "  'were',\n",
       "  'silk'],\n",
       " ['will', 'closed', 'his', 'eyes'],\n",
       " ['far',\n",
       "  'beneath',\n",
       "  'him',\n",
       "  'he',\n",
       "  'heard',\n",
       "  'their',\n",
       "  'voices',\n",
       "  'and',\n",
       "  'laughter',\n",
       "  'sharp',\n",
       "  'as',\n",
       "  'icicles'],\n",
       " ['when',\n",
       "  'he',\n",
       "  'found',\n",
       "  'the',\n",
       "  'courage',\n",
       "  'to',\n",
       "  'look',\n",
       "  'again',\n",
       "  'long',\n",
       "  'time',\n",
       "  'had',\n",
       "  'passed',\n",
       "  'and',\n",
       "  'the',\n",
       "  'ridge',\n",
       "  'below',\n",
       "  'was',\n",
       "  'empty'],\n",
       " ['he',\n",
       "  'stayed',\n",
       "  'in',\n",
       "  'the',\n",
       "  'tree',\n",
       "  'scarce',\n",
       "  'daring',\n",
       "  'to',\n",
       "  'breathe',\n",
       "  'while',\n",
       "  'the',\n",
       "  'moon',\n",
       "  'crept',\n",
       "  'slowly',\n",
       "  'across',\n",
       "  'the',\n",
       "  'black',\n",
       "  'sky'],\n",
       " ['finally',\n",
       "  'his',\n",
       "  'muscles',\n",
       "  'cramping',\n",
       "  'and',\n",
       "  'his',\n",
       "  'fingers',\n",
       "  'numb',\n",
       "  'with',\n",
       "  'cold',\n",
       "  'he',\n",
       "  'climbed',\n",
       "  'down'],\n",
       " ['royce',\n",
       "  'body',\n",
       "  'lay',\n",
       "  'facedown',\n",
       "  'in',\n",
       "  'the',\n",
       "  'snow',\n",
       "  'one',\n",
       "  'arm',\n",
       "  'outflung'],\n",
       " ['the',\n",
       "  'thick',\n",
       "  'sable',\n",
       "  'cloak',\n",
       "  'had',\n",
       "  'been',\n",
       "  'slashed',\n",
       "  'in',\n",
       "  'dozen',\n",
       "  'places'],\n",
       " ['lying', 'dead', 'like', 'that', 'you', 'saw', 'how', 'young', 'he', 'was'],\n",
       " ['boy'],\n",
       " ['he',\n",
       "  'found',\n",
       "  'what',\n",
       "  'was',\n",
       "  'left',\n",
       "  'of',\n",
       "  'the',\n",
       "  'sword',\n",
       "  'few',\n",
       "  'feet',\n",
       "  'away',\n",
       "  'the',\n",
       "  'end',\n",
       "  'splintered',\n",
       "  'and',\n",
       "  'twisted',\n",
       "  'like',\n",
       "  'tree',\n",
       "  'struck',\n",
       "  'by',\n",
       "  'lightning'],\n",
       " ['will',\n",
       "  'knelt',\n",
       "  'looked',\n",
       "  'around',\n",
       "  'warily',\n",
       "  'and',\n",
       "  'snatched',\n",
       "  'it',\n",
       "  'up'],\n",
       " ['the', 'broken', 'sword', 'would', 'be', 'his', 'proof'],\n",
       " ['gared',\n",
       "  'would',\n",
       "  'know',\n",
       "  'what',\n",
       "  'to',\n",
       "  'make',\n",
       "  'of',\n",
       "  'it',\n",
       "  'and',\n",
       "  'if',\n",
       "  'not',\n",
       "  'him',\n",
       "  'then',\n",
       "  'surely',\n",
       "  'that',\n",
       "  'old',\n",
       "  'bear',\n",
       "  'mormont',\n",
       "  'or',\n",
       "  'maester',\n",
       "  'aemon'],\n",
       " ['would', 'gared', 'still', 'be', 'waiting', 'with', 'the', 'horses'],\n",
       " ['he', 'had', 'to', 'hurry'],\n",
       " ['will', 'rose'],\n",
       " ['ser', 'waymar', 'royce', 'stood', 'over', 'him'],\n",
       " ['his', 'fine', 'clothes', 'were', 'tatter', 'his', 'face', 'ruin'],\n",
       " ['shard',\n",
       "  'from',\n",
       "  'his',\n",
       "  'sword',\n",
       "  'transfixed',\n",
       "  'the',\n",
       "  'blind',\n",
       "  'white',\n",
       "  'pupil',\n",
       "  'of',\n",
       "  'his',\n",
       "  'left',\n",
       "  'eye'],\n",
       " ['the', 'right', 'eye', 'was', 'open'],\n",
       " ['the', 'pupil', 'burned', 'blue'],\n",
       " ['it', 'saw'],\n",
       " ['the', 'broken', 'sword', 'fell', 'from', 'nerveless', 'fingers'],\n",
       " ['will', 'closed', 'his', 'eyes', 'to', 'pray'],\n",
       " ['long',\n",
       "  'elegant',\n",
       "  'hands',\n",
       "  'brushed',\n",
       "  'his',\n",
       "  'cheek',\n",
       "  'then',\n",
       "  'tightened',\n",
       "  'around',\n",
       "  'his',\n",
       "  'throat'],\n",
       " ['they',\n",
       "  'were',\n",
       "  'gloved',\n",
       "  'in',\n",
       "  'the',\n",
       "  'finest',\n",
       "  'moleskin',\n",
       "  'and',\n",
       "  'sticky',\n",
       "  'with',\n",
       "  'blood',\n",
       "  'yet',\n",
       "  'the',\n",
       "  'touch',\n",
       "  'was',\n",
       "  'icy',\n",
       "  'cold'],\n",
       " ['bran',\n",
       "  'the',\n",
       "  'morning',\n",
       "  'had',\n",
       "  'dawned',\n",
       "  'clear',\n",
       "  'and',\n",
       "  'cold',\n",
       "  'with',\n",
       "  'crispness',\n",
       "  'that',\n",
       "  'hinted',\n",
       "  'at',\n",
       "  'the',\n",
       "  'end',\n",
       "  'of',\n",
       "  'summer'],\n",
       " ['they',\n",
       "  'set',\n",
       "  'forth',\n",
       "  'at',\n",
       "  'daybreak',\n",
       "  'to',\n",
       "  'see',\n",
       "  'man',\n",
       "  'beheaded',\n",
       "  'twenty',\n",
       "  'in',\n",
       "  'all',\n",
       "  'and',\n",
       "  'bran',\n",
       "  'rode',\n",
       "  'among',\n",
       "  'them',\n",
       "  'nervous',\n",
       "  'with',\n",
       "  'excitement'],\n",
       " ['this',\n",
       "  'was',\n",
       "  'the',\n",
       "  'first',\n",
       "  'time',\n",
       "  'he',\n",
       "  'had',\n",
       "  'been',\n",
       "  'deemed',\n",
       "  'old',\n",
       "  'enough',\n",
       "  'to',\n",
       "  'go',\n",
       "  'with',\n",
       "  'his',\n",
       "  'lord',\n",
       "  'father',\n",
       "  'and',\n",
       "  'his',\n",
       "  'page',\n",
       "  'brothers',\n",
       "  'to',\n",
       "  'see',\n",
       "  'the',\n",
       "  'king',\n",
       "  'justice',\n",
       "  'done'],\n",
       " ['it',\n",
       "  'was',\n",
       "  'the',\n",
       "  'ninth',\n",
       "  'year',\n",
       "  'of',\n",
       "  'summer',\n",
       "  'and',\n",
       "  'the',\n",
       "  'seventh',\n",
       "  'of',\n",
       "  'bran',\n",
       "  'life'],\n",
       " ['the',\n",
       "  'man',\n",
       "  'had',\n",
       "  'been',\n",
       "  'taken',\n",
       "  'outside',\n",
       "  'small',\n",
       "  'holdfast',\n",
       "  'in',\n",
       "  'the',\n",
       "  'hills'],\n",
       " ['robb',\n",
       "  'thought',\n",
       "  'he',\n",
       "  'was',\n",
       "  'wildling',\n",
       "  'his',\n",
       "  'sword',\n",
       "  'sworn',\n",
       "  'to',\n",
       "  'mance',\n",
       "  'rayder',\n",
       "  'the',\n",
       "  'kingbeyond',\n",
       "  'the',\n",
       "  'wall'],\n",
       " ['it', 'made', 'bran', 'skin', 'prickle', 'to', 'think', 'of', 'it'],\n",
       " ['he', 'remembered', 'the', 'hearth', 'tales', 'old', 'nan', 'told', 'them'],\n",
       " ['the',\n",
       "  'wildlings',\n",
       "  'were',\n",
       "  'cruel',\n",
       "  'men',\n",
       "  'she',\n",
       "  'said',\n",
       "  'slavers',\n",
       "  'and',\n",
       "  'slayers',\n",
       "  'and',\n",
       "  'thieves'],\n",
       " ['they',\n",
       "  'consorted',\n",
       "  'with',\n",
       "  'giants',\n",
       "  'and',\n",
       "  'ghouls',\n",
       "  'stole',\n",
       "  'girl',\n",
       "  'children',\n",
       "  'in',\n",
       "  'the',\n",
       "  'dead',\n",
       "  'of',\n",
       "  'night',\n",
       "  'and',\n",
       "  'drank',\n",
       "  'blood',\n",
       "  'from',\n",
       "  'polished',\n",
       "  'horns'],\n",
       " ['and',\n",
       "  'their',\n",
       "  'women',\n",
       "  'lay',\n",
       "  'with',\n",
       "  'the',\n",
       "  'others',\n",
       "  'in',\n",
       "  'the',\n",
       "  'long',\n",
       "  'night',\n",
       "  'to',\n",
       "  'sire',\n",
       "  'terrible',\n",
       "  'half',\n",
       "  'human',\n",
       "  'children'],\n",
       " ['but',\n",
       "  'the',\n",
       "  'man',\n",
       "  'they',\n",
       "  'found',\n",
       "  'bound',\n",
       "  'hand',\n",
       "  'and',\n",
       "  'foot',\n",
       "  'to',\n",
       "  'the',\n",
       "  'holdfast',\n",
       "  'wall',\n",
       "  'awaiting',\n",
       "  'the',\n",
       "  'king',\n",
       "  'justice',\n",
       "  'was',\n",
       "  'old',\n",
       "  'and',\n",
       "  'scrawny',\n",
       "  'not',\n",
       "  'much',\n",
       "  'taller',\n",
       "  'than',\n",
       "  'robb'],\n",
       " ['he',\n",
       "  'had',\n",
       "  'lost',\n",
       "  'both',\n",
       "  'ears',\n",
       "  'and',\n",
       "  'finger',\n",
       "  'to',\n",
       "  'frostbite',\n",
       "  'and',\n",
       "  'he',\n",
       "  'dressed',\n",
       "  'all',\n",
       "  'in',\n",
       "  'black',\n",
       "  'the',\n",
       "  'same',\n",
       "  'as',\n",
       "  'brother',\n",
       "  'of',\n",
       "  'the',\n",
       "  'night',\n",
       "  'watch',\n",
       "  'except',\n",
       "  'that',\n",
       "  'his',\n",
       "  'furs',\n",
       "  'were',\n",
       "  'ragged',\n",
       "  'and',\n",
       "  'greasy'],\n",
       " ['the',\n",
       "  'breath',\n",
       "  'of',\n",
       "  'man',\n",
       "  'and',\n",
       "  'horse',\n",
       "  'mingled',\n",
       "  'steaming',\n",
       "  'in',\n",
       "  'the',\n",
       "  'cold',\n",
       "  'morning',\n",
       "  'air',\n",
       "  'as',\n",
       "  'his',\n",
       "  'lord',\n",
       "  'father',\n",
       "  'had',\n",
       "  'the',\n",
       "  'man',\n",
       "  'cut',\n",
       "  'down',\n",
       "  'from',\n",
       "  'the',\n",
       "  'wall',\n",
       "  'and',\n",
       "  'dragged',\n",
       "  'before',\n",
       "  'them'],\n",
       " ['robb',\n",
       "  'and',\n",
       "  'jon',\n",
       "  'sat',\n",
       "  'tall',\n",
       "  'and',\n",
       "  'still',\n",
       "  'on',\n",
       "  'their',\n",
       "  'horses',\n",
       "  'with',\n",
       "  'bran',\n",
       "  'between',\n",
       "  'them',\n",
       "  'on',\n",
       "  'his',\n",
       "  'pony',\n",
       "  'trying',\n",
       "  'to',\n",
       "  'seem',\n",
       "  'older',\n",
       "  'than',\n",
       "  'seven',\n",
       "  'trying',\n",
       "  'to',\n",
       "  'pretend',\n",
       "  'that',\n",
       "  'he',\n",
       "  'seen',\n",
       "  'all',\n",
       "  'this',\n",
       "  'before'],\n",
       " ['faint', 'wind', 'blew', 'through', 'the', 'holdfast', 'gate'],\n",
       " ['over',\n",
       "  'their',\n",
       "  'heads',\n",
       "  'flapped',\n",
       "  'the',\n",
       "  'banner',\n",
       "  'of',\n",
       "  'the',\n",
       "  'starks',\n",
       "  'of',\n",
       "  'winterfell',\n",
       "  'grey',\n",
       "  'direwolf',\n",
       "  'racing',\n",
       "  'across',\n",
       "  'an',\n",
       "  'ice',\n",
       "  'white',\n",
       "  'field'],\n",
       " ['bran',\n",
       "  'father',\n",
       "  'sat',\n",
       "  'solemnly',\n",
       "  'on',\n",
       "  'his',\n",
       "  'horse',\n",
       "  'long',\n",
       "  'brown',\n",
       "  'hair',\n",
       "  'stirring',\n",
       "  'in',\n",
       "  'the',\n",
       "  'wind'],\n",
       " ['his',\n",
       "  'closely',\n",
       "  'trimmed',\n",
       "  'beard',\n",
       "  'was',\n",
       "  'shot',\n",
       "  'with',\n",
       "  'white',\n",
       "  'making',\n",
       "  'him',\n",
       "  'look',\n",
       "  'older',\n",
       "  'than',\n",
       "  'his',\n",
       "  'thirty',\n",
       "  'five',\n",
       "  'years'],\n",
       " ['he',\n",
       "  'had',\n",
       "  'grim',\n",
       "  'cast',\n",
       "  'to',\n",
       "  'his',\n",
       "  'grey',\n",
       "  'eyes',\n",
       "  'this',\n",
       "  'day',\n",
       "  'and',\n",
       "  'he',\n",
       "  'seemed',\n",
       "  'not',\n",
       "  'at',\n",
       "  'all',\n",
       "  'the',\n",
       "  'man',\n",
       "  'who',\n",
       "  'would',\n",
       "  'sit',\n",
       "  'before',\n",
       "  'the',\n",
       "  'fire',\n",
       "  'in',\n",
       "  'the',\n",
       "  'evening',\n",
       "  'and',\n",
       "  'talk',\n",
       "  'softly',\n",
       "  'of',\n",
       "  'the',\n",
       "  'age',\n",
       "  'of',\n",
       "  'heroes',\n",
       "  'and',\n",
       "  'the',\n",
       "  'children',\n",
       "  'of',\n",
       "  'the',\n",
       "  'forest'],\n",
       " ['he',\n",
       "  'had',\n",
       "  'taken',\n",
       "  'off',\n",
       "  'father',\n",
       "  'face',\n",
       "  'bran',\n",
       "  'thought',\n",
       "  'and',\n",
       "  'donned',\n",
       "  'the',\n",
       "  'face',\n",
       "  'of',\n",
       "  'lord',\n",
       "  'stark',\n",
       "  'of',\n",
       "  'winterfell'],\n",
       " ['there',\n",
       "  'were',\n",
       "  'questions',\n",
       "  'asked',\n",
       "  'and',\n",
       "  'answers',\n",
       "  'given',\n",
       "  'there',\n",
       "  'in',\n",
       "  'the',\n",
       "  'chill',\n",
       "  'of',\n",
       "  'morning',\n",
       "  'but',\n",
       "  'afterward',\n",
       "  'bran',\n",
       "  'could',\n",
       "  'not',\n",
       "  'recall',\n",
       "  'much',\n",
       "  'of',\n",
       "  'what',\n",
       "  'had',\n",
       "  'been',\n",
       "  'said'],\n",
       " ['finally',\n",
       "  'his',\n",
       "  'lord',\n",
       "  'father',\n",
       "  'gave',\n",
       "  'command',\n",
       "  'and',\n",
       "  'two',\n",
       "  'of',\n",
       "  'his',\n",
       "  'guardsmen',\n",
       "  'dragged',\n",
       "  'the',\n",
       "  'ragged',\n",
       "  'man',\n",
       "  'to',\n",
       "  'the',\n",
       "  'ironwood',\n",
       "  'stump',\n",
       "  'in',\n",
       "  'the',\n",
       "  'center',\n",
       "  'of',\n",
       "  'the',\n",
       "  'square'],\n",
       " ['they',\n",
       "  'forced',\n",
       "  'his',\n",
       "  'head',\n",
       "  'down',\n",
       "  'onto',\n",
       "  'the',\n",
       "  'hard',\n",
       "  'black',\n",
       "  'wood'],\n",
       " ['lord',\n",
       "  'eddard',\n",
       "  'stark',\n",
       "  'dismounted',\n",
       "  'and',\n",
       "  'his',\n",
       "  'ward',\n",
       "  'theon',\n",
       "  'greyjoy',\n",
       "  'brought',\n",
       "  'forth',\n",
       "  'the',\n",
       "  'sword'],\n",
       " ['ice', 'that', 'sword', 'was', 'called'],\n",
       " ['it',\n",
       "  'was',\n",
       "  'as',\n",
       "  'wide',\n",
       "  'across',\n",
       "  'as',\n",
       "  'man',\n",
       "  'hand',\n",
       "  'and',\n",
       "  'taller',\n",
       "  'even',\n",
       "  'than',\n",
       "  'robb'],\n",
       " ['the',\n",
       "  'blade',\n",
       "  'was',\n",
       "  'valyrian',\n",
       "  'steel',\n",
       "  'spell',\n",
       "  'forged',\n",
       "  'and',\n",
       "  'dark',\n",
       "  'as',\n",
       "  'smoke'],\n",
       " ['nothing', 'held', 'an', 'edge', 'like', 'valyrian', 'steel'],\n",
       " ['his',\n",
       "  'father',\n",
       "  'peeled',\n",
       "  'off',\n",
       "  'his',\n",
       "  'gloves',\n",
       "  'and',\n",
       "  'handed',\n",
       "  'them',\n",
       "  'to',\n",
       "  'jory',\n",
       "  'cassel',\n",
       "  'the',\n",
       "  'captain',\n",
       "  'of',\n",
       "  'his',\n",
       "  'household',\n",
       "  'guard'],\n",
       " ['he',\n",
       "  'took',\n",
       "  'hold',\n",
       "  'of',\n",
       "  'ice',\n",
       "  'with',\n",
       "  'both',\n",
       "  'hands',\n",
       "  'and',\n",
       "  'said',\n",
       "  'in',\n",
       "  'the',\n",
       "  'name',\n",
       "  'of',\n",
       "  'robert',\n",
       "  'of',\n",
       "  'the',\n",
       "  'house',\n",
       "  'baratheon',\n",
       "  'the',\n",
       "  'first',\n",
       "  'of',\n",
       "  'his',\n",
       "  'name',\n",
       "  'king',\n",
       "  'of',\n",
       "  'the',\n",
       "  'andals',\n",
       "  'and',\n",
       "  'the',\n",
       "  'rhoynar',\n",
       "  'and',\n",
       "  'the',\n",
       "  'first',\n",
       "  'men',\n",
       "  'lord',\n",
       "  'of',\n",
       "  'the',\n",
       "  'seven',\n",
       "  'kingdoms',\n",
       "  'and',\n",
       "  'protector',\n",
       "  'of',\n",
       "  'the',\n",
       "  'realm',\n",
       "  'by',\n",
       "  'the',\n",
       "  'word',\n",
       "  'of',\n",
       "  'eddard',\n",
       "  'of',\n",
       "  'the',\n",
       "  'house',\n",
       "  'stark',\n",
       "  'lord',\n",
       "  'of',\n",
       "  'winterfell',\n",
       "  'and',\n",
       "  'warden',\n",
       "  'of',\n",
       "  'the',\n",
       "  'north',\n",
       "  'do',\n",
       "  'sentence',\n",
       "  'you',\n",
       "  'to',\n",
       "  'die'],\n",
       " ['he', 'lifted', 'the', 'greatsword', 'high', 'above', 'his', 'head'],\n",
       " ['bran', 'bastard', 'brother', 'jon', 'snow', 'moved', 'closer'],\n",
       " ['keep', 'the', 'pony', 'well', 'in', 'hand', 'he', 'whispered'],\n",
       " ['and', 'don', 'look', 'away'],\n",
       " ['father', 'will', 'know', 'if', 'you', 'do'],\n",
       " ['bran',\n",
       "  'kept',\n",
       "  'his',\n",
       "  'pony',\n",
       "  'well',\n",
       "  'in',\n",
       "  'hand',\n",
       "  'and',\n",
       "  'did',\n",
       "  'not',\n",
       "  'look',\n",
       "  'away'],\n",
       " ['his',\n",
       "  'father',\n",
       "  'took',\n",
       "  'off',\n",
       "  'the',\n",
       "  'man',\n",
       "  'head',\n",
       "  'with',\n",
       "  'single',\n",
       "  'sure',\n",
       "  'stroke'],\n",
       " ['blood',\n",
       "  'sprayed',\n",
       "  'out',\n",
       "  'across',\n",
       "  'the',\n",
       "  'snow',\n",
       "  'as',\n",
       "  'red',\n",
       "  'as',\n",
       "  'surnmerwine'],\n",
       " ['one',\n",
       "  'of',\n",
       "  'the',\n",
       "  'horses',\n",
       "  'reared',\n",
       "  'and',\n",
       "  'had',\n",
       "  'to',\n",
       "  'be',\n",
       "  'restrained',\n",
       "  'to',\n",
       "  'keep',\n",
       "  'from',\n",
       "  'bolting'],\n",
       " ['bran', 'could', 'not', 'take', 'his', 'eyes', 'off', 'the', 'blood'],\n",
       " ['the',\n",
       "  'snows',\n",
       "  'around',\n",
       "  'the',\n",
       "  'stump',\n",
       "  'drank',\n",
       "  'it',\n",
       "  'eagerly',\n",
       "  'reddening',\n",
       "  'as',\n",
       "  'he',\n",
       "  'watched'],\n",
       " ['the', 'head', 'bounced', 'off', 'thick', 'root', 'and', 'rolled'],\n",
       " ['it', 'came', 'up', 'near', 'greyjoy', 'feet'],\n",
       " ['theon',\n",
       "  'was',\n",
       "  'lean',\n",
       "  'dark',\n",
       "  'page',\n",
       "  'youth',\n",
       "  'of',\n",
       "  'nineteen',\n",
       "  'who',\n",
       "  'found',\n",
       "  'everything',\n",
       "  'amusing'],\n",
       " ['he',\n",
       "  'laughed',\n",
       "  'put',\n",
       "  'his',\n",
       "  'boot',\n",
       "  'on',\n",
       "  'the',\n",
       "  'head',\n",
       "  'and',\n",
       "  'kicked',\n",
       "  'it',\n",
       "  'away'],\n",
       " ['ass',\n",
       "  'jon',\n",
       "  'muttered',\n",
       "  'low',\n",
       "  'enough',\n",
       "  'so',\n",
       "  'greyjoy',\n",
       "  'did',\n",
       "  'not',\n",
       "  'hear'],\n",
       " ['he',\n",
       "  'put',\n",
       "  'hand',\n",
       "  'on',\n",
       "  'bran',\n",
       "  'shoulder',\n",
       "  'and',\n",
       "  'bran',\n",
       "  'looked',\n",
       "  'over',\n",
       "  'at',\n",
       "  'his',\n",
       "  'bastard',\n",
       "  'brother'],\n",
       " ['you', 'did', 'well', 'jon', 'told', 'him', 'solemnly'],\n",
       " ['jon', 'was', 'fourteen', 'an', 'old', 'hand', 'at', 'justice'],\n",
       " ['it',\n",
       "  'seemed',\n",
       "  'colder',\n",
       "  'on',\n",
       "  'the',\n",
       "  'long',\n",
       "  'ride',\n",
       "  'back',\n",
       "  'to',\n",
       "  'winterfell',\n",
       "  'though',\n",
       "  'the',\n",
       "  'wind',\n",
       "  'had',\n",
       "  'died',\n",
       "  'by',\n",
       "  'then',\n",
       "  'and',\n",
       "  'the',\n",
       "  'sun',\n",
       "  'was',\n",
       "  'higher',\n",
       "  'in',\n",
       "  'the',\n",
       "  'sky'],\n",
       " ['bran',\n",
       "  'rode',\n",
       "  'with',\n",
       "  'his',\n",
       "  'brothers',\n",
       "  'well',\n",
       "  'ahead',\n",
       "  'of',\n",
       "  'the',\n",
       "  'main',\n",
       "  'party',\n",
       "  'his',\n",
       "  'pony',\n",
       "  'struggling',\n",
       "  'hard',\n",
       "  'to',\n",
       "  'keep',\n",
       "  'up',\n",
       "  'with',\n",
       "  'their',\n",
       "  'horses'],\n",
       " ['the', 'deserter', 'died', 'bravely', 'robb', 'said'],\n",
       " ['he',\n",
       "  'was',\n",
       "  'big',\n",
       "  'and',\n",
       "  'broad',\n",
       "  'and',\n",
       "  'growing',\n",
       "  'every',\n",
       "  'day',\n",
       "  'with',\n",
       "  'his',\n",
       "  'mother',\n",
       "  'coloring',\n",
       "  'the',\n",
       "  'fair',\n",
       "  'skin',\n",
       "  'red',\n",
       "  'brown',\n",
       "  'hair',\n",
       "  'and',\n",
       "  'blue',\n",
       "  'eyes',\n",
       "  'of',\n",
       "  'the',\n",
       "  'tullys',\n",
       "  'of',\n",
       "  'riverrun'],\n",
       " ['he', 'had', 'courage', 'at', 'the', 'least'],\n",
       " ['no', 'jon', 'snow', 'said', 'quietly'],\n",
       " ['it', 'was', 'not', 'courage'],\n",
       " ['this', 'one', 'was', 'dead', 'of', 'fear'],\n",
       " ['you', 'could', 'see', 'it', 'in', 'his', 'eyes', 'stark'],\n",
       " ['jon',\n",
       "  'eyes',\n",
       "  'were',\n",
       "  'grey',\n",
       "  'so',\n",
       "  'dark',\n",
       "  'they',\n",
       "  'seemed',\n",
       "  'almost',\n",
       "  'black',\n",
       "  'but',\n",
       "  'there',\n",
       "  'was',\n",
       "  'little',\n",
       "  'they',\n",
       "  'did',\n",
       "  'not',\n",
       "  'see'],\n",
       " ['he',\n",
       "  'was',\n",
       "  'of',\n",
       "  'an',\n",
       "  'age',\n",
       "  'with',\n",
       "  'robb',\n",
       "  'but',\n",
       "  'they',\n",
       "  'did',\n",
       "  'not',\n",
       "  'look',\n",
       "  'alike'],\n",
       " ['jon',\n",
       "  'was',\n",
       "  'slender',\n",
       "  'where',\n",
       "  'robb',\n",
       "  'was',\n",
       "  'muscular',\n",
       "  'dark',\n",
       "  'where',\n",
       "  'robb',\n",
       "  'was',\n",
       "  'fair',\n",
       "  'graceful',\n",
       "  'and',\n",
       "  'quick',\n",
       "  'where',\n",
       "  'his',\n",
       "  'half',\n",
       "  'brother',\n",
       "  'was',\n",
       "  'strong',\n",
       "  'and',\n",
       "  'fast'],\n",
       " ['robb', 'was', 'not', 'impressed'],\n",
       " ['the', 'others', 'take', 'his', 'eyes', 'he', 'swore'],\n",
       " ['he', 'died', 'well'],\n",
       " ['race', 'you', 'to', 'the', 'bridge'],\n",
       " ['done', 'jon', 'said', 'kicking', 'his', 'horse', 'forward'],\n",
       " ['robb',\n",
       "  'cursed',\n",
       "  'and',\n",
       "  'followed',\n",
       "  'and',\n",
       "  'they',\n",
       "  'galloped',\n",
       "  'off',\n",
       "  'down',\n",
       "  'the',\n",
       "  'trail',\n",
       "  'robb',\n",
       "  'laughing',\n",
       "  'and',\n",
       "  'hooting',\n",
       "  'jon',\n",
       "  'silent',\n",
       "  'and',\n",
       "  'intent'],\n",
       " ['the',\n",
       "  'hooves',\n",
       "  'of',\n",
       "  'their',\n",
       "  'horses',\n",
       "  'kicked',\n",
       "  'up',\n",
       "  'showers',\n",
       "  'of',\n",
       "  'snow',\n",
       "  'as',\n",
       "  'they',\n",
       "  'went'],\n",
       " ['bran', 'did', 'not', 'try', 'to', 'follow'],\n",
       " ['his', 'pony', 'could', 'not', 'keep', 'up'],\n",
       " ['he',\n",
       "  'had',\n",
       "  'seen',\n",
       "  'the',\n",
       "  'ragged',\n",
       "  'man',\n",
       "  'eyes',\n",
       "  'and',\n",
       "  'he',\n",
       "  'was',\n",
       "  'thinking',\n",
       "  'of',\n",
       "  'them',\n",
       "  'now'],\n",
       " ['after',\n",
       "  'while',\n",
       "  'the',\n",
       "  'sound',\n",
       "  'of',\n",
       "  'robb',\n",
       "  'laughter',\n",
       "  'receded',\n",
       "  'and',\n",
       "  'the',\n",
       "  'woods',\n",
       "  'grew',\n",
       "  'silent',\n",
       "  'again'],\n",
       " ['so',\n",
       "  'deep',\n",
       "  'in',\n",
       "  'thought',\n",
       "  'was',\n",
       "  'he',\n",
       "  'that',\n",
       "  'he',\n",
       "  'never',\n",
       "  'heard',\n",
       "  'the',\n",
       "  'rest',\n",
       "  'of',\n",
       "  'the',\n",
       "  'party',\n",
       "  'until',\n",
       "  'his',\n",
       "  'father',\n",
       "  'moved',\n",
       "  'up',\n",
       "  'to',\n",
       "  'ride',\n",
       "  'beside',\n",
       "  'him'],\n",
       " ['are', 'you', 'well', 'bran'],\n",
       " ['he', 'asked', 'not', 'unkindly'],\n",
       " ['yes', 'father', 'bran', 'told', 'him'],\n",
       " ['he', 'looked', 'up'],\n",
       " ['wrapped',\n",
       "  'in',\n",
       "  'his',\n",
       "  'furs',\n",
       "  'and',\n",
       "  'leathers',\n",
       "  'mounted',\n",
       "  'on',\n",
       "  'his',\n",
       "  'great',\n",
       "  'warhorse',\n",
       "  'his',\n",
       "  'lord',\n",
       "  'father',\n",
       "  'loomed',\n",
       "  'over',\n",
       "  'him',\n",
       "  'like',\n",
       "  'giant'],\n",
       " ['robb',\n",
       "  'says',\n",
       "  'the',\n",
       "  'man',\n",
       "  'died',\n",
       "  'bravely',\n",
       "  'but',\n",
       "  'jon',\n",
       "  'says',\n",
       "  'he',\n",
       "  'was',\n",
       "  'afraid'],\n",
       " ['what', 'do', 'you', 'think'],\n",
       " ['his', 'father', 'asked'],\n",
       " ['bran', 'thought', 'about', 'it'],\n",
       " ['can', 'man', 'still', 'be', 'brave', 'if', 'he', 'afraid'],\n",
       " ['that',\n",
       "  'is',\n",
       "  'the',\n",
       "  'only',\n",
       "  'time',\n",
       "  'man',\n",
       "  'can',\n",
       "  'be',\n",
       "  'brave',\n",
       "  'his',\n",
       "  'father',\n",
       "  'told',\n",
       "  'him'],\n",
       " ['do', 'you', 'understand', 'why', 'did', 'it'],\n",
       " ['he', 'was', 'wildling', 'bran', 'said'],\n",
       " ['they',\n",
       "  'carry',\n",
       "  'off',\n",
       "  'women',\n",
       "  'and',\n",
       "  'sell',\n",
       "  'them',\n",
       "  'to',\n",
       "  'the',\n",
       "  'others'],\n",
       " ['his', 'lord', 'father', 'smiled'],\n",
       " ['old', 'nan', 'has', 'been', 'telling', 'you', 'stories', 'again'],\n",
       " ['in',\n",
       "  'truth',\n",
       "  'the',\n",
       "  'man',\n",
       "  'was',\n",
       "  'an',\n",
       "  'oathbreaker',\n",
       "  'deserter',\n",
       "  'from',\n",
       "  'the',\n",
       "  'night',\n",
       "  'watch'],\n",
       " ['no', 'man', 'is', 'more', 'dangerous'],\n",
       " ['the',\n",
       "  'deserter',\n",
       "  'knows',\n",
       "  'his',\n",
       "  'life',\n",
       "  'is',\n",
       "  'forfeit',\n",
       "  'if',\n",
       "  'he',\n",
       "  'is',\n",
       "  'taken',\n",
       "  'so',\n",
       "  'he',\n",
       "  'will',\n",
       "  'not',\n",
       "  'flinch',\n",
       "  'from',\n",
       "  'any',\n",
       "  'crime',\n",
       "  'no',\n",
       "  'matter',\n",
       "  'how',\n",
       "  'vile'],\n",
       " ['but', 'you', 'mistake', 'me'],\n",
       " ['the',\n",
       "  'question',\n",
       "  'was',\n",
       "  'not',\n",
       "  'why',\n",
       "  'the',\n",
       "  'man',\n",
       "  'had',\n",
       "  'to',\n",
       "  'die',\n",
       "  'but',\n",
       "  'why',\n",
       "  'must',\n",
       "  'do',\n",
       "  'it'],\n",
       " ['page', 'bran', 'had', 'no', 'answer', 'for', 'that'],\n",
       " ['king', 'robert', 'has', 'headsman', 'he', 'said', 'uncertainly'],\n",
       " ['he', 'does', 'his', 'father', 'admitted'],\n",
       " ['as', 'did', 'the', 'targaryen', 'kings', 'before', 'him'],\n",
       " ['yet', 'our', 'way', 'is', 'the', 'older', 'way'],\n",
       " ['the',\n",
       "  'blood',\n",
       "  'of',\n",
       "  'the',\n",
       "  'first',\n",
       "  'men',\n",
       "  'still',\n",
       "  'flows',\n",
       "  'in',\n",
       "  'the',\n",
       "  'veins',\n",
       "  'of',\n",
       "  'the',\n",
       "  'starks',\n",
       "  'and',\n",
       "  'we',\n",
       "  'hold',\n",
       "  'to',\n",
       "  'the',\n",
       "  'belief',\n",
       "  'that',\n",
       "  'the',\n",
       "  'man',\n",
       "  'who',\n",
       "  'passes',\n",
       "  'the',\n",
       "  'sentence',\n",
       "  'should',\n",
       "  'swing',\n",
       "  'the',\n",
       "  'sword'],\n",
       " ['if',\n",
       "  'you',\n",
       "  'would',\n",
       "  'take',\n",
       "  'man',\n",
       "  'life',\n",
       "  'you',\n",
       "  'owe',\n",
       "  'it',\n",
       "  'to',\n",
       "  'him',\n",
       "  'to',\n",
       "  'look',\n",
       "  'into',\n",
       "  'his',\n",
       "  'eyes',\n",
       "  'and',\n",
       "  'hear',\n",
       "  'his',\n",
       "  'final',\n",
       "  'words'],\n",
       " ['and',\n",
       "  'if',\n",
       "  'you',\n",
       "  'cannot',\n",
       "  'bear',\n",
       "  'to',\n",
       "  'do',\n",
       "  'that',\n",
       "  'then',\n",
       "  'perhaps',\n",
       "  'the',\n",
       "  'man',\n",
       "  'does',\n",
       "  'not',\n",
       "  'deserve',\n",
       "  'to',\n",
       "  'die'],\n",
       " ['one',\n",
       "  'day',\n",
       "  'bran',\n",
       "  'you',\n",
       "  'will',\n",
       "  'be',\n",
       "  'robb',\n",
       "  'bannerman',\n",
       "  'holding',\n",
       "  'keep',\n",
       "  'of',\n",
       "  'your',\n",
       "  'own',\n",
       "  'for',\n",
       "  'your',\n",
       "  'brother',\n",
       "  'and',\n",
       "  'your',\n",
       "  'king',\n",
       "  'and',\n",
       "  'justice',\n",
       "  'will',\n",
       "  'fall',\n",
       "  'to',\n",
       "  'you'],\n",
       " ['when',\n",
       "  'that',\n",
       "  'day',\n",
       "  'comes',\n",
       "  'you',\n",
       "  'must',\n",
       "  'take',\n",
       "  'no',\n",
       "  'pleasure',\n",
       "  'in',\n",
       "  'the',\n",
       "  'task',\n",
       "  'but',\n",
       "  'neither',\n",
       "  'must',\n",
       "  'you',\n",
       "  'look',\n",
       "  'away'],\n",
       " ['ruler',\n",
       "  'who',\n",
       "  'hides',\n",
       "  'behind',\n",
       "  'paid',\n",
       "  'executioners',\n",
       "  'soon',\n",
       "  'forgets',\n",
       "  'what',\n",
       "  'death',\n",
       "  'is'],\n",
       " ['that',\n",
       "  'was',\n",
       "  'when',\n",
       "  'jon',\n",
       "  'reappeared',\n",
       "  'on',\n",
       "  'the',\n",
       "  'crest',\n",
       "  'of',\n",
       "  'the',\n",
       "  'hill',\n",
       "  'before',\n",
       "  'them'],\n",
       " ['he', 'waved', 'and', 'shouted', 'down', 'at', 'them'],\n",
       " ['father', 'bran', 'come', 'quickly', 'see', 'what', 'robb', 'has', 'found'],\n",
       " ['then', 'he', 'was', 'gone', 'again'],\n",
       " ['jory', 'rode', 'up', 'beside', 'them'],\n",
       " ['trouble', 'my', 'lord'],\n",
       " ['beyond', 'doubt', 'his', 'lord', 'father', 'said'],\n",
       " ['come',\n",
       "  'let',\n",
       "  'us',\n",
       "  'see',\n",
       "  'what',\n",
       "  'mischief',\n",
       "  'my',\n",
       "  'sons',\n",
       "  'have',\n",
       "  'rooted',\n",
       "  'out',\n",
       "  'now'],\n",
       " ['he', 'sent', 'his', 'horse', 'into', 'trot'],\n",
       " ['jory', 'and', 'bran', 'and', 'the', 'rest', 'came', 'after'],\n",
       " ['they',\n",
       "  'found',\n",
       "  'robb',\n",
       "  'on',\n",
       "  'the',\n",
       "  'riverbank',\n",
       "  'north',\n",
       "  'of',\n",
       "  'the',\n",
       "  'bridge',\n",
       "  'with',\n",
       "  'jon',\n",
       "  'still',\n",
       "  'mounted',\n",
       "  'beside',\n",
       "  'him'],\n",
       " ['the',\n",
       "  'late',\n",
       "  'summer',\n",
       "  'snows',\n",
       "  'had',\n",
       "  'been',\n",
       "  'heavy',\n",
       "  'this',\n",
       "  'moonturn'],\n",
       " ['robb',\n",
       "  'stood',\n",
       "  'knee',\n",
       "  'deep',\n",
       "  'in',\n",
       "  'white',\n",
       "  'his',\n",
       "  'hood',\n",
       "  'pulled',\n",
       "  'back',\n",
       "  'so',\n",
       "  'the',\n",
       "  'sun',\n",
       "  'shone',\n",
       "  'in',\n",
       "  'his',\n",
       "  'hair'],\n",
       " ['he',\n",
       "  'was',\n",
       "  'cradling',\n",
       "  'something',\n",
       "  'in',\n",
       "  'his',\n",
       "  'arm',\n",
       "  'while',\n",
       "  'the',\n",
       "  'boys',\n",
       "  'talked',\n",
       "  'in',\n",
       "  'hushed',\n",
       "  'excited',\n",
       "  'voices'],\n",
       " ['the',\n",
       "  'riders',\n",
       "  'picked',\n",
       "  'their',\n",
       "  'way',\n",
       "  'carefully',\n",
       "  'through',\n",
       "  'the',\n",
       "  'drifts',\n",
       "  'groping',\n",
       "  'for',\n",
       "  'solid',\n",
       "  'footing',\n",
       "  'on',\n",
       "  'the',\n",
       "  'hidden',\n",
       "  'uneven',\n",
       "  'ground'],\n",
       " ['jory',\n",
       "  'cassel',\n",
       "  'and',\n",
       "  'theon',\n",
       "  'greyjoy',\n",
       "  'were',\n",
       "  'the',\n",
       "  'first',\n",
       "  'to',\n",
       "  'reach',\n",
       "  'the',\n",
       "  'boys'],\n",
       " ['greyjoy', 'was', 'laughing', 'and', 'joking', 'as', 'he', 'rode'],\n",
       " ['bran', 'heard', 'the', 'breath', 'go', 'out', 'of', 'him'],\n",
       " ['gods'],\n",
       " ['he',\n",
       "  'exclaimed',\n",
       "  'struggling',\n",
       "  'to',\n",
       "  'keep',\n",
       "  'control',\n",
       "  'of',\n",
       "  'his',\n",
       "  'horse',\n",
       "  'as',\n",
       "  'he',\n",
       "  'reached',\n",
       "  'for',\n",
       "  'his',\n",
       "  'sword'],\n",
       " ['jory', 'sword', 'was', 'already', 'out'],\n",
       " ['robb', 'get', 'away', 'from', 'it'],\n",
       " ['he', 'called', 'as', 'his', 'horse', 'reared', 'under', 'him'],\n",
       " ['robb',\n",
       "  'grinned',\n",
       "  'and',\n",
       "  'looked',\n",
       "  'up',\n",
       "  'from',\n",
       "  'the',\n",
       "  'bundle',\n",
       "  'in',\n",
       "  'his',\n",
       "  'arms'],\n",
       " ['she', 'can', 'hurt', 'you', 'he', 'said'],\n",
       " ['she', 'dead', 'jory'],\n",
       " ['bran', 'was', 'afire', 'with', 'curiosity', 'by', 'then'],\n",
       " ['he',\n",
       "  'would',\n",
       "  'have',\n",
       "  'spurred',\n",
       "  'the',\n",
       "  'pony',\n",
       "  'faster',\n",
       "  'but',\n",
       "  'his',\n",
       "  'father',\n",
       "  'made',\n",
       "  'them',\n",
       "  'dismount',\n",
       "  'beside',\n",
       "  'the',\n",
       "  'bridge',\n",
       "  'and',\n",
       "  'approach',\n",
       "  'on',\n",
       "  'foot'],\n",
       " ['bran', 'jumped', 'off', 'and', 'ran'],\n",
       " ['by',\n",
       "  'then',\n",
       "  'jon',\n",
       "  'jory',\n",
       "  'and',\n",
       "  'theon',\n",
       "  'greyjoy',\n",
       "  'had',\n",
       "  'all',\n",
       "  'dismounted',\n",
       "  'as',\n",
       "  'well'],\n",
       " ['what', 'in', 'the', 'seven', 'hells', 'is', 'it'],\n",
       " ['greyjoy', 'was', 'saying'],\n",
       " ['wolf', 'robb', 'told', 'him'],\n",
       " ['freak', 'greyjoy', 'said'],\n",
       " ['look', 'at', 'the', 'size', 'of', 'it'],\n",
       " ['bran',\n",
       "  'heart',\n",
       "  'was',\n",
       "  'thumping',\n",
       "  'in',\n",
       "  'his',\n",
       "  'chest',\n",
       "  'as',\n",
       "  'he',\n",
       "  'pushed',\n",
       "  'through',\n",
       "  'waist',\n",
       "  'high',\n",
       "  'drift',\n",
       "  'to',\n",
       "  'his',\n",
       "  'brothers',\n",
       "  'side'],\n",
       " ['half',\n",
       "  'buried',\n",
       "  'in',\n",
       "  'bloodstained',\n",
       "  'snow',\n",
       "  'huge',\n",
       "  'dark',\n",
       "  'shape',\n",
       "  'slumped',\n",
       "  'in',\n",
       "  'death'],\n",
       " ['ice',\n",
       "  'had',\n",
       "  'formed',\n",
       "  'in',\n",
       "  'its',\n",
       "  'shaggy',\n",
       "  'grey',\n",
       "  'fur',\n",
       "  'and',\n",
       "  'the',\n",
       "  'faint',\n",
       "  'smell',\n",
       "  'of',\n",
       "  'corruption',\n",
       "  'clung',\n",
       "  'to',\n",
       "  'it',\n",
       "  'like',\n",
       "  'woman',\n",
       "  'perfume'],\n",
       " ['bran',\n",
       "  'glimpsed',\n",
       "  'blind',\n",
       "  'eyes',\n",
       "  'crawling',\n",
       "  'with',\n",
       "  'maggots',\n",
       "  'wide',\n",
       "  'mouth',\n",
       "  'full',\n",
       "  'of',\n",
       "  'yellowed',\n",
       "  'teeth'],\n",
       " ['but',\n",
       "  'it',\n",
       "  'was',\n",
       "  'the',\n",
       "  'size',\n",
       "  'of',\n",
       "  'it',\n",
       "  'that',\n",
       "  'made',\n",
       "  'him',\n",
       "  'gasp'],\n",
       " ['it',\n",
       "  'was',\n",
       "  'bigger',\n",
       "  'than',\n",
       "  'his',\n",
       "  'pony',\n",
       "  'twice',\n",
       "  'the',\n",
       "  'size',\n",
       "  'of',\n",
       "  'the',\n",
       "  'largest',\n",
       "  'hound',\n",
       "  'in',\n",
       "  'his',\n",
       "  'father',\n",
       "  'kennel'],\n",
       " ['page', 'it', 'no', 'freak', 'jon', 'said', 'calmly'],\n",
       " ['that', 'direwolf'],\n",
       " ['they', 'grow', 'larger', 'than', 'the', 'other', 'kind'],\n",
       " ['theon',\n",
       "  'greyjoy',\n",
       "  'said',\n",
       "  'there',\n",
       "  'not',\n",
       "  'been',\n",
       "  'direwolf',\n",
       "  'sighted',\n",
       "  'south',\n",
       "  'of',\n",
       "  'the',\n",
       "  'wall',\n",
       "  'in',\n",
       "  'two',\n",
       "  'hundred',\n",
       "  'years'],\n",
       " ['see', 'one', 'now', 'jon', 'replied'],\n",
       " ['bran', 'tore', 'his', 'eyes', 'away', 'from', 'the', 'monster'],\n",
       " ['that',\n",
       "  'was',\n",
       "  'when',\n",
       "  'he',\n",
       "  'noticed',\n",
       "  'the',\n",
       "  'bundle',\n",
       "  'in',\n",
       "  'robb',\n",
       "  'arms'],\n",
       " ['he', 'gave', 'cry', 'of', 'delight', 'and', 'moved', 'closer'],\n",
       " ['the',\n",
       "  'pup',\n",
       "  'was',\n",
       "  'tiny',\n",
       "  'ball',\n",
       "  'of',\n",
       "  'grey',\n",
       "  'black',\n",
       "  'fur',\n",
       "  'its',\n",
       "  'eyes',\n",
       "  'still',\n",
       "  'closed'],\n",
       " ['it',\n",
       "  'nuzzled',\n",
       "  'blindly',\n",
       "  'against',\n",
       "  'robb',\n",
       "  'chest',\n",
       "  'as',\n",
       "  'he',\n",
       "  'cradled',\n",
       "  'it',\n",
       "  'searching',\n",
       "  'for',\n",
       "  'milk',\n",
       "  'among',\n",
       "  'his',\n",
       "  'leathers',\n",
       "  'making',\n",
       "  'sad',\n",
       "  'little',\n",
       "  'whimpery',\n",
       "  'sound'],\n",
       " ['bran', 'reached', 'out', 'hesitantly'],\n",
       " ['go', 'on', 'robb', 'told', 'him'],\n",
       " ['you', 'can', 'touch', 'him'],\n",
       " ['bran',\n",
       "  'gave',\n",
       "  'the',\n",
       "  'pup',\n",
       "  'quick',\n",
       "  'nervous',\n",
       "  'stroke',\n",
       "  'then',\n",
       "  'turned',\n",
       "  'as',\n",
       "  'jon',\n",
       "  'said',\n",
       "  'here',\n",
       "  'you',\n",
       "  'go'],\n",
       " ['his', 'half', 'brother', 'put', 'second', 'pup', 'into', 'his', 'arms'],\n",
       " ['there', 'are', 'five', 'of', 'them'],\n",
       " ['bran',\n",
       "  'sat',\n",
       "  'down',\n",
       "  'in',\n",
       "  'the',\n",
       "  'snow',\n",
       "  'and',\n",
       "  'hugged',\n",
       "  'the',\n",
       "  'wolf',\n",
       "  'pup',\n",
       "  'to',\n",
       "  'his',\n",
       "  'face'],\n",
       " ['its', 'fur', 'was', 'soft', 'and', 'warm', 'against', 'his', 'cheek'],\n",
       " ['direwolves',\n",
       "  'loose',\n",
       "  'in',\n",
       "  'the',\n",
       "  'realm',\n",
       "  'after',\n",
       "  'so',\n",
       "  'many',\n",
       "  'years',\n",
       "  'muttered',\n",
       "  'hullen',\n",
       "  'the',\n",
       "  'master',\n",
       "  'of',\n",
       "  'horse'],\n",
       " ['like', 'it', 'not'],\n",
       " ['it', 'is', 'sign', 'jory', 'said'],\n",
       " ['father', 'frowned'],\n",
       " ['this', 'is', 'only', 'dead', 'animal', 'jory', 'he', 'said'],\n",
       " ['yet', 'he', 'seemed', 'troubled'],\n",
       " ['snow',\n",
       "  'crunched',\n",
       "  'under',\n",
       "  'his',\n",
       "  'boots',\n",
       "  'as',\n",
       "  'he',\n",
       "  'moved',\n",
       "  'around',\n",
       "  'the',\n",
       "  'body'],\n",
       " ['do', 'we', 'know', 'what', 'killed', 'her'],\n",
       " ['there',\n",
       "  'something',\n",
       "  'in',\n",
       "  'the',\n",
       "  'throat',\n",
       "  'robb',\n",
       "  'told',\n",
       "  'him',\n",
       "  'proud',\n",
       "  'to',\n",
       "  'have',\n",
       "  'found',\n",
       "  'the',\n",
       "  'answer',\n",
       "  'before',\n",
       "  'his',\n",
       "  'father',\n",
       "  'even',\n",
       "  'asked'],\n",
       " ['there',\n",
       "  'just',\n",
       "  'under',\n",
       "  'the',\n",
       "  'jaw',\n",
       "  'his',\n",
       "  'father',\n",
       "  'knelt',\n",
       "  'and',\n",
       "  'groped',\n",
       "  'under',\n",
       "  'the',\n",
       "  'beast',\n",
       "  'head',\n",
       "  'with',\n",
       "  'his',\n",
       "  'hand'],\n",
       " ['he', 'gave', 'yank', 'and', 'held', 'it', 'up', 'for', 'all', 'to', 'see'],\n",
       " ['foot',\n",
       "  'of',\n",
       "  'shattered',\n",
       "  'antler',\n",
       "  'tines',\n",
       "  'snapped',\n",
       "  'off',\n",
       "  'all',\n",
       "  'wet',\n",
       "  'with',\n",
       "  'blood'],\n",
       " ['sudden', 'silence', 'descended', 'over', 'the', 'party'],\n",
       " ['the',\n",
       "  'men',\n",
       "  'looked',\n",
       "  'at',\n",
       "  'the',\n",
       "  'antler',\n",
       "  'uneasily',\n",
       "  'and',\n",
       "  'no',\n",
       "  'one',\n",
       "  'dared',\n",
       "  'to',\n",
       "  'speak'],\n",
       " ['even',\n",
       "  'bran',\n",
       "  'could',\n",
       "  'sense',\n",
       "  'their',\n",
       "  'fear',\n",
       "  'though',\n",
       "  'he',\n",
       "  'did',\n",
       "  'not',\n",
       "  'understand'],\n",
       " ['his',\n",
       "  'father',\n",
       "  'tossed',\n",
       "  'the',\n",
       "  'antler',\n",
       "  'to',\n",
       "  'the',\n",
       "  'side',\n",
       "  'and',\n",
       "  'cleansed',\n",
       "  'his',\n",
       "  'hands',\n",
       "  'in',\n",
       "  'the',\n",
       "  'snow'],\n",
       " ['surprised', 'she', 'lived', 'long', 'enough', 'to', 'whelp', 'he', 'said'],\n",
       " ['his', 'voice', 'broke', 'the', 'spell'],\n",
       " ['maybe', 'she', 'didn', 'jory', 'said'],\n",
       " ['ve', 'heard', 'tales'],\n",
       " [],\n",
       " [],\n",
       " ['maybe',\n",
       "  'the',\n",
       "  'bitch',\n",
       "  'was',\n",
       "  'already',\n",
       "  'dead',\n",
       "  'when',\n",
       "  'the',\n",
       "  'pups',\n",
       "  'came'],\n",
       " ['born', 'with', 'the', 'dead', 'another', 'man', 'put', 'in'],\n",
       " ['worse', 'luck'],\n",
       " ['no', 'matter', 'said', 'hullen'],\n",
       " ['they', 'be', 'dead', 'soon', 'enough', 'too'],\n",
       " ['bran', 'gave', 'wordless', 'cry', 'of', 'dismay'],\n",
       " ['the', 'sooner', 'the', 'better', 'theon', 'greyjoy', 'agreed'],\n",
       " ['he', 'drew', 'his', 'sword'],\n",
       " ['give', 'the', 'beast', 'here', 'bran'],\n",
       " ['the',\n",
       "  'little',\n",
       "  'thing',\n",
       "  'squirmed',\n",
       "  'against',\n",
       "  'him',\n",
       "  'as',\n",
       "  'if',\n",
       "  'it',\n",
       "  'heard',\n",
       "  'and',\n",
       "  'understood'],\n",
       " ['no'],\n",
       " ['bran', 'cried', 'out', 'fiercely'],\n",
       " ['it', 'mine'],\n",
       " ['page', 'put', 'away', 'your', 'sword', 'greyjoy', 'robb', 'said'],\n",
       " ['for',\n",
       "  'moment',\n",
       "  'he',\n",
       "  'sounded',\n",
       "  'as',\n",
       "  'commanding',\n",
       "  'as',\n",
       "  'their',\n",
       "  'father',\n",
       "  'like',\n",
       "  'the',\n",
       "  'lord',\n",
       "  'he',\n",
       "  'would',\n",
       "  'someday',\n",
       "  'be'],\n",
       " ['we', 'will', 'keep', 'these', 'pups'],\n",
       " ['you',\n",
       "  'cannot',\n",
       "  'do',\n",
       "  'that',\n",
       "  'boy',\n",
       "  'said',\n",
       "  'harwin',\n",
       "  'who',\n",
       "  'was',\n",
       "  'hullen',\n",
       "  'son'],\n",
       " ['it', 'be', 'mercy', 'to', 'kill', 'them', 'hullen', 'said'],\n",
       " ['bran',\n",
       "  'looked',\n",
       "  'to',\n",
       "  'his',\n",
       "  'lord',\n",
       "  'father',\n",
       "  'for',\n",
       "  'rescue',\n",
       "  'but',\n",
       "  'got',\n",
       "  'only',\n",
       "  'frown',\n",
       "  'furrowed',\n",
       "  'brow'],\n",
       " ['hullen', 'speaks', 'truly', 'son'],\n",
       " ['better',\n",
       "  'swift',\n",
       "  'death',\n",
       "  'than',\n",
       "  'hard',\n",
       "  'one',\n",
       "  'from',\n",
       "  'cold',\n",
       "  'and',\n",
       "  'starvation'],\n",
       " ['no'],\n",
       " ['he',\n",
       "  'could',\n",
       "  'feel',\n",
       "  'tears',\n",
       "  'welling',\n",
       "  'in',\n",
       "  'his',\n",
       "  'eyes',\n",
       "  'and',\n",
       "  'he',\n",
       "  'looked',\n",
       "  'away'],\n",
       " ['he',\n",
       "  'did',\n",
       "  'not',\n",
       "  'want',\n",
       "  'to',\n",
       "  'cry',\n",
       "  'in',\n",
       "  'front',\n",
       "  'of',\n",
       "  'his',\n",
       "  'father'],\n",
       " ['robb', 'resisted', 'stubbornly'],\n",
       " ['ser',\n",
       "  'rodrik',\n",
       "  'red',\n",
       "  'bitch',\n",
       "  'whelped',\n",
       "  'again',\n",
       "  'last',\n",
       "  'week',\n",
       "  'he',\n",
       "  'said'],\n",
       " ['it', 'was', 'small', 'litter', 'only', 'two', 'live', 'pups'],\n",
       " ['she', 'll', 'have', 'milk', 'enough'],\n",
       " ['she', 'll', 'rip', 'them', 'apart', 'when', 'they', 'try', 'to', 'nurse'],\n",
       " ['lord', 'stark', 'jon', 'said'],\n",
       " ['it',\n",
       "  'was',\n",
       "  'strange',\n",
       "  'to',\n",
       "  'hear',\n",
       "  'him',\n",
       "  'call',\n",
       "  'father',\n",
       "  'that',\n",
       "  'so',\n",
       "  'formal'],\n",
       " ['bran', 'looked', 'at', 'him', 'with', 'desperate', 'hope'],\n",
       " ['there', 'are', 'five', 'pups', 'he', 'told', 'father'],\n",
       " ['three', 'male', 'two', 'female'],\n",
       " ['what', 'of', 'it', 'jon'],\n",
       " ['you', 'have', 'five', 'trueborn', 'children', 'jon', 'said'],\n",
       " ['three', 'sons', 'two', 'daughters'],\n",
       " ['the', 'direwolf', 'is', 'the', 'sigil', 'of', 'your', 'house'],\n",
       " ['your',\n",
       "  'children',\n",
       "  'were',\n",
       "  'meant',\n",
       "  'to',\n",
       "  'have',\n",
       "  'these',\n",
       "  'pups',\n",
       "  'my',\n",
       "  'lord'],\n",
       " ['bran',\n",
       "  'saw',\n",
       "  'his',\n",
       "  'father',\n",
       "  'face',\n",
       "  'change',\n",
       "  'saw',\n",
       "  'the',\n",
       "  'other',\n",
       "  'men',\n",
       "  'exchange',\n",
       "  'glances'],\n",
       " ['he', 'loved', 'jon', 'with', 'all', 'his', 'heart', 'at', 'that', 'moment'],\n",
       " ['even',\n",
       "  'at',\n",
       "  'seven',\n",
       "  'bran',\n",
       "  'understood',\n",
       "  'what',\n",
       "  'his',\n",
       "  'brother',\n",
       "  'had',\n",
       "  'done'],\n",
       " ['the',\n",
       "  'count',\n",
       "  'had',\n",
       "  'come',\n",
       "  'right',\n",
       "  'only',\n",
       "  'because',\n",
       "  'jon',\n",
       "  'had',\n",
       "  'omitted',\n",
       "  'himself'],\n",
       " ['he',\n",
       "  'had',\n",
       "  'included',\n",
       "  'the',\n",
       "  'girls',\n",
       "  'included',\n",
       "  'even',\n",
       "  'rickon',\n",
       "  'the',\n",
       "  'baby',\n",
       "  'but',\n",
       "  'not',\n",
       "  'the',\n",
       "  'bastard',\n",
       "  'who',\n",
       "  'bore',\n",
       "  'the',\n",
       "  'surname',\n",
       "  'snow',\n",
       "  'the',\n",
       "  'name',\n",
       "  'that',\n",
       "  'custom',\n",
       "  'decreed',\n",
       "  'be',\n",
       "  'given',\n",
       "  'to',\n",
       "  'all',\n",
       "  'those',\n",
       "  'in',\n",
       "  'the',\n",
       "  'north',\n",
       "  'unlucky',\n",
       "  'enough',\n",
       "  'to',\n",
       "  'be',\n",
       "  'born',\n",
       "  'with',\n",
       "  'no',\n",
       "  'name',\n",
       "  'of',\n",
       "  'their',\n",
       "  'own'],\n",
       " ['their', 'father', 'understood', 'as', 'well'],\n",
       " ['you', 'want', 'no', 'pup', 'for', 'yourself', 'jon'],\n",
       " ['he', 'asked', 'softly'],\n",
       " ['the',\n",
       "  'direwolf',\n",
       "  'graces',\n",
       "  'the',\n",
       "  'banners',\n",
       "  'of',\n",
       "  'house',\n",
       "  'stark',\n",
       "  'jon',\n",
       "  'pointed',\n",
       "  'out'],\n",
       " ['am', 'no', 'stark', 'father'],\n",
       " ['their', 'lord', 'father', 'regarded', 'jon', 'thoughtfully'],\n",
       " ['robb', 'rushed', 'into', 'the', 'silence', 'he', 'left'],\n",
       " ['will', 'nurse', 'him', 'myself', 'father', 'he', 'promised'],\n",
       " ['will',\n",
       "  'soak',\n",
       "  'towel',\n",
       "  'with',\n",
       "  'warm',\n",
       "  'milk',\n",
       "  'and',\n",
       "  'give',\n",
       "  'him',\n",
       "  'suck',\n",
       "  'from',\n",
       "  'that'],\n",
       " ['me', 'too'],\n",
       " ['bran', 'echoed'],\n",
       " ['the',\n",
       "  'lord',\n",
       "  'weighed',\n",
       "  'his',\n",
       "  'sons',\n",
       "  'long',\n",
       "  'and',\n",
       "  'carefully',\n",
       "  'with',\n",
       "  'his',\n",
       "  'eyes'],\n",
       " ['easy', 'to', 'say', 'and', 'harder', 'to', 'do'],\n",
       " ['will',\n",
       "  'not',\n",
       "  'have',\n",
       "  'you',\n",
       "  'wasting',\n",
       "  'the',\n",
       "  'servants',\n",
       "  'time',\n",
       "  'with',\n",
       "  'this'],\n",
       " ['if',\n",
       "  'you',\n",
       "  'want',\n",
       "  'these',\n",
       "  'pups',\n",
       "  'you',\n",
       "  'will',\n",
       "  'feed',\n",
       "  'them',\n",
       "  'yourselves'],\n",
       " ['is', 'that', 'understood'],\n",
       " ['bran', 'nodded', 'eagerly'],\n",
       " ['the',\n",
       "  'pup',\n",
       "  'squirmed',\n",
       "  'in',\n",
       "  'his',\n",
       "  'grasp',\n",
       "  'licked',\n",
       "  'at',\n",
       "  'his',\n",
       "  'face',\n",
       "  'with',\n",
       "  'warm',\n",
       "  'tongue'],\n",
       " ['you', 'must', 'train', 'them', 'as', 'well', 'their', 'father', 'said'],\n",
       " ['you', 'must', 'train', 'them'],\n",
       " ['the',\n",
       "  'kennelmaster',\n",
       "  'will',\n",
       "  'have',\n",
       "  'nothing',\n",
       "  'to',\n",
       "  'do',\n",
       "  'with',\n",
       "  'these',\n",
       "  'monsters',\n",
       "  'promise',\n",
       "  'you',\n",
       "  'that'],\n",
       " ['and',\n",
       "  'the',\n",
       "  'gods',\n",
       "  'help',\n",
       "  'you',\n",
       "  'if',\n",
       "  'you',\n",
       "  'neglect',\n",
       "  'them',\n",
       "  'or',\n",
       "  'brutalize',\n",
       "  'them',\n",
       "  'or',\n",
       "  'train',\n",
       "  'them',\n",
       "  'badly'],\n",
       " ['these',\n",
       "  'are',\n",
       "  'not',\n",
       "  'dogs',\n",
       "  'to',\n",
       "  'beg',\n",
       "  'for',\n",
       "  'treats',\n",
       "  'and',\n",
       "  'slink',\n",
       "  'off',\n",
       "  'at',\n",
       "  'kick'],\n",
       " ['direwolf',\n",
       "  'will',\n",
       "  'rip',\n",
       "  'page',\n",
       "  'man',\n",
       "  'arm',\n",
       "  'off',\n",
       "  'his',\n",
       "  'shoulder',\n",
       "  'as',\n",
       "  'easily',\n",
       "  'as',\n",
       "  'dog',\n",
       "  'will',\n",
       "  'kill',\n",
       "  'rat'],\n",
       " ['are', 'you', 'sure', 'you', 'want', 'this'],\n",
       " ['yes', 'father', 'bran', 'said'],\n",
       " ['yes', 'robb', 'agreed'],\n",
       " ['the', 'pups', 'may', 'die', 'anyway', 'despite', 'all', 'you', 'do'],\n",
       " ['they', 'won', 'die', 'robb', 'said'],\n",
       " ['we', 'won', 'let', 'them', 'die'],\n",
       " ['keep', 'them', 'then'],\n",
       " ['jory', 'desmond', 'gather', 'up', 'the', 'other', 'pups'],\n",
       " ['it', 'time', 'we', 'were', 'back', 'to', 'winterfell'],\n",
       " ['it',\n",
       "  'was',\n",
       "  'not',\n",
       "  'until',\n",
       "  'they',\n",
       "  'were',\n",
       "  'mounted',\n",
       "  'and',\n",
       "  'on',\n",
       "  'their',\n",
       "  'way',\n",
       "  'that',\n",
       "  'bran',\n",
       "  'allowed',\n",
       "  'himself',\n",
       "  'to',\n",
       "  'taste',\n",
       "  'the',\n",
       "  'sweet',\n",
       "  'air',\n",
       "  'of',\n",
       "  'victory'],\n",
       " ['by',\n",
       "  'then',\n",
       "  'his',\n",
       "  'pup',\n",
       "  'was',\n",
       "  'snuggled',\n",
       "  'inside',\n",
       "  'his',\n",
       "  'leathers',\n",
       "  'warm',\n",
       "  'against',\n",
       "  'him',\n",
       "  'safe',\n",
       "  'for',\n",
       "  'the',\n",
       "  'long',\n",
       "  'ride',\n",
       "  'home'],\n",
       " ['bran', 'was', 'wondering', 'what', 'to', 'name', 'him'],\n",
       " ['halfway', 'across', 'the', 'bridge', 'jon', 'pulled', 'up', 'suddenly'],\n",
       " ['what', 'is', 'it', 'jon'],\n",
       " ['their', 'lord', 'father', 'asked'],\n",
       " ['can', 'you', 'hear', 'it'],\n",
       " ['bran',\n",
       "  'could',\n",
       "  'hear',\n",
       "  'the',\n",
       "  'wind',\n",
       "  'in',\n",
       "  'the',\n",
       "  'trees',\n",
       "  'the',\n",
       "  'clatter',\n",
       "  'of',\n",
       "  'their',\n",
       "  'hooves',\n",
       "  'on',\n",
       "  'the',\n",
       "  'ironwood',\n",
       "  'planks',\n",
       "  'the',\n",
       "  'whimpering',\n",
       "  'of',\n",
       "  'his',\n",
       "  'hungry',\n",
       "  'pup',\n",
       "  'but',\n",
       "  'jon',\n",
       "  'was',\n",
       "  'listening',\n",
       "  'to',\n",
       "  'something',\n",
       "  'else'],\n",
       " ['there', 'jon', 'said'],\n",
       " ['he',\n",
       "  'swung',\n",
       "  'his',\n",
       "  'horse',\n",
       "  'around',\n",
       "  'and',\n",
       "  'galloped',\n",
       "  'back',\n",
       "  'across',\n",
       "  'the',\n",
       "  'bridge'],\n",
       " ['they',\n",
       "  'watched',\n",
       "  'him',\n",
       "  'dismount',\n",
       "  'where',\n",
       "  'the',\n",
       "  'direwolf',\n",
       "  'lay',\n",
       "  'dead',\n",
       "  'in',\n",
       "  'the',\n",
       "  'snow',\n",
       "  'watched',\n",
       "  'him',\n",
       "  'kneel'],\n",
       " ['moment', 'later', 'he', 'was', 'riding', 'back', 'to', 'them', 'smiling'],\n",
       " ['he',\n",
       "  'must',\n",
       "  'have',\n",
       "  'crawled',\n",
       "  'away',\n",
       "  'from',\n",
       "  'the',\n",
       "  'others',\n",
       "  'jon',\n",
       "  'said'],\n",
       " ['or',\n",
       "  'been',\n",
       "  'driven',\n",
       "  'away',\n",
       "  'their',\n",
       "  'father',\n",
       "  'said',\n",
       "  'looking',\n",
       "  'at',\n",
       "  'the',\n",
       "  'sixth',\n",
       "  'pup'],\n",
       " ['his',\n",
       "  'fur',\n",
       "  'was',\n",
       "  'white',\n",
       "  'where',\n",
       "  'the',\n",
       "  'rest',\n",
       "  'of',\n",
       "  'the',\n",
       "  'litter',\n",
       "  'was',\n",
       "  'grey'],\n",
       " ['his',\n",
       "  'eyes',\n",
       "  'were',\n",
       "  'as',\n",
       "  'red',\n",
       "  'as',\n",
       "  'the',\n",
       "  'blood',\n",
       "  'of',\n",
       "  'the',\n",
       "  'ragged',\n",
       "  'man',\n",
       "  'who',\n",
       "  'had',\n",
       "  'died',\n",
       "  'that',\n",
       "  'morning'],\n",
       " ['bran',\n",
       "  'thought',\n",
       "  'it',\n",
       "  'curious',\n",
       "  'that',\n",
       "  'this',\n",
       "  'pup',\n",
       "  'alone',\n",
       "  'would',\n",
       "  'have',\n",
       "  'opened',\n",
       "  'his',\n",
       "  'eyes',\n",
       "  'while',\n",
       "  'the',\n",
       "  'others',\n",
       "  'were',\n",
       "  'still',\n",
       "  'blind'],\n",
       " ['an', 'albino', 'theon', 'greyjoy', 'said', 'with', 'wry', 'amusement'],\n",
       " ['this', 'one', 'will', 'die', 'even', 'faster', 'than', 'the', 'others'],\n",
       " ['jon', 'snow', 'gave', 'his', 'father', 'ward', 'long', 'chilling', 'look'],\n",
       " ['think', 'not', 'greyjoy', 'he', 'said'],\n",
       " ['this', 'one', 'belongs', 'to', 'me'],\n",
       " ['catelyn', 'catelyn', 'had', 'never', 'liked', 'this', 'godswood'],\n",
       " ['she',\n",
       "  'had',\n",
       "  'been',\n",
       "  'born',\n",
       "  'tully',\n",
       "  'at',\n",
       "  'riverrun',\n",
       "  'far',\n",
       "  'to',\n",
       "  'the',\n",
       "  'south',\n",
       "  'on',\n",
       "  'the',\n",
       "  'red',\n",
       "  'fork',\n",
       "  'of',\n",
       "  'the',\n",
       "  'trident'],\n",
       " ['the',\n",
       "  'godswood',\n",
       "  'there',\n",
       "  'was',\n",
       "  'garden',\n",
       "  'bright',\n",
       "  'and',\n",
       "  'airy',\n",
       "  'where',\n",
       "  'tall',\n",
       "  'redwoods',\n",
       "  'spread',\n",
       "  'dappled',\n",
       "  'shadows',\n",
       "  'across',\n",
       "  'tinkling',\n",
       "  'streams',\n",
       "  'birds',\n",
       "  'sang',\n",
       "  'from',\n",
       "  'hidden',\n",
       "  'nests',\n",
       "  'and',\n",
       "  'the',\n",
       "  'air',\n",
       "  'was',\n",
       "  'spicy',\n",
       "  'with',\n",
       "  'the',\n",
       "  'scent',\n",
       "  'of',\n",
       "  'flowers'],\n",
       " ['page',\n",
       "  'the',\n",
       "  'gods',\n",
       "  'of',\n",
       "  'winterfell',\n",
       "  'kept',\n",
       "  'different',\n",
       "  'sort',\n",
       "  'of',\n",
       "  'wood'],\n",
       " ['it',\n",
       "  'was',\n",
       "  'dark',\n",
       "  'primal',\n",
       "  'place',\n",
       "  'three',\n",
       "  'acres',\n",
       "  'of',\n",
       "  'old',\n",
       "  'forest',\n",
       "  'untouched',\n",
       "  'for',\n",
       "  'ten',\n",
       "  'thousand',\n",
       "  'years',\n",
       "  'as',\n",
       "  'the',\n",
       "  'gloomy',\n",
       "  'castle',\n",
       "  'rose',\n",
       "  'around',\n",
       "  'it'],\n",
       " ['it', 'smelled', 'of', 'moist', 'earth', 'and', 'decay'],\n",
       " ['no', 'redwoods', 'grew', 'here'],\n",
       " ['this',\n",
       "  'was',\n",
       "  'wood',\n",
       "  'of',\n",
       "  'stubborn',\n",
       "  'sentinel',\n",
       "  'trees',\n",
       "  'armored',\n",
       "  'in',\n",
       "  'grey',\n",
       "  'green',\n",
       "  'needles',\n",
       "  'of',\n",
       "  'mighty',\n",
       "  'oaks',\n",
       "  'of',\n",
       "  'ironwoods',\n",
       "  'as',\n",
       "  'old',\n",
       "  'as',\n",
       "  'the',\n",
       "  'realm',\n",
       "  'itself'],\n",
       " ['here',\n",
       "  'thick',\n",
       "  'black',\n",
       "  'trunks',\n",
       "  'crowded',\n",
       "  'close',\n",
       "  'together',\n",
       "  'while',\n",
       "  'twisted',\n",
       "  'branches',\n",
       "  'wove',\n",
       "  'dense',\n",
       "  'canopy',\n",
       "  'overhead',\n",
       "  'and',\n",
       "  'misshappen',\n",
       "  'roots',\n",
       "  'wrestled',\n",
       "  'beneath',\n",
       "  'the',\n",
       "  'soil'],\n",
       " ['this',\n",
       "  'was',\n",
       "  'place',\n",
       "  'of',\n",
       "  'deep',\n",
       "  'silence',\n",
       "  'and',\n",
       "  'brooding',\n",
       "  'shadows',\n",
       "  'and',\n",
       "  'the',\n",
       "  'gods',\n",
       "  'who',\n",
       "  'lived',\n",
       "  'here',\n",
       "  'had',\n",
       "  'no',\n",
       "  'names'],\n",
       " ['but',\n",
       "  'she',\n",
       "  'knew',\n",
       "  'she',\n",
       "  'would',\n",
       "  'find',\n",
       "  'her',\n",
       "  'husband',\n",
       "  'here',\n",
       "  'tonight'],\n",
       " ['whenever',\n",
       "  'he',\n",
       "  'took',\n",
       "  'man',\n",
       "  'life',\n",
       "  'afterward',\n",
       "  'he',\n",
       "  'would',\n",
       "  'seek',\n",
       "  'the',\n",
       "  'quiet',\n",
       "  'of',\n",
       "  'the',\n",
       "  'godswood'],\n",
       " ['catelyn',\n",
       "  'had',\n",
       "  'been',\n",
       "  'anointed',\n",
       "  'with',\n",
       "  'the',\n",
       "  'seven',\n",
       "  'oils',\n",
       "  'and',\n",
       "  'named',\n",
       "  'in',\n",
       "  'the',\n",
       "  'rainbow',\n",
       "  'of',\n",
       "  'light',\n",
       "  'that',\n",
       "  'filled',\n",
       "  'the',\n",
       "  'sept',\n",
       "  'of',\n",
       "  'riverrun'],\n",
       " ['she',\n",
       "  'was',\n",
       "  'of',\n",
       "  'the',\n",
       "  'faith',\n",
       "  'like',\n",
       "  'her',\n",
       "  'father',\n",
       "  'and',\n",
       "  'grandfather',\n",
       "  'and',\n",
       "  'his',\n",
       "  'father',\n",
       "  'before',\n",
       "  'him'],\n",
       " ['her',\n",
       "  'gods',\n",
       "  'had',\n",
       "  'names',\n",
       "  'and',\n",
       "  'their',\n",
       "  'faces',\n",
       "  'were',\n",
       "  'as',\n",
       "  'familiar',\n",
       "  'as',\n",
       "  'the',\n",
       "  'faces',\n",
       "  'of',\n",
       "  'her',\n",
       "  'parents'],\n",
       " ['worship',\n",
       "  'was',\n",
       "  'septon',\n",
       "  'with',\n",
       "  'censer',\n",
       "  'the',\n",
       "  'smell',\n",
       "  'of',\n",
       "  'incense',\n",
       "  'seven',\n",
       "  'sided',\n",
       "  'crystal',\n",
       "  'alive',\n",
       "  'with',\n",
       "  'light',\n",
       "  'voices',\n",
       "  'raised',\n",
       "  'in',\n",
       "  'song'],\n",
       " ['the',\n",
       "  'tullys',\n",
       "  'kept',\n",
       "  'godswood',\n",
       "  'as',\n",
       "  'all',\n",
       "  'the',\n",
       "  'great',\n",
       "  'houses',\n",
       "  'did',\n",
       "  'but',\n",
       "  'it',\n",
       "  'was',\n",
       "  'only',\n",
       "  'place',\n",
       "  'to',\n",
       "  'walk',\n",
       "  'or',\n",
       "  'read',\n",
       "  'or',\n",
       "  'lie',\n",
       "  'in',\n",
       "  'the',\n",
       "  'sun'],\n",
       " ['worship',\n",
       "  'was',\n",
       "  'for',\n",
       "  'the',\n",
       "  'sept',\n",
       "  'for',\n",
       "  'her',\n",
       "  'sake',\n",
       "  'ned',\n",
       "  'had',\n",
       "  'built',\n",
       "  'small',\n",
       "  'sept',\n",
       "  'where',\n",
       "  'she',\n",
       "  'might',\n",
       "  'sing',\n",
       "  'to',\n",
       "  'the',\n",
       "  'seven',\n",
       "  'faces',\n",
       "  'of',\n",
       "  'god',\n",
       "  'but',\n",
       "  'the',\n",
       "  'blood',\n",
       "  'of',\n",
       "  'the',\n",
       "  'first',\n",
       "  'men',\n",
       "  'still',\n",
       "  'flowed',\n",
       "  'in',\n",
       "  'the',\n",
       "  'veins',\n",
       "  'of',\n",
       "  'the',\n",
       "  'starks',\n",
       "  'and',\n",
       "  'his',\n",
       "  'own',\n",
       "  'gods',\n",
       "  'were',\n",
       "  'the',\n",
       "  'old',\n",
       "  'ones',\n",
       "  'the',\n",
       "  'nameless',\n",
       "  'faceless',\n",
       "  'gods',\n",
       "  'of',\n",
       "  'the',\n",
       "  'greenwood',\n",
       "  'they',\n",
       "  'shared',\n",
       "  'with',\n",
       "  'the',\n",
       "  'vanished',\n",
       "  'children',\n",
       "  'of',\n",
       "  'the',\n",
       "  'forest'],\n",
       " ['at',\n",
       "  'the',\n",
       "  'center',\n",
       "  'of',\n",
       "  'the',\n",
       "  'grove',\n",
       "  'an',\n",
       "  'ancient',\n",
       "  'weirwood',\n",
       "  'brooded',\n",
       "  'over',\n",
       "  'small',\n",
       "  'pool',\n",
       "  'where',\n",
       "  'the',\n",
       "  'waters',\n",
       "  'were',\n",
       "  'black',\n",
       "  'and',\n",
       "  'cold'],\n",
       " ['the', 'heart', 'tree', 'ned', 'called', 'it'],\n",
       " ['the',\n",
       "  'weirwood',\n",
       "  'bark',\n",
       "  'was',\n",
       "  'white',\n",
       "  'as',\n",
       "  'bone',\n",
       "  'its',\n",
       "  'leaves',\n",
       "  'dark',\n",
       "  'red',\n",
       "  'like',\n",
       "  'thousand',\n",
       "  'bloodstained',\n",
       "  'hands'],\n",
       " ['face',\n",
       "  'had',\n",
       "  'been',\n",
       "  'carved',\n",
       "  'in',\n",
       "  'the',\n",
       "  'trunk',\n",
       "  'of',\n",
       "  'the',\n",
       "  'great',\n",
       "  'tree',\n",
       "  'its',\n",
       "  'features',\n",
       "  'long',\n",
       "  'and',\n",
       "  'melancholy',\n",
       "  'the',\n",
       "  'deep',\n",
       "  'cut',\n",
       "  'eyes',\n",
       "  'red',\n",
       "  'with',\n",
       "  'dried',\n",
       "  'sap',\n",
       "  'and',\n",
       "  'strangely',\n",
       "  'watchful'],\n",
       " ['they',\n",
       "  'were',\n",
       "  'old',\n",
       "  'those',\n",
       "  'eyes',\n",
       "  'older',\n",
       "  'than',\n",
       "  'winterfell',\n",
       "  'itself'],\n",
       " ['they',\n",
       "  'had',\n",
       "  'seen',\n",
       "  'brandon',\n",
       "  'the',\n",
       "  'builder',\n",
       "  'set',\n",
       "  'the',\n",
       "  'first',\n",
       "  'stone',\n",
       "  'if',\n",
       "  'the',\n",
       "  'tales',\n",
       "  'were',\n",
       "  'true',\n",
       "  'they',\n",
       "  'had',\n",
       "  'watched',\n",
       "  'the',\n",
       "  'castle',\n",
       "  'granite',\n",
       "  'walls',\n",
       "  'rise',\n",
       "  'around',\n",
       "  'them'],\n",
       " ['it',\n",
       "  'was',\n",
       "  'said',\n",
       "  'that',\n",
       "  'the',\n",
       "  'children',\n",
       "  'of',\n",
       "  'the',\n",
       "  'forest',\n",
       "  'had',\n",
       "  'carved',\n",
       "  'the',\n",
       "  'faces',\n",
       "  'in',\n",
       "  'the',\n",
       "  'trees',\n",
       "  'during',\n",
       "  'the',\n",
       "  'dawn',\n",
       "  'centuries',\n",
       "  'before',\n",
       "  'the',\n",
       "  'coming',\n",
       "  'of',\n",
       "  'the',\n",
       "  'first',\n",
       "  'men',\n",
       "  'across',\n",
       "  'the',\n",
       "  'narrow',\n",
       "  'sea'],\n",
       " ['in',\n",
       "  'the',\n",
       "  'south',\n",
       "  'the',\n",
       "  'last',\n",
       "  'weirwoods',\n",
       "  'had',\n",
       "  'been',\n",
       "  'cut',\n",
       "  'down',\n",
       "  'or',\n",
       "  'burned',\n",
       "  'out',\n",
       "  'thousand',\n",
       "  'years',\n",
       "  'ago',\n",
       "  'except',\n",
       "  'on',\n",
       "  'the',\n",
       "  'isle',\n",
       "  'of',\n",
       "  'faces',\n",
       "  'where',\n",
       "  'the',\n",
       "  'green',\n",
       "  'men',\n",
       "  'kept',\n",
       "  'their',\n",
       "  'silent',\n",
       "  'watch'],\n",
       " ['up', 'here', 'it', 'was', 'different'],\n",
       " ['here',\n",
       "  'every',\n",
       "  'castle',\n",
       "  'had',\n",
       "  'its',\n",
       "  'godswood',\n",
       "  'and',\n",
       "  'every',\n",
       "  'godswood',\n",
       "  'had',\n",
       "  'its',\n",
       "  'heart',\n",
       "  'tree',\n",
       "  'and',\n",
       "  'every',\n",
       "  'heart',\n",
       "  'tree',\n",
       "  'its',\n",
       "  'face'],\n",
       " ['catelyn',\n",
       "  'found',\n",
       "  'her',\n",
       "  'husband',\n",
       "  'beneath',\n",
       "  'the',\n",
       "  'weirwood',\n",
       "  'seated',\n",
       "  'on',\n",
       "  'moss',\n",
       "  'covered',\n",
       "  'stone'],\n",
       " ['the',\n",
       "  'greatsword',\n",
       "  'ice',\n",
       "  'was',\n",
       "  'across',\n",
       "  'his',\n",
       "  'lap',\n",
       "  'and',\n",
       "  'he',\n",
       "  'was',\n",
       "  'cleaning',\n",
       "  'the',\n",
       "  'blade',\n",
       "  'in',\n",
       "  'those',\n",
       "  'waters',\n",
       "  'black',\n",
       "  'as',\n",
       "  'night'],\n",
       " ['thousand',\n",
       "  'years',\n",
       "  'of',\n",
       "  'humus',\n",
       "  'lay',\n",
       "  'thick',\n",
       "  'upon',\n",
       "  'the',\n",
       "  'godswood',\n",
       "  'floor',\n",
       "  'swallowing',\n",
       "  'the',\n",
       "  'sound',\n",
       "  'of',\n",
       "  'her',\n",
       "  'feet',\n",
       "  'but',\n",
       "  'the',\n",
       "  'red',\n",
       "  'eyes',\n",
       "  'of',\n",
       "  'the',\n",
       "  'weirwood',\n",
       "  'seemed',\n",
       "  'to',\n",
       "  'follow',\n",
       "  'her',\n",
       "  'as',\n",
       "  'she',\n",
       "  'came'],\n",
       " ['ned', 'she', 'called', 'softly'],\n",
       " ['he', 'lifted', 'his', 'head', 'to', 'look', 'at', 'her'],\n",
       " ['catelyn', 'he', 'said'],\n",
       " ['his', 'voice', 'was', 'distant', 'and', 'formal'],\n",
       " ['where', 'are', 'the', 'children'],\n",
       " ['he', 'would', 'always', 'ask', 'her', 'that'],\n",
       " ['in',\n",
       "  'the',\n",
       "  'kitchen',\n",
       "  'arguing',\n",
       "  'about',\n",
       "  'names',\n",
       "  'for',\n",
       "  'the',\n",
       "  'wolf',\n",
       "  'pups'],\n",
       " ['she',\n",
       "  'spread',\n",
       "  'her',\n",
       "  'cloak',\n",
       "  'on',\n",
       "  'the',\n",
       "  'forest',\n",
       "  'floor',\n",
       "  'and',\n",
       "  'sat',\n",
       "  'beside',\n",
       "  'the',\n",
       "  'pool',\n",
       "  'her',\n",
       "  'back',\n",
       "  'to',\n",
       "  'the',\n",
       "  'weirwood'],\n",
       " ['she',\n",
       "  'could',\n",
       "  'feel',\n",
       "  'the',\n",
       "  'eyes',\n",
       "  'watching',\n",
       "  'her',\n",
       "  'but',\n",
       "  'she',\n",
       "  'did',\n",
       "  'her',\n",
       "  'best',\n",
       "  'to',\n",
       "  'ignore',\n",
       "  'them'],\n",
       " ['arya',\n",
       "  'is',\n",
       "  'already',\n",
       "  'in',\n",
       "  'love',\n",
       "  'and',\n",
       "  'sansa',\n",
       "  'is',\n",
       "  'charmed',\n",
       "  'and',\n",
       "  'gracious',\n",
       "  'but',\n",
       "  'rickon',\n",
       "  'is',\n",
       "  'not',\n",
       "  'quite',\n",
       "  'sure'],\n",
       " ['is', 'he', 'afraid'],\n",
       " ['ned', 'asked'],\n",
       " ['page', 'little', 'she', 'admitted'],\n",
       " ['he', 'is', 'only', 'three'],\n",
       " ['ned', 'frowned'],\n",
       " ['he', 'must', 'learn', 'to', 'face', 'his', 'fears'],\n",
       " ['he', 'will', 'not', 'be', 'three', 'forever'],\n",
       " ['and', 'winter', 'is', 'coming'],\n",
       " ['yes', 'catelyn', 'agreed'],\n",
       " ['the', 'words', 'gave', 'her', 'chill', 'as', 'they', 'always', 'did'],\n",
       " ['the', 'stark', 'words'],\n",
       " ['every', 'noble', 'house', 'had', 'its', 'words'],\n",
       " ['family',\n",
       "  'mottoes',\n",
       "  'touchstones',\n",
       "  'prayers',\n",
       "  'of',\n",
       "  'sorts',\n",
       "  'they',\n",
       "  'boasted',\n",
       "  'of',\n",
       "  'honor',\n",
       "  'and',\n",
       "  'glory',\n",
       "  'promised',\n",
       "  'loyalty',\n",
       "  'and',\n",
       "  'truth',\n",
       "  'swore',\n",
       "  'faith',\n",
       "  'and',\n",
       "  'courage'],\n",
       " ['all', 'but', 'the', 'starks'],\n",
       " ['winter', 'is', 'coming', 'said', 'the', 'stark', 'words'],\n",
       " ['not',\n",
       "  'for',\n",
       "  'the',\n",
       "  'first',\n",
       "  'time',\n",
       "  'she',\n",
       "  'reflected',\n",
       "  'on',\n",
       "  'what',\n",
       "  'strange',\n",
       "  'people',\n",
       "  'these',\n",
       "  'northerners',\n",
       "  'were'],\n",
       " ['the', 'man', 'died', 'well', 'll', 'give', 'him', 'that', 'ned', 'said'],\n",
       " ['he', 'had', 'swatch', 'of', 'oiled', 'leather', 'in', 'one', 'hand'],\n",
       " ['he',\n",
       "  'ran',\n",
       "  'it',\n",
       "  'lightly',\n",
       "  'up',\n",
       "  'the',\n",
       "  'greatsword',\n",
       "  'as',\n",
       "  'he',\n",
       "  'spoke',\n",
       "  'polishing',\n",
       "  'the',\n",
       "  'metal',\n",
       "  'to',\n",
       "  'dark',\n",
       "  'glow'],\n",
       " ['was', 'glad', 'for', 'bran', 'sake'],\n",
       " ['you', 'would', 'have', 'been', 'proud', 'of', 'bran'],\n",
       " ['am',\n",
       "  'always',\n",
       "  'proud',\n",
       "  'of',\n",
       "  'bran',\n",
       "  'catelyn',\n",
       "  'replied',\n",
       "  'watching',\n",
       "  'the',\n",
       "  'sword',\n",
       "  'as',\n",
       "  'he',\n",
       "  'stroked',\n",
       "  'it'],\n",
       " ['she',\n",
       "  'could',\n",
       "  'see',\n",
       "  'the',\n",
       "  'rippling',\n",
       "  'deep',\n",
       "  'within',\n",
       "  'the',\n",
       "  'steel',\n",
       "  'where',\n",
       "  'the',\n",
       "  'metal',\n",
       "  'had',\n",
       "  'been',\n",
       "  'folded',\n",
       "  'back',\n",
       "  'on',\n",
       "  'itself',\n",
       "  'hundred',\n",
       "  'times',\n",
       "  'in',\n",
       "  'the',\n",
       "  'forging'],\n",
       " ['catelyn',\n",
       "  'had',\n",
       "  'no',\n",
       "  'love',\n",
       "  'for',\n",
       "  'swords',\n",
       "  'but',\n",
       "  'she',\n",
       "  'could',\n",
       "  'not',\n",
       "  'deny',\n",
       "  'that',\n",
       "  'ice',\n",
       "  'had',\n",
       "  'its',\n",
       "  'own',\n",
       "  'beauty'],\n",
       " ['it',\n",
       "  'had',\n",
       "  'been',\n",
       "  'forged',\n",
       "  'in',\n",
       "  'valyria',\n",
       "  'before',\n",
       "  'the',\n",
       "  'doom',\n",
       "  'had',\n",
       "  'come',\n",
       "  'to',\n",
       "  'the',\n",
       "  'old',\n",
       "  'freehold',\n",
       "  'when',\n",
       "  'the',\n",
       "  'ironsmiths',\n",
       "  'had',\n",
       "  'worked',\n",
       "  'their',\n",
       "  'metal',\n",
       "  'with',\n",
       "  'spells',\n",
       "  'as',\n",
       "  'well',\n",
       "  'as',\n",
       "  'hammers'],\n",
       " ['four',\n",
       "  'hundred',\n",
       "  'years',\n",
       "  'old',\n",
       "  'it',\n",
       "  'was',\n",
       "  'and',\n",
       "  'as',\n",
       "  'sharp',\n",
       "  'as',\n",
       "  'the',\n",
       "  'day',\n",
       "  'it',\n",
       "  'was',\n",
       "  'forged'],\n",
       " ['the',\n",
       "  'name',\n",
       "  'it',\n",
       "  'bore',\n",
       "  'was',\n",
       "  'older',\n",
       "  'still',\n",
       "  'legacy',\n",
       "  'from',\n",
       "  'the',\n",
       "  'age',\n",
       "  'of',\n",
       "  'heroes',\n",
       "  'when',\n",
       "  'the',\n",
       "  'starks',\n",
       "  'were',\n",
       "  'kings',\n",
       "  'in',\n",
       "  'the',\n",
       "  'north'],\n",
       " ['he', 'was', 'the', 'fourth', 'this', 'year', 'ned', 'said', 'grimly'],\n",
       " ['the', 'poor', 'man', 'was', 'half', 'mad'],\n",
       " ['something',\n",
       "  'had',\n",
       "  'put',\n",
       "  'fear',\n",
       "  'in',\n",
       "  'him',\n",
       "  'so',\n",
       "  'deep',\n",
       "  'that',\n",
       "  'my',\n",
       "  'words',\n",
       "  'could',\n",
       "  'not',\n",
       "  'reach',\n",
       "  'him'],\n",
       " ['he', 'sighed'],\n",
       " ['ben',\n",
       "  'writes',\n",
       "  'that',\n",
       "  'the',\n",
       "  'strength',\n",
       "  'of',\n",
       "  'the',\n",
       "  'night',\n",
       "  'watch',\n",
       "  'is',\n",
       "  'down',\n",
       "  'below',\n",
       "  'thousand'],\n",
       " ['it', 'not', 'only', 'desertions'],\n",
       " ['they', 'are', 'losing', 'men', 'on', 'rangings', 'as', 'well'],\n",
       " ['is', 'it', 'the', 'wildlings'],\n",
       " ['she', 'asked'],\n",
       " ['who', 'else'],\n",
       " ['ned',\n",
       "  'lifted',\n",
       "  'ice',\n",
       "  'looked',\n",
       "  'down',\n",
       "  'the',\n",
       "  'cool',\n",
       "  'steel',\n",
       "  'length',\n",
       "  'of',\n",
       "  'it'],\n",
       " ['and', 'it', 'will', 'only', 'grow', 'worse'],\n",
       " ['the',\n",
       "  'day',\n",
       "  'may',\n",
       "  'come',\n",
       "  'when',\n",
       "  'will',\n",
       "  'have',\n",
       "  'no',\n",
       "  'choice',\n",
       "  'but',\n",
       "  'to',\n",
       "  'call',\n",
       "  'the',\n",
       "  'banners',\n",
       "  'and',\n",
       "  'ride',\n",
       "  'north',\n",
       "  'to',\n",
       "  'deal',\n",
       "  'with',\n",
       "  'this',\n",
       "  'kingbeyond',\n",
       "  'the',\n",
       "  'wall',\n",
       "  'for',\n",
       "  'good',\n",
       "  'and',\n",
       "  'all'],\n",
       " ['beyond', 'the', 'wall'],\n",
       " ['the', 'thought', 'made', 'catelyn', 'shudder'],\n",
       " ['ned', 'saw', 'the', 'dread', 'on', 'her', 'face'],\n",
       " ['mance', 'rayder', 'is', 'nothing', 'for', 'us', 'to', 'fear'],\n",
       " ['there', 'are', 'darker', 'things', 'beyond', 'the', 'wall'],\n",
       " ['she',\n",
       "  'glanced',\n",
       "  'behind',\n",
       "  'her',\n",
       "  'at',\n",
       "  'the',\n",
       "  'heart',\n",
       "  'tree',\n",
       "  'the',\n",
       "  'pale',\n",
       "  'bark',\n",
       "  'and',\n",
       "  'red',\n",
       "  'eyes',\n",
       "  'watching',\n",
       "  'listening',\n",
       "  'thinking',\n",
       "  'its',\n",
       "  'long',\n",
       "  'slow',\n",
       "  'thoughts'],\n",
       " ['his', 'smile', 'was', 'gentle'],\n",
       " ['you', 'listen', 'to', 'too', 'many', 'of', 'old', 'nan', 'stories'],\n",
       " ['the',\n",
       "  'others',\n",
       "  'are',\n",
       "  'as',\n",
       "  'dead',\n",
       "  'as',\n",
       "  'the',\n",
       "  'children',\n",
       "  'of',\n",
       "  'the',\n",
       "  'forest',\n",
       "  'gone',\n",
       "  'eight',\n",
       "  'thousand',\n",
       "  'years'],\n",
       " ['maester',\n",
       "  'luwin',\n",
       "  'will',\n",
       "  'tell',\n",
       "  'you',\n",
       "  'they',\n",
       "  'never',\n",
       "  'lived',\n",
       "  'at',\n",
       "  'all'],\n",
       " ['no', 'living', 'man', 'has', 'ever', 'seen', 'one'],\n",
       " ['until',\n",
       "  'this',\n",
       "  'morning',\n",
       "  'no',\n",
       "  'living',\n",
       "  'man',\n",
       "  'had',\n",
       "  'ever',\n",
       "  'seen',\n",
       "  'direwolf',\n",
       "  'either',\n",
       "  'catelyn',\n",
       "  'reminded',\n",
       "  'him'],\n",
       " ['ought',\n",
       "  'to',\n",
       "  'know',\n",
       "  'better',\n",
       "  'than',\n",
       "  'to',\n",
       "  'argue',\n",
       "  'with',\n",
       "  'tully',\n",
       "  'he',\n",
       "  'said',\n",
       "  'with',\n",
       "  'rueful',\n",
       "  'smile'],\n",
       " ['he', 'slid', 'ice', 'back', 'into', 'its', 'sheath'],\n",
       " ['you', 'did', 'not', 'come', 'here', 'to', 'tell', 'me', 'crib', 'tales'],\n",
       " ['know', 'how', 'little', 'you', 'like', 'this', 'place'],\n",
       " ['what', 'is', 'it', 'my', 'lady'],\n",
       " ['catelyn', 'took', 'her', 'husband', 'hand'],\n",
       " ['there', 'was', 'grievous', 'news', 'today', 'my', 'lord'],\n",
       " ['did',\n",
       "  'not',\n",
       "  'wish',\n",
       "  'to',\n",
       "  'trouble',\n",
       "  'you',\n",
       "  'until',\n",
       "  'you',\n",
       "  'had',\n",
       "  'cleansed',\n",
       "  'yourself'],\n",
       " ['there',\n",
       "  'was',\n",
       "  'no',\n",
       "  'way',\n",
       "  'to',\n",
       "  'soften',\n",
       "  'the',\n",
       "  'blow',\n",
       "  'so',\n",
       "  'she',\n",
       "  'told',\n",
       "  'him',\n",
       "  'straight'],\n",
       " ['am', 'page', 'so', 'sorry', 'my', 'love'],\n",
       " ['jon', 'arryn', 'is', 'dead'],\n",
       " ['his',\n",
       "  'eyes',\n",
       "  'found',\n",
       "  'hers',\n",
       "  'and',\n",
       "  'she',\n",
       "  'could',\n",
       "  'see',\n",
       "  'how',\n",
       "  'hard',\n",
       "  'it',\n",
       "  'took',\n",
       "  'him',\n",
       "  'as',\n",
       "  'she',\n",
       "  'had',\n",
       "  'known',\n",
       "  'it',\n",
       "  'would'],\n",
       " ['in',\n",
       "  'his',\n",
       "  'youth',\n",
       "  'ned',\n",
       "  'had',\n",
       "  'fostered',\n",
       "  'at',\n",
       "  'the',\n",
       "  'eyrie',\n",
       "  'and',\n",
       "  'the',\n",
       "  'childless',\n",
       "  'lord',\n",
       "  'arryn',\n",
       "  'had',\n",
       "  'become',\n",
       "  'second',\n",
       "  'father',\n",
       "  'to',\n",
       "  'him',\n",
       "  'and',\n",
       "  'his',\n",
       "  'fellow',\n",
       "  'ward',\n",
       "  'robert',\n",
       "  'baratheon'],\n",
       " ['when',\n",
       "  'the',\n",
       "  'mad',\n",
       "  'king',\n",
       "  'aerys',\n",
       "  'targaryen',\n",
       "  'had',\n",
       "  'demanded',\n",
       "  'their',\n",
       "  'heads',\n",
       "  'the',\n",
       "  'lord',\n",
       "  'of',\n",
       "  'the',\n",
       "  'eyrie',\n",
       "  'had',\n",
       "  'raised',\n",
       "  'his',\n",
       "  'moon',\n",
       "  'and',\n",
       "  'falcon',\n",
       "  'banners',\n",
       "  'in',\n",
       "  'revolt',\n",
       "  'rather',\n",
       "  'than',\n",
       "  'give',\n",
       "  'up',\n",
       "  'those',\n",
       "  'he',\n",
       "  'had',\n",
       "  'pledged',\n",
       "  'to',\n",
       "  'protect'],\n",
       " ['and',\n",
       "  'one',\n",
       "  'day',\n",
       "  'fifteen',\n",
       "  'years',\n",
       "  'ago',\n",
       "  'this',\n",
       "  'second',\n",
       "  'father',\n",
       "  'had',\n",
       "  'become',\n",
       "  'brother',\n",
       "  'as',\n",
       "  'well',\n",
       "  'as',\n",
       "  'he',\n",
       "  'and',\n",
       "  'ned',\n",
       "  'stood',\n",
       "  'together',\n",
       "  'in',\n",
       "  'the',\n",
       "  'sept',\n",
       "  'at',\n",
       "  'riverrun',\n",
       "  'to',\n",
       "  'wed',\n",
       "  'two',\n",
       "  'sisters',\n",
       "  'the',\n",
       "  'daughters',\n",
       "  'of',\n",
       "  'lord',\n",
       "  'hoster',\n",
       "  'tully'],\n",
       " ['jon'],\n",
       " [],\n",
       " [],\n",
       " ['he', 'said'],\n",
       " ['is', 'this', 'news', 'certain'],\n",
       " ['it',\n",
       "  'was',\n",
       "  'the',\n",
       "  'king',\n",
       "  'seal',\n",
       "  'and',\n",
       "  'the',\n",
       "  'letter',\n",
       "  'is',\n",
       "  'in',\n",
       "  'robert',\n",
       "  'own',\n",
       "  'hand'],\n",
       " ['saved', 'it', 'for', 'you'],\n",
       " ['he', 'said', 'lord', 'arryn', 'was', 'taken', 'quickly'],\n",
       " ['even',\n",
       "  'maester',\n",
       "  'pycelle',\n",
       "  'was',\n",
       "  'helpless',\n",
       "  'but',\n",
       "  'he',\n",
       "  'brought',\n",
       "  'the',\n",
       "  'milk',\n",
       "  'of',\n",
       "  'the',\n",
       "  'poppy',\n",
       "  'so',\n",
       "  'jon',\n",
       "  'did',\n",
       "  'not',\n",
       "  'linger',\n",
       "  'long',\n",
       "  'in',\n",
       "  'pain'],\n",
       " ['that', 'is', 'some', 'small', 'mercy', 'suppose', 'he', 'said'],\n",
       " ['she',\n",
       "  'could',\n",
       "  'see',\n",
       "  'the',\n",
       "  'grief',\n",
       "  'on',\n",
       "  'his',\n",
       "  'face',\n",
       "  'but',\n",
       "  'even',\n",
       "  'then',\n",
       "  'he',\n",
       "  'thought',\n",
       "  'first',\n",
       "  'of',\n",
       "  'her'],\n",
       " ['your', 'sister', 'he', 'said'],\n",
       " ['and', 'jon', 'boy'],\n",
       " ['what', 'word', 'of', 'them'],\n",
       " ['the',\n",
       "  'message',\n",
       "  'said',\n",
       "  'only',\n",
       "  'that',\n",
       "  'they',\n",
       "  'were',\n",
       "  'well',\n",
       "  'and',\n",
       "  'had',\n",
       "  'returned',\n",
       "  'to',\n",
       "  'the',\n",
       "  'eyrie',\n",
       "  'catelyn',\n",
       "  'said'],\n",
       " ['wish', 'they', 'had', 'gone', 'to', 'riverrun', 'instead'],\n",
       " ['the',\n",
       "  'eyrie',\n",
       "  'is',\n",
       "  'high',\n",
       "  'and',\n",
       "  'lonely',\n",
       "  'and',\n",
       "  'it',\n",
       "  'was',\n",
       "  'ever',\n",
       "  'her',\n",
       "  'husband',\n",
       "  'place',\n",
       "  'not',\n",
       "  'hers'],\n",
       " ['lord', 'jon', 'memory', 'will', 'haunt', 'each', 'stone'],\n",
       " ['know', 'my', 'sister'],\n",
       " ['she',\n",
       "  'needs',\n",
       "  'the',\n",
       "  'comfort',\n",
       "  'of',\n",
       "  'family',\n",
       "  'and',\n",
       "  'friends',\n",
       "  'around',\n",
       "  'her'],\n",
       " ['your', 'uncle', 'waits', 'in', 'the', 'vale', 'does', 'he', 'not'],\n",
       " ['jon', 'named', 'him', 'knight', 'of', 'the', 'gate', 'heard'],\n",
       " ['catelyn', 'nodded'],\n",
       " ['brynden',\n",
       "  'will',\n",
       "  'do',\n",
       "  'what',\n",
       "  'he',\n",
       "  'can',\n",
       "  'for',\n",
       "  'her',\n",
       "  'and',\n",
       "  'for',\n",
       "  'the',\n",
       "  'boy'],\n",
       " ['that', 'is', 'some', 'comfort', 'but', 'still'],\n",
       " [],\n",
       " [],\n",
       " ['go', 'to', 'her', 'ned', 'urged'],\n",
       " ['take', 'the', 'children'],\n",
       " ['fill', 'her', 'halls', 'with', 'noise', 'and', 'shouts', 'and', 'laughter'],\n",
       " ['that',\n",
       "  'boy',\n",
       "  'of',\n",
       "  'hers',\n",
       "  'needs',\n",
       "  'other',\n",
       "  'children',\n",
       "  'about',\n",
       "  'him',\n",
       "  'and',\n",
       "  'lysa',\n",
       "  'should',\n",
       "  'not',\n",
       "  'be',\n",
       "  'alone',\n",
       "  'in',\n",
       "  'her',\n",
       "  'grief'],\n",
       " ['would', 'that', 'could', 'catelyn', 'said'],\n",
       " ['the', 'letter', 'had', 'other', 'tidings'],\n",
       " ['the',\n",
       "  'king',\n",
       "  'is',\n",
       "  'riding',\n",
       "  'to',\n",
       "  'winterfell',\n",
       "  'to',\n",
       "  'seek',\n",
       "  'you',\n",
       "  'out'],\n",
       " ['it',\n",
       "  'took',\n",
       "  'ned',\n",
       "  'moment',\n",
       "  'to',\n",
       "  'comprehend',\n",
       "  'her',\n",
       "  'words',\n",
       "  'but',\n",
       "  'when',\n",
       "  'the',\n",
       "  'understanding',\n",
       "  'came',\n",
       "  'the',\n",
       "  'darkness',\n",
       "  'left',\n",
       "  'his',\n",
       "  'eyes'],\n",
       " ['robert', 'is', 'coming', 'here'],\n",
       " ['when', 'she', 'nodded', 'smile', 'broke', 'across', 'his', 'face'],\n",
       " ['catelyn', 'wished', 'she', 'could', 'share', 'his', 'joy'],\n",
       " ['but',\n",
       "  'she',\n",
       "  'had',\n",
       "  'heard',\n",
       "  'the',\n",
       "  'talk',\n",
       "  'in',\n",
       "  'the',\n",
       "  'yards',\n",
       "  'direwolf',\n",
       "  'dead',\n",
       "  'in',\n",
       "  'the',\n",
       "  'snow',\n",
       "  'broken',\n",
       "  'antler',\n",
       "  'in',\n",
       "  'its',\n",
       "  'throat'],\n",
       " ['dread',\n",
       "  'coiled',\n",
       "  'within',\n",
       "  'her',\n",
       "  'like',\n",
       "  'snake',\n",
       "  'but',\n",
       "  'she',\n",
       "  'forced',\n",
       "  'herself',\n",
       "  'to',\n",
       "  'smile',\n",
       "  'at',\n",
       "  'this',\n",
       "  'man',\n",
       "  'she',\n",
       "  'loved',\n",
       "  'this',\n",
       "  'man',\n",
       "  'who',\n",
       "  'put',\n",
       "  'no',\n",
       "  'faith',\n",
       "  'in',\n",
       "  'signs'],\n",
       " ['knew', 'that', 'would', 'please', 'you', 'she', 'said'],\n",
       " ['we',\n",
       "  'should',\n",
       "  'send',\n",
       "  'word',\n",
       "  'to',\n",
       "  'your',\n",
       "  'brother',\n",
       "  'on',\n",
       "  'the',\n",
       "  'wall'],\n",
       " ['yes', 'of', 'course', 'he', 'agreed'],\n",
       " ['ben', 'will', 'want', 'to', 'be', 'here'],\n",
       " ['shall',\n",
       "  'tell',\n",
       "  'maester',\n",
       "  'luwin',\n",
       "  'to',\n",
       "  'send',\n",
       "  'his',\n",
       "  'swiftest',\n",
       "  'bird'],\n",
       " ['ned', 'rose', 'and', 'pulled', 'her', 'to', 'her', 'feet'],\n",
       " ['damnation', 'how', 'many', 'years', 'has', 'it', 'been'],\n",
       " ['and', 'he', 'gives', 'us', 'no', 'more', 'notice', 'than', 'this'],\n",
       " ['how', 'many', 'in', 'his', 'party', 'did', 'the', 'message', 'say'],\n",
       " ['should',\n",
       "  'think',\n",
       "  'hundred',\n",
       "  'knights',\n",
       "  'at',\n",
       "  'the',\n",
       "  'least',\n",
       "  'with',\n",
       "  'all',\n",
       "  'their',\n",
       "  'retainers',\n",
       "  'and',\n",
       "  'half',\n",
       "  'again',\n",
       "  'as',\n",
       "  'many',\n",
       "  'freeriders'],\n",
       " ['page', 'cersei', 'and', 'the', 'children', 'travel', 'with', 'them'],\n",
       " ['robert',\n",
       "  'will',\n",
       "  'keep',\n",
       "  'an',\n",
       "  'easy',\n",
       "  'pace',\n",
       "  'for',\n",
       "  'their',\n",
       "  'sakes',\n",
       "  'he',\n",
       "  'said'],\n",
       " ['it', 'is', 'just', 'as', 'well'],\n",
       " ['that', 'will', 'give', 'us', 'more', 'time', 'to', 'prepare'],\n",
       " ['the',\n",
       "  'queen',\n",
       "  'brothers',\n",
       "  'are',\n",
       "  'also',\n",
       "  'in',\n",
       "  'the',\n",
       "  'party',\n",
       "  'she',\n",
       "  'told',\n",
       "  'him'],\n",
       " ['ned', 'grimaced', 'at', 'that'],\n",
       " ['there',\n",
       "  'was',\n",
       "  'small',\n",
       "  'love',\n",
       "  'between',\n",
       "  'him',\n",
       "  'and',\n",
       "  'the',\n",
       "  'queen',\n",
       "  'family',\n",
       "  'catelyn',\n",
       "  'knew'],\n",
       " ['the',\n",
       "  'lannisters',\n",
       "  'of',\n",
       "  'casterly',\n",
       "  'rock',\n",
       "  'had',\n",
       "  'come',\n",
       "  'late',\n",
       "  'to',\n",
       "  'robert',\n",
       "  'cause',\n",
       "  'when',\n",
       "  'victory',\n",
       "  'was',\n",
       "  'all',\n",
       "  'but',\n",
       "  'certain',\n",
       "  'and',\n",
       "  'he',\n",
       "  'had',\n",
       "  'never',\n",
       "  'forgiven',\n",
       "  'them'],\n",
       " ['well',\n",
       "  'if',\n",
       "  'the',\n",
       "  'price',\n",
       "  'for',\n",
       "  'robert',\n",
       "  'company',\n",
       "  'is',\n",
       "  'an',\n",
       "  'infestation',\n",
       "  'of',\n",
       "  'lannisters',\n",
       "  'so',\n",
       "  'be',\n",
       "  'it'],\n",
       " ['it',\n",
       "  'sounds',\n",
       "  'as',\n",
       "  'though',\n",
       "  'robert',\n",
       "  'is',\n",
       "  'bringing',\n",
       "  'half',\n",
       "  'his',\n",
       "  'court'],\n",
       " ['where', 'the', 'king', 'goes', 'the', 'realm', 'follows', 'she', 'said'],\n",
       " ['it', 'will', 'be', 'good', 'to', 'see', 'the', 'children'],\n",
       " ['the',\n",
       "  'youngest',\n",
       "  'was',\n",
       "  'still',\n",
       "  'sucking',\n",
       "  'at',\n",
       "  'the',\n",
       "  'lannister',\n",
       "  'woman',\n",
       "  'teat',\n",
       "  'the',\n",
       "  'last',\n",
       "  'time',\n",
       "  'saw',\n",
       "  'him'],\n",
       " ['he', 'must', 'be', 'what', 'five', 'by', 'now'],\n",
       " ['prince', 'tornmen', 'is', 'seven', 'she', 'told', 'him'],\n",
       " ['the', 'same', 'age', 'as', 'bran'],\n",
       " ['please', 'ned', 'guard', 'your', 'tongue'],\n",
       " ['the',\n",
       "  'lannister',\n",
       "  'woman',\n",
       "  'is',\n",
       "  'our',\n",
       "  'queen',\n",
       "  'and',\n",
       "  'her',\n",
       "  'pride',\n",
       "  'is',\n",
       "  'said',\n",
       "  'to',\n",
       "  'grow',\n",
       "  'with',\n",
       "  'every',\n",
       "  'passing',\n",
       "  'year'],\n",
       " ['ned', 'squeezed', 'her', 'hand'],\n",
       " ['there',\n",
       "  'must',\n",
       "  'be',\n",
       "  'feast',\n",
       "  'of',\n",
       "  'course',\n",
       "  'with',\n",
       "  'singers',\n",
       "  'and',\n",
       "  'robert',\n",
       "  'will',\n",
       "  'want',\n",
       "  'to',\n",
       "  'hunt'],\n",
       " ['shall',\n",
       "  'send',\n",
       "  'jory',\n",
       "  'south',\n",
       "  'with',\n",
       "  'an',\n",
       "  'honor',\n",
       "  'guard',\n",
       "  'to',\n",
       "  'meet',\n",
       "  'them',\n",
       "  'on',\n",
       "  'the',\n",
       "  'kingsroad',\n",
       "  'and',\n",
       "  'escort',\n",
       "  'them',\n",
       "  'back'],\n",
       " ['gods', 'how', 'are', 'we', 'going', 'to', 'feed', 'them', 'all'],\n",
       " ['on', 'his', 'way', 'already', 'you', 'said'],\n",
       " ['damn', 'the', 'man'],\n",
       " ['damn', 'his', 'royal', 'hide'],\n",
       " ['daenerys',\n",
       "  'her',\n",
       "  'brother',\n",
       "  'held',\n",
       "  'the',\n",
       "  'gown',\n",
       "  'up',\n",
       "  'for',\n",
       "  'her',\n",
       "  'inspection'],\n",
       " ['this', 'is', 'beauty'],\n",
       " ['touch', 'it'],\n",
       " ['go', 'on'],\n",
       " ['caress', 'the', 'fabric'],\n",
       " ['dany', 'touched', 'it'],\n",
       " ['the',\n",
       "  'cloth',\n",
       "  'was',\n",
       "  'so',\n",
       "  'smooth',\n",
       "  'that',\n",
       "  'it',\n",
       "  'seemed',\n",
       "  'to',\n",
       "  'run',\n",
       "  'through',\n",
       "  'her',\n",
       "  'fingers',\n",
       "  'like',\n",
       "  'water'],\n",
       " ['she',\n",
       "  'could',\n",
       "  'not',\n",
       "  'remember',\n",
       "  'ever',\n",
       "  'wearing',\n",
       "  'anything',\n",
       "  'so',\n",
       "  'soft'],\n",
       " ['it', 'frightened', 'her'],\n",
       " ['she', 'pulled', 'her', 'hand', 'away'],\n",
       " ['is', 'it', 'really', 'mine'],\n",
       " ['gift', 'from', 'the', 'magister', 'illyrio', 'viserys', 'said', 'smiling'],\n",
       " ['her', 'brother', 'was', 'in', 'high', 'mood', 'tonight'],\n",
       " ['the',\n",
       "  'color',\n",
       "  'will',\n",
       "  'bring',\n",
       "  'out',\n",
       "  'the',\n",
       "  'violet',\n",
       "  'in',\n",
       "  'your',\n",
       "  'eyes'],\n",
       " ['and',\n",
       "  'you',\n",
       "  'shall',\n",
       "  'have',\n",
       "  'gold',\n",
       "  'as',\n",
       "  'well',\n",
       "  'and',\n",
       "  'jewels',\n",
       "  'of',\n",
       "  'all',\n",
       "  'sorts'],\n",
       " ['illyrio', 'has', 'promised'],\n",
       " ['tonight', 'you', 'must', 'look', 'like', 'princess'],\n",
       " ['princess', 'dany', 'thought'],\n",
       " ['she', 'had', 'forgotten', 'what', 'that', 'was', 'like'],\n",
       " ['perhaps', 'she', 'had', 'never', 'really', 'known'],\n",
       " ['why', 'does', 'he', 'give', 'us', 'so', 'much'],\n",
       " ['she', 'asked'],\n",
       " ['what', 'does', 'he', 'want', 'from', 'us'],\n",
       " ['for',\n",
       "  'nigh',\n",
       "  'on',\n",
       "  'half',\n",
       "  'year',\n",
       "  'they',\n",
       "  'had',\n",
       "  'lived',\n",
       "  'in',\n",
       "  'the',\n",
       "  'magister',\n",
       "  'house',\n",
       "  'eating',\n",
       "  'his',\n",
       "  'food',\n",
       "  'pampered',\n",
       "  'by',\n",
       "  'his',\n",
       "  'servants'],\n",
       " ['dany',\n",
       "  'was',\n",
       "  'thirteen',\n",
       "  'old',\n",
       "  'enough',\n",
       "  'to',\n",
       "  'know',\n",
       "  'that',\n",
       "  'such',\n",
       "  'gifts',\n",
       "  'seldom',\n",
       "  'come',\n",
       "  'without',\n",
       "  'their',\n",
       "  'price',\n",
       "  'here',\n",
       "  'in',\n",
       "  'the',\n",
       "  'free',\n",
       "  'city',\n",
       "  'of',\n",
       "  'pentos'],\n",
       " ['illyrio', 'is', 'no', 'fool', 'viserys', 'said'],\n",
       " ['he',\n",
       "  'was',\n",
       "  'gaunt',\n",
       "  'young',\n",
       "  'man',\n",
       "  'with',\n",
       "  'nervous',\n",
       "  'hands',\n",
       "  'and',\n",
       "  'feverish',\n",
       "  'look',\n",
       "  'in',\n",
       "  'his',\n",
       "  'pale',\n",
       "  'lilac',\n",
       "  'eyes'],\n",
       " ['the',\n",
       "  'magister',\n",
       "  'knows',\n",
       "  'that',\n",
       "  'will',\n",
       "  'not',\n",
       "  'forget',\n",
       "  'my',\n",
       "  'friends',\n",
       "  'when',\n",
       "  'come',\n",
       "  'into',\n",
       "  'my',\n",
       "  'throne'],\n",
       " ['dany', 'said', 'nothing'],\n",
       " ['magister',\n",
       "  'illyrio',\n",
       "  'was',\n",
       "  'dealer',\n",
       "  'in',\n",
       "  'spices',\n",
       "  'gemstones',\n",
       "  'dragonbone',\n",
       "  'and',\n",
       "  'other',\n",
       "  'less',\n",
       "  'savory',\n",
       "  'things'],\n",
       " ['he',\n",
       "  'had',\n",
       "  'friends',\n",
       "  'in',\n",
       "  'all',\n",
       "  'of',\n",
       "  'the',\n",
       "  'nine',\n",
       "  'free',\n",
       "  'cities',\n",
       "  'it',\n",
       "  'was',\n",
       "  'said',\n",
       "  'and',\n",
       "  'even',\n",
       "  'beyond',\n",
       "  'in',\n",
       "  'vaes',\n",
       "  'dothrak',\n",
       "  'and',\n",
       "  'the',\n",
       "  'fabled',\n",
       "  'lands',\n",
       "  'beside',\n",
       "  'the',\n",
       "  'jade',\n",
       "  'sea'],\n",
       " ['it',\n",
       "  'was',\n",
       "  'also',\n",
       "  'said',\n",
       "  'that',\n",
       "  'he',\n",
       "  'never',\n",
       "  'had',\n",
       "  'friend',\n",
       "  'he',\n",
       "  'wouldn',\n",
       "  'page',\n",
       "  'cheerfully',\n",
       "  'sell',\n",
       "  'for',\n",
       "  'the',\n",
       "  'right',\n",
       "  'price'],\n",
       " ['dany',\n",
       "  'listened',\n",
       "  'to',\n",
       "  'the',\n",
       "  'talk',\n",
       "  'in',\n",
       "  'the',\n",
       "  'streets',\n",
       "  'and',\n",
       "  'she',\n",
       "  'heard',\n",
       "  'these',\n",
       "  'things',\n",
       "  'but',\n",
       "  'she',\n",
       "  'knew',\n",
       "  'better',\n",
       "  'than',\n",
       "  'to',\n",
       "  'question',\n",
       "  'her',\n",
       "  'brother',\n",
       "  'when',\n",
       "  'he',\n",
       "  'wove',\n",
       "  'his',\n",
       "  'webs',\n",
       "  'of',\n",
       "  'dream'],\n",
       " ['his', 'anger', 'was', 'terrible', 'thing', 'when', 'roused'],\n",
       " ['viserys', 'called', 'it', 'waking', 'the', 'dragon'],\n",
       " ['her', 'brother', 'hung', 'the', 'gown', 'beside', 'the', 'door'],\n",
       " ['illyrio', 'will', 'send', 'the', 'slaves', 'to', 'bathe', 'you'],\n",
       " ['be', 'sure', 'you', 'wash', 'off', 'the', 'stink', 'of', 'the', 'stables'],\n",
       " ['khal',\n",
       "  'drogo',\n",
       "  'has',\n",
       "  'thousand',\n",
       "  'horses',\n",
       "  'tonight',\n",
       "  'he',\n",
       "  'looks',\n",
       "  'for',\n",
       "  'different',\n",
       "  'sort',\n",
       "  'of',\n",
       "  'mount'],\n",
       " ['he', 'studied', 'her', 'critically'],\n",
       " ['you', 'still', 'slouch'],\n",
       " ['straighten',\n",
       "  'yourself',\n",
       "  'he',\n",
       "  'pushed',\n",
       "  'back',\n",
       "  'her',\n",
       "  'shoulders',\n",
       "  'with',\n",
       "  'his',\n",
       "  'hands'],\n",
       " ['let', 'them', 'see', 'that', 'you', 'have', 'woman', 'shape', 'now'],\n",
       " ['his',\n",
       "  'fingers',\n",
       "  'brushed',\n",
       "  'lightly',\n",
       "  'over',\n",
       "  'her',\n",
       "  'budding',\n",
       "  'breasts',\n",
       "  'and',\n",
       "  'tightened',\n",
       "  'on',\n",
       "  'nipple'],\n",
       " ['you', 'will', 'not', 'fail', 'me', 'tonight'],\n",
       " ['if', 'you', 'do', 'it', 'will', 'go', 'hard', 'for', 'you'],\n",
       " ['you', 'don', 'want', 'to', 'wake', 'the', 'dragon', 'do', 'you'],\n",
       " ['his',\n",
       "  'fingers',\n",
       "  'twisted',\n",
       "  'her',\n",
       "  'the',\n",
       "  'pinch',\n",
       "  'cruelly',\n",
       "  'hard',\n",
       "  'through',\n",
       "  'the',\n",
       "  'rough',\n",
       "  'fabric',\n",
       "  'of',\n",
       "  'her',\n",
       "  'tunic'],\n",
       " ['do', 'you'],\n",
       " ['he', 'repeated'],\n",
       " ['no', 'dany', 'said', 'meekly'],\n",
       " ['her', 'brother', 'smiled'],\n",
       " ['good'],\n",
       " ['he', 'touched', 'her', 'hair', 'almost', 'with', 'affection'],\n",
       " ['when',\n",
       "  'they',\n",
       "  'write',\n",
       "  'the',\n",
       "  'history',\n",
       "  'of',\n",
       "  'my',\n",
       "  'reign',\n",
       "  'sweet',\n",
       "  'sister',\n",
       "  'they',\n",
       "  'will',\n",
       "  'say',\n",
       "  'that',\n",
       "  'it',\n",
       "  'began',\n",
       "  'tonight'],\n",
       " ['when',\n",
       "  'he',\n",
       "  'was',\n",
       "  'gone',\n",
       "  'dany',\n",
       "  'went',\n",
       "  'to',\n",
       "  'her',\n",
       "  'window',\n",
       "  'and',\n",
       "  'looked',\n",
       "  'out',\n",
       "  'wistfully',\n",
       "  'on',\n",
       "  'the',\n",
       "  'waters',\n",
       "  'of',\n",
       "  'the',\n",
       "  'bay'],\n",
       " ['the',\n",
       "  'square',\n",
       "  'brick',\n",
       "  'towers',\n",
       "  'of',\n",
       "  'pentos',\n",
       "  'were',\n",
       "  'black',\n",
       "  'silhouettes',\n",
       "  'outlined',\n",
       "  'against',\n",
       "  'the',\n",
       "  'setting',\n",
       "  'sun'],\n",
       " ['dany',\n",
       "  'could',\n",
       "  'hear',\n",
       "  'the',\n",
       "  'singing',\n",
       "  'of',\n",
       "  'the',\n",
       "  'red',\n",
       "  'priests',\n",
       "  'as',\n",
       "  'they',\n",
       "  'lit',\n",
       "  'their',\n",
       "  'night',\n",
       "  'fires',\n",
       "  'and',\n",
       "  'the',\n",
       "  'shouts',\n",
       "  'of',\n",
       "  'ragged',\n",
       "  'children',\n",
       "  'playing',\n",
       "  'games',\n",
       "  'beyond',\n",
       "  'the',\n",
       "  'walls',\n",
       "  'of',\n",
       "  'the',\n",
       "  'estate'],\n",
       " ['for',\n",
       "  'moment',\n",
       "  'she',\n",
       "  'wished',\n",
       "  'she',\n",
       "  'could',\n",
       "  'be',\n",
       "  'out',\n",
       "  'there',\n",
       "  'with',\n",
       "  'them',\n",
       "  'barefoot',\n",
       "  'and',\n",
       "  'breathless',\n",
       "  'and',\n",
       "  'dressed',\n",
       "  'in',\n",
       "  'tatters',\n",
       "  'with',\n",
       "  'no',\n",
       "  'past',\n",
       "  'and',\n",
       "  'no',\n",
       "  'future',\n",
       "  'and',\n",
       "  'no',\n",
       "  'feast',\n",
       "  'to',\n",
       "  'attend',\n",
       "  'at',\n",
       "  'khal',\n",
       "  'drogo',\n",
       "  'manse'],\n",
       " ['somewhere',\n",
       "  'beyond',\n",
       "  'the',\n",
       "  'sunset',\n",
       "  'across',\n",
       "  'the',\n",
       "  'narrow',\n",
       "  'sea',\n",
       "  'lay',\n",
       "  'land',\n",
       "  'of',\n",
       "  'green',\n",
       "  'hills',\n",
       "  'and',\n",
       "  'flowered',\n",
       "  'plains',\n",
       "  'and',\n",
       "  'great',\n",
       "  'rushing',\n",
       "  'rivers',\n",
       "  'where',\n",
       "  'towers',\n",
       "  'of',\n",
       "  'dark',\n",
       "  'stone',\n",
       "  'rose',\n",
       "  'amidst',\n",
       "  'magnificent',\n",
       "  'blue',\n",
       "  'grey',\n",
       "  'mountains',\n",
       "  'and',\n",
       "  'armored',\n",
       "  'knights',\n",
       "  'rode',\n",
       "  'to',\n",
       "  'battle',\n",
       "  'beneath',\n",
       "  'the',\n",
       "  'banners',\n",
       "  'of',\n",
       "  'their',\n",
       "  'lords'],\n",
       " ['the',\n",
       "  'dothraki',\n",
       "  'called',\n",
       "  'that',\n",
       "  'land',\n",
       "  'rhaesh',\n",
       "  'andahli',\n",
       "  'the',\n",
       "  'land',\n",
       "  'of',\n",
       "  'the',\n",
       "  'andals'],\n",
       " ['in',\n",
       "  'the',\n",
       "  'free',\n",
       "  'cities',\n",
       "  'they',\n",
       "  'talked',\n",
       "  'of',\n",
       "  'westeros',\n",
       "  'and',\n",
       "  'the',\n",
       "  'sunset',\n",
       "  'kingdoms'],\n",
       " ['her', 'brother', 'had', 'simpler', 'name'],\n",
       " ['our', 'land', 'he', 'called', 'it'],\n",
       " ['the', 'words', 'were', 'like', 'prayer', 'with', 'him'],\n",
       " ['if',\n",
       "  'he',\n",
       "  'said',\n",
       "  'them',\n",
       "  'enough',\n",
       "  'the',\n",
       "  'gods',\n",
       "  'were',\n",
       "  'sure',\n",
       "  'to',\n",
       "  'hear'],\n",
       " ['ours',\n",
       "  'by',\n",
       "  'blood',\n",
       "  'right',\n",
       "  'taken',\n",
       "  'from',\n",
       "  'us',\n",
       "  'by',\n",
       "  'treachery',\n",
       "  'but',\n",
       "  'ours',\n",
       "  'still',\n",
       "  'ours',\n",
       "  'forever'],\n",
       " ['you', 'do', 'not', 'steal', 'from', 'the', 'dragon', 'oh', 'no'],\n",
       " ['the', 'dragon', 'remembers'],\n",
       " ['and',\n",
       "  'perhaps',\n",
       "  'the',\n",
       "  'dragon',\n",
       "  'did',\n",
       "  'remember',\n",
       "  'but',\n",
       "  'dany',\n",
       "  'could',\n",
       "  'not'],\n",
       " ['she',\n",
       "  'had',\n",
       "  'never',\n",
       "  'seen',\n",
       "  'this',\n",
       "  'land',\n",
       "  'her',\n",
       "  'brother',\n",
       "  'said',\n",
       "  'was',\n",
       "  'theirs',\n",
       "  'this',\n",
       "  'realm',\n",
       "  'beyond',\n",
       "  'the',\n",
       "  'narrow',\n",
       "  'sea'],\n",
       " ['these',\n",
       "  'places',\n",
       "  'he',\n",
       "  'talked',\n",
       "  'of',\n",
       "  'casterly',\n",
       "  'rock',\n",
       "  'and',\n",
       "  'the',\n",
       "  'eyrie',\n",
       "  'highgarden',\n",
       "  'and',\n",
       "  'the',\n",
       "  'vale',\n",
       "  'of',\n",
       "  'arryn',\n",
       "  'dorne',\n",
       "  'and',\n",
       "  'the',\n",
       "  'isle',\n",
       "  'of',\n",
       "  'faces',\n",
       "  'they',\n",
       "  'were',\n",
       "  'just',\n",
       "  'words',\n",
       "  'to',\n",
       "  'her'],\n",
       " ['viserys',\n",
       "  'had',\n",
       "  'been',\n",
       "  'boy',\n",
       "  'of',\n",
       "  'eight',\n",
       "  'when',\n",
       "  'they',\n",
       "  'fled',\n",
       "  'king',\n",
       "  'landing',\n",
       "  'to',\n",
       "  'escape',\n",
       "  'the',\n",
       "  'advancing',\n",
       "  'armies',\n",
       "  'of',\n",
       "  'the',\n",
       "  'usurper',\n",
       "  'but',\n",
       "  'daenerys',\n",
       "  'had',\n",
       "  'been',\n",
       "  'only',\n",
       "  'quickening',\n",
       "  'in',\n",
       "  'their',\n",
       "  'mother',\n",
       "  'womb'],\n",
       " ['yet',\n",
       "  'sometimes',\n",
       "  'dany',\n",
       "  'would',\n",
       "  'picture',\n",
       "  'the',\n",
       "  'way',\n",
       "  'it',\n",
       "  'had',\n",
       "  'been',\n",
       "  'so',\n",
       "  'often',\n",
       "  'had',\n",
       "  'her',\n",
       "  'brother',\n",
       "  'told',\n",
       "  'her',\n",
       "  'the',\n",
       "  'stories'],\n",
       " ['the',\n",
       "  'midnight',\n",
       "  'flight',\n",
       "  'to',\n",
       "  'dragonstone',\n",
       "  'moonlight',\n",
       "  'shimmering',\n",
       "  'on',\n",
       "  'the',\n",
       "  'ship',\n",
       "  'black',\n",
       "  'sails'],\n",
       " ['her',\n",
       "  'brother',\n",
       "  'rhaegar',\n",
       "  'battling',\n",
       "  'the',\n",
       "  'usurper',\n",
       "  'in',\n",
       "  'the',\n",
       "  'bloody',\n",
       "  'waters',\n",
       "  'of',\n",
       "  'the',\n",
       "  'trident',\n",
       "  'and',\n",
       "  'dying',\n",
       "  'for',\n",
       "  'the',\n",
       "  'woman',\n",
       "  'he',\n",
       "  'loved'],\n",
       " ['the',\n",
       "  'sack',\n",
       "  'of',\n",
       "  'king',\n",
       "  'landing',\n",
       "  'by',\n",
       "  'the',\n",
       "  'ones',\n",
       "  'viserys',\n",
       "  'called',\n",
       "  'the',\n",
       "  'usurper',\n",
       "  'dogs',\n",
       "  'the',\n",
       "  'lords',\n",
       "  'lannister',\n",
       "  'and',\n",
       "  'stark'],\n",
       " ['princess',\n",
       "  'elia',\n",
       "  'of',\n",
       "  'dorne',\n",
       "  'pleading',\n",
       "  'for',\n",
       "  'mercy',\n",
       "  'as',\n",
       "  'rhaegar',\n",
       "  'heir',\n",
       "  'was',\n",
       "  'ripped',\n",
       "  'from',\n",
       "  'her',\n",
       "  'breast',\n",
       "  'and',\n",
       "  'murdered',\n",
       "  'before',\n",
       "  'her',\n",
       "  'eyes'],\n",
       " ['the',\n",
       "  'polished',\n",
       "  'skulls',\n",
       "  'of',\n",
       "  'the',\n",
       "  'last',\n",
       "  'dragons',\n",
       "  'staring',\n",
       "  'down',\n",
       "  'sightlessly',\n",
       "  'from',\n",
       "  'the',\n",
       "  'walls',\n",
       "  'of',\n",
       "  'the',\n",
       "  'throne',\n",
       "  'room',\n",
       "  'while',\n",
       "  'the',\n",
       "  'kingslayer',\n",
       "  'opened',\n",
       "  'father',\n",
       "  'throat',\n",
       "  'with',\n",
       "  'golden',\n",
       "  'sword'],\n",
       " ['she',\n",
       "  'had',\n",
       "  'been',\n",
       "  'born',\n",
       "  'on',\n",
       "  'dragonstone',\n",
       "  'nine',\n",
       "  'moons',\n",
       "  'after',\n",
       "  'their',\n",
       "  'flight',\n",
       "  'while',\n",
       "  'raging',\n",
       "  'summer',\n",
       "  'storm',\n",
       "  'threatened',\n",
       "  'to',\n",
       "  'rip',\n",
       "  'the',\n",
       "  'island',\n",
       "  'fastness',\n",
       "  'apart'],\n",
       " ['they', 'said', 'that', 'storm', 'was', 'terrible'],\n",
       " ['the',\n",
       "  'targaryen',\n",
       "  'fleet',\n",
       "  'was',\n",
       "  'smashed',\n",
       "  'while',\n",
       "  'it',\n",
       "  'lay',\n",
       "  'at',\n",
       "  'anchor',\n",
       "  'and',\n",
       "  'huge',\n",
       "  'stone',\n",
       "  'blocks',\n",
       "  'were',\n",
       "  'ripped',\n",
       "  'from',\n",
       "  'the',\n",
       "  'parapets',\n",
       "  'and',\n",
       "  'sent',\n",
       "  'hurtling',\n",
       "  'into',\n",
       "  'the',\n",
       "  'wild',\n",
       "  'waters',\n",
       "  'of',\n",
       "  'the',\n",
       "  'narrow',\n",
       "  'sea'],\n",
       " ['her',\n",
       "  'mother',\n",
       "  'had',\n",
       "  'died',\n",
       "  'birthing',\n",
       "  'her',\n",
       "  'and',\n",
       "  'for',\n",
       "  'that',\n",
       "  'her',\n",
       "  'brother',\n",
       "  'viserys',\n",
       "  'had',\n",
       "  'never',\n",
       "  'page',\n",
       "  'forgiven',\n",
       "  'her'],\n",
       " ['she', 'did', 'not', 'remember', 'dragonstone', 'either'],\n",
       " ['they',\n",
       "  'had',\n",
       "  'run',\n",
       "  'again',\n",
       "  'just',\n",
       "  'before',\n",
       "  'the',\n",
       "  'usurper',\n",
       "  'brother',\n",
       "  'set',\n",
       "  'sail',\n",
       "  'with',\n",
       "  'his',\n",
       "  'new',\n",
       "  'built',\n",
       "  'fleet'],\n",
       " ['by',\n",
       "  'then',\n",
       "  'only',\n",
       "  'dragonstone',\n",
       "  'itself',\n",
       "  'the',\n",
       "  'ancient',\n",
       "  'seat',\n",
       "  'of',\n",
       "  'their',\n",
       "  'house',\n",
       "  'had',\n",
       "  'remained',\n",
       "  'of',\n",
       "  'the',\n",
       "  'seven',\n",
       "  'kingdoms',\n",
       "  'that',\n",
       "  'had',\n",
       "  'once',\n",
       "  'been',\n",
       "  'theirs'],\n",
       " ['it', 'would', 'not', 'remain', 'for', 'long'],\n",
       " ['the',\n",
       "  'garrison',\n",
       "  'had',\n",
       "  'been',\n",
       "  'prepared',\n",
       "  'to',\n",
       "  'sell',\n",
       "  'them',\n",
       "  'to',\n",
       "  'the',\n",
       "  'usurper',\n",
       "  'but',\n",
       "  'one',\n",
       "  'night',\n",
       "  'ser',\n",
       "  'willem',\n",
       "  'darry',\n",
       "  'and',\n",
       "  'four',\n",
       "  'loyal',\n",
       "  'men',\n",
       "  'had',\n",
       "  'broken',\n",
       "  'into',\n",
       "  'the',\n",
       "  'nursery',\n",
       "  'and',\n",
       "  'stolen',\n",
       "  'them',\n",
       "  'both',\n",
       "  'along',\n",
       "  'with',\n",
       "  'her',\n",
       "  'wet',\n",
       "  'nurse',\n",
       "  'and',\n",
       "  'set',\n",
       "  'sail',\n",
       "  'under',\n",
       "  'cover',\n",
       "  'of',\n",
       "  'darkness',\n",
       "  'for',\n",
       "  'the',\n",
       "  'safety',\n",
       "  'of',\n",
       "  'the',\n",
       "  'braavosian',\n",
       "  'coast'],\n",
       " ['she',\n",
       "  'remembered',\n",
       "  'ser',\n",
       "  'willem',\n",
       "  'dimly',\n",
       "  'great',\n",
       "  'grey',\n",
       "  'bear',\n",
       "  'of',\n",
       "  'man',\n",
       "  'halfblind',\n",
       "  'roaring',\n",
       "  'and',\n",
       "  'bellowing',\n",
       "  'orders',\n",
       "  'from',\n",
       "  'his',\n",
       "  'sickbed'],\n",
       " ['the',\n",
       "  'servants',\n",
       "  'had',\n",
       "  'lived',\n",
       "  'in',\n",
       "  'terror',\n",
       "  'of',\n",
       "  'him',\n",
       "  'but',\n",
       "  'he',\n",
       "  'had',\n",
       "  'always',\n",
       "  'been',\n",
       "  'kind',\n",
       "  'to',\n",
       "  'dany'],\n",
       " ['he',\n",
       "  'called',\n",
       "  'her',\n",
       "  'little',\n",
       "  'princess',\n",
       "  'and',\n",
       "  'sometimes',\n",
       "  'my',\n",
       "  'lady',\n",
       "  'and',\n",
       "  'his',\n",
       "  'hands',\n",
       "  'were',\n",
       "  'soft',\n",
       "  'as',\n",
       "  'old',\n",
       "  'leather'],\n",
       " ['he',\n",
       "  'never',\n",
       "  'left',\n",
       "  'his',\n",
       "  'bed',\n",
       "  'though',\n",
       "  'and',\n",
       "  'the',\n",
       "  'smell',\n",
       "  'of',\n",
       "  'sickness',\n",
       "  'clung',\n",
       "  'to',\n",
       "  'him',\n",
       "  'day',\n",
       "  'and',\n",
       "  'night',\n",
       "  'hot',\n",
       "  'moist',\n",
       "  'sickly',\n",
       "  'sweet',\n",
       "  'odor'],\n",
       " ['that',\n",
       "  'was',\n",
       "  'when',\n",
       "  'they',\n",
       "  'lived',\n",
       "  'in',\n",
       "  'braavos',\n",
       "  'in',\n",
       "  'the',\n",
       "  'big',\n",
       "  'house',\n",
       "  'with',\n",
       "  'the',\n",
       "  'red',\n",
       "  'door'],\n",
       " ['dany',\n",
       "  'had',\n",
       "  'her',\n",
       "  'own',\n",
       "  'room',\n",
       "  'there',\n",
       "  'with',\n",
       "  'lemon',\n",
       "  'tree',\n",
       "  'outside',\n",
       "  'her',\n",
       "  'window'],\n",
       " ['after',\n",
       "  'ser',\n",
       "  'willem',\n",
       "  'had',\n",
       "  'died',\n",
       "  'the',\n",
       "  'servants',\n",
       "  'had',\n",
       "  'stolen',\n",
       "  'what',\n",
       "  'little',\n",
       "  'money',\n",
       "  'they',\n",
       "  'had',\n",
       "  'left',\n",
       "  'and',\n",
       "  'soon',\n",
       "  'after',\n",
       "  'they',\n",
       "  'had',\n",
       "  'been',\n",
       "  'put',\n",
       "  'out',\n",
       "  'of',\n",
       "  'the',\n",
       "  'big',\n",
       "  'house'],\n",
       " ['dany',\n",
       "  'had',\n",
       "  'cried',\n",
       "  'when',\n",
       "  'the',\n",
       "  'red',\n",
       "  'door',\n",
       "  'closed',\n",
       "  'behind',\n",
       "  'them',\n",
       "  'forever'],\n",
       " ['they',\n",
       "  'had',\n",
       "  'wandered',\n",
       "  'since',\n",
       "  'then',\n",
       "  'from',\n",
       "  'braavos',\n",
       "  'to',\n",
       "  'myr',\n",
       "  'from',\n",
       "  'myr',\n",
       "  'to',\n",
       "  'tyrosh',\n",
       "  'and',\n",
       "  'on',\n",
       "  'to',\n",
       "  'qohor',\n",
       "  'and',\n",
       "  'volantis',\n",
       "  'and',\n",
       "  'lys',\n",
       "  'never',\n",
       "  'staying',\n",
       "  'long',\n",
       "  'in',\n",
       "  'any',\n",
       "  'one',\n",
       "  'place'],\n",
       " ['her', 'brother', 'would', 'not', 'allow', 'it'],\n",
       " ['the',\n",
       "  'usurper',\n",
       "  'hired',\n",
       "  'knives',\n",
       "  'were',\n",
       "  'close',\n",
       "  'behind',\n",
       "  'them',\n",
       "  'he',\n",
       "  'insisted',\n",
       "  'though',\n",
       "  'dany',\n",
       "  'had',\n",
       "  'never',\n",
       "  'seen',\n",
       "  'one'],\n",
       " ['at',\n",
       "  'first',\n",
       "  'the',\n",
       "  'magisters',\n",
       "  'and',\n",
       "  'archons',\n",
       "  'and',\n",
       "  'merchant',\n",
       "  'princes',\n",
       "  'were',\n",
       "  'pleased',\n",
       "  'to',\n",
       "  'welcome',\n",
       "  'the',\n",
       "  'last',\n",
       "  'targaryens',\n",
       "  'to',\n",
       "  'their',\n",
       "  'homes',\n",
       "  'and',\n",
       "  'tables',\n",
       "  'but',\n",
       "  'as',\n",
       "  'the',\n",
       "  'years',\n",
       "  'passed',\n",
       "  'and',\n",
       "  'the',\n",
       "  'usurper',\n",
       "  'continued',\n",
       "  'to',\n",
       "  'sit',\n",
       "  'upon',\n",
       "  'the',\n",
       "  'iron',\n",
       "  'throne',\n",
       "  'doors',\n",
       "  'closed',\n",
       "  'and',\n",
       "  'their',\n",
       "  'lives',\n",
       "  'grew',\n",
       "  'meaner'],\n",
       " ['years',\n",
       "  'past',\n",
       "  'they',\n",
       "  'had',\n",
       "  'been',\n",
       "  'forced',\n",
       "  'to',\n",
       "  'sell',\n",
       "  'their',\n",
       "  'last',\n",
       "  'few',\n",
       "  'treasures',\n",
       "  'and',\n",
       "  'now',\n",
       "  'even',\n",
       "  'the',\n",
       "  'coin',\n",
       "  'they',\n",
       "  'had',\n",
       "  'gotten',\n",
       "  'from',\n",
       "  'mother',\n",
       "  'crown',\n",
       "  'had',\n",
       "  'gone'],\n",
       " ['in',\n",
       "  'the',\n",
       "  'alleys',\n",
       "  'and',\n",
       "  'wine',\n",
       "  'sinks',\n",
       "  'of',\n",
       "  'pentos',\n",
       "  'they',\n",
       "  'called',\n",
       "  'her',\n",
       "  'brother',\n",
       "  'the',\n",
       "  'beggar',\n",
       "  'king'],\n",
       " ['dany', 'did', 'not', 'want', 'to', 'know', 'what', 'they', 'called', 'her'],\n",
       " ['we',\n",
       "  'will',\n",
       "  'have',\n",
       "  'it',\n",
       "  'all',\n",
       "  'back',\n",
       "  'someday',\n",
       "  'sweet',\n",
       "  'sister',\n",
       "  'he',\n",
       "  'would',\n",
       "  'promise',\n",
       "  'her'],\n",
       " ['sometimes', 'his', 'hands', 'shook', 'when', 'he', 'talked', 'about', 'it'],\n",
       " ['the',\n",
       "  'jewels',\n",
       "  'and',\n",
       "  'the',\n",
       "  'silks',\n",
       "  'dragonstone',\n",
       "  'and',\n",
       "  'king',\n",
       "  'landing',\n",
       "  'the',\n",
       "  'iron',\n",
       "  'throne',\n",
       "  'and',\n",
       "  'the',\n",
       "  'seven',\n",
       "  'kingdoms',\n",
       "  'all',\n",
       "  'they',\n",
       "  'have',\n",
       "  'taken',\n",
       "  'from',\n",
       "  'us',\n",
       "  'we',\n",
       "  'will',\n",
       "  'have',\n",
       "  'it',\n",
       "  'back'],\n",
       " ['viserys', 'lived', 'for', 'that', 'day'],\n",
       " ['all',\n",
       "  'that',\n",
       "  'daenerys',\n",
       "  'wanted',\n",
       "  'back',\n",
       "  'was',\n",
       "  'the',\n",
       "  'big',\n",
       "  'house',\n",
       "  'with',\n",
       "  'the',\n",
       "  'red',\n",
       "  'door',\n",
       "  'the',\n",
       "  'lemon',\n",
       "  'tree',\n",
       "  'outside',\n",
       "  'her',\n",
       "  'window',\n",
       "  'the',\n",
       "  'childhood',\n",
       "  'she',\n",
       "  'had',\n",
       "  'never',\n",
       "  'known'],\n",
       " ['there', 'came', 'soft', 'knock', 'on', 'her', 'door'],\n",
       " ['come', 'dany', 'said', 'turning', 'away', 'from', 'the', 'window'],\n",
       " ['illyrio',\n",
       "  'servants',\n",
       "  'entered',\n",
       "  'bowed',\n",
       "  'and',\n",
       "  'set',\n",
       "  'about',\n",
       "  'their',\n",
       "  'business'],\n",
       " ['they',\n",
       "  'were',\n",
       "  'slaves',\n",
       "  'gift',\n",
       "  'from',\n",
       "  'one',\n",
       "  'of',\n",
       "  'the',\n",
       "  'magister',\n",
       "  'many',\n",
       "  'dothraki',\n",
       "  'friends'],\n",
       " ['there',\n",
       "  'was',\n",
       "  'no',\n",
       "  'slavery',\n",
       "  'in',\n",
       "  'the',\n",
       "  'free',\n",
       "  'city',\n",
       "  'of',\n",
       "  'pentos'],\n",
       " ['nonetheless', 'they', 'were', 'slaves'],\n",
       " ['the',\n",
       "  'old',\n",
       "  'woman',\n",
       "  'small',\n",
       "  'and',\n",
       "  'grey',\n",
       "  'as',\n",
       "  'mouse',\n",
       "  'never',\n",
       "  'said',\n",
       "  'word',\n",
       "  'but',\n",
       "  'the',\n",
       "  'girl',\n",
       "  'made',\n",
       "  'up',\n",
       "  'for',\n",
       "  'it'],\n",
       " ['she',\n",
       "  'was',\n",
       "  'illyrio',\n",
       "  'favorite',\n",
       "  'fair',\n",
       "  'haired',\n",
       "  'blue',\n",
       "  'eyed',\n",
       "  'wench',\n",
       "  'of',\n",
       "  'sixteen',\n",
       "  'who',\n",
       "  'chattered',\n",
       "  'constantly',\n",
       "  'as',\n",
       "  'she',\n",
       "  'worked'],\n",
       " ['they',\n",
       "  'filled',\n",
       "  'her',\n",
       "  'bath',\n",
       "  'with',\n",
       "  'hot',\n",
       "  'water',\n",
       "  'brought',\n",
       "  'up',\n",
       "  'from',\n",
       "  'the',\n",
       "  'kitchen',\n",
       "  'and',\n",
       "  'scented',\n",
       "  'it',\n",
       "  'with',\n",
       "  'fragrant',\n",
       "  'oils'],\n",
       " ['the',\n",
       "  'girl',\n",
       "  'pulled',\n",
       "  'the',\n",
       "  'rough',\n",
       "  'cotton',\n",
       "  'tunic',\n",
       "  'over',\n",
       "  'dany',\n",
       "  'head',\n",
       "  'and',\n",
       "  'helped',\n",
       "  'her',\n",
       "  'into',\n",
       "  'the',\n",
       "  'tub'],\n",
       " ['the',\n",
       "  'water',\n",
       "  'was',\n",
       "  'scalding',\n",
       "  'hot',\n",
       "  'but',\n",
       "  'daenerys',\n",
       "  'did',\n",
       "  'not',\n",
       "  'flinch',\n",
       "  'or',\n",
       "  'cry',\n",
       "  'out'],\n",
       " ['she', 'liked', 'the', 'heat'],\n",
       " ['it', 'made', 'her', 'feel', 'clean'],\n",
       " ['besides',\n",
       "  'her',\n",
       "  'brother',\n",
       "  'had',\n",
       "  'often',\n",
       "  'told',\n",
       "  'her',\n",
       "  'that',\n",
       "  'it',\n",
       "  'was',\n",
       "  'never',\n",
       "  'too',\n",
       "  'hot',\n",
       "  'for',\n",
       "  'targaryen'],\n",
       " ['ours', 'is', 'the', 'house', 'of', 'the', 'dragon', 'he', 'would', 'say'],\n",
       " ['the', 'fire', 'is', 'in', 'our', 'blood'],\n",
       " ['the',\n",
       "  'old',\n",
       "  'woman',\n",
       "  'washed',\n",
       "  'her',\n",
       "  'long',\n",
       "  'silver',\n",
       "  'pale',\n",
       "  'hair',\n",
       "  'and',\n",
       "  'gently',\n",
       "  'combed',\n",
       "  'out',\n",
       "  'the',\n",
       "  'snags',\n",
       "  'all',\n",
       "  'in',\n",
       "  'silence'],\n",
       " ['the',\n",
       "  'girl',\n",
       "  'scrubbed',\n",
       "  'her',\n",
       "  'back',\n",
       "  'and',\n",
       "  'her',\n",
       "  'feet',\n",
       "  'and',\n",
       "  'told',\n",
       "  'her',\n",
       "  'how',\n",
       "  'lucky',\n",
       "  'she',\n",
       "  'was'],\n",
       " ['drogo',\n",
       "  'is',\n",
       "  'so',\n",
       "  'rich',\n",
       "  'that',\n",
       "  'even',\n",
       "  'his',\n",
       "  'slaves',\n",
       "  'page',\n",
       "  'wear',\n",
       "  'golden',\n",
       "  'collars'],\n",
       " ['hundred',\n",
       "  'thousand',\n",
       "  'men',\n",
       "  'ride',\n",
       "  'in',\n",
       "  'his',\n",
       "  'khalasar',\n",
       "  'and',\n",
       "  'his',\n",
       "  'palace',\n",
       "  'in',\n",
       "  'vaes',\n",
       "  'dothrak',\n",
       "  'has',\n",
       "  'two',\n",
       "  'hundred',\n",
       "  'rooms',\n",
       "  'and',\n",
       "  'doors',\n",
       "  'of',\n",
       "  'solid',\n",
       "  'silver'],\n",
       " ['there',\n",
       "  'was',\n",
       "  'more',\n",
       "  'like',\n",
       "  'that',\n",
       "  'so',\n",
       "  'much',\n",
       "  'more',\n",
       "  'what',\n",
       "  'handsome',\n",
       "  'man',\n",
       "  'the',\n",
       "  'khal',\n",
       "  'was',\n",
       "  'so',\n",
       "  'tall',\n",
       "  'and',\n",
       "  'fierce',\n",
       "  'fearless',\n",
       "  'in',\n",
       "  'battle',\n",
       "  'the',\n",
       "  'best',\n",
       "  'rider',\n",
       "  'ever',\n",
       "  'to',\n",
       "  'mount',\n",
       "  'horse',\n",
       "  'demon',\n",
       "  'archer'],\n",
       " ['daenerys', 'said', 'nothing'],\n",
       " ...]"
      ]
     },
     "execution_count": 48,
     "metadata": {},
     "output_type": "execute_result"
    }
   ],
   "source": [
    "# All sentence are tokenize as mord\n",
    "story"
   ]
  },
  {
   "cell_type": "code",
   "execution_count": 49,
   "metadata": {},
   "outputs": [],
   "source": [
    "model = gensim.models.Word2Vec(window = 10, min_count = 2)"
   ]
  },
  {
   "cell_type": "code",
   "execution_count": 50,
   "metadata": {},
   "outputs": [],
   "source": [
    "model.build_vocab(story)"
   ]
  },
  {
   "cell_type": "code",
   "execution_count": 51,
   "metadata": {},
   "outputs": [
    {
     "data": {
      "text/plain": [
       "(6569685, 8628190)"
      ]
     },
     "execution_count": 51,
     "metadata": {},
     "output_type": "execute_result"
    }
   ],
   "source": [
    "model.train(story, total_examples=model.corpus_count, epochs=model.epochs)"
   ]
  },
  {
   "cell_type": "code",
   "execution_count": 52,
   "metadata": {},
   "outputs": [
    {
     "data": {
      "text/plain": [
       "[('stormborn', 0.800312340259552),\n",
       " ('targaryen', 0.7858951091766357),\n",
       " ('queen', 0.735930860042572),\n",
       " ('myrcella', 0.7356897592544556),\n",
       " ('princess', 0.735521137714386),\n",
       " ('viserys', 0.7259718775749207),\n",
       " ('elia', 0.6986185312271118),\n",
       " ('rhaegar', 0.6819941401481628),\n",
       " ('joffrey', 0.6817288994789124),\n",
       " ('unburnt', 0.6808362007141113)]"
      ]
     },
     "execution_count": 52,
     "metadata": {},
     "output_type": "execute_result"
    }
   ],
   "source": [
    "model.wv.most_similar('daenerys')"
   ]
  },
  {
   "cell_type": "code",
   "execution_count": 53,
   "metadata": {},
   "outputs": [
    {
     "data": {
      "text/plain": [
       "'jon'"
      ]
     },
     "execution_count": 53,
     "metadata": {},
     "output_type": "execute_result"
    }
   ],
   "source": [
    "model.wv.doesnt_match(['jon', 'rikon', 'arya', 'sansa', 'bran'])"
   ]
  },
  {
   "cell_type": "code",
   "execution_count": 54,
   "metadata": {},
   "outputs": [
    {
     "data": {
      "text/plain": [
       "array([ 1.1437025 ,  0.35067835,  0.17739105,  1.0946084 , -0.97487813,\n",
       "       -0.11202899, -0.56083536,  0.23142624, -0.91570634,  0.5027311 ,\n",
       "       -0.78764224,  0.4195598 ,  0.37322325,  2.9085853 , -2.2046905 ,\n",
       "       -1.4559739 ,  0.46064726,  2.9080045 ,  2.4563398 ,  0.70017606,\n",
       "        1.5094241 , -1.5184791 ,  2.4360604 , -3.587201  , -2.732361  ,\n",
       "        3.2725337 , -2.0107243 , -1.089768  ,  1.5575289 ,  0.565759  ,\n",
       "       -2.437194  ,  0.2341967 ,  0.90078795, -2.48994   ,  3.111185  ,\n",
       "       -3.353291  , -2.4177928 , -0.17554836, -0.92818886, -1.361721  ,\n",
       "       -2.3615785 ,  1.9854301 ,  2.6497324 , -0.07664599, -0.9429668 ,\n",
       "       -2.276815  ,  0.5767569 , -2.333045  ,  4.388965  , -2.8090203 ,\n",
       "       -2.4317105 ,  0.10149442, -1.0577363 , -4.5901937 ,  3.9797025 ,\n",
       "       -2.0538068 ,  0.47467184,  2.097472  ,  1.1278131 ,  0.76513475,\n",
       "        0.6859904 ,  0.52166   , -0.19591972,  0.88550466,  1.0619099 ,\n",
       "        0.954916  , -0.5057155 ,  0.6767633 ,  0.6287762 , -0.90149695,\n",
       "       -0.39400393,  0.98364   ,  3.194562  , -1.3736882 ,  1.0501207 ,\n",
       "        0.25951073, -1.5989602 ,  0.05552638, -0.73157454, -1.718052  ,\n",
       "       -1.2523196 ,  3.8029373 , -0.86402035, -0.1259587 , -3.6131988 ,\n",
       "       -0.76530904, -0.05803584,  2.4196703 ,  1.0354961 ,  1.127805  ,\n",
       "        0.5416255 ,  1.9934789 , -1.2302078 , -2.9535296 ,  1.6842217 ,\n",
       "       -0.36166564, -0.94459796, -0.59706974,  0.0758334 ,  2.4568164 ],\n",
       "      dtype=float32)"
      ]
     },
     "execution_count": 54,
     "metadata": {},
     "output_type": "execute_result"
    }
   ],
   "source": [
    "# Vector representation\n",
    "model.wv['king']"
   ]
  },
  {
   "cell_type": "code",
   "execution_count": 55,
   "metadata": {},
   "outputs": [
    {
     "data": {
      "text/plain": [
       "(100,)"
      ]
     },
     "execution_count": 55,
     "metadata": {},
     "output_type": "execute_result"
    }
   ],
   "source": [
    "model.wv['king'].shape"
   ]
  },
  {
   "cell_type": "code",
   "execution_count": 56,
   "metadata": {},
   "outputs": [
    {
     "data": {
      "text/plain": [
       "0.8545062"
      ]
     },
     "execution_count": 56,
     "metadata": {},
     "output_type": "execute_result"
    }
   ],
   "source": [
    "model.wv.similarity('arya', 'sansa')"
   ]
  },
  {
   "cell_type": "code",
   "execution_count": 57,
   "metadata": {},
   "outputs": [
    {
     "data": {
      "text/plain": [
       "0.7657412"
      ]
     },
     "execution_count": 57,
     "metadata": {},
     "output_type": "execute_result"
    }
   ],
   "source": [
    "model.wv.similarity('cersei', 'sansa')"
   ]
  },
  {
   "cell_type": "code",
   "execution_count": 58,
   "metadata": {},
   "outputs": [
    {
     "data": {
      "text/plain": [
       "0.26393506"
      ]
     },
     "execution_count": 58,
     "metadata": {},
     "output_type": "execute_result"
    }
   ],
   "source": [
    "model.wv.similarity('tywin', 'sansa')"
   ]
  },
  {
   "cell_type": "code",
   "execution_count": 59,
   "metadata": {},
   "outputs": [
    {
     "data": {
      "text/plain": [
       "array([[-0.12132154, -0.05359378,  0.146728  , ..., -0.1259287 ,\n",
       "        -0.00345175,  0.10227226],\n",
       "       [-0.11619111, -0.1885254 ,  0.0769513 , ...,  0.06160102,\n",
       "         0.07477004,  0.01945799],\n",
       "       [ 0.15790734,  0.00295269, -0.10511857, ..., -0.02653498,\n",
       "         0.004055  , -0.04983046],\n",
       "       ...,\n",
       "       [ 0.0863504 ,  0.01509117,  0.04209635, ..., -0.05730309,\n",
       "         0.08181345, -0.19688545],\n",
       "       [-0.06145753,  0.07975351,  0.13290824, ..., -0.02043917,\n",
       "         0.14231522, -0.07041934],\n",
       "       [-0.08620788,  0.08207159,  0.09131005, ..., -0.06212388,\n",
       "         0.11124227, -0.09402774]], dtype=float32)"
      ]
     },
     "execution_count": 59,
     "metadata": {},
     "output_type": "execute_result"
    }
   ],
   "source": [
    "# Dimension of vectors - indexs\n",
    "model.wv.get_normed_vectors()"
   ]
  },
  {
   "cell_type": "code",
   "execution_count": 60,
   "metadata": {},
   "outputs": [
    {
     "data": {
      "text/plain": [
       "(17453, 100)"
      ]
     },
     "execution_count": 60,
     "metadata": {},
     "output_type": "execute_result"
    }
   ],
   "source": [
    "model.wv.get_normed_vectors().shape"
   ]
  },
  {
   "cell_type": "code",
   "execution_count": 61,
   "metadata": {},
   "outputs": [],
   "source": [
    "# converting index to word\n",
    "y = model.wv.index_to_key"
   ]
  },
  {
   "cell_type": "code",
   "execution_count": 62,
   "metadata": {},
   "outputs": [
    {
     "data": {
      "text/plain": [
       "['the',\n",
       " 'and',\n",
       " 'to',\n",
       " 'of',\n",
       " 'he',\n",
       " 'his',\n",
       " 'was',\n",
       " 'you',\n",
       " 'her',\n",
       " 'in',\n",
       " 'it',\n",
       " 'had',\n",
       " 'that',\n",
       " 'she',\n",
       " 'as',\n",
       " 'with',\n",
       " 'him',\n",
       " 'not',\n",
       " 'but',\n",
       " 'for',\n",
       " 'they',\n",
       " 'is',\n",
       " 'at',\n",
       " 'on',\n",
       " 'said',\n",
       " 'my',\n",
       " 'have',\n",
       " 'be',\n",
       " 'lord',\n",
       " 'them',\n",
       " 'no',\n",
       " 'from',\n",
       " 'would',\n",
       " 'were',\n",
       " 'me',\n",
       " 'your',\n",
       " 'one',\n",
       " 'all',\n",
       " 'when',\n",
       " 'will',\n",
       " 'ser',\n",
       " 'if',\n",
       " 'so',\n",
       " 'their',\n",
       " 'we',\n",
       " 'could',\n",
       " 'are',\n",
       " 'man',\n",
       " 'there',\n",
       " 'this',\n",
       " 'up',\n",
       " 'been',\n",
       " 'what',\n",
       " 'did',\n",
       " 'by',\n",
       " 'king',\n",
       " 'do',\n",
       " 'men',\n",
       " 'back',\n",
       " 'out',\n",
       " 'more',\n",
       " 'or',\n",
       " 'who',\n",
       " 'down',\n",
       " 'well',\n",
       " 'than',\n",
       " 'only',\n",
       " 'like',\n",
       " 'jon',\n",
       " 'some',\n",
       " 'father',\n",
       " 'old',\n",
       " 'hand',\n",
       " 'even',\n",
       " 'too',\n",
       " 'tyrion',\n",
       " 'before',\n",
       " 'never',\n",
       " 'an',\n",
       " 'off',\n",
       " 'see',\n",
       " 'know',\n",
       " 'into',\n",
       " 'made',\n",
       " 'now',\n",
       " 'eyes',\n",
       " 'black',\n",
       " 'told',\n",
       " 'lady',\n",
       " 'thought',\n",
       " 'time',\n",
       " 'then',\n",
       " 'how',\n",
       " 'long',\n",
       " 'has',\n",
       " 'can',\n",
       " 'might',\n",
       " 'us',\n",
       " 'come',\n",
       " 'where',\n",
       " 'here',\n",
       " 'through',\n",
       " 'still',\n",
       " 'face',\n",
       " 'head',\n",
       " 'red',\n",
       " 'll',\n",
       " 'way',\n",
       " 'boy',\n",
       " 'page',\n",
       " 'must',\n",
       " 'once',\n",
       " 'queen',\n",
       " 'good',\n",
       " 'two',\n",
       " 'brother',\n",
       " 'night',\n",
       " 'over',\n",
       " 'little',\n",
       " 'about',\n",
       " 'took',\n",
       " 'other',\n",
       " 'came',\n",
       " 'though',\n",
       " 'again',\n",
       " 'say',\n",
       " 'three',\n",
       " 'should',\n",
       " 'away',\n",
       " 'dead',\n",
       " 'son',\n",
       " 'own',\n",
       " 'blood',\n",
       " 'am',\n",
       " 'take',\n",
       " 'go',\n",
       " 'half',\n",
       " 'make',\n",
       " 'arya',\n",
       " 'saw',\n",
       " 'day',\n",
       " 'white',\n",
       " 'jaime',\n",
       " 'first',\n",
       " 'himself',\n",
       " 'our',\n",
       " 'look',\n",
       " 'want',\n",
       " 'after',\n",
       " 'much',\n",
       " 'enough',\n",
       " 'sword',\n",
       " 'tell',\n",
       " 'girl',\n",
       " 'bran',\n",
       " 'great',\n",
       " 'its',\n",
       " 'looked',\n",
       " 'left',\n",
       " 'knew',\n",
       " 'asked',\n",
       " 'gave',\n",
       " 'maester',\n",
       " 'called',\n",
       " 'wall',\n",
       " 'every',\n",
       " 'heard',\n",
       " 'sansa',\n",
       " 'let',\n",
       " 'yet',\n",
       " 'went',\n",
       " 'turned',\n",
       " 'dany',\n",
       " 'why',\n",
       " 'need',\n",
       " 'behind',\n",
       " 'around',\n",
       " 'just',\n",
       " 'woman',\n",
       " 'another',\n",
       " 'snow',\n",
       " 'beneath',\n",
       " 'across',\n",
       " 'knight',\n",
       " 'keep',\n",
       " 'grace',\n",
       " 'found',\n",
       " 'gold',\n",
       " 'any',\n",
       " 'last',\n",
       " 'cersei',\n",
       " 'castle',\n",
       " 'those',\n",
       " 'stark',\n",
       " 'gods',\n",
       " 'think',\n",
       " 'hair',\n",
       " 'many',\n",
       " 'feet',\n",
       " 'against',\n",
       " 'hands',\n",
       " 'stannis',\n",
       " 'mother',\n",
       " 'catelyn',\n",
       " 'robert',\n",
       " 'seemed',\n",
       " 'prince',\n",
       " 'may',\n",
       " 'ever',\n",
       " 'robb',\n",
       " 'done',\n",
       " 'don',\n",
       " 'find',\n",
       " 'lannister',\n",
       " 're',\n",
       " 'hear',\n",
       " 'grey',\n",
       " 'name',\n",
       " 'horse',\n",
       " 'high',\n",
       " 'put',\n",
       " 'stone',\n",
       " 'wine',\n",
       " 'hard',\n",
       " 'water',\n",
       " 'upon',\n",
       " 'fire',\n",
       " 'iron',\n",
       " 'until',\n",
       " 'these',\n",
       " 'voice',\n",
       " 'gone',\n",
       " 'give',\n",
       " 'sam',\n",
       " 'seen',\n",
       " 'better',\n",
       " 'shall',\n",
       " 'ned',\n",
       " 'always',\n",
       " 'years',\n",
       " 'between',\n",
       " 'dark',\n",
       " 'place',\n",
       " 'small',\n",
       " 'cold',\n",
       " 'winterfell',\n",
       " 'most',\n",
       " 'hundred',\n",
       " 'stood',\n",
       " 'end',\n",
       " 'sister',\n",
       " 'words',\n",
       " 'sea',\n",
       " 'right',\n",
       " 'nothing',\n",
       " 'walls',\n",
       " 'fingers',\n",
       " 'same',\n",
       " 'cloak',\n",
       " 'house',\n",
       " 'young',\n",
       " 'does',\n",
       " 'beside',\n",
       " 'get',\n",
       " 'mouth',\n",
       " 'seven',\n",
       " 'watch',\n",
       " 'door',\n",
       " 'joffrey',\n",
       " 'green',\n",
       " 'big',\n",
       " 'under',\n",
       " 'few',\n",
       " 'sent',\n",
       " 'perhaps',\n",
       " 'almost',\n",
       " 'such',\n",
       " 'wanted',\n",
       " 'daughter',\n",
       " 'true',\n",
       " 'while',\n",
       " 'leave',\n",
       " 'city',\n",
       " 'wind',\n",
       " 'light',\n",
       " 'arms',\n",
       " 'children',\n",
       " 'herself',\n",
       " 'sweet',\n",
       " 'others',\n",
       " 'lost',\n",
       " 'theon',\n",
       " 'each',\n",
       " 'felt',\n",
       " 'side',\n",
       " 'yes',\n",
       " 'brothers',\n",
       " 'best',\n",
       " 'very',\n",
       " 'die',\n",
       " 'brought',\n",
       " 'soon',\n",
       " 'far',\n",
       " 'died',\n",
       " 'north',\n",
       " 'child',\n",
       " 'fear',\n",
       " 'along',\n",
       " 'word',\n",
       " 'brienne',\n",
       " 'both',\n",
       " 'taken',\n",
       " 'battle',\n",
       " 'help',\n",
       " 'new',\n",
       " 'tywin',\n",
       " 'davos',\n",
       " 'lords',\n",
       " 'something',\n",
       " 've',\n",
       " 'wife',\n",
       " 'mean',\n",
       " 'rest',\n",
       " 'hall',\n",
       " 'kill',\n",
       " 'strong',\n",
       " 'steel',\n",
       " 'began',\n",
       " 'sound',\n",
       " 'won',\n",
       " 'dragon',\n",
       " 'past',\n",
       " 'life',\n",
       " 'tower',\n",
       " 'killed',\n",
       " 'arm',\n",
       " 'sons',\n",
       " 'tried',\n",
       " 'free',\n",
       " 'thing',\n",
       " 'days',\n",
       " 'bear',\n",
       " 'bloody',\n",
       " 'heart',\n",
       " 'pale',\n",
       " 'love',\n",
       " 'moment',\n",
       " 'sat',\n",
       " 'bring',\n",
       " 'bed',\n",
       " 'close',\n",
       " 'knights',\n",
       " 'cut',\n",
       " 'wolf',\n",
       " 'horses',\n",
       " 'smile',\n",
       " 'death',\n",
       " 'inside',\n",
       " 'four',\n",
       " 'brown',\n",
       " 'dragons',\n",
       " 'hot',\n",
       " 'silver',\n",
       " 'part',\n",
       " 'bastard',\n",
       " 'open',\n",
       " 'nor',\n",
       " 'thousand',\n",
       " 'landing',\n",
       " 'uncle',\n",
       " 'above',\n",
       " 'going',\n",
       " 'blue',\n",
       " 'air',\n",
       " 'captain',\n",
       " 'please',\n",
       " 'laughed',\n",
       " 'river',\n",
       " 'sun',\n",
       " 'rose',\n",
       " 'fell',\n",
       " 'war',\n",
       " 'golden',\n",
       " 'sleep',\n",
       " 'without',\n",
       " 'swords',\n",
       " 'speak',\n",
       " 'renly',\n",
       " 'full',\n",
       " 'fool',\n",
       " 'certain',\n",
       " 'beyond',\n",
       " 'feel',\n",
       " 'send',\n",
       " 'tongue',\n",
       " 'got',\n",
       " 'fight',\n",
       " 'rode',\n",
       " 'set',\n",
       " 'thick',\n",
       " 'throat',\n",
       " 'world',\n",
       " 'deep',\n",
       " 'legs',\n",
       " 'call',\n",
       " 'honor',\n",
       " 'rock',\n",
       " 'trees',\n",
       " 'tall',\n",
       " 'table',\n",
       " 'pulled',\n",
       " 'broken',\n",
       " 'mormont',\n",
       " 'women',\n",
       " 'steps',\n",
       " 'things',\n",
       " 'next',\n",
       " 'hodor',\n",
       " 'heavy',\n",
       " 'burned',\n",
       " 'oh',\n",
       " 'toward',\n",
       " 'together',\n",
       " 'skin',\n",
       " 'given',\n",
       " 'since',\n",
       " 'smiled',\n",
       " 'dwarf',\n",
       " 'alone',\n",
       " 'moved',\n",
       " 'storm',\n",
       " 'raised',\n",
       " 'ride',\n",
       " 'ask',\n",
       " 'hope',\n",
       " 'eye',\n",
       " 'soft',\n",
       " 'reached',\n",
       " 'frey',\n",
       " 'second',\n",
       " 'remember',\n",
       " 'someone',\n",
       " 'remembered',\n",
       " 'coming',\n",
       " 'meant',\n",
       " 'cannot',\n",
       " 'hold',\n",
       " 'morning',\n",
       " 'ten',\n",
       " 'teeth',\n",
       " 'else',\n",
       " 'throne',\n",
       " 'command',\n",
       " 'which',\n",
       " 'fat',\n",
       " 'truth',\n",
       " 'commander',\n",
       " 'walder',\n",
       " 'doubt',\n",
       " 'ground',\n",
       " 'jorah',\n",
       " 'cup',\n",
       " 'outside',\n",
       " 'known',\n",
       " 'wore',\n",
       " 'ran',\n",
       " 'gate',\n",
       " 'room',\n",
       " 'held',\n",
       " 'closed',\n",
       " 'home',\n",
       " 'matter',\n",
       " 'sky',\n",
       " 'south',\n",
       " 'wood',\n",
       " 'dozen',\n",
       " 'wed',\n",
       " 'people',\n",
       " 'neck',\n",
       " 'riverrun',\n",
       " 'food',\n",
       " 'instead',\n",
       " 'near',\n",
       " 'talk',\n",
       " 'turn',\n",
       " 'none',\n",
       " 'ships',\n",
       " 'tyrell',\n",
       " 'below',\n",
       " 'moon',\n",
       " 'summer',\n",
       " 'bolton',\n",
       " 'shadow',\n",
       " 'lips',\n",
       " 'watched',\n",
       " 'times',\n",
       " 'leather',\n",
       " 'varys',\n",
       " 'shoulder',\n",
       " 'septon',\n",
       " 'warm',\n",
       " 'caught',\n",
       " 'believe',\n",
       " 'least',\n",
       " 'guards',\n",
       " 'answer',\n",
       " 'god',\n",
       " 'blade',\n",
       " 'wondered',\n",
       " 'ice',\n",
       " 'opened',\n",
       " 'shield',\n",
       " 'barristan',\n",
       " 'mine',\n",
       " 'armor',\n",
       " 'safe',\n",
       " 'six',\n",
       " 'kept',\n",
       " 'wish',\n",
       " 'return',\n",
       " 'tommen',\n",
       " 'used',\n",
       " 'smell',\n",
       " 'less',\n",
       " 'being',\n",
       " 'foot',\n",
       " 'floor',\n",
       " 'squire',\n",
       " 'eddard',\n",
       " 'empty',\n",
       " 'run',\n",
       " 'followed',\n",
       " 'friends',\n",
       " 'serve',\n",
       " 'beard',\n",
       " 'boys',\n",
       " 'baratheon',\n",
       " 'cloaks',\n",
       " 'wedding',\n",
       " 'eat',\n",
       " 'wrong',\n",
       " 'daenerys',\n",
       " 'ghost',\n",
       " 'sight',\n",
       " 'flesh',\n",
       " 'five',\n",
       " 'hound',\n",
       " 'ship',\n",
       " 'strength',\n",
       " 'returned',\n",
       " 'bones',\n",
       " 'nose',\n",
       " 'crown',\n",
       " 'yellow',\n",
       " 'chest',\n",
       " 'covered',\n",
       " 'says',\n",
       " 'commanded',\n",
       " 'petyr',\n",
       " 'sometimes',\n",
       " 'filled',\n",
       " 'aemon',\n",
       " 'friend',\n",
       " 'led',\n",
       " 'aye',\n",
       " 'common',\n",
       " 'yours',\n",
       " 'flames',\n",
       " 'spoke',\n",
       " 'show',\n",
       " 'fighting',\n",
       " 'asha',\n",
       " 'huge',\n",
       " 'aside',\n",
       " 'lysa',\n",
       " 'crow',\n",
       " 'belly',\n",
       " 'master',\n",
       " 'breath',\n",
       " 'seem',\n",
       " 'yard',\n",
       " 'gates',\n",
       " 'waiting',\n",
       " 'within',\n",
       " 'looking',\n",
       " 'wet',\n",
       " 'wooden',\n",
       " 'realm',\n",
       " 'thin',\n",
       " 'work',\n",
       " 'bad',\n",
       " 'use',\n",
       " 'promised',\n",
       " 'later',\n",
       " 'tree',\n",
       " 'husband',\n",
       " 'grew',\n",
       " 'onto',\n",
       " 'wildlings',\n",
       " 'loved',\n",
       " 'afraid',\n",
       " 'girls',\n",
       " 'greyjoy',\n",
       " 'shoulders',\n",
       " 'rain',\n",
       " 'shouted',\n",
       " 'walked',\n",
       " 'maid',\n",
       " 'mance',\n",
       " 'remained',\n",
       " 'late',\n",
       " 'guard',\n",
       " 'littlefinger',\n",
       " 'meereen',\n",
       " 'liked',\n",
       " 'fall',\n",
       " 'year',\n",
       " 'margaery',\n",
       " 'dog',\n",
       " 'passed',\n",
       " 'hurt',\n",
       " 'balon',\n",
       " 'taste',\n",
       " 'dothraki',\n",
       " 'lay',\n",
       " 'drew',\n",
       " 'spear',\n",
       " 'song',\n",
       " 'realized',\n",
       " 'pushed',\n",
       " 'sure',\n",
       " 'named',\n",
       " 'reach',\n",
       " 'brave',\n",
       " 'stand',\n",
       " 'different',\n",
       " 'finally',\n",
       " 'whispered',\n",
       " 'wolves',\n",
       " 'suddenly',\n",
       " 'poor',\n",
       " 'kingsguard',\n",
       " 'drogo',\n",
       " 'stay',\n",
       " 'arryn',\n",
       " 'stop',\n",
       " 'kingdoms',\n",
       " 'broke',\n",
       " 'ears',\n",
       " 'edmure',\n",
       " 'princess',\n",
       " 'burning',\n",
       " 'faces',\n",
       " 'lannisters',\n",
       " 'dream',\n",
       " 'axe',\n",
       " 'direwolf',\n",
       " 'west',\n",
       " 'tears',\n",
       " 'heir',\n",
       " 'drink',\n",
       " 'clegane',\n",
       " 'darkness',\n",
       " 'either',\n",
       " 'pointed',\n",
       " 'raven',\n",
       " 'hill',\n",
       " 'try',\n",
       " 'forward',\n",
       " 'sworn',\n",
       " 'pain',\n",
       " 'khal',\n",
       " 'lie',\n",
       " 'dagger',\n",
       " 'truly',\n",
       " 'kings',\n",
       " 'seat',\n",
       " 'grown',\n",
       " 'born',\n",
       " 'road',\n",
       " 'harrenhal',\n",
       " 'care',\n",
       " 'bronn',\n",
       " 'round',\n",
       " 'helm',\n",
       " 'feast',\n",
       " 'understand',\n",
       " 'quick',\n",
       " 'pycelle',\n",
       " 'meat',\n",
       " 'amongst',\n",
       " 'lifted',\n",
       " 'longer',\n",
       " 'reminded',\n",
       " 'whilst',\n",
       " 'maybe',\n",
       " 'mountain',\n",
       " 'short',\n",
       " 'step',\n",
       " 'rodrik',\n",
       " 'pretty',\n",
       " 'melisandre',\n",
       " 'ones',\n",
       " 'third',\n",
       " 'bit',\n",
       " 'worse',\n",
       " 'stopped',\n",
       " 'lands',\n",
       " 'aegon',\n",
       " 'sit',\n",
       " 'victarion',\n",
       " 'save',\n",
       " 'sharp',\n",
       " 'knows',\n",
       " 'live',\n",
       " 'smoke',\n",
       " 'whose',\n",
       " 'pray',\n",
       " 'leg',\n",
       " 'window',\n",
       " 'horn',\n",
       " 'younger',\n",
       " 'westeros',\n",
       " 'didn',\n",
       " 'twenty',\n",
       " 'silk',\n",
       " 'heads',\n",
       " 'slaves',\n",
       " 'ago',\n",
       " 'septa',\n",
       " 'pie',\n",
       " 'peace',\n",
       " 'laugh',\n",
       " 'hizdahr',\n",
       " 'mind',\n",
       " 'low',\n",
       " 'bread',\n",
       " 'wants',\n",
       " 'east',\n",
       " 'blind',\n",
       " 'reek',\n",
       " 'mad',\n",
       " 'sooner',\n",
       " 'towers',\n",
       " 'bright',\n",
       " 'myself',\n",
       " 'coin',\n",
       " 'older',\n",
       " 'slain',\n",
       " 'camp',\n",
       " 'making',\n",
       " 'walk',\n",
       " 'drowned',\n",
       " 'served',\n",
       " 'narrow',\n",
       " 'salt',\n",
       " 'point',\n",
       " 'wait',\n",
       " 'glanced',\n",
       " 'cheeks',\n",
       " 'cousin',\n",
       " 'luwin',\n",
       " 'knife',\n",
       " 'targaryen',\n",
       " 'shook',\n",
       " 'touched',\n",
       " 'quiet',\n",
       " 'stepped',\n",
       " 'sort',\n",
       " 'often',\n",
       " 'riding',\n",
       " 'naked',\n",
       " 'twisted',\n",
       " 'loras',\n",
       " 'choice',\n",
       " 'during',\n",
       " 'lion',\n",
       " 'forgotten',\n",
       " 'silence',\n",
       " 'fish',\n",
       " 'kevan',\n",
       " 'ramsay',\n",
       " 'hung',\n",
       " 'read',\n",
       " 'gift',\n",
       " 'running',\n",
       " 'replied',\n",
       " 'fallen',\n",
       " 'large',\n",
       " 'knees',\n",
       " 'silent',\n",
       " 'fought',\n",
       " 'company',\n",
       " 'cat',\n",
       " 'ahead',\n",
       " 'sept',\n",
       " 'needs',\n",
       " 'beautiful',\n",
       " 'rhaegar',\n",
       " 'dogs',\n",
       " 'dawn',\n",
       " 'knee',\n",
       " 'pass',\n",
       " 'dorne',\n",
       " 'casterly',\n",
       " 'mud',\n",
       " 'themselves',\n",
       " 'tully',\n",
       " 'body',\n",
       " 'singer',\n",
       " 'gregor',\n",
       " 'court',\n",
       " 'stupid',\n",
       " 'age',\n",
       " 'meera',\n",
       " 'trying',\n",
       " 'top',\n",
       " 'swear',\n",
       " 'kind',\n",
       " 'offered',\n",
       " 'gendry',\n",
       " 'leaves',\n",
       " 'whole',\n",
       " 'clothes',\n",
       " 'closer',\n",
       " 'anything',\n",
       " 'kiss',\n",
       " 'whatever',\n",
       " 'threw',\n",
       " 'wonder',\n",
       " 'agreed',\n",
       " 'pay',\n",
       " 'answered',\n",
       " 'climbed',\n",
       " 'saying',\n",
       " 'saddle',\n",
       " 'wide',\n",
       " 'stars',\n",
       " 'comes',\n",
       " 'stones',\n",
       " 'chain',\n",
       " 'trust',\n",
       " 'host',\n",
       " 'fair',\n",
       " 'pleased',\n",
       " 'trident',\n",
       " 'yourself',\n",
       " 'yunkai',\n",
       " 'dry',\n",
       " 'hour',\n",
       " 'insisted',\n",
       " 'eight',\n",
       " 'spears',\n",
       " 'dying',\n",
       " 'ear',\n",
       " 'fast',\n",
       " 'carried',\n",
       " 'service',\n",
       " 'doors',\n",
       " 'ought',\n",
       " 'fist',\n",
       " 'woods',\n",
       " 'mail',\n",
       " 'council',\n",
       " 'wasn',\n",
       " 'fine',\n",
       " 'crossed',\n",
       " 'needed',\n",
       " 'join',\n",
       " 'thank',\n",
       " 'milk',\n",
       " 'wildling',\n",
       " 'quentyn',\n",
       " 'finger',\n",
       " 'gilly',\n",
       " 'shadows',\n",
       " 'doing',\n",
       " 'tent',\n",
       " 'win',\n",
       " 'bird',\n",
       " 'land',\n",
       " 'helped',\n",
       " 'boots',\n",
       " 'imp',\n",
       " 'crows',\n",
       " 'names',\n",
       " 'somehow',\n",
       " 'folk',\n",
       " 'kissed',\n",
       " 'winter',\n",
       " 'letter',\n",
       " 'banners',\n",
       " 'screamed',\n",
       " 'angry',\n",
       " 'pink',\n",
       " 'frightened',\n",
       " 'learn',\n",
       " 'alive',\n",
       " 'torch',\n",
       " 'chair',\n",
       " 'eunuch',\n",
       " 'watching',\n",
       " 'daughters',\n",
       " 'tarly',\n",
       " 'dragonstone',\n",
       " 'harm',\n",
       " 'fires',\n",
       " 'learned',\n",
       " 'standing',\n",
       " 'serving',\n",
       " 'easy',\n",
       " 'neither',\n",
       " 'nine',\n",
       " 'wings',\n",
       " 'question',\n",
       " 'drunk',\n",
       " 'sail',\n",
       " 'priest',\n",
       " 'sisters',\n",
       " 'myrcella',\n",
       " 'nodded',\n",
       " 'harbor',\n",
       " 'bone',\n",
       " 'forth',\n",
       " 'warned',\n",
       " 'giant',\n",
       " 'slow',\n",
       " 'field',\n",
       " 'slipped',\n",
       " 'slid',\n",
       " 'slowly',\n",
       " 'bronze',\n",
       " 'dreams',\n",
       " 'falling',\n",
       " 'atop',\n",
       " 'promise',\n",
       " 'rise',\n",
       " 'slave',\n",
       " 'illyrio',\n",
       " 'whore',\n",
       " 'line',\n",
       " 'move',\n",
       " 'flowers',\n",
       " 'pyke',\n",
       " 'makes',\n",
       " 'laughter',\n",
       " 'loose',\n",
       " 'earth',\n",
       " 'grass',\n",
       " 'faced',\n",
       " 'bay',\n",
       " 'declared',\n",
       " 'twice',\n",
       " 'front',\n",
       " 'lived',\n",
       " 'power',\n",
       " 'viserys',\n",
       " 'cell',\n",
       " 'happened',\n",
       " 'because',\n",
       " 'play',\n",
       " 'chains',\n",
       " 'break',\n",
       " 'dance',\n",
       " 'oldtown',\n",
       " 'surely',\n",
       " 'aerys',\n",
       " 'clean',\n",
       " 'claim',\n",
       " 'unless',\n",
       " 'jeyne',\n",
       " 'eyrie',\n",
       " 'cried',\n",
       " 'fresh',\n",
       " 'pair',\n",
       " 'tormund',\n",
       " 'craster',\n",
       " 'laid',\n",
       " 'quite',\n",
       " 'morrow',\n",
       " 'shouting',\n",
       " 'sad',\n",
       " 'game',\n",
       " 'met',\n",
       " 'already',\n",
       " 'rule',\n",
       " 'touch',\n",
       " 'softly',\n",
       " 'woke',\n",
       " 'steward',\n",
       " 'sense',\n",
       " 'afterward',\n",
       " 'count',\n",
       " 'started',\n",
       " 'mounted',\n",
       " 'waters',\n",
       " 'sudden',\n",
       " 'captive',\n",
       " 'hide',\n",
       " 'jojen',\n",
       " ...]"
      ]
     },
     "execution_count": 62,
     "metadata": {},
     "output_type": "execute_result"
    }
   ],
   "source": [
    "y"
   ]
  },
  {
   "cell_type": "code",
   "execution_count": 63,
   "metadata": {},
   "outputs": [],
   "source": [
    "from sklearn.decomposition import PCA"
   ]
  },
  {
   "cell_type": "code",
   "execution_count": 64,
   "metadata": {},
   "outputs": [],
   "source": [
    "# Reduce the dimension from 100 to  3\n",
    "pca = PCA(n_components=3)"
   ]
  },
  {
   "cell_type": "code",
   "execution_count": 65,
   "metadata": {},
   "outputs": [],
   "source": [
    "x = pca.fit_transform(model.wv.get_normed_vectors())"
   ]
  },
  {
   "cell_type": "code",
   "execution_count": 66,
   "metadata": {},
   "outputs": [
    {
     "data": {
      "text/plain": [
       "array([[-0.13456453,  0.6075723 , -0.03881173],\n",
       "       [-0.16798083,  0.3614755 ,  0.03691614],\n",
       "       [ 0.30600417,  0.5527298 ,  0.20862111],\n",
       "       [ 0.00449624,  0.39419374, -0.14382386],\n",
       "       [ 0.12586984,  0.5426256 ,  0.26731047]], dtype=float32)"
      ]
     },
     "execution_count": 66,
     "metadata": {},
     "output_type": "execute_result"
    }
   ],
   "source": [
    "x[:5]"
   ]
  },
  {
   "cell_type": "code",
   "execution_count": 67,
   "metadata": {},
   "outputs": [
    {
     "data": {
      "text/plain": [
       "(17453, 3)"
      ]
     },
     "execution_count": 67,
     "metadata": {},
     "output_type": "execute_result"
    }
   ],
   "source": [
    "x.shape"
   ]
  },
  {
   "cell_type": "code",
   "execution_count": 71,
   "metadata": {},
   "outputs": [
    {
     "data": {
      "application/vnd.plotly.v1+json": {
       "config": {
        "plotlyServerURL": "https://plot.ly"
       },
       "data": [
        {
         "hovertemplate": "color=the<br>0=%{x}<br>1=%{y}<br>2=%{z}<extra></extra>",
         "legendgroup": "the",
         "marker": {
          "color": "#636efa",
          "symbol": "circle"
         },
         "mode": "markers",
         "name": "the",
         "scene": "scene",
         "showlegend": true,
         "type": "scatter3d",
         "x": [
          -0.13456453382968903
         ],
         "y": [
          0.6075723171234131
         ],
         "z": [
          -0.03881172835826874
         ]
        },
        {
         "hovertemplate": "color=and<br>0=%{x}<br>1=%{y}<br>2=%{z}<extra></extra>",
         "legendgroup": "and",
         "marker": {
          "color": "#EF553B",
          "symbol": "circle"
         },
         "mode": "markers",
         "name": "and",
         "scene": "scene",
         "showlegend": true,
         "type": "scatter3d",
         "x": [
          -0.1679808348417282
         ],
         "y": [
          0.36147549748420715
         ],
         "z": [
          0.036916136741638184
         ]
        },
        {
         "hovertemplate": "color=to<br>0=%{x}<br>1=%{y}<br>2=%{z}<extra></extra>",
         "legendgroup": "to",
         "marker": {
          "color": "#00cc96",
          "symbol": "circle"
         },
         "mode": "markers",
         "name": "to",
         "scene": "scene",
         "showlegend": true,
         "type": "scatter3d",
         "x": [
          0.3060041666030884
         ],
         "y": [
          0.5527297854423523
         ],
         "z": [
          0.20862111449241638
         ]
        },
        {
         "hovertemplate": "color=of<br>0=%{x}<br>1=%{y}<br>2=%{z}<extra></extra>",
         "legendgroup": "of",
         "marker": {
          "color": "#ab63fa",
          "symbol": "circle"
         },
         "mode": "markers",
         "name": "of",
         "scene": "scene",
         "showlegend": true,
         "type": "scatter3d",
         "x": [
          0.00449623866006732
         ],
         "y": [
          0.39419373869895935
         ],
         "z": [
          -0.14382386207580566
         ]
        },
        {
         "hovertemplate": "color=he<br>0=%{x}<br>1=%{y}<br>2=%{z}<extra></extra>",
         "legendgroup": "he",
         "marker": {
          "color": "#FFA15A",
          "symbol": "circle"
         },
         "mode": "markers",
         "name": "he",
         "scene": "scene",
         "showlegend": true,
         "type": "scatter3d",
         "x": [
          0.12586984038352966
         ],
         "y": [
          0.5426256060600281
         ],
         "z": [
          0.2673104703426361
         ]
        },
        {
         "hovertemplate": "color=his<br>0=%{x}<br>1=%{y}<br>2=%{z}<extra></extra>",
         "legendgroup": "his",
         "marker": {
          "color": "#19d3f3",
          "symbol": "circle"
         },
         "mode": "markers",
         "name": "his",
         "scene": "scene",
         "showlegend": true,
         "type": "scatter3d",
         "x": [
          -0.027274230495095253
         ],
         "y": [
          0.3197191059589386
         ],
         "z": [
          0.32495513558387756
         ]
        },
        {
         "hovertemplate": "color=was<br>0=%{x}<br>1=%{y}<br>2=%{z}<extra></extra>",
         "legendgroup": "was",
         "marker": {
          "color": "#FF6692",
          "symbol": "circle"
         },
         "mode": "markers",
         "name": "was",
         "scene": "scene",
         "showlegend": true,
         "type": "scatter3d",
         "x": [
          0.11471154540777206
         ],
         "y": [
          0.4171868860721588
         ],
         "z": [
          0.29005125164985657
         ]
        },
        {
         "hovertemplate": "color=you<br>0=%{x}<br>1=%{y}<br>2=%{z}<extra></extra>",
         "legendgroup": "you",
         "marker": {
          "color": "#B6E880",
          "symbol": "circle"
         },
         "mode": "markers",
         "name": "you",
         "scene": "scene",
         "showlegend": true,
         "type": "scatter3d",
         "x": [
          0.5709417462348938
         ],
         "y": [
          0.5817744731903076
         ],
         "z": [
          0.12644901871681213
         ]
        },
        {
         "hovertemplate": "color=her<br>0=%{x}<br>1=%{y}<br>2=%{z}<extra></extra>",
         "legendgroup": "her",
         "marker": {
          "color": "#FF97FF",
          "symbol": "circle"
         },
         "mode": "markers",
         "name": "her",
         "scene": "scene",
         "showlegend": true,
         "type": "scatter3d",
         "x": [
          0.0002508947509340942
         ],
         "y": [
          0.37910741567611694
         ],
         "z": [
          0.33634597063064575
         ]
        },
        {
         "hovertemplate": "color=in<br>0=%{x}<br>1=%{y}<br>2=%{z}<extra></extra>",
         "legendgroup": "in",
         "marker": {
          "color": "#FECB52",
          "symbol": "circle"
         },
         "mode": "markers",
         "name": "in",
         "scene": "scene",
         "showlegend": true,
         "type": "scatter3d",
         "x": [
          -0.07122250646352768
         ],
         "y": [
          0.45473936200141907
         ],
         "z": [
          0.07395533472299576
         ]
        },
        {
         "hovertemplate": "color=it<br>0=%{x}<br>1=%{y}<br>2=%{z}<extra></extra>",
         "legendgroup": "it",
         "marker": {
          "color": "#636efa",
          "symbol": "circle"
         },
         "mode": "markers",
         "name": "it",
         "scene": "scene",
         "showlegend": true,
         "type": "scatter3d",
         "x": [
          0.11592519283294678
         ],
         "y": [
          0.5997227430343628
         ],
         "z": [
          0.25525715947151184
         ]
        },
        {
         "hovertemplate": "color=had<br>0=%{x}<br>1=%{y}<br>2=%{z}<extra></extra>",
         "legendgroup": "had",
         "marker": {
          "color": "#EF553B",
          "symbol": "circle"
         },
         "mode": "markers",
         "name": "had",
         "scene": "scene",
         "showlegend": true,
         "type": "scatter3d",
         "x": [
          0.14140522480010986
         ],
         "y": [
          0.5251409411430359
         ],
         "z": [
          0.16860689222812653
         ]
        },
        {
         "hovertemplate": "color=that<br>0=%{x}<br>1=%{y}<br>2=%{z}<extra></extra>",
         "legendgroup": "that",
         "marker": {
          "color": "#00cc96",
          "symbol": "circle"
         },
         "mode": "markers",
         "name": "that",
         "scene": "scene",
         "showlegend": true,
         "type": "scatter3d",
         "x": [
          0.33607983589172363
         ],
         "y": [
          0.6202768087387085
         ],
         "z": [
          0.06031152606010437
         ]
        },
        {
         "hovertemplate": "color=she<br>0=%{x}<br>1=%{y}<br>2=%{z}<extra></extra>",
         "legendgroup": "she",
         "marker": {
          "color": "#ab63fa",
          "symbol": "circle"
         },
         "mode": "markers",
         "name": "she",
         "scene": "scene",
         "showlegend": true,
         "type": "scatter3d",
         "x": [
          0.07903211563825607
         ],
         "y": [
          0.5243839025497437
         ],
         "z": [
          0.27499863505363464
         ]
        },
        {
         "hovertemplate": "color=as<br>0=%{x}<br>1=%{y}<br>2=%{z}<extra></extra>",
         "legendgroup": "as",
         "marker": {
          "color": "#FFA15A",
          "symbol": "circle"
         },
         "mode": "markers",
         "name": "as",
         "scene": "scene",
         "showlegend": true,
         "type": "scatter3d",
         "x": [
          0.04313933849334717
         ],
         "y": [
          0.484817236661911
         ],
         "z": [
          0.22997406125068665
         ]
        },
        {
         "hovertemplate": "color=with<br>0=%{x}<br>1=%{y}<br>2=%{z}<extra></extra>",
         "legendgroup": "with",
         "marker": {
          "color": "#19d3f3",
          "symbol": "circle"
         },
         "mode": "markers",
         "name": "with",
         "scene": "scene",
         "showlegend": true,
         "type": "scatter3d",
         "x": [
          -0.09810949116945267
         ],
         "y": [
          0.27695029973983765
         ],
         "z": [
          0.185252845287323
         ]
        },
        {
         "hovertemplate": "color=him<br>0=%{x}<br>1=%{y}<br>2=%{z}<extra></extra>",
         "legendgroup": "him",
         "marker": {
          "color": "#FF6692",
          "symbol": "circle"
         },
         "mode": "markers",
         "name": "him",
         "scene": "scene",
         "showlegend": true,
         "type": "scatter3d",
         "x": [
          0.13180895149707794
         ],
         "y": [
          0.5337751507759094
         ],
         "z": [
          0.2896677553653717
         ]
        },
        {
         "hovertemplate": "color=not<br>0=%{x}<br>1=%{y}<br>2=%{z}<extra></extra>",
         "legendgroup": "not",
         "marker": {
          "color": "#B6E880",
          "symbol": "circle"
         },
         "mode": "markers",
         "name": "not",
         "scene": "scene",
         "showlegend": true,
         "type": "scatter3d",
         "x": [
          0.47469910979270935
         ],
         "y": [
          0.5463687181472778
         ],
         "z": [
          0.17295747995376587
         ]
        },
        {
         "hovertemplate": "color=but<br>0=%{x}<br>1=%{y}<br>2=%{z}<extra></extra>",
         "legendgroup": "but",
         "marker": {
          "color": "#FF97FF",
          "symbol": "circle"
         },
         "mode": "markers",
         "name": "but",
         "scene": "scene",
         "showlegend": true,
         "type": "scatter3d",
         "x": [
          0.24213266372680664
         ],
         "y": [
          0.6008739471435547
         ],
         "z": [
          0.1808319389820099
         ]
        },
        {
         "hovertemplate": "color=for<br>0=%{x}<br>1=%{y}<br>2=%{z}<extra></extra>",
         "legendgroup": "for",
         "marker": {
          "color": "#FECB52",
          "symbol": "circle"
         },
         "mode": "markers",
         "name": "for",
         "scene": "scene",
         "showlegend": true,
         "type": "scatter3d",
         "x": [
          0.4444962739944458
         ],
         "y": [
          0.4852205216884613
         ],
         "z": [
          0.18775029480457306
         ]
        },
        {
         "hovertemplate": "color=they<br>0=%{x}<br>1=%{y}<br>2=%{z}<extra></extra>",
         "legendgroup": "they",
         "marker": {
          "color": "#636efa",
          "symbol": "circle"
         },
         "mode": "markers",
         "name": "they",
         "scene": "scene",
         "showlegend": true,
         "type": "scatter3d",
         "x": [
          0.023015331476926804
         ],
         "y": [
          0.6865127086639404
         ],
         "z": [
          -0.08196263760328293
         ]
        },
        {
         "hovertemplate": "color=is<br>0=%{x}<br>1=%{y}<br>2=%{z}<extra></extra>",
         "legendgroup": "is",
         "marker": {
          "color": "#EF553B",
          "symbol": "circle"
         },
         "mode": "markers",
         "name": "is",
         "scene": "scene",
         "showlegend": true,
         "type": "scatter3d",
         "x": [
          0.5885398983955383
         ],
         "y": [
          0.47669294476509094
         ],
         "z": [
          0.13828368484973907
         ]
        },
        {
         "hovertemplate": "color=at<br>0=%{x}<br>1=%{y}<br>2=%{z}<extra></extra>",
         "legendgroup": "at",
         "marker": {
          "color": "#00cc96",
          "symbol": "circle"
         },
         "mode": "markers",
         "name": "at",
         "scene": "scene",
         "showlegend": true,
         "type": "scatter3d",
         "x": [
          0.06027490645647049
         ],
         "y": [
          0.4006381630897522
         ],
         "z": [
          0.3118654787540436
         ]
        },
        {
         "hovertemplate": "color=on<br>0=%{x}<br>1=%{y}<br>2=%{z}<extra></extra>",
         "legendgroup": "on",
         "marker": {
          "color": "#ab63fa",
          "symbol": "circle"
         },
         "mode": "markers",
         "name": "on",
         "scene": "scene",
         "showlegend": true,
         "type": "scatter3d",
         "x": [
          -0.15411269664764404
         ],
         "y": [
          0.48288437724113464
         ],
         "z": [
          0.22959791123867035
         ]
        },
        {
         "hovertemplate": "color=said<br>0=%{x}<br>1=%{y}<br>2=%{z}<extra></extra>",
         "legendgroup": "said",
         "marker": {
          "color": "#FFA15A",
          "symbol": "circle"
         },
         "mode": "markers",
         "name": "said",
         "scene": "scene",
         "showlegend": true,
         "type": "scatter3d",
         "x": [
          0.5567070245742798
         ],
         "y": [
          0.46299999952316284
         ],
         "z": [
          0.4668898582458496
         ]
        },
        {
         "hovertemplate": "color=my<br>0=%{x}<br>1=%{y}<br>2=%{z}<extra></extra>",
         "legendgroup": "my",
         "marker": {
          "color": "#19d3f3",
          "symbol": "circle"
         },
         "mode": "markers",
         "name": "my",
         "scene": "scene",
         "showlegend": true,
         "type": "scatter3d",
         "x": [
          0.49072781205177307
         ],
         "y": [
          0.48682641983032227
         ],
         "z": [
          0.15544933080673218
         ]
        },
        {
         "hovertemplate": "color=have<br>0=%{x}<br>1=%{y}<br>2=%{z}<extra></extra>",
         "legendgroup": "have",
         "marker": {
          "color": "#FF6692",
          "symbol": "circle"
         },
         "mode": "markers",
         "name": "have",
         "scene": "scene",
         "showlegend": true,
         "type": "scatter3d",
         "x": [
          0.4145275950431824
         ],
         "y": [
          0.5988273024559021
         ],
         "z": [
          0.12983529269695282
         ]
        },
        {
         "hovertemplate": "color=be<br>0=%{x}<br>1=%{y}<br>2=%{z}<extra></extra>",
         "legendgroup": "be",
         "marker": {
          "color": "#B6E880",
          "symbol": "circle"
         },
         "mode": "markers",
         "name": "be",
         "scene": "scene",
         "showlegend": true,
         "type": "scatter3d",
         "x": [
          0.40661346912384033
         ],
         "y": [
          0.6417860388755798
         ],
         "z": [
          0.11237423121929169
         ]
        },
        {
         "hovertemplate": "color=lord<br>0=%{x}<br>1=%{y}<br>2=%{z}<extra></extra>",
         "legendgroup": "lord",
         "marker": {
          "color": "#FF97FF",
          "symbol": "circle"
         },
         "mode": "markers",
         "name": "lord",
         "scene": "scene",
         "showlegend": true,
         "type": "scatter3d",
         "x": [
          0.4856005012989044
         ],
         "y": [
          0.44881024956703186
         ],
         "z": [
          0.054550204426050186
         ]
        },
        {
         "hovertemplate": "color=them<br>0=%{x}<br>1=%{y}<br>2=%{z}<extra></extra>",
         "legendgroup": "them",
         "marker": {
          "color": "#FECB52",
          "symbol": "circle"
         },
         "mode": "markers",
         "name": "them",
         "scene": "scene",
         "showlegend": true,
         "type": "scatter3d",
         "x": [
          0.005516327917575836
         ],
         "y": [
          0.6711122393608093
         ],
         "z": [
          -0.017164088785648346
         ]
        },
        {
         "hovertemplate": "color=no<br>0=%{x}<br>1=%{y}<br>2=%{z}<extra></extra>",
         "legendgroup": "no",
         "marker": {
          "color": "#636efa",
          "symbol": "circle"
         },
         "mode": "markers",
         "name": "no",
         "scene": "scene",
         "showlegend": true,
         "type": "scatter3d",
         "x": [
          0.41563302278518677
         ],
         "y": [
          0.5355094075202942
         ],
         "z": [
          0.06482893228530884
         ]
        },
        {
         "hovertemplate": "color=from<br>0=%{x}<br>1=%{y}<br>2=%{z}<extra></extra>",
         "legendgroup": "from",
         "marker": {
          "color": "#EF553B",
          "symbol": "circle"
         },
         "mode": "markers",
         "name": "from",
         "scene": "scene",
         "showlegend": true,
         "type": "scatter3d",
         "x": [
          -0.17148098349571228
         ],
         "y": [
          0.47640934586524963
         ],
         "z": [
          0.16129696369171143
         ]
        },
        {
         "hovertemplate": "color=would<br>0=%{x}<br>1=%{y}<br>2=%{z}<extra></extra>",
         "legendgroup": "would",
         "marker": {
          "color": "#00cc96",
          "symbol": "circle"
         },
         "mode": "markers",
         "name": "would",
         "scene": "scene",
         "showlegend": true,
         "type": "scatter3d",
         "x": [
          0.4022047221660614
         ],
         "y": [
          0.5426028370857239
         ],
         "z": [
          0.2175942063331604
         ]
        },
        {
         "hovertemplate": "color=were<br>0=%{x}<br>1=%{y}<br>2=%{z}<extra></extra>",
         "legendgroup": "were",
         "marker": {
          "color": "#ab63fa",
          "symbol": "circle"
         },
         "mode": "markers",
         "name": "were",
         "scene": "scene",
         "showlegend": true,
         "type": "scatter3d",
         "x": [
          -0.02420191466808319
         ],
         "y": [
          0.5103376507759094
         ],
         "z": [
          0.017433222383260727
         ]
        },
        {
         "hovertemplate": "color=me<br>0=%{x}<br>1=%{y}<br>2=%{z}<extra></extra>",
         "legendgroup": "me",
         "marker": {
          "color": "#FFA15A",
          "symbol": "circle"
         },
         "mode": "markers",
         "name": "me",
         "scene": "scene",
         "showlegend": true,
         "type": "scatter3d",
         "x": [
          0.5177461504936218
         ],
         "y": [
          0.551569402217865
         ],
         "z": [
          0.18073034286499023
         ]
        },
        {
         "hovertemplate": "color=your<br>0=%{x}<br>1=%{y}<br>2=%{z}<extra></extra>",
         "legendgroup": "your",
         "marker": {
          "color": "#19d3f3",
          "symbol": "circle"
         },
         "mode": "markers",
         "name": "your",
         "scene": "scene",
         "showlegend": true,
         "type": "scatter3d",
         "x": [
          0.47447991371154785
         ],
         "y": [
          0.4567825198173523
         ],
         "z": [
          0.16622085869312286
         ]
        },
        {
         "hovertemplate": "color=one<br>0=%{x}<br>1=%{y}<br>2=%{z}<extra></extra>",
         "legendgroup": "one",
         "marker": {
          "color": "#FF6692",
          "symbol": "circle"
         },
         "mode": "markers",
         "name": "one",
         "scene": "scene",
         "showlegend": true,
         "type": "scatter3d",
         "x": [
          0.06839537620544434
         ],
         "y": [
          0.5932016968727112
         ],
         "z": [
          0.1072106808423996
         ]
        },
        {
         "hovertemplate": "color=all<br>0=%{x}<br>1=%{y}<br>2=%{z}<extra></extra>",
         "legendgroup": "all",
         "marker": {
          "color": "#B6E880",
          "symbol": "circle"
         },
         "mode": "markers",
         "name": "all",
         "scene": "scene",
         "showlegend": true,
         "type": "scatter3d",
         "x": [
          0.22433164715766907
         ],
         "y": [
          0.686616837978363
         ],
         "z": [
          -0.02680135890841484
         ]
        },
        {
         "hovertemplate": "color=when<br>0=%{x}<br>1=%{y}<br>2=%{z}<extra></extra>",
         "legendgroup": "when",
         "marker": {
          "color": "#FF97FF",
          "symbol": "circle"
         },
         "mode": "markers",
         "name": "when",
         "scene": "scene",
         "showlegend": true,
         "type": "scatter3d",
         "x": [
          0.13473841547966003
         ],
         "y": [
          0.5831964015960693
         ],
         "z": [
          0.31171944737434387
         ]
        },
        {
         "hovertemplate": "color=will<br>0=%{x}<br>1=%{y}<br>2=%{z}<extra></extra>",
         "legendgroup": "will",
         "marker": {
          "color": "#FECB52",
          "symbol": "circle"
         },
         "mode": "markers",
         "name": "will",
         "scene": "scene",
         "showlegend": true,
         "type": "scatter3d",
         "x": [
          0.5124862790107727
         ],
         "y": [
          0.5153733491897583
         ],
         "z": [
          0.16975820064544678
         ]
        },
        {
         "hovertemplate": "color=ser<br>0=%{x}<br>1=%{y}<br>2=%{z}<extra></extra>",
         "legendgroup": "ser",
         "marker": {
          "color": "#636efa",
          "symbol": "circle"
         },
         "mode": "markers",
         "name": "ser",
         "scene": "scene",
         "showlegend": true,
         "type": "scatter3d",
         "x": [
          0.40332046151161194
         ],
         "y": [
          0.29758358001708984
         ],
         "z": [
          0.12261667102575302
         ]
        },
        {
         "hovertemplate": "color=if<br>0=%{x}<br>1=%{y}<br>2=%{z}<extra></extra>",
         "legendgroup": "if",
         "marker": {
          "color": "#EF553B",
          "symbol": "circle"
         },
         "mode": "markers",
         "name": "if",
         "scene": "scene",
         "showlegend": true,
         "type": "scatter3d",
         "x": [
          0.4110090732574463
         ],
         "y": [
          0.6219943165779114
         ],
         "z": [
          0.28162550926208496
         ]
        },
        {
         "hovertemplate": "color=so<br>0=%{x}<br>1=%{y}<br>2=%{z}<extra></extra>",
         "legendgroup": "so",
         "marker": {
          "color": "#00cc96",
          "symbol": "circle"
         },
         "mode": "markers",
         "name": "so",
         "scene": "scene",
         "showlegend": true,
         "type": "scatter3d",
         "x": [
          0.18355555832386017
         ],
         "y": [
          0.552524209022522
         ],
         "z": [
          0.2658465802669525
         ]
        },
        {
         "hovertemplate": "color=their<br>0=%{x}<br>1=%{y}<br>2=%{z}<extra></extra>",
         "legendgroup": "their",
         "marker": {
          "color": "#ab63fa",
          "symbol": "circle"
         },
         "mode": "markers",
         "name": "their",
         "scene": "scene",
         "showlegend": true,
         "type": "scatter3d",
         "x": [
          -0.06435784697532654
         ],
         "y": [
          0.5397764444351196
         ],
         "z": [
          -0.17686249315738678
         ]
        },
        {
         "hovertemplate": "color=we<br>0=%{x}<br>1=%{y}<br>2=%{z}<extra></extra>",
         "legendgroup": "we",
         "marker": {
          "color": "#FFA15A",
          "symbol": "circle"
         },
         "mode": "markers",
         "name": "we",
         "scene": "scene",
         "showlegend": true,
         "type": "scatter3d",
         "x": [
          0.3756200671195984
         ],
         "y": [
          0.7158991694450378
         ],
         "z": [
          -0.0499025397002697
         ]
        },
        {
         "hovertemplate": "color=could<br>0=%{x}<br>1=%{y}<br>2=%{z}<extra></extra>",
         "legendgroup": "could",
         "marker": {
          "color": "#19d3f3",
          "symbol": "circle"
         },
         "mode": "markers",
         "name": "could",
         "scene": "scene",
         "showlegend": true,
         "type": "scatter3d",
         "x": [
          0.11430415511131287
         ],
         "y": [
          0.48878228664398193
         ],
         "z": [
          0.2724035084247589
         ]
        },
        {
         "hovertemplate": "color=are<br>0=%{x}<br>1=%{y}<br>2=%{z}<extra></extra>",
         "legendgroup": "are",
         "marker": {
          "color": "#FF6692",
          "symbol": "circle"
         },
         "mode": "markers",
         "name": "are",
         "scene": "scene",
         "showlegend": true,
         "type": "scatter3d",
         "x": [
          0.422639936208725
         ],
         "y": [
          0.5218647122383118
         ],
         "z": [
          -0.017559736967086792
         ]
        },
        {
         "hovertemplate": "color=man<br>0=%{x}<br>1=%{y}<br>2=%{z}<extra></extra>",
         "legendgroup": "man",
         "marker": {
          "color": "#B6E880",
          "symbol": "circle"
         },
         "mode": "markers",
         "name": "man",
         "scene": "scene",
         "showlegend": true,
         "type": "scatter3d",
         "x": [
          0.1478700488805771
         ],
         "y": [
          0.5063649415969849
         ],
         "z": [
          0.12661607563495636
         ]
        },
        {
         "hovertemplate": "color=there<br>0=%{x}<br>1=%{y}<br>2=%{z}<extra></extra>",
         "legendgroup": "there",
         "marker": {
          "color": "#FF97FF",
          "symbol": "circle"
         },
         "mode": "markers",
         "name": "there",
         "scene": "scene",
         "showlegend": true,
         "type": "scatter3d",
         "x": [
          0.10794370621442795
         ],
         "y": [
          0.621471643447876
         ],
         "z": [
          -0.015730727463960648
         ]
        },
        {
         "hovertemplate": "color=this<br>0=%{x}<br>1=%{y}<br>2=%{z}<extra></extra>",
         "legendgroup": "this",
         "marker": {
          "color": "#FECB52",
          "symbol": "circle"
         },
         "mode": "markers",
         "name": "this",
         "scene": "scene",
         "showlegend": true,
         "type": "scatter3d",
         "x": [
          0.44199204444885254
         ],
         "y": [
          0.6240665912628174
         ],
         "z": [
          0.09992435574531555
         ]
        },
        {
         "hovertemplate": "color=up<br>0=%{x}<br>1=%{y}<br>2=%{z}<extra></extra>",
         "legendgroup": "up",
         "marker": {
          "color": "#636efa",
          "symbol": "circle"
         },
         "mode": "markers",
         "name": "up",
         "scene": "scene",
         "showlegend": true,
         "type": "scatter3d",
         "x": [
          -0.3796427249908447
         ],
         "y": [
          0.5616859197616577
         ],
         "z": [
          0.3279746472835541
         ]
        },
        {
         "hovertemplate": "color=been<br>0=%{x}<br>1=%{y}<br>2=%{z}<extra></extra>",
         "legendgroup": "been",
         "marker": {
          "color": "#EF553B",
          "symbol": "circle"
         },
         "mode": "markers",
         "name": "been",
         "scene": "scene",
         "showlegend": true,
         "type": "scatter3d",
         "x": [
          0.18978266417980194
         ],
         "y": [
          0.5476351380348206
         ],
         "z": [
          0.13505826890468597
         ]
        },
        {
         "hovertemplate": "color=what<br>0=%{x}<br>1=%{y}<br>2=%{z}<extra></extra>",
         "legendgroup": "what",
         "marker": {
          "color": "#00cc96",
          "symbol": "circle"
         },
         "mode": "markers",
         "name": "what",
         "scene": "scene",
         "showlegend": true,
         "type": "scatter3d",
         "x": [
          0.4120056927204132
         ],
         "y": [
          0.6090094447135925
         ],
         "z": [
          0.08679834008216858
         ]
        },
        {
         "hovertemplate": "color=did<br>0=%{x}<br>1=%{y}<br>2=%{z}<extra></extra>",
         "legendgroup": "did",
         "marker": {
          "color": "#ab63fa",
          "symbol": "circle"
         },
         "mode": "markers",
         "name": "did",
         "scene": "scene",
         "showlegend": true,
         "type": "scatter3d",
         "x": [
          0.4011228084564209
         ],
         "y": [
          0.4314594566822052
         ],
         "z": [
          0.3689802587032318
         ]
        },
        {
         "hovertemplate": "color=by<br>0=%{x}<br>1=%{y}<br>2=%{z}<extra></extra>",
         "legendgroup": "by",
         "marker": {
          "color": "#FFA15A",
          "symbol": "circle"
         },
         "mode": "markers",
         "name": "by",
         "scene": "scene",
         "showlegend": true,
         "type": "scatter3d",
         "x": [
          0.020576711744070053
         ],
         "y": [
          0.4859907329082489
         ],
         "z": [
          0.029721630737185478
         ]
        },
        {
         "hovertemplate": "color=king<br>0=%{x}<br>1=%{y}<br>2=%{z}<extra></extra>",
         "legendgroup": "king",
         "marker": {
          "color": "#19d3f3",
          "symbol": "circle"
         },
         "mode": "markers",
         "name": "king",
         "scene": "scene",
         "showlegend": true,
         "type": "scatter3d",
         "x": [
          0.3902581036090851
         ],
         "y": [
          0.6658670902252197
         ],
         "z": [
          0.03159084916114807
         ]
        },
        {
         "hovertemplate": "color=do<br>0=%{x}<br>1=%{y}<br>2=%{z}<extra></extra>",
         "legendgroup": "do",
         "marker": {
          "color": "#FF6692",
          "symbol": "circle"
         },
         "mode": "markers",
         "name": "do",
         "scene": "scene",
         "showlegend": true,
         "type": "scatter3d",
         "x": [
          0.5705644488334656
         ],
         "y": [
          0.49995139241218567
         ],
         "z": [
          0.2666553854942322
         ]
        },
        {
         "hovertemplate": "color=men<br>0=%{x}<br>1=%{y}<br>2=%{z}<extra></extra>",
         "legendgroup": "men",
         "marker": {
          "color": "#B6E880",
          "symbol": "circle"
         },
         "mode": "markers",
         "name": "men",
         "scene": "scene",
         "showlegend": true,
         "type": "scatter3d",
         "x": [
          0.11923439800739288
         ],
         "y": [
          0.7342730164527893
         ],
         "z": [
          -0.26217585802078247
         ]
        },
        {
         "hovertemplate": "color=back<br>0=%{x}<br>1=%{y}<br>2=%{z}<extra></extra>",
         "legendgroup": "back",
         "marker": {
          "color": "#FF97FF",
          "symbol": "circle"
         },
         "mode": "markers",
         "name": "back",
         "scene": "scene",
         "showlegend": true,
         "type": "scatter3d",
         "x": [
          -0.16534821689128876
         ],
         "y": [
          0.6147246956825256
         ],
         "z": [
          0.44931674003601074
         ]
        },
        {
         "hovertemplate": "color=out<br>0=%{x}<br>1=%{y}<br>2=%{z}<extra></extra>",
         "legendgroup": "out",
         "marker": {
          "color": "#FECB52",
          "symbol": "circle"
         },
         "mode": "markers",
         "name": "out",
         "scene": "scene",
         "showlegend": true,
         "type": "scatter3d",
         "x": [
          -0.23000770807266235
         ],
         "y": [
          0.5615018606185913
         ],
         "z": [
          0.3244091272354126
         ]
        },
        {
         "hovertemplate": "color=more<br>0=%{x}<br>1=%{y}<br>2=%{z}<extra></extra>",
         "legendgroup": "more",
         "marker": {
          "color": "#636efa",
          "symbol": "circle"
         },
         "mode": "markers",
         "name": "more",
         "scene": "scene",
         "showlegend": true,
         "type": "scatter3d",
         "x": [
          0.24308504164218903
         ],
         "y": [
          0.5679439306259155
         ],
         "z": [
          0.03543918952345848
         ]
        },
        {
         "hovertemplate": "color=or<br>0=%{x}<br>1=%{y}<br>2=%{z}<extra></extra>",
         "legendgroup": "or",
         "marker": {
          "color": "#EF553B",
          "symbol": "circle"
         },
         "mode": "markers",
         "name": "or",
         "scene": "scene",
         "showlegend": true,
         "type": "scatter3d",
         "x": [
          0.3676014244556427
         ],
         "y": [
          0.5672879219055176
         ],
         "z": [
          0.06201116368174553
         ]
        },
        {
         "hovertemplate": "color=who<br>0=%{x}<br>1=%{y}<br>2=%{z}<extra></extra>",
         "legendgroup": "who",
         "marker": {
          "color": "#00cc96",
          "symbol": "circle"
         },
         "mode": "markers",
         "name": "who",
         "scene": "scene",
         "showlegend": true,
         "type": "scatter3d",
         "x": [
          0.44437822699546814
         ],
         "y": [
          0.6127997636795044
         ],
         "z": [
          -0.10936364531517029
         ]
        },
        {
         "hovertemplate": "color=down<br>0=%{x}<br>1=%{y}<br>2=%{z}<extra></extra>",
         "legendgroup": "down",
         "marker": {
          "color": "#ab63fa",
          "symbol": "circle"
         },
         "mode": "markers",
         "name": "down",
         "scene": "scene",
         "showlegend": true,
         "type": "scatter3d",
         "x": [
          -0.40902626514434814
         ],
         "y": [
          0.5832825899124146
         ],
         "z": [
          0.3852517902851105
         ]
        },
        {
         "hovertemplate": "color=well<br>0=%{x}<br>1=%{y}<br>2=%{z}<extra></extra>",
         "legendgroup": "well",
         "marker": {
          "color": "#FFA15A",
          "symbol": "circle"
         },
         "mode": "markers",
         "name": "well",
         "scene": "scene",
         "showlegend": true,
         "type": "scatter3d",
         "x": [
          0.3606664836406708
         ],
         "y": [
          0.5791768431663513
         ],
         "z": [
          0.044292889535427094
         ]
        },
        {
         "hovertemplate": "color=than<br>0=%{x}<br>1=%{y}<br>2=%{z}<extra></extra>",
         "legendgroup": "than",
         "marker": {
          "color": "#19d3f3",
          "symbol": "circle"
         },
         "mode": "markers",
         "name": "than",
         "scene": "scene",
         "showlegend": true,
         "type": "scatter3d",
         "x": [
          0.2123403251171112
         ],
         "y": [
          0.4628673791885376
         ],
         "z": [
          0.13983003795146942
         ]
        },
        {
         "hovertemplate": "color=only<br>0=%{x}<br>1=%{y}<br>2=%{z}<extra></extra>",
         "legendgroup": "only",
         "marker": {
          "color": "#FF6692",
          "symbol": "circle"
         },
         "mode": "markers",
         "name": "only",
         "scene": "scene",
         "showlegend": true,
         "type": "scatter3d",
         "x": [
          0.302869975566864
         ],
         "y": [
          0.5750250816345215
         ],
         "z": [
          0.022325001657009125
         ]
        },
        {
         "hovertemplate": "color=like<br>0=%{x}<br>1=%{y}<br>2=%{z}<extra></extra>",
         "legendgroup": "like",
         "marker": {
          "color": "#B6E880",
          "symbol": "circle"
         },
         "mode": "markers",
         "name": "like",
         "scene": "scene",
         "showlegend": true,
         "type": "scatter3d",
         "x": [
          -0.04796885699033737
         ],
         "y": [
          0.3631933331489563
         ],
         "z": [
          0.2329440861940384
         ]
        },
        {
         "hovertemplate": "color=jon<br>0=%{x}<br>1=%{y}<br>2=%{z}<extra></extra>",
         "legendgroup": "jon",
         "marker": {
          "color": "#FF97FF",
          "symbol": "circle"
         },
         "mode": "markers",
         "name": "jon",
         "scene": "scene",
         "showlegend": true,
         "type": "scatter3d",
         "x": [
          0.06613459438085556
         ],
         "y": [
          0.4144337475299835
         ],
         "z": [
          0.24872244894504547
         ]
        },
        {
         "hovertemplate": "color=some<br>0=%{x}<br>1=%{y}<br>2=%{z}<extra></extra>",
         "legendgroup": "some",
         "marker": {
          "color": "#FECB52",
          "symbol": "circle"
         },
         "mode": "markers",
         "name": "some",
         "scene": "scene",
         "showlegend": true,
         "type": "scatter3d",
         "x": [
          0.1354132890701294
         ],
         "y": [
          0.5204095244407654
         ],
         "z": [
          -0.15091004967689514
         ]
        },
        {
         "hovertemplate": "color=father<br>0=%{x}<br>1=%{y}<br>2=%{z}<extra></extra>",
         "legendgroup": "father",
         "marker": {
          "color": "#636efa",
          "symbol": "circle"
         },
         "mode": "markers",
         "name": "father",
         "scene": "scene",
         "showlegend": true,
         "type": "scatter3d",
         "x": [
          0.5000309348106384
         ],
         "y": [
          0.6377949118614197
         ],
         "z": [
          0.15135639905929565
         ]
        },
        {
         "hovertemplate": "color=old<br>0=%{x}<br>1=%{y}<br>2=%{z}<extra></extra>",
         "legendgroup": "old",
         "marker": {
          "color": "#EF553B",
          "symbol": "circle"
         },
         "mode": "markers",
         "name": "old",
         "scene": "scene",
         "showlegend": true,
         "type": "scatter3d",
         "x": [
          0.16241376101970673
         ],
         "y": [
          0.4103267788887024
         ],
         "z": [
          -0.005037050228565931
         ]
        },
        {
         "hovertemplate": "color=hand<br>0=%{x}<br>1=%{y}<br>2=%{z}<extra></extra>",
         "legendgroup": "hand",
         "marker": {
          "color": "#00cc96",
          "symbol": "circle"
         },
         "mode": "markers",
         "name": "hand",
         "scene": "scene",
         "showlegend": true,
         "type": "scatter3d",
         "x": [
          -0.030418390408158302
         ],
         "y": [
          0.5065800547599792
         ],
         "z": [
          0.47673922777175903
         ]
        },
        {
         "hovertemplate": "color=even<br>0=%{x}<br>1=%{y}<br>2=%{z}<extra></extra>",
         "legendgroup": "even",
         "marker": {
          "color": "#ab63fa",
          "symbol": "circle"
         },
         "mode": "markers",
         "name": "even",
         "scene": "scene",
         "showlegend": true,
         "type": "scatter3d",
         "x": [
          0.18339231610298157
         ],
         "y": [
          0.532539963722229
         ],
         "z": [
          0.0491422601044178
         ]
        },
        {
         "hovertemplate": "color=too<br>0=%{x}<br>1=%{y}<br>2=%{z}<extra></extra>",
         "legendgroup": "too",
         "marker": {
          "color": "#FFA15A",
          "symbol": "circle"
         },
         "mode": "markers",
         "name": "too",
         "scene": "scene",
         "showlegend": true,
         "type": "scatter3d",
         "x": [
          0.2481556534767151
         ],
         "y": [
          0.4593219757080078
         ],
         "z": [
          0.2044304609298706
         ]
        },
        {
         "hovertemplate": "color=tyrion<br>0=%{x}<br>1=%{y}<br>2=%{z}<extra></extra>",
         "legendgroup": "tyrion",
         "marker": {
          "color": "#19d3f3",
          "symbol": "circle"
         },
         "mode": "markers",
         "name": "tyrion",
         "scene": "scene",
         "showlegend": true,
         "type": "scatter3d",
         "x": [
          0.15487581491470337
         ],
         "y": [
          0.2954845428466797
         ],
         "z": [
          0.33502721786499023
         ]
        },
        {
         "hovertemplate": "color=before<br>0=%{x}<br>1=%{y}<br>2=%{z}<extra></extra>",
         "legendgroup": "before",
         "marker": {
          "color": "#FF6692",
          "symbol": "circle"
         },
         "mode": "markers",
         "name": "before",
         "scene": "scene",
         "showlegend": true,
         "type": "scatter3d",
         "x": [
          0.1499047428369522
         ],
         "y": [
          0.6714539527893066
         ],
         "z": [
          0.25320857763290405
         ]
        },
        {
         "hovertemplate": "color=never<br>0=%{x}<br>1=%{y}<br>2=%{z}<extra></extra>",
         "legendgroup": "never",
         "marker": {
          "color": "#B6E880",
          "symbol": "circle"
         },
         "mode": "markers",
         "name": "never",
         "scene": "scene",
         "showlegend": true,
         "type": "scatter3d",
         "x": [
          0.4861140549182892
         ],
         "y": [
          0.5611080527305603
         ],
         "z": [
          0.20551860332489014
         ]
        },
        {
         "hovertemplate": "color=an<br>0=%{x}<br>1=%{y}<br>2=%{z}<extra></extra>",
         "legendgroup": "an",
         "marker": {
          "color": "#FF97FF",
          "symbol": "circle"
         },
         "mode": "markers",
         "name": "an",
         "scene": "scene",
         "showlegend": true,
         "type": "scatter3d",
         "x": [
          0.04553092643618584
         ],
         "y": [
          0.37918010354042053
         ],
         "z": [
          0.0775822177529335
         ]
        },
        {
         "hovertemplate": "color=off<br>0=%{x}<br>1=%{y}<br>2=%{z}<extra></extra>",
         "legendgroup": "off",
         "marker": {
          "color": "#FECB52",
          "symbol": "circle"
         },
         "mode": "markers",
         "name": "off",
         "scene": "scene",
         "showlegend": true,
         "type": "scatter3d",
         "x": [
          -0.28327304124832153
         ],
         "y": [
          0.4208088517189026
         ],
         "z": [
          0.4334196448326111
         ]
        },
        {
         "hovertemplate": "color=see<br>0=%{x}<br>1=%{y}<br>2=%{z}<extra></extra>",
         "legendgroup": "see",
         "marker": {
          "color": "#636efa",
          "symbol": "circle"
         },
         "mode": "markers",
         "name": "see",
         "scene": "scene",
         "showlegend": true,
         "type": "scatter3d",
         "x": [
          0.18219423294067383
         ],
         "y": [
          0.6349578499794006
         ],
         "z": [
          0.3548990786075592
         ]
        },
        {
         "hovertemplate": "color=know<br>0=%{x}<br>1=%{y}<br>2=%{z}<extra></extra>",
         "legendgroup": "know",
         "marker": {
          "color": "#EF553B",
          "symbol": "circle"
         },
         "mode": "markers",
         "name": "know",
         "scene": "scene",
         "showlegend": true,
         "type": "scatter3d",
         "x": [
          0.5918291807174683
         ],
         "y": [
          0.5398234128952026
         ],
         "z": [
          0.19634555280208588
         ]
        },
        {
         "hovertemplate": "color=into<br>0=%{x}<br>1=%{y}<br>2=%{z}<extra></extra>",
         "legendgroup": "into",
         "marker": {
          "color": "#00cc96",
          "symbol": "circle"
         },
         "mode": "markers",
         "name": "into",
         "scene": "scene",
         "showlegend": true,
         "type": "scatter3d",
         "x": [
          -0.3862462341785431
         ],
         "y": [
          0.4207786023616791
         ],
         "z": [
          0.3956688940525055
         ]
        },
        {
         "hovertemplate": "color=made<br>0=%{x}<br>1=%{y}<br>2=%{z}<extra></extra>",
         "legendgroup": "made",
         "marker": {
          "color": "#ab63fa",
          "symbol": "circle"
         },
         "mode": "markers",
         "name": "made",
         "scene": "scene",
         "showlegend": true,
         "type": "scatter3d",
         "x": [
          0.0578741654753685
         ],
         "y": [
          0.3542831838130951
         ],
         "z": [
          0.38545387983322144
         ]
        },
        {
         "hovertemplate": "color=now<br>0=%{x}<br>1=%{y}<br>2=%{z}<extra></extra>",
         "legendgroup": "now",
         "marker": {
          "color": "#FFA15A",
          "symbol": "circle"
         },
         "mode": "markers",
         "name": "now",
         "scene": "scene",
         "showlegend": true,
         "type": "scatter3d",
         "x": [
          0.3619363009929657
         ],
         "y": [
          0.6570490002632141
         ],
         "z": [
          0.17005081474781036
         ]
        },
        {
         "hovertemplate": "color=eyes<br>0=%{x}<br>1=%{y}<br>2=%{z}<extra></extra>",
         "legendgroup": "eyes",
         "marker": {
          "color": "#19d3f3",
          "symbol": "circle"
         },
         "mode": "markers",
         "name": "eyes",
         "scene": "scene",
         "showlegend": true,
         "type": "scatter3d",
         "x": [
          -0.1397717148065567
         ],
         "y": [
          0.48657160997390747
         ],
         "z": [
          0.36217498779296875
         ]
        },
        {
         "hovertemplate": "color=black<br>0=%{x}<br>1=%{y}<br>2=%{z}<extra></extra>",
         "legendgroup": "black",
         "marker": {
          "color": "#FF6692",
          "symbol": "circle"
         },
         "mode": "markers",
         "name": "black",
         "scene": "scene",
         "showlegend": true,
         "type": "scatter3d",
         "x": [
          -0.37962934374809265
         ],
         "y": [
          0.4079616665840149
         ],
         "z": [
          -0.06917431950569153
         ]
        },
        {
         "hovertemplate": "color=told<br>0=%{x}<br>1=%{y}<br>2=%{z}<extra></extra>",
         "legendgroup": "told",
         "marker": {
          "color": "#B6E880",
          "symbol": "circle"
         },
         "mode": "markers",
         "name": "told",
         "scene": "scene",
         "showlegend": true,
         "type": "scatter3d",
         "x": [
          0.4947541654109955
         ],
         "y": [
          0.530570387840271
         ],
         "z": [
          0.45470544695854187
         ]
        },
        {
         "hovertemplate": "color=lady<br>0=%{x}<br>1=%{y}<br>2=%{z}<extra></extra>",
         "legendgroup": "lady",
         "marker": {
          "color": "#FF97FF",
          "symbol": "circle"
         },
         "mode": "markers",
         "name": "lady",
         "scene": "scene",
         "showlegend": true,
         "type": "scatter3d",
         "x": [
          0.5446469187736511
         ],
         "y": [
          0.3680819571018219
         ],
         "z": [
          0.1590174436569214
         ]
        },
        {
         "hovertemplate": "color=thought<br>0=%{x}<br>1=%{y}<br>2=%{z}<extra></extra>",
         "legendgroup": "thought",
         "marker": {
          "color": "#FECB52",
          "symbol": "circle"
         },
         "mode": "markers",
         "name": "thought",
         "scene": "scene",
         "showlegend": true,
         "type": "scatter3d",
         "x": [
          0.3705265522003174
         ],
         "y": [
          0.5519397854804993
         ],
         "z": [
          0.5086663365364075
         ]
        },
        {
         "hovertemplate": "color=time<br>0=%{x}<br>1=%{y}<br>2=%{z}<extra></extra>",
         "legendgroup": "time",
         "marker": {
          "color": "#636efa",
          "symbol": "circle"
         },
         "mode": "markers",
         "name": "time",
         "scene": "scene",
         "showlegend": true,
         "type": "scatter3d",
         "x": [
          0.10918669402599335
         ],
         "y": [
          0.6821683049201965
         ],
         "z": [
          0.31274235248565674
         ]
        },
        {
         "hovertemplate": "color=then<br>0=%{x}<br>1=%{y}<br>2=%{z}<extra></extra>",
         "legendgroup": "then",
         "marker": {
          "color": "#EF553B",
          "symbol": "circle"
         },
         "mode": "markers",
         "name": "then",
         "scene": "scene",
         "showlegend": true,
         "type": "scatter3d",
         "x": [
          -0.07009118050336838
         ],
         "y": [
          0.5179219841957092
         ],
         "z": [
          0.4760638177394867
         ]
        },
        {
         "hovertemplate": "color=how<br>0=%{x}<br>1=%{y}<br>2=%{z}<extra></extra>",
         "legendgroup": "how",
         "marker": {
          "color": "#00cc96",
          "symbol": "circle"
         },
         "mode": "markers",
         "name": "how",
         "scene": "scene",
         "showlegend": true,
         "type": "scatter3d",
         "x": [
          0.38683339953422546
         ],
         "y": [
          0.5523184537887573
         ],
         "z": [
          0.2018565982580185
         ]
        },
        {
         "hovertemplate": "color=long<br>0=%{x}<br>1=%{y}<br>2=%{z}<extra></extra>",
         "legendgroup": "long",
         "marker": {
          "color": "#ab63fa",
          "symbol": "circle"
         },
         "mode": "markers",
         "name": "long",
         "scene": "scene",
         "showlegend": true,
         "type": "scatter3d",
         "x": [
          -0.1347172111272812
         ],
         "y": [
          0.5323004126548767
         ],
         "z": [
          0.06582703441381454
         ]
        },
        {
         "hovertemplate": "color=has<br>0=%{x}<br>1=%{y}<br>2=%{z}<extra></extra>",
         "legendgroup": "has",
         "marker": {
          "color": "#FFA15A",
          "symbol": "circle"
         },
         "mode": "markers",
         "name": "has",
         "scene": "scene",
         "showlegend": true,
         "type": "scatter3d",
         "x": [
          0.5441604852676392
         ],
         "y": [
          0.4807894229888916
         ],
         "z": [
          0.06424541026353836
         ]
        },
        {
         "hovertemplate": "color=can<br>0=%{x}<br>1=%{y}<br>2=%{z}<extra></extra>",
         "legendgroup": "can",
         "marker": {
          "color": "#19d3f3",
          "symbol": "circle"
         },
         "mode": "markers",
         "name": "can",
         "scene": "scene",
         "showlegend": true,
         "type": "scatter3d",
         "x": [
          0.4242846369743347
         ],
         "y": [
          0.470922589302063
         ],
         "z": [
          0.17453745007514954
         ]
        },
        {
         "hovertemplate": "color=might<br>0=%{x}<br>1=%{y}<br>2=%{z}<extra></extra>",
         "legendgroup": "might",
         "marker": {
          "color": "#FF6692",
          "symbol": "circle"
         },
         "mode": "markers",
         "name": "might",
         "scene": "scene",
         "showlegend": true,
         "type": "scatter3d",
         "x": [
          0.4174209237098694
         ],
         "y": [
          0.45108407735824585
         ],
         "z": [
          0.1954471468925476
         ]
        },
        {
         "hovertemplate": "color=us<br>0=%{x}<br>1=%{y}<br>2=%{z}<extra></extra>",
         "legendgroup": "us",
         "marker": {
          "color": "#B6E880",
          "symbol": "circle"
         },
         "mode": "markers",
         "name": "us",
         "scene": "scene",
         "showlegend": true,
         "type": "scatter3d",
         "x": [
          0.4636877179145813
         ],
         "y": [
          0.7006562948226929
         ],
         "z": [
          -0.09279091656208038
         ]
        },
        {
         "hovertemplate": "color=come<br>0=%{x}<br>1=%{y}<br>2=%{z}<extra></extra>",
         "legendgroup": "come",
         "marker": {
          "color": "#FF97FF",
          "symbol": "circle"
         },
         "mode": "markers",
         "name": "come",
         "scene": "scene",
         "showlegend": true,
         "type": "scatter3d",
         "x": [
          0.34099113941192627
         ],
         "y": [
          0.7763935327529907
         ],
         "z": [
          0.19908729195594788
         ]
        },
        {
         "hovertemplate": "color=where<br>0=%{x}<br>1=%{y}<br>2=%{z}<extra></extra>",
         "legendgroup": "where",
         "marker": {
          "color": "#FECB52",
          "symbol": "circle"
         },
         "mode": "markers",
         "name": "where",
         "scene": "scene",
         "showlegend": true,
         "type": "scatter3d",
         "x": [
          -0.12367849797010422
         ],
         "y": [
          0.6473076939582825
         ],
         "z": [
          0.076215960085392
         ]
        },
        {
         "hovertemplate": "color=here<br>0=%{x}<br>1=%{y}<br>2=%{z}<extra></extra>",
         "legendgroup": "here",
         "marker": {
          "color": "#636efa",
          "symbol": "circle"
         },
         "mode": "markers",
         "name": "here",
         "scene": "scene",
         "showlegend": true,
         "type": "scatter3d",
         "x": [
          0.32607701420783997
         ],
         "y": [
          0.7183069586753845
         ],
         "z": [
          0.0038362585473805666
         ]
        },
        {
         "hovertemplate": "color=through<br>0=%{x}<br>1=%{y}<br>2=%{z}<extra></extra>",
         "legendgroup": "through",
         "marker": {
          "color": "#EF553B",
          "symbol": "circle"
         },
         "mode": "markers",
         "name": "through",
         "scene": "scene",
         "showlegend": true,
         "type": "scatter3d",
         "x": [
          -0.531653881072998
         ],
         "y": [
          0.4412177801132202
         ],
         "z": [
          0.2866252064704895
         ]
        },
        {
         "hovertemplate": "color=still<br>0=%{x}<br>1=%{y}<br>2=%{z}<extra></extra>",
         "legendgroup": "still",
         "marker": {
          "color": "#00cc96",
          "symbol": "circle"
         },
         "mode": "markers",
         "name": "still",
         "scene": "scene",
         "showlegend": true,
         "type": "scatter3d",
         "x": [
          -0.026245370507240295
         ],
         "y": [
          0.5631958842277527
         ],
         "z": [
          0.10815830528736115
         ]
        },
        {
         "hovertemplate": "color=face<br>0=%{x}<br>1=%{y}<br>2=%{z}<extra></extra>",
         "legendgroup": "face",
         "marker": {
          "color": "#ab63fa",
          "symbol": "circle"
         },
         "mode": "markers",
         "name": "face",
         "scene": "scene",
         "showlegend": true,
         "type": "scatter3d",
         "x": [
          -0.19127865135669708
         ],
         "y": [
          0.40520375967025757
         ],
         "z": [
          0.5112344026565552
         ]
        },
        {
         "hovertemplate": "color=head<br>0=%{x}<br>1=%{y}<br>2=%{z}<extra></extra>",
         "legendgroup": "head",
         "marker": {
          "color": "#FFA15A",
          "symbol": "circle"
         },
         "mode": "markers",
         "name": "head",
         "scene": "scene",
         "showlegend": true,
         "type": "scatter3d",
         "x": [
          -0.18821875751018524
         ],
         "y": [
          0.437669575214386
         ],
         "z": [
          0.530998170375824
         ]
        },
        {
         "hovertemplate": "color=red<br>0=%{x}<br>1=%{y}<br>2=%{z}<extra></extra>",
         "legendgroup": "red",
         "marker": {
          "color": "#19d3f3",
          "symbol": "circle"
         },
         "mode": "markers",
         "name": "red",
         "scene": "scene",
         "showlegend": true,
         "type": "scatter3d",
         "x": [
          -0.2814921736717224
         ],
         "y": [
          0.3069761097431183
         ],
         "z": [
          -0.04422870650887489
         ]
        },
        {
         "hovertemplate": "color=ll<br>0=%{x}<br>1=%{y}<br>2=%{z}<extra></extra>",
         "legendgroup": "ll",
         "marker": {
          "color": "#FF6692",
          "symbol": "circle"
         },
         "mode": "markers",
         "name": "ll",
         "scene": "scene",
         "showlegend": true,
         "type": "scatter3d",
         "x": [
          0.3600117266178131
         ],
         "y": [
          0.45917269587516785
         ],
         "z": [
          0.3136807084083557
         ]
        },
        {
         "hovertemplate": "color=way<br>0=%{x}<br>1=%{y}<br>2=%{z}<extra></extra>",
         "legendgroup": "way",
         "marker": {
          "color": "#B6E880",
          "symbol": "circle"
         },
         "mode": "markers",
         "name": "way",
         "scene": "scene",
         "showlegend": true,
         "type": "scatter3d",
         "x": [
          -0.045124780386686325
         ],
         "y": [
          0.7526266574859619
         ],
         "z": [
          0.20161524415016174
         ]
        },
        {
         "hovertemplate": "color=boy<br>0=%{x}<br>1=%{y}<br>2=%{z}<extra></extra>",
         "legendgroup": "boy",
         "marker": {
          "color": "#FF97FF",
          "symbol": "circle"
         },
         "mode": "markers",
         "name": "boy",
         "scene": "scene",
         "showlegend": true,
         "type": "scatter3d",
         "x": [
          0.36768853664398193
         ],
         "y": [
          0.35825449228286743
         ],
         "z": [
          0.18955563008785248
         ]
        },
        {
         "hovertemplate": "color=page<br>0=%{x}<br>1=%{y}<br>2=%{z}<extra></extra>",
         "legendgroup": "page",
         "marker": {
          "color": "#FECB52",
          "symbol": "circle"
         },
         "mode": "markers",
         "name": "page",
         "scene": "scene",
         "showlegend": true,
         "type": "scatter3d",
         "x": [
          0.2563665211200714
         ],
         "y": [
          0.28168556094169617
         ],
         "z": [
          0.24708503484725952
         ]
        },
        {
         "hovertemplate": "color=must<br>0=%{x}<br>1=%{y}<br>2=%{z}<extra></extra>",
         "legendgroup": "must",
         "marker": {
          "color": "#636efa",
          "symbol": "circle"
         },
         "mode": "markers",
         "name": "must",
         "scene": "scene",
         "showlegend": true,
         "type": "scatter3d",
         "x": [
          0.5684980154037476
         ],
         "y": [
          0.4942164421081543
         ],
         "z": [
          0.16511669754981995
         ]
        },
        {
         "hovertemplate": "color=once<br>0=%{x}<br>1=%{y}<br>2=%{z}<extra></extra>",
         "legendgroup": "once",
         "marker": {
          "color": "#EF553B",
          "symbol": "circle"
         },
         "mode": "markers",
         "name": "once",
         "scene": "scene",
         "showlegend": true,
         "type": "scatter3d",
         "x": [
          0.23022542893886566
         ],
         "y": [
          0.5851297974586487
         ],
         "z": [
          0.16853494942188263
         ]
        },
        {
         "hovertemplate": "color=queen<br>0=%{x}<br>1=%{y}<br>2=%{z}<extra></extra>",
         "legendgroup": "queen",
         "marker": {
          "color": "#00cc96",
          "symbol": "circle"
         },
         "mode": "markers",
         "name": "queen",
         "scene": "scene",
         "showlegend": true,
         "type": "scatter3d",
         "x": [
          0.49411413073539734
         ],
         "y": [
          0.5009520649909973
         ],
         "z": [
          0.07286877185106277
         ]
        },
        {
         "hovertemplate": "color=good<br>0=%{x}<br>1=%{y}<br>2=%{z}<extra></extra>",
         "legendgroup": "good",
         "marker": {
          "color": "#ab63fa",
          "symbol": "circle"
         },
         "mode": "markers",
         "name": "good",
         "scene": "scene",
         "showlegend": true,
         "type": "scatter3d",
         "x": [
          0.5675814151763916
         ],
         "y": [
          0.4509515166282654
         ],
         "z": [
          0.10870325565338135
         ]
        },
        {
         "hovertemplate": "color=two<br>0=%{x}<br>1=%{y}<br>2=%{z}<extra></extra>",
         "legendgroup": "two",
         "marker": {
          "color": "#FFA15A",
          "symbol": "circle"
         },
         "mode": "markers",
         "name": "two",
         "scene": "scene",
         "showlegend": true,
         "type": "scatter3d",
         "x": [
          -0.13554789125919342
         ],
         "y": [
          0.5590882897377014
         ],
         "z": [
          -0.1941317617893219
         ]
        },
        {
         "hovertemplate": "color=brother<br>0=%{x}<br>1=%{y}<br>2=%{z}<extra></extra>",
         "legendgroup": "brother",
         "marker": {
          "color": "#19d3f3",
          "symbol": "circle"
         },
         "mode": "markers",
         "name": "brother",
         "scene": "scene",
         "showlegend": true,
         "type": "scatter3d",
         "x": [
          0.5664367079734802
         ],
         "y": [
          0.5554439425468445
         ],
         "z": [
          0.16553689539432526
         ]
        },
        {
         "hovertemplate": "color=night<br>0=%{x}<br>1=%{y}<br>2=%{z}<extra></extra>",
         "legendgroup": "night",
         "marker": {
          "color": "#FF6692",
          "symbol": "circle"
         },
         "mode": "markers",
         "name": "night",
         "scene": "scene",
         "showlegend": true,
         "type": "scatter3d",
         "x": [
          0.041448358446359634
         ],
         "y": [
          0.7705602645874023
         ],
         "z": [
          0.07303117215633392
         ]
        },
        {
         "hovertemplate": "color=over<br>0=%{x}<br>1=%{y}<br>2=%{z}<extra></extra>",
         "legendgroup": "over",
         "marker": {
          "color": "#B6E880",
          "symbol": "circle"
         },
         "mode": "markers",
         "name": "over",
         "scene": "scene",
         "showlegend": true,
         "type": "scatter3d",
         "x": [
          -0.4717795252799988
         ],
         "y": [
          0.3653772473335266
         ],
         "z": [
          0.37628409266471863
         ]
        },
        {
         "hovertemplate": "color=little<br>0=%{x}<br>1=%{y}<br>2=%{z}<extra></extra>",
         "legendgroup": "little",
         "marker": {
          "color": "#FF97FF",
          "symbol": "circle"
         },
         "mode": "markers",
         "name": "little",
         "scene": "scene",
         "showlegend": true,
         "type": "scatter3d",
         "x": [
          0.28451409935951233
         ],
         "y": [
          0.22223679721355438
         ],
         "z": [
          0.26534998416900635
         ]
        },
        {
         "hovertemplate": "color=about<br>0=%{x}<br>1=%{y}<br>2=%{z}<extra></extra>",
         "legendgroup": "about",
         "marker": {
          "color": "#FECB52",
          "symbol": "circle"
         },
         "mode": "markers",
         "name": "about",
         "scene": "scene",
         "showlegend": true,
         "type": "scatter3d",
         "x": [
          0.21258951723575592
         ],
         "y": [
          0.23107218742370605
         ],
         "z": [
          0.3489063084125519
         ]
        },
        {
         "hovertemplate": "color=took<br>0=%{x}<br>1=%{y}<br>2=%{z}<extra></extra>",
         "legendgroup": "took",
         "marker": {
          "color": "#636efa",
          "symbol": "circle"
         },
         "mode": "markers",
         "name": "took",
         "scene": "scene",
         "showlegend": true,
         "type": "scatter3d",
         "x": [
          0.10912894457578659
         ],
         "y": [
          0.41866204142570496
         ],
         "z": [
          0.5649147033691406
         ]
        },
        {
         "hovertemplate": "color=other<br>0=%{x}<br>1=%{y}<br>2=%{z}<extra></extra>",
         "legendgroup": "other",
         "marker": {
          "color": "#EF553B",
          "symbol": "circle"
         },
         "mode": "markers",
         "name": "other",
         "scene": "scene",
         "showlegend": true,
         "type": "scatter3d",
         "x": [
          0.03670225664973259
         ],
         "y": [
          0.5909680724143982
         ],
         "z": [
          -0.15265047550201416
         ]
        },
        {
         "hovertemplate": "color=came<br>0=%{x}<br>1=%{y}<br>2=%{z}<extra></extra>",
         "legendgroup": "came",
         "marker": {
          "color": "#00cc96",
          "symbol": "circle"
         },
         "mode": "markers",
         "name": "came",
         "scene": "scene",
         "showlegend": true,
         "type": "scatter3d",
         "x": [
          -0.06409153342247009
         ],
         "y": [
          0.5640305876731873
         ],
         "z": [
          0.33095914125442505
         ]
        },
        {
         "hovertemplate": "color=though<br>0=%{x}<br>1=%{y}<br>2=%{z}<extra></extra>",
         "legendgroup": "though",
         "marker": {
          "color": "#ab63fa",
          "symbol": "circle"
         },
         "mode": "markers",
         "name": "though",
         "scene": "scene",
         "showlegend": true,
         "type": "scatter3d",
         "x": [
          0.25423723459243774
         ],
         "y": [
          0.47945764660835266
         ],
         "z": [
          0.15659229457378387
         ]
        },
        {
         "hovertemplate": "color=again<br>0=%{x}<br>1=%{y}<br>2=%{z}<extra></extra>",
         "legendgroup": "again",
         "marker": {
          "color": "#FFA15A",
          "symbol": "circle"
         },
         "mode": "markers",
         "name": "again",
         "scene": "scene",
         "showlegend": true,
         "type": "scatter3d",
         "x": [
          -0.05708599090576172
         ],
         "y": [
          0.5312073826789856
         ],
         "z": [
          0.5591279864311218
         ]
        },
        {
         "hovertemplate": "color=say<br>0=%{x}<br>1=%{y}<br>2=%{z}<extra></extra>",
         "legendgroup": "say",
         "marker": {
          "color": "#19d3f3",
          "symbol": "circle"
         },
         "mode": "markers",
         "name": "say",
         "scene": "scene",
         "showlegend": true,
         "type": "scatter3d",
         "x": [
          0.5675022602081299
         ],
         "y": [
          0.5373384952545166
         ],
         "z": [
          0.3022426664829254
         ]
        },
        {
         "hovertemplate": "color=three<br>0=%{x}<br>1=%{y}<br>2=%{z}<extra></extra>",
         "legendgroup": "three",
         "marker": {
          "color": "#FF6692",
          "symbol": "circle"
         },
         "mode": "markers",
         "name": "three",
         "scene": "scene",
         "showlegend": true,
         "type": "scatter3d",
         "x": [
          0.00283084181137383
         ],
         "y": [
          0.5450143218040466
         ],
         "z": [
          -0.32147929072380066
         ]
        },
        {
         "hovertemplate": "color=should<br>0=%{x}<br>1=%{y}<br>2=%{z}<extra></extra>",
         "legendgroup": "should",
         "marker": {
          "color": "#B6E880",
          "symbol": "circle"
         },
         "mode": "markers",
         "name": "should",
         "scene": "scene",
         "showlegend": true,
         "type": "scatter3d",
         "x": [
          0.5538329482078552
         ],
         "y": [
          0.4852156341075897
         ],
         "z": [
          0.2053249180316925
         ]
        },
        {
         "hovertemplate": "color=away<br>0=%{x}<br>1=%{y}<br>2=%{z}<extra></extra>",
         "legendgroup": "away",
         "marker": {
          "color": "#FF97FF",
          "symbol": "circle"
         },
         "mode": "markers",
         "name": "away",
         "scene": "scene",
         "showlegend": true,
         "type": "scatter3d",
         "x": [
          -0.18063755333423615
         ],
         "y": [
          0.543495774269104
         ],
         "z": [
          0.43107205629348755
         ]
        },
        {
         "hovertemplate": "color=dead<br>0=%{x}<br>1=%{y}<br>2=%{z}<extra></extra>",
         "legendgroup": "dead",
         "marker": {
          "color": "#FECB52",
          "symbol": "circle"
         },
         "mode": "markers",
         "name": "dead",
         "scene": "scene",
         "showlegend": true,
         "type": "scatter3d",
         "x": [
          0.13100111484527588
         ],
         "y": [
          0.593879222869873
         ],
         "z": [
          0.09621738642454147
         ]
        },
        {
         "hovertemplate": "color=son<br>0=%{x}<br>1=%{y}<br>2=%{z}<extra></extra>",
         "legendgroup": "son",
         "marker": {
          "color": "#636efa",
          "symbol": "circle"
         },
         "mode": "markers",
         "name": "son",
         "scene": "scene",
         "showlegend": true,
         "type": "scatter3d",
         "x": [
          0.5672088265419006
         ],
         "y": [
          0.39313119649887085
         ],
         "z": [
          0.01993650384247303
         ]
        },
        {
         "hovertemplate": "color=own<br>0=%{x}<br>1=%{y}<br>2=%{z}<extra></extra>",
         "legendgroup": "own",
         "marker": {
          "color": "#EF553B",
          "symbol": "circle"
         },
         "mode": "markers",
         "name": "own",
         "scene": "scene",
         "showlegend": true,
         "type": "scatter3d",
         "x": [
          0.3426017761230469
         ],
         "y": [
          0.5788077712059021
         ],
         "z": [
          0.11423300951719284
         ]
        },
        {
         "hovertemplate": "color=blood<br>0=%{x}<br>1=%{y}<br>2=%{z}<extra></extra>",
         "legendgroup": "blood",
         "marker": {
          "color": "#00cc96",
          "symbol": "circle"
         },
         "mode": "markers",
         "name": "blood",
         "scene": "scene",
         "showlegend": true,
         "type": "scatter3d",
         "x": [
          -0.13232363760471344
         ],
         "y": [
          0.4953853189945221
         ],
         "z": [
          0.1873827576637268
         ]
        },
        {
         "hovertemplate": "color=am<br>0=%{x}<br>1=%{y}<br>2=%{z}<extra></extra>",
         "legendgroup": "am",
         "marker": {
          "color": "#ab63fa",
          "symbol": "circle"
         },
         "mode": "markers",
         "name": "am",
         "scene": "scene",
         "showlegend": true,
         "type": "scatter3d",
         "x": [
          0.6796740293502808
         ],
         "y": [
          0.41750407218933105
         ],
         "z": [
          0.1710769385099411
         ]
        },
        {
         "hovertemplate": "color=take<br>0=%{x}<br>1=%{y}<br>2=%{z}<extra></extra>",
         "legendgroup": "take",
         "marker": {
          "color": "#FFA15A",
          "symbol": "circle"
         },
         "mode": "markers",
         "name": "take",
         "scene": "scene",
         "showlegend": true,
         "type": "scatter3d",
         "x": [
          0.48547446727752686
         ],
         "y": [
          0.6434881091117859
         ],
         "z": [
          0.36175665259361267
         ]
        },
        {
         "hovertemplate": "color=go<br>0=%{x}<br>1=%{y}<br>2=%{z}<extra></extra>",
         "legendgroup": "go",
         "marker": {
          "color": "#19d3f3",
          "symbol": "circle"
         },
         "mode": "markers",
         "name": "go",
         "scene": "scene",
         "showlegend": true,
         "type": "scatter3d",
         "x": [
          0.2711227238178253
         ],
         "y": [
          0.662578284740448
         ],
         "z": [
          0.3792598843574524
         ]
        },
        {
         "hovertemplate": "color=half<br>0=%{x}<br>1=%{y}<br>2=%{z}<extra></extra>",
         "legendgroup": "half",
         "marker": {
          "color": "#FF6692",
          "symbol": "circle"
         },
         "mode": "markers",
         "name": "half",
         "scene": "scene",
         "showlegend": true,
         "type": "scatter3d",
         "x": [
          -0.2141454815864563
         ],
         "y": [
          0.533527672290802
         ],
         "z": [
          0.03420513868331909
         ]
        },
        {
         "hovertemplate": "color=make<br>0=%{x}<br>1=%{y}<br>2=%{z}<extra></extra>",
         "legendgroup": "make",
         "marker": {
          "color": "#B6E880",
          "symbol": "circle"
         },
         "mode": "markers",
         "name": "make",
         "scene": "scene",
         "showlegend": true,
         "type": "scatter3d",
         "x": [
          0.49123334884643555
         ],
         "y": [
          0.5200418829917908
         ],
         "z": [
          0.3385447859764099
         ]
        },
        {
         "hovertemplate": "color=arya<br>0=%{x}<br>1=%{y}<br>2=%{z}<extra></extra>",
         "legendgroup": "arya",
         "marker": {
          "color": "#FF97FF",
          "symbol": "circle"
         },
         "mode": "markers",
         "name": "arya",
         "scene": "scene",
         "showlegend": true,
         "type": "scatter3d",
         "x": [
          -0.039469413459300995
         ],
         "y": [
          0.4016522765159607
         ],
         "z": [
          0.38594192266464233
         ]
        },
        {
         "hovertemplate": "color=saw<br>0=%{x}<br>1=%{y}<br>2=%{z}<extra></extra>",
         "legendgroup": "saw",
         "marker": {
          "color": "#FECB52",
          "symbol": "circle"
         },
         "mode": "markers",
         "name": "saw",
         "scene": "scene",
         "showlegend": true,
         "type": "scatter3d",
         "x": [
          -0.09551549702882767
         ],
         "y": [
          0.454321026802063
         ],
         "z": [
          0.43988901376724243
         ]
        },
        {
         "hovertemplate": "color=day<br>0=%{x}<br>1=%{y}<br>2=%{z}<extra></extra>",
         "legendgroup": "day",
         "marker": {
          "color": "#636efa",
          "symbol": "circle"
         },
         "mode": "markers",
         "name": "day",
         "scene": "scene",
         "showlegend": true,
         "type": "scatter3d",
         "x": [
          0.16130675375461578
         ],
         "y": [
          0.7633128762245178
         ],
         "z": [
          0.025412019342184067
         ]
        },
        {
         "hovertemplate": "color=white<br>0=%{x}<br>1=%{y}<br>2=%{z}<extra></extra>",
         "legendgroup": "white",
         "marker": {
          "color": "#EF553B",
          "symbol": "circle"
         },
         "mode": "markers",
         "name": "white",
         "scene": "scene",
         "showlegend": true,
         "type": "scatter3d",
         "x": [
          -0.3459940552711487
         ],
         "y": [
          0.28999951481819153
         ],
         "z": [
          -0.03786749020218849
         ]
        },
        {
         "hovertemplate": "color=jaime<br>0=%{x}<br>1=%{y}<br>2=%{z}<extra></extra>",
         "legendgroup": "jaime",
         "marker": {
          "color": "#00cc96",
          "symbol": "circle"
         },
         "mode": "markers",
         "name": "jaime",
         "scene": "scene",
         "showlegend": true,
         "type": "scatter3d",
         "x": [
          0.25639641284942627
         ],
         "y": [
          0.3626905083656311
         ],
         "z": [
          0.27263322472572327
         ]
        },
        {
         "hovertemplate": "color=first<br>0=%{x}<br>1=%{y}<br>2=%{z}<extra></extra>",
         "legendgroup": "first",
         "marker": {
          "color": "#ab63fa",
          "symbol": "circle"
         },
         "mode": "markers",
         "name": "first",
         "scene": "scene",
         "showlegend": true,
         "type": "scatter3d",
         "x": [
          0.22986680269241333
         ],
         "y": [
          0.6976814270019531
         ],
         "z": [
          0.110805444419384
         ]
        },
        {
         "hovertemplate": "color=himself<br>0=%{x}<br>1=%{y}<br>2=%{z}<extra></extra>",
         "legendgroup": "himself",
         "marker": {
          "color": "#FFA15A",
          "symbol": "circle"
         },
         "mode": "markers",
         "name": "himself",
         "scene": "scene",
         "showlegend": true,
         "type": "scatter3d",
         "x": [
          0.1466033160686493
         ],
         "y": [
          0.41001540422439575
         ],
         "z": [
          0.2632237672805786
         ]
        },
        {
         "hovertemplate": "color=our<br>0=%{x}<br>1=%{y}<br>2=%{z}<extra></extra>",
         "legendgroup": "our",
         "marker": {
          "color": "#19d3f3",
          "symbol": "circle"
         },
         "mode": "markers",
         "name": "our",
         "scene": "scene",
         "showlegend": true,
         "type": "scatter3d",
         "x": [
          0.4894018769264221
         ],
         "y": [
          0.5583814382553101
         ],
         "z": [
          -0.20398648083209991
         ]
        },
        {
         "hovertemplate": "color=look<br>0=%{x}<br>1=%{y}<br>2=%{z}<extra></extra>",
         "legendgroup": "look",
         "marker": {
          "color": "#FF6692",
          "symbol": "circle"
         },
         "mode": "markers",
         "name": "look",
         "scene": "scene",
         "showlegend": true,
         "type": "scatter3d",
         "x": [
          0.14300641417503357
         ],
         "y": [
          0.5032009482383728
         ],
         "z": [
          0.3963182270526886
         ]
        },
        {
         "hovertemplate": "color=want<br>0=%{x}<br>1=%{y}<br>2=%{z}<extra></extra>",
         "legendgroup": "want",
         "marker": {
          "color": "#B6E880",
          "symbol": "circle"
         },
         "mode": "markers",
         "name": "want",
         "scene": "scene",
         "showlegend": true,
         "type": "scatter3d",
         "x": [
          0.4940911829471588
         ],
         "y": [
          0.480740487575531
         ],
         "z": [
          0.36677423119544983
         ]
        },
        {
         "hovertemplate": "color=after<br>0=%{x}<br>1=%{y}<br>2=%{z}<extra></extra>",
         "legendgroup": "after",
         "marker": {
          "color": "#FF97FF",
          "symbol": "circle"
         },
         "mode": "markers",
         "name": "after",
         "scene": "scene",
         "showlegend": true,
         "type": "scatter3d",
         "x": [
          0.1910928189754486
         ],
         "y": [
          0.5624861121177673
         ],
         "z": [
          0.2853297293186188
         ]
        },
        {
         "hovertemplate": "color=much<br>0=%{x}<br>1=%{y}<br>2=%{z}<extra></extra>",
         "legendgroup": "much",
         "marker": {
          "color": "#FECB52",
          "symbol": "circle"
         },
         "mode": "markers",
         "name": "much",
         "scene": "scene",
         "showlegend": true,
         "type": "scatter3d",
         "x": [
          0.39092957973480225
         ],
         "y": [
          0.4603224992752075
         ],
         "z": [
          0.16085460782051086
         ]
        },
        {
         "hovertemplate": "color=enough<br>0=%{x}<br>1=%{y}<br>2=%{z}<extra></extra>",
         "legendgroup": "enough",
         "marker": {
          "color": "#636efa",
          "symbol": "circle"
         },
         "mode": "markers",
         "name": "enough",
         "scene": "scene",
         "showlegend": true,
         "type": "scatter3d",
         "x": [
          0.24000385403633118
         ],
         "y": [
          0.5486066341400146
         ],
         "z": [
          0.1563539206981659
         ]
        },
        {
         "hovertemplate": "color=sword<br>0=%{x}<br>1=%{y}<br>2=%{z}<extra></extra>",
         "legendgroup": "sword",
         "marker": {
          "color": "#EF553B",
          "symbol": "circle"
         },
         "mode": "markers",
         "name": "sword",
         "scene": "scene",
         "showlegend": true,
         "type": "scatter3d",
         "x": [
          -0.06345076858997345
         ],
         "y": [
          0.5180609822273254
         ],
         "z": [
          0.3612564206123352
         ]
        },
        {
         "hovertemplate": "color=tell<br>0=%{x}<br>1=%{y}<br>2=%{z}<extra></extra>",
         "legendgroup": "tell",
         "marker": {
          "color": "#00cc96",
          "symbol": "circle"
         },
         "mode": "markers",
         "name": "tell",
         "scene": "scene",
         "showlegend": true,
         "type": "scatter3d",
         "x": [
          0.6064655780792236
         ],
         "y": [
          0.5396656394004822
         ],
         "z": [
          0.3743380606174469
         ]
        },
        {
         "hovertemplate": "color=girl<br>0=%{x}<br>1=%{y}<br>2=%{z}<extra></extra>",
         "legendgroup": "girl",
         "marker": {
          "color": "#ab63fa",
          "symbol": "circle"
         },
         "mode": "markers",
         "name": "girl",
         "scene": "scene",
         "showlegend": true,
         "type": "scatter3d",
         "x": [
          0.3014019727706909
         ],
         "y": [
          0.35360458493232727
         ],
         "z": [
          0.1874230057001114
         ]
        },
        {
         "hovertemplate": "color=bran<br>0=%{x}<br>1=%{y}<br>2=%{z}<extra></extra>",
         "legendgroup": "bran",
         "marker": {
          "color": "#FFA15A",
          "symbol": "circle"
         },
         "mode": "markers",
         "name": "bran",
         "scene": "scene",
         "showlegend": true,
         "type": "scatter3d",
         "x": [
          0.004523728974163532
         ],
         "y": [
          0.4249627888202667
         ],
         "z": [
          0.38124626874923706
         ]
        },
        {
         "hovertemplate": "color=great<br>0=%{x}<br>1=%{y}<br>2=%{z}<extra></extra>",
         "legendgroup": "great",
         "marker": {
          "color": "#19d3f3",
          "symbol": "circle"
         },
         "mode": "markers",
         "name": "great",
         "scene": "scene",
         "showlegend": true,
         "type": "scatter3d",
         "x": [
          -0.06632989645004272
         ],
         "y": [
          0.5490628480911255
         ],
         "z": [
          -0.4239955544471741
         ]
        },
        {
         "hovertemplate": "color=its<br>0=%{x}<br>1=%{y}<br>2=%{z}<extra></extra>",
         "legendgroup": "its",
         "marker": {
          "color": "#FF6692",
          "symbol": "circle"
         },
         "mode": "markers",
         "name": "its",
         "scene": "scene",
         "showlegend": true,
         "type": "scatter3d",
         "x": [
          -0.5097489356994629
         ],
         "y": [
          0.42584314942359924
         ],
         "z": [
          -0.11267267167568207
         ]
        },
        {
         "hovertemplate": "color=looked<br>0=%{x}<br>1=%{y}<br>2=%{z}<extra></extra>",
         "legendgroup": "looked",
         "marker": {
          "color": "#B6E880",
          "symbol": "circle"
         },
         "mode": "markers",
         "name": "looked",
         "scene": "scene",
         "showlegend": true,
         "type": "scatter3d",
         "x": [
          -0.017078176140785217
         ],
         "y": [
          0.3457009792327881
         ],
         "z": [
          0.4717784821987152
         ]
        },
        {
         "hovertemplate": "color=left<br>0=%{x}<br>1=%{y}<br>2=%{z}<extra></extra>",
         "legendgroup": "left",
         "marker": {
          "color": "#FF97FF",
          "symbol": "circle"
         },
         "mode": "markers",
         "name": "left",
         "scene": "scene",
         "showlegend": true,
         "type": "scatter3d",
         "x": [
          -0.13616664707660675
         ],
         "y": [
          0.5486922860145569
         ],
         "z": [
          0.36296671628952026
         ]
        },
        {
         "hovertemplate": "color=knew<br>0=%{x}<br>1=%{y}<br>2=%{z}<extra></extra>",
         "legendgroup": "knew",
         "marker": {
          "color": "#FECB52",
          "symbol": "circle"
         },
         "mode": "markers",
         "name": "knew",
         "scene": "scene",
         "showlegend": true,
         "type": "scatter3d",
         "x": [
          0.3378860056400299
         ],
         "y": [
          0.5339021682739258
         ],
         "z": [
          0.3394626975059509
         ]
        },
        {
         "hovertemplate": "color=asked<br>0=%{x}<br>1=%{y}<br>2=%{z}<extra></extra>",
         "legendgroup": "asked",
         "marker": {
          "color": "#636efa",
          "symbol": "circle"
         },
         "mode": "markers",
         "name": "asked",
         "scene": "scene",
         "showlegend": true,
         "type": "scatter3d",
         "x": [
          0.5430565476417542
         ],
         "y": [
          0.33987319469451904
         ],
         "z": [
          0.5501802563667297
         ]
        },
        {
         "hovertemplate": "color=gave<br>0=%{x}<br>1=%{y}<br>2=%{z}<extra></extra>",
         "legendgroup": "gave",
         "marker": {
          "color": "#EF553B",
          "symbol": "circle"
         },
         "mode": "markers",
         "name": "gave",
         "scene": "scene",
         "showlegend": true,
         "type": "scatter3d",
         "x": [
          0.22255736589431763
         ],
         "y": [
          0.1500868797302246
         ],
         "z": [
          0.7218698263168335
         ]
        },
        {
         "hovertemplate": "color=maester<br>0=%{x}<br>1=%{y}<br>2=%{z}<extra></extra>",
         "legendgroup": "maester",
         "marker": {
          "color": "#00cc96",
          "symbol": "circle"
         },
         "mode": "markers",
         "name": "maester",
         "scene": "scene",
         "showlegend": true,
         "type": "scatter3d",
         "x": [
          0.3053619861602783
         ],
         "y": [
          0.32771795988082886
         ],
         "z": [
          0.2446831613779068
         ]
        },
        {
         "hovertemplate": "color=called<br>0=%{x}<br>1=%{y}<br>2=%{z}<extra></extra>",
         "legendgroup": "called",
         "marker": {
          "color": "#ab63fa",
          "symbol": "circle"
         },
         "mode": "markers",
         "name": "called",
         "scene": "scene",
         "showlegend": true,
         "type": "scatter3d",
         "x": [
          0.4060523509979248
         ],
         "y": [
          0.29633304476737976
         ],
         "z": [
          0.1464213877916336
         ]
        },
        {
         "hovertemplate": "color=wall<br>0=%{x}<br>1=%{y}<br>2=%{z}<extra></extra>",
         "legendgroup": "wall",
         "marker": {
          "color": "#FFA15A",
          "symbol": "circle"
         },
         "mode": "markers",
         "name": "wall",
         "scene": "scene",
         "showlegend": true,
         "type": "scatter3d",
         "x": [
          -0.2139388918876648
         ],
         "y": [
          0.8478054404258728
         ],
         "z": [
          -0.06851506978273392
         ]
        },
        {
         "hovertemplate": "color=every<br>0=%{x}<br>1=%{y}<br>2=%{z}<extra></extra>",
         "legendgroup": "every",
         "marker": {
          "color": "#19d3f3",
          "symbol": "circle"
         },
         "mode": "markers",
         "name": "every",
         "scene": "scene",
         "showlegend": true,
         "type": "scatter3d",
         "x": [
          0.027330709621310234
         ],
         "y": [
          0.5756192803382874
         ],
         "z": [
          0.03679526224732399
         ]
        },
        {
         "hovertemplate": "color=heard<br>0=%{x}<br>1=%{y}<br>2=%{z}<extra></extra>",
         "legendgroup": "heard",
         "marker": {
          "color": "#FF6692",
          "symbol": "circle"
         },
         "mode": "markers",
         "name": "heard",
         "scene": "scene",
         "showlegend": true,
         "type": "scatter3d",
         "x": [
          0.13961762189865112
         ],
         "y": [
          0.4922804534435272
         ],
         "z": [
          0.40995100140571594
         ]
        },
        {
         "hovertemplate": "color=sansa<br>0=%{x}<br>1=%{y}<br>2=%{z}<extra></extra>",
         "legendgroup": "sansa",
         "marker": {
          "color": "#B6E880",
          "symbol": "circle"
         },
         "mode": "markers",
         "name": "sansa",
         "scene": "scene",
         "showlegend": true,
         "type": "scatter3d",
         "x": [
          0.19998982548713684
         ],
         "y": [
          0.30558305978775024
         ],
         "z": [
          0.4078182578086853
         ]
        },
        {
         "hovertemplate": "color=let<br>0=%{x}<br>1=%{y}<br>2=%{z}<extra></extra>",
         "legendgroup": "let",
         "marker": {
          "color": "#FF97FF",
          "symbol": "circle"
         },
         "mode": "markers",
         "name": "let",
         "scene": "scene",
         "showlegend": true,
         "type": "scatter3d",
         "x": [
          0.32359787821769714
         ],
         "y": [
          0.42524921894073486
         ],
         "z": [
          0.5172204971313477
         ]
        },
        {
         "hovertemplate": "color=yet<br>0=%{x}<br>1=%{y}<br>2=%{z}<extra></extra>",
         "legendgroup": "yet",
         "marker": {
          "color": "#FECB52",
          "symbol": "circle"
         },
         "mode": "markers",
         "name": "yet",
         "scene": "scene",
         "showlegend": true,
         "type": "scatter3d",
         "x": [
          0.3141959309577942
         ],
         "y": [
          0.5610161423683167
         ],
         "z": [
          0.08107226341962814
         ]
        },
        {
         "hovertemplate": "color=went<br>0=%{x}<br>1=%{y}<br>2=%{z}<extra></extra>",
         "legendgroup": "went",
         "marker": {
          "color": "#636efa",
          "symbol": "circle"
         },
         "mode": "markers",
         "name": "went",
         "scene": "scene",
         "showlegend": true,
         "type": "scatter3d",
         "x": [
          -0.16637066006660461
         ],
         "y": [
          0.47994622588157654
         ],
         "z": [
          0.5128312110900879
         ]
        },
        {
         "hovertemplate": "color=turned<br>0=%{x}<br>1=%{y}<br>2=%{z}<extra></extra>",
         "legendgroup": "turned",
         "marker": {
          "color": "#EF553B",
          "symbol": "circle"
         },
         "mode": "markers",
         "name": "turned",
         "scene": "scene",
         "showlegend": true,
         "type": "scatter3d",
         "x": [
          -0.172357976436615
         ],
         "y": [
          0.40125206112861633
         ],
         "z": [
          0.6051195859909058
         ]
        },
        {
         "hovertemplate": "color=dany<br>0=%{x}<br>1=%{y}<br>2=%{z}<extra></extra>",
         "legendgroup": "dany",
         "marker": {
          "color": "#00cc96",
          "symbol": "circle"
         },
         "mode": "markers",
         "name": "dany",
         "scene": "scene",
         "showlegend": true,
         "type": "scatter3d",
         "x": [
          -0.02999952808022499
         ],
         "y": [
          0.40110450983047485
         ],
         "z": [
          0.12565959990024567
         ]
        },
        {
         "hovertemplate": "color=why<br>0=%{x}<br>1=%{y}<br>2=%{z}<extra></extra>",
         "legendgroup": "why",
         "marker": {
          "color": "#ab63fa",
          "symbol": "circle"
         },
         "mode": "markers",
         "name": "why",
         "scene": "scene",
         "showlegend": true,
         "type": "scatter3d",
         "x": [
          0.6948566436767578
         ],
         "y": [
          0.4739694595336914
         ],
         "z": [
          0.23629426956176758
         ]
        },
        {
         "hovertemplate": "color=need<br>0=%{x}<br>1=%{y}<br>2=%{z}<extra></extra>",
         "legendgroup": "need",
         "marker": {
          "color": "#FFA15A",
          "symbol": "circle"
         },
         "mode": "markers",
         "name": "need",
         "scene": "scene",
         "showlegend": true,
         "type": "scatter3d",
         "x": [
          0.44902288913726807
         ],
         "y": [
          0.5693250894546509
         ],
         "z": [
          0.20538252592086792
         ]
        },
        {
         "hovertemplate": "color=behind<br>0=%{x}<br>1=%{y}<br>2=%{z}<extra></extra>",
         "legendgroup": "behind",
         "marker": {
          "color": "#19d3f3",
          "symbol": "circle"
         },
         "mode": "markers",
         "name": "behind",
         "scene": "scene",
         "showlegend": true,
         "type": "scatter3d",
         "x": [
          -0.37504842877388
         ],
         "y": [
          0.48168161511421204
         ],
         "z": [
          0.2441413551568985
         ]
        },
        {
         "hovertemplate": "color=around<br>0=%{x}<br>1=%{y}<br>2=%{z}<extra></extra>",
         "legendgroup": "around",
         "marker": {
          "color": "#FF6692",
          "symbol": "circle"
         },
         "mode": "markers",
         "name": "around",
         "scene": "scene",
         "showlegend": true,
         "type": "scatter3d",
         "x": [
          -0.5232017636299133
         ],
         "y": [
          0.38019946217536926
         ],
         "z": [
          0.3563275635242462
         ]
        },
        {
         "hovertemplate": "color=just<br>0=%{x}<br>1=%{y}<br>2=%{z}<extra></extra>",
         "legendgroup": "just",
         "marker": {
          "color": "#B6E880",
          "symbol": "circle"
         },
         "mode": "markers",
         "name": "just",
         "scene": "scene",
         "showlegend": true,
         "type": "scatter3d",
         "x": [
          0.23786896467208862
         ],
         "y": [
          0.5094323754310608
         ],
         "z": [
          0.366752028465271
         ]
        },
        {
         "hovertemplate": "color=woman<br>0=%{x}<br>1=%{y}<br>2=%{z}<extra></extra>",
         "legendgroup": "woman",
         "marker": {
          "color": "#FF97FF",
          "symbol": "circle"
         },
         "mode": "markers",
         "name": "woman",
         "scene": "scene",
         "showlegend": true,
         "type": "scatter3d",
         "x": [
          0.14434970915317535
         ],
         "y": [
          0.38894039392471313
         ],
         "z": [
          0.17983552813529968
         ]
        },
        {
         "hovertemplate": "color=another<br>0=%{x}<br>1=%{y}<br>2=%{z}<extra></extra>",
         "legendgroup": "another",
         "marker": {
          "color": "#FECB52",
          "symbol": "circle"
         },
         "mode": "markers",
         "name": "another",
         "scene": "scene",
         "showlegend": true,
         "type": "scatter3d",
         "x": [
          0.03890819847583771
         ],
         "y": [
          0.49677011370658875
         ],
         "z": [
          0.15438853204250336
         ]
        },
        {
         "hovertemplate": "color=snow<br>0=%{x}<br>1=%{y}<br>2=%{z}<extra></extra>",
         "legendgroup": "snow",
         "marker": {
          "color": "#636efa",
          "symbol": "circle"
         },
         "mode": "markers",
         "name": "snow",
         "scene": "scene",
         "showlegend": true,
         "type": "scatter3d",
         "x": [
          -0.22026725113391876
         ],
         "y": [
          0.5027877688407898
         ],
         "z": [
          0.22463585436344147
         ]
        },
        {
         "hovertemplate": "color=beneath<br>0=%{x}<br>1=%{y}<br>2=%{z}<extra></extra>",
         "legendgroup": "beneath",
         "marker": {
          "color": "#EF553B",
          "symbol": "circle"
         },
         "mode": "markers",
         "name": "beneath",
         "scene": "scene",
         "showlegend": true,
         "type": "scatter3d",
         "x": [
          -0.5726366639137268
         ],
         "y": [
          0.405328631401062
         ],
         "z": [
          0.1971559077501297
         ]
        },
        {
         "hovertemplate": "color=across<br>0=%{x}<br>1=%{y}<br>2=%{z}<extra></extra>",
         "legendgroup": "across",
         "marker": {
          "color": "#00cc96",
          "symbol": "circle"
         },
         "mode": "markers",
         "name": "across",
         "scene": "scene",
         "showlegend": true,
         "type": "scatter3d",
         "x": [
          -0.5008154511451721
         ],
         "y": [
          0.40821242332458496
         ],
         "z": [
          0.24823245406150818
         ]
        },
        {
         "hovertemplate": "color=knight<br>0=%{x}<br>1=%{y}<br>2=%{z}<extra></extra>",
         "legendgroup": "knight",
         "marker": {
          "color": "#ab63fa",
          "symbol": "circle"
         },
         "mode": "markers",
         "name": "knight",
         "scene": "scene",
         "showlegend": true,
         "type": "scatter3d",
         "x": [
          0.3148106336593628
         ],
         "y": [
          0.3904431164264679
         ],
         "z": [
          0.008498753421008587
         ]
        },
        {
         "hovertemplate": "color=keep<br>0=%{x}<br>1=%{y}<br>2=%{z}<extra></extra>",
         "legendgroup": "keep",
         "marker": {
          "color": "#FFA15A",
          "symbol": "circle"
         },
         "mode": "markers",
         "name": "keep",
         "scene": "scene",
         "showlegend": true,
         "type": "scatter3d",
         "x": [
          0.14004187285900116
         ],
         "y": [
          0.7475378513336182
         ],
         "z": [
          0.24332179129123688
         ]
        },
        {
         "hovertemplate": "color=grace<br>0=%{x}<br>1=%{y}<br>2=%{z}<extra></extra>",
         "legendgroup": "grace",
         "marker": {
          "color": "#19d3f3",
          "symbol": "circle"
         },
         "mode": "markers",
         "name": "grace",
         "scene": "scene",
         "showlegend": true,
         "type": "scatter3d",
         "x": [
          0.5794219970703125
         ],
         "y": [
          0.5340052247047424
         ],
         "z": [
          0.0898861289024353
         ]
        },
        {
         "hovertemplate": "color=found<br>0=%{x}<br>1=%{y}<br>2=%{z}<extra></extra>",
         "legendgroup": "found",
         "marker": {
          "color": "#FF6692",
          "symbol": "circle"
         },
         "mode": "markers",
         "name": "found",
         "scene": "scene",
         "showlegend": true,
         "type": "scatter3d",
         "x": [
          -0.06843230128288269
         ],
         "y": [
          0.46817338466644287
         ],
         "z": [
          0.4721142649650574
         ]
        },
        {
         "hovertemplate": "color=gold<br>0=%{x}<br>1=%{y}<br>2=%{z}<extra></extra>",
         "legendgroup": "gold",
         "marker": {
          "color": "#B6E880",
          "symbol": "circle"
         },
         "mode": "markers",
         "name": "gold",
         "scene": "scene",
         "showlegend": true,
         "type": "scatter3d",
         "x": [
          -0.03931855037808418
         ],
         "y": [
          0.3919084370136261
         ],
         "z": [
          -0.2163386046886444
         ]
        },
        {
         "hovertemplate": "color=any<br>0=%{x}<br>1=%{y}<br>2=%{z}<extra></extra>",
         "legendgroup": "any",
         "marker": {
          "color": "#FF97FF",
          "symbol": "circle"
         },
         "mode": "markers",
         "name": "any",
         "scene": "scene",
         "showlegend": true,
         "type": "scatter3d",
         "x": [
          0.4728579521179199
         ],
         "y": [
          0.5479149222373962
         ],
         "z": [
          -0.05838257074356079
         ]
        },
        {
         "hovertemplate": "color=last<br>0=%{x}<br>1=%{y}<br>2=%{z}<extra></extra>",
         "legendgroup": "last",
         "marker": {
          "color": "#FECB52",
          "symbol": "circle"
         },
         "mode": "markers",
         "name": "last",
         "scene": "scene",
         "showlegend": true,
         "type": "scatter3d",
         "x": [
          0.168034628033638
         ],
         "y": [
          0.6145730018615723
         ],
         "z": [
          0.14706391096115112
         ]
        },
        {
         "hovertemplate": "color=cersei<br>0=%{x}<br>1=%{y}<br>2=%{z}<extra></extra>",
         "legendgroup": "cersei",
         "marker": {
          "color": "#636efa",
          "symbol": "circle"
         },
         "mode": "markers",
         "name": "cersei",
         "scene": "scene",
         "showlegend": true,
         "type": "scatter3d",
         "x": [
          0.3667515218257904
         ],
         "y": [
          0.31169214844703674
         ],
         "z": [
          0.2625880539417267
         ]
        },
        {
         "hovertemplate": "color=castle<br>0=%{x}<br>1=%{y}<br>2=%{z}<extra></extra>",
         "legendgroup": "castle",
         "marker": {
          "color": "#EF553B",
          "symbol": "circle"
         },
         "mode": "markers",
         "name": "castle",
         "scene": "scene",
         "showlegend": true,
         "type": "scatter3d",
         "x": [
          0.09228122979402542
         ],
         "y": [
          0.8542826175689697
         ],
         "z": [
          -0.23932698369026184
         ]
        },
        {
         "hovertemplate": "color=those<br>0=%{x}<br>1=%{y}<br>2=%{z}<extra></extra>",
         "legendgroup": "those",
         "marker": {
          "color": "#00cc96",
          "symbol": "circle"
         },
         "mode": "markers",
         "name": "those",
         "scene": "scene",
         "showlegend": true,
         "type": "scatter3d",
         "x": [
          0.12788204848766327
         ],
         "y": [
          0.5948922634124756
         ],
         "z": [
          -0.3242190182209015
         ]
        },
        {
         "hovertemplate": "color=stark<br>0=%{x}<br>1=%{y}<br>2=%{z}<extra></extra>",
         "legendgroup": "stark",
         "marker": {
          "color": "#ab63fa",
          "symbol": "circle"
         },
         "mode": "markers",
         "name": "stark",
         "scene": "scene",
         "showlegend": true,
         "type": "scatter3d",
         "x": [
          0.48062655329704285
         ],
         "y": [
          0.5031155347824097
         ],
         "z": [
          0.20260919630527496
         ]
        },
        {
         "hovertemplate": "color=gods<br>0=%{x}<br>1=%{y}<br>2=%{z}<extra></extra>",
         "legendgroup": "gods",
         "marker": {
          "color": "#FFA15A",
          "symbol": "circle"
         },
         "mode": "markers",
         "name": "gods",
         "scene": "scene",
         "showlegend": true,
         "type": "scatter3d",
         "x": [
          0.4407286047935486
         ],
         "y": [
          0.6930837035179138
         ],
         "z": [
          -0.17109793424606323
         ]
        },
        {
         "hovertemplate": "color=think<br>0=%{x}<br>1=%{y}<br>2=%{z}<extra></extra>",
         "legendgroup": "think",
         "marker": {
          "color": "#19d3f3",
          "symbol": "circle"
         },
         "mode": "markers",
         "name": "think",
         "scene": "scene",
         "showlegend": true,
         "type": "scatter3d",
         "x": [
          0.5267145037651062
         ],
         "y": [
          0.5448646545410156
         ],
         "z": [
          0.3246347904205322
         ]
        },
        {
         "hovertemplate": "color=hair<br>0=%{x}<br>1=%{y}<br>2=%{z}<extra></extra>",
         "legendgroup": "hair",
         "marker": {
          "color": "#FF6692",
          "symbol": "circle"
         },
         "mode": "markers",
         "name": "hair",
         "scene": "scene",
         "showlegend": true,
         "type": "scatter3d",
         "x": [
          -0.30792489647865295
         ],
         "y": [
          0.2278674989938736
         ],
         "z": [
          0.3508007526397705
         ]
        },
        {
         "hovertemplate": "color=many<br>0=%{x}<br>1=%{y}<br>2=%{z}<extra></extra>",
         "legendgroup": "many",
         "marker": {
          "color": "#B6E880",
          "symbol": "circle"
         },
         "mode": "markers",
         "name": "many",
         "scene": "scene",
         "showlegend": true,
         "type": "scatter3d",
         "x": [
          0.22836056351661682
         ],
         "y": [
          0.55311119556427
         ],
         "z": [
          -0.26362016797065735
         ]
        },
        {
         "hovertemplate": "color=feet<br>0=%{x}<br>1=%{y}<br>2=%{z}<extra></extra>",
         "legendgroup": "feet",
         "marker": {
          "color": "#FF97FF",
          "symbol": "circle"
         },
         "mode": "markers",
         "name": "feet",
         "scene": "scene",
         "showlegend": true,
         "type": "scatter3d",
         "x": [
          -0.42101919651031494
         ],
         "y": [
          0.5286914110183716
         ],
         "z": [
          0.335055947303772
         ]
        },
        {
         "hovertemplate": "color=against<br>0=%{x}<br>1=%{y}<br>2=%{z}<extra></extra>",
         "legendgroup": "against",
         "marker": {
          "color": "#FECB52",
          "symbol": "circle"
         },
         "mode": "markers",
         "name": "against",
         "scene": "scene",
         "showlegend": true,
         "type": "scatter3d",
         "x": [
          -0.22064222395420074
         ],
         "y": [
          0.42468658089637756
         ],
         "z": [
          0.3079337477684021
         ]
        },
        {
         "hovertemplate": "color=hands<br>0=%{x}<br>1=%{y}<br>2=%{z}<extra></extra>",
         "legendgroup": "hands",
         "marker": {
          "color": "#636efa",
          "symbol": "circle"
         },
         "mode": "markers",
         "name": "hands",
         "scene": "scene",
         "showlegend": true,
         "type": "scatter3d",
         "x": [
          -0.27295488119125366
         ],
         "y": [
          0.45414412021636963
         ],
         "z": [
          0.41249746084213257
         ]
        },
        {
         "hovertemplate": "color=stannis<br>0=%{x}<br>1=%{y}<br>2=%{z}<extra></extra>",
         "legendgroup": "stannis",
         "marker": {
          "color": "#EF553B",
          "symbol": "circle"
         },
         "mode": "markers",
         "name": "stannis",
         "scene": "scene",
         "showlegend": true,
         "type": "scatter3d",
         "x": [
          0.41526997089385986
         ],
         "y": [
          0.6194778084754944
         ],
         "z": [
          -0.07641736418008804
         ]
        },
        {
         "hovertemplate": "color=mother<br>0=%{x}<br>1=%{y}<br>2=%{z}<extra></extra>",
         "legendgroup": "mother",
         "marker": {
          "color": "#00cc96",
          "symbol": "circle"
         },
         "mode": "markers",
         "name": "mother",
         "scene": "scene",
         "showlegend": true,
         "type": "scatter3d",
         "x": [
          0.45044785737991333
         ],
         "y": [
          0.48905467987060547
         ],
         "z": [
          0.12379992008209229
         ]
        },
        {
         "hovertemplate": "color=catelyn<br>0=%{x}<br>1=%{y}<br>2=%{z}<extra></extra>",
         "legendgroup": "catelyn",
         "marker": {
          "color": "#ab63fa",
          "symbol": "circle"
         },
         "mode": "markers",
         "name": "catelyn",
         "scene": "scene",
         "showlegend": true,
         "type": "scatter3d",
         "x": [
          0.22133950889110565
         ],
         "y": [
          0.352159321308136
         ],
         "z": [
          0.1922813504934311
         ]
        },
        {
         "hovertemplate": "color=robert<br>0=%{x}<br>1=%{y}<br>2=%{z}<extra></extra>",
         "legendgroup": "robert",
         "marker": {
          "color": "#FFA15A",
          "symbol": "circle"
         },
         "mode": "markers",
         "name": "robert",
         "scene": "scene",
         "showlegend": true,
         "type": "scatter3d",
         "x": [
          0.5294657945632935
         ],
         "y": [
          0.4742180407047272
         ],
         "z": [
          0.03266751393675804
         ]
        },
        {
         "hovertemplate": "color=seemed<br>0=%{x}<br>1=%{y}<br>2=%{z}<extra></extra>",
         "legendgroup": "seemed",
         "marker": {
          "color": "#19d3f3",
          "symbol": "circle"
         },
         "mode": "markers",
         "name": "seemed",
         "scene": "scene",
         "showlegend": true,
         "type": "scatter3d",
         "x": [
          0.045295391231775284
         ],
         "y": [
          0.43995893001556396
         ],
         "z": [
          0.3017693758010864
         ]
        },
        {
         "hovertemplate": "color=prince<br>0=%{x}<br>1=%{y}<br>2=%{z}<extra></extra>",
         "legendgroup": "prince",
         "marker": {
          "color": "#FF6692",
          "symbol": "circle"
         },
         "mode": "markers",
         "name": "prince",
         "scene": "scene",
         "showlegend": true,
         "type": "scatter3d",
         "x": [
          0.5626295208930969
         ],
         "y": [
          0.4384276866912842
         ],
         "z": [
          0.10707876831293106
         ]
        },
        {
         "hovertemplate": "color=may<br>0=%{x}<br>1=%{y}<br>2=%{z}<extra></extra>",
         "legendgroup": "may",
         "marker": {
          "color": "#B6E880",
          "symbol": "circle"
         },
         "mode": "markers",
         "name": "may",
         "scene": "scene",
         "showlegend": true,
         "type": "scatter3d",
         "x": [
          0.5749349594116211
         ],
         "y": [
          0.45479586720466614
         ],
         "z": [
          0.12324878573417664
         ]
        },
        {
         "hovertemplate": "color=ever<br>0=%{x}<br>1=%{y}<br>2=%{z}<extra></extra>",
         "legendgroup": "ever",
         "marker": {
          "color": "#FF97FF",
          "symbol": "circle"
         },
         "mode": "markers",
         "name": "ever",
         "scene": "scene",
         "showlegend": true,
         "type": "scatter3d",
         "x": [
          0.4433337152004242
         ],
         "y": [
          0.5104780197143555
         ],
         "z": [
          0.08823344856500626
         ]
        },
        {
         "hovertemplate": "color=robb<br>0=%{x}<br>1=%{y}<br>2=%{z}<extra></extra>",
         "legendgroup": "robb",
         "marker": {
          "color": "#FECB52",
          "symbol": "circle"
         },
         "mode": "markers",
         "name": "robb",
         "scene": "scene",
         "showlegend": true,
         "type": "scatter3d",
         "x": [
          0.3952503502368927
         ],
         "y": [
          0.4627070128917694
         ],
         "z": [
          0.1700558215379715
         ]
        },
        {
         "hovertemplate": "color=done<br>0=%{x}<br>1=%{y}<br>2=%{z}<extra></extra>",
         "legendgroup": "done",
         "marker": {
          "color": "#636efa",
          "symbol": "circle"
         },
         "mode": "markers",
         "name": "done",
         "scene": "scene",
         "showlegend": true,
         "type": "scatter3d",
         "x": [
          0.48797208070755005
         ],
         "y": [
          0.5814638137817383
         ],
         "z": [
          0.23190224170684814
         ]
        },
        {
         "hovertemplate": "color=don<br>0=%{x}<br>1=%{y}<br>2=%{z}<extra></extra>",
         "legendgroup": "don",
         "marker": {
          "color": "#EF553B",
          "symbol": "circle"
         },
         "mode": "markers",
         "name": "don",
         "scene": "scene",
         "showlegend": true,
         "type": "scatter3d",
         "x": [
          0.46896058320999146
         ],
         "y": [
          0.3185114860534668
         ],
         "z": [
          0.33714011311531067
         ]
        },
        {
         "hovertemplate": "color=find<br>0=%{x}<br>1=%{y}<br>2=%{z}<extra></extra>",
         "legendgroup": "find",
         "marker": {
          "color": "#00cc96",
          "symbol": "circle"
         },
         "mode": "markers",
         "name": "find",
         "scene": "scene",
         "showlegend": true,
         "type": "scatter3d",
         "x": [
          0.3983505368232727
         ],
         "y": [
          0.6145980358123779
         ],
         "z": [
          0.3612426519393921
         ]
        },
        {
         "hovertemplate": "color=lannister<br>0=%{x}<br>1=%{y}<br>2=%{z}<extra></extra>",
         "legendgroup": "lannister",
         "marker": {
          "color": "#ab63fa",
          "symbol": "circle"
         },
         "mode": "markers",
         "name": "lannister",
         "scene": "scene",
         "showlegend": true,
         "type": "scatter3d",
         "x": [
          0.4039647877216339
         ],
         "y": [
          0.4038620591163635
         ],
         "z": [
          0.0594593770802021
         ]
        },
        {
         "hovertemplate": "color=re<br>0=%{x}<br>1=%{y}<br>2=%{z}<extra></extra>",
         "legendgroup": "re",
         "marker": {
          "color": "#FFA15A",
          "symbol": "circle"
         },
         "mode": "markers",
         "name": "re",
         "scene": "scene",
         "showlegend": true,
         "type": "scatter3d",
         "x": [
          0.36858370900154114
         ],
         "y": [
          0.4404321312904358
         ],
         "z": [
          0.25915274024009705
         ]
        },
        {
         "hovertemplate": "color=hear<br>0=%{x}<br>1=%{y}<br>2=%{z}<extra></extra>",
         "legendgroup": "hear",
         "marker": {
          "color": "#19d3f3",
          "symbol": "circle"
         },
         "mode": "markers",
         "name": "hear",
         "scene": "scene",
         "showlegend": true,
         "type": "scatter3d",
         "x": [
          0.1884840428829193
         ],
         "y": [
          0.5151255130767822
         ],
         "z": [
          0.44480830430984497
         ]
        },
        {
         "hovertemplate": "color=grey<br>0=%{x}<br>1=%{y}<br>2=%{z}<extra></extra>",
         "legendgroup": "grey",
         "marker": {
          "color": "#FF6692",
          "symbol": "circle"
         },
         "mode": "markers",
         "name": "grey",
         "scene": "scene",
         "showlegend": true,
         "type": "scatter3d",
         "x": [
          -0.4533112347126007
         ],
         "y": [
          0.263045996427536
         ],
         "z": [
          0.009227912873029709
         ]
        },
        {
         "hovertemplate": "color=name<br>0=%{x}<br>1=%{y}<br>2=%{z}<extra></extra>",
         "legendgroup": "name",
         "marker": {
          "color": "#B6E880",
          "symbol": "circle"
         },
         "mode": "markers",
         "name": "name",
         "scene": "scene",
         "showlegend": true,
         "type": "scatter3d",
         "x": [
          0.5927097797393799
         ],
         "y": [
          0.5735249519348145
         ],
         "z": [
          0.1939261108636856
         ]
        },
        {
         "hovertemplate": "color=horse<br>0=%{x}<br>1=%{y}<br>2=%{z}<extra></extra>",
         "legendgroup": "horse",
         "marker": {
          "color": "#FF97FF",
          "symbol": "circle"
         },
         "mode": "markers",
         "name": "horse",
         "scene": "scene",
         "showlegend": true,
         "type": "scatter3d",
         "x": [
          -0.3429638147354126
         ],
         "y": [
          0.5214144587516785
         ],
         "z": [
          0.3114610016345978
         ]
        },
        {
         "hovertemplate": "color=high<br>0=%{x}<br>1=%{y}<br>2=%{z}<extra></extra>",
         "legendgroup": "high",
         "marker": {
          "color": "#FECB52",
          "symbol": "circle"
         },
         "mode": "markers",
         "name": "high",
         "scene": "scene",
         "showlegend": true,
         "type": "scatter3d",
         "x": [
          -0.14575140178203583
         ],
         "y": [
          0.4975305497646332
         ],
         "z": [
          -0.2194811999797821
         ]
        },
        {
         "hovertemplate": "color=put<br>0=%{x}<br>1=%{y}<br>2=%{z}<extra></extra>",
         "legendgroup": "put",
         "marker": {
          "color": "#636efa",
          "symbol": "circle"
         },
         "mode": "markers",
         "name": "put",
         "scene": "scene",
         "showlegend": true,
         "type": "scatter3d",
         "x": [
          0.2659893035888672
         ],
         "y": [
          0.4892379939556122
         ],
         "z": [
          0.6166069507598877
         ]
        },
        {
         "hovertemplate": "color=stone<br>0=%{x}<br>1=%{y}<br>2=%{z}<extra></extra>",
         "legendgroup": "stone",
         "marker": {
          "color": "#EF553B",
          "symbol": "circle"
         },
         "mode": "markers",
         "name": "stone",
         "scene": "scene",
         "showlegend": true,
         "type": "scatter3d",
         "x": [
          -0.6239102482795715
         ],
         "y": [
          0.5244388580322266
         ],
         "z": [
          -0.16095668077468872
         ]
        },
        {
         "hovertemplate": "color=wine<br>0=%{x}<br>1=%{y}<br>2=%{z}<extra></extra>",
         "legendgroup": "wine",
         "marker": {
          "color": "#00cc96",
          "symbol": "circle"
         },
         "mode": "markers",
         "name": "wine",
         "scene": "scene",
         "showlegend": true,
         "type": "scatter3d",
         "x": [
          -0.074260413646698
         ],
         "y": [
          0.2806451618671417
         ],
         "z": [
          0.33026325702667236
         ]
        },
        {
         "hovertemplate": "color=hard<br>0=%{x}<br>1=%{y}<br>2=%{z}<extra></extra>",
         "legendgroup": "hard",
         "marker": {
          "color": "#ab63fa",
          "symbol": "circle"
         },
         "mode": "markers",
         "name": "hard",
         "scene": "scene",
         "showlegend": true,
         "type": "scatter3d",
         "x": [
          -0.3143302798271179
         ],
         "y": [
          0.3446366488933563
         ],
         "z": [
          0.372371107339859
         ]
        },
        {
         "hovertemplate": "color=water<br>0=%{x}<br>1=%{y}<br>2=%{z}<extra></extra>",
         "legendgroup": "water",
         "marker": {
          "color": "#FFA15A",
          "symbol": "circle"
         },
         "mode": "markers",
         "name": "water",
         "scene": "scene",
         "showlegend": true,
         "type": "scatter3d",
         "x": [
          -0.5486096739768982
         ],
         "y": [
          0.5040711164474487
         ],
         "z": [
          0.2078395038843155
         ]
        },
        {
         "hovertemplate": "color=upon<br>0=%{x}<br>1=%{y}<br>2=%{z}<extra></extra>",
         "legendgroup": "upon",
         "marker": {
          "color": "#19d3f3",
          "symbol": "circle"
         },
         "mode": "markers",
         "name": "upon",
         "scene": "scene",
         "showlegend": true,
         "type": "scatter3d",
         "x": [
          -0.11144951730966568
         ],
         "y": [
          0.4739997684955597
         ],
         "z": [
          0.12666364014148712
         ]
        },
        {
         "hovertemplate": "color=fire<br>0=%{x}<br>1=%{y}<br>2=%{z}<extra></extra>",
         "legendgroup": "fire",
         "marker": {
          "color": "#FF6692",
          "symbol": "circle"
         },
         "mode": "markers",
         "name": "fire",
         "scene": "scene",
         "showlegend": true,
         "type": "scatter3d",
         "x": [
          -0.48534175753593445
         ],
         "y": [
          0.6600684523582458
         ],
         "z": [
          0.01455568615347147
         ]
        },
        {
         "hovertemplate": "color=iron<br>0=%{x}<br>1=%{y}<br>2=%{z}<extra></extra>",
         "legendgroup": "iron",
         "marker": {
          "color": "#B6E880",
          "symbol": "circle"
         },
         "mode": "markers",
         "name": "iron",
         "scene": "scene",
         "showlegend": true,
         "type": "scatter3d",
         "x": [
          -0.17785081267356873
         ],
         "y": [
          0.5367574691772461
         ],
         "z": [
          -0.16316938400268555
         ]
        },
        {
         "hovertemplate": "color=until<br>0=%{x}<br>1=%{y}<br>2=%{z}<extra></extra>",
         "legendgroup": "until",
         "marker": {
          "color": "#FF97FF",
          "symbol": "circle"
         },
         "mode": "markers",
         "name": "until",
         "scene": "scene",
         "showlegend": true,
         "type": "scatter3d",
         "x": [
          -0.10473769903182983
         ],
         "y": [
          0.5853486061096191
         ],
         "z": [
          0.37522539496421814
         ]
        },
        {
         "hovertemplate": "color=these<br>0=%{x}<br>1=%{y}<br>2=%{z}<extra></extra>",
         "legendgroup": "these",
         "marker": {
          "color": "#FECB52",
          "symbol": "circle"
         },
         "mode": "markers",
         "name": "these",
         "scene": "scene",
         "showlegend": true,
         "type": "scatter3d",
         "x": [
          0.42867231369018555
         ],
         "y": [
          0.6141011118888855
         ],
         "z": [
          -0.4252729117870331
         ]
        },
        {
         "hovertemplate": "color=voice<br>0=%{x}<br>1=%{y}<br>2=%{z}<extra></extra>",
         "legendgroup": "voice",
         "marker": {
          "color": "#636efa",
          "symbol": "circle"
         },
         "mode": "markers",
         "name": "voice",
         "scene": "scene",
         "showlegend": true,
         "type": "scatter3d",
         "x": [
          0.020390935242176056
         ],
         "y": [
          0.2949305474758148
         ],
         "z": [
          0.42881351709365845
         ]
        },
        {
         "hovertemplate": "color=gone<br>0=%{x}<br>1=%{y}<br>2=%{z}<extra></extra>",
         "legendgroup": "gone",
         "marker": {
          "color": "#EF553B",
          "symbol": "circle"
         },
         "mode": "markers",
         "name": "gone",
         "scene": "scene",
         "showlegend": true,
         "type": "scatter3d",
         "x": [
          0.05416208133101463
         ],
         "y": [
          0.5835431814193726
         ],
         "z": [
          0.2823754847049713
         ]
        },
        {
         "hovertemplate": "color=give<br>0=%{x}<br>1=%{y}<br>2=%{z}<extra></extra>",
         "legendgroup": "give",
         "marker": {
          "color": "#00cc96",
          "symbol": "circle"
         },
         "mode": "markers",
         "name": "give",
         "scene": "scene",
         "showlegend": true,
         "type": "scatter3d",
         "x": [
          0.6001370549201965
         ],
         "y": [
          0.4685995280742645
         ],
         "z": [
          0.40130937099456787
         ]
        },
        {
         "hovertemplate": "color=sam<br>0=%{x}<br>1=%{y}<br>2=%{z}<extra></extra>",
         "legendgroup": "sam",
         "marker": {
          "color": "#ab63fa",
          "symbol": "circle"
         },
         "mode": "markers",
         "name": "sam",
         "scene": "scene",
         "showlegend": true,
         "type": "scatter3d",
         "x": [
          -0.009094751439988613
         ],
         "y": [
          0.32938578724861145
         ],
         "z": [
          0.3648988902568817
         ]
        },
        {
         "hovertemplate": "color=seen<br>0=%{x}<br>1=%{y}<br>2=%{z}<extra></extra>",
         "legendgroup": "seen",
         "marker": {
          "color": "#FFA15A",
          "symbol": "circle"
         },
         "mode": "markers",
         "name": "seen",
         "scene": "scene",
         "showlegend": true,
         "type": "scatter3d",
         "x": [
          0.1519896686077118
         ],
         "y": [
          0.6017032861709595
         ],
         "z": [
          0.18877176940441132
         ]
        },
        {
         "hovertemplate": "color=better<br>0=%{x}<br>1=%{y}<br>2=%{z}<extra></extra>",
         "legendgroup": "better",
         "marker": {
          "color": "#19d3f3",
          "symbol": "circle"
         },
         "mode": "markers",
         "name": "better",
         "scene": "scene",
         "showlegend": true,
         "type": "scatter3d",
         "x": [
          0.45757240056991577
         ],
         "y": [
          0.4599497616291046
         ],
         "z": [
          0.10112527012825012
         ]
        },
        {
         "hovertemplate": "color=shall<br>0=%{x}<br>1=%{y}<br>2=%{z}<extra></extra>",
         "legendgroup": "shall",
         "marker": {
          "color": "#FF6692",
          "symbol": "circle"
         },
         "mode": "markers",
         "name": "shall",
         "scene": "scene",
         "showlegend": true,
         "type": "scatter3d",
         "x": [
          0.5257814526557922
         ],
         "y": [
          0.5107247233390808
         ],
         "z": [
          0.09761005640029907
         ]
        },
        {
         "hovertemplate": "color=ned<br>0=%{x}<br>1=%{y}<br>2=%{z}<extra></extra>",
         "legendgroup": "ned",
         "marker": {
          "color": "#B6E880",
          "symbol": "circle"
         },
         "mode": "markers",
         "name": "ned",
         "scene": "scene",
         "showlegend": true,
         "type": "scatter3d",
         "x": [
          0.27512049674987793
         ],
         "y": [
          0.34726378321647644
         ],
         "z": [
          0.27536672353744507
         ]
        },
        {
         "hovertemplate": "color=always<br>0=%{x}<br>1=%{y}<br>2=%{z}<extra></extra>",
         "legendgroup": "always",
         "marker": {
          "color": "#FF97FF",
          "symbol": "circle"
         },
         "mode": "markers",
         "name": "always",
         "scene": "scene",
         "showlegend": true,
         "type": "scatter3d",
         "x": [
          0.47172486782073975
         ],
         "y": [
          0.38149160146713257
         ],
         "z": [
          0.10419590771198273
         ]
        },
        {
         "hovertemplate": "color=years<br>0=%{x}<br>1=%{y}<br>2=%{z}<extra></extra>",
         "legendgroup": "years",
         "marker": {
          "color": "#FECB52",
          "symbol": "circle"
         },
         "mode": "markers",
         "name": "years",
         "scene": "scene",
         "showlegend": true,
         "type": "scatter3d",
         "x": [
          0.3230001628398895
         ],
         "y": [
          0.597300112247467
         ],
         "z": [
          -0.16823320090770721
         ]
        },
        {
         "hovertemplate": "color=between<br>0=%{x}<br>1=%{y}<br>2=%{z}<extra></extra>",
         "legendgroup": "between",
         "marker": {
          "color": "#636efa",
          "symbol": "circle"
         },
         "mode": "markers",
         "name": "between",
         "scene": "scene",
         "showlegend": true,
         "type": "scatter3d",
         "x": [
          -0.3930946886539459
         ],
         "y": [
          0.34258803725242615
         ],
         "z": [
          0.25665009021759033
         ]
        },
        {
         "hovertemplate": "color=dark<br>0=%{x}<br>1=%{y}<br>2=%{z}<extra></extra>",
         "legendgroup": "dark",
         "marker": {
          "color": "#EF553B",
          "symbol": "circle"
         },
         "mode": "markers",
         "name": "dark",
         "scene": "scene",
         "showlegend": true,
         "type": "scatter3d",
         "x": [
          -0.49906712770462036
         ],
         "y": [
          0.4295347034931183
         ],
         "z": [
          0.011096392758190632
         ]
        },
        {
         "hovertemplate": "color=place<br>0=%{x}<br>1=%{y}<br>2=%{z}<extra></extra>",
         "legendgroup": "place",
         "marker": {
          "color": "#00cc96",
          "symbol": "circle"
         },
         "mode": "markers",
         "name": "place",
         "scene": "scene",
         "showlegend": true,
         "type": "scatter3d",
         "x": [
          0.18005986511707306
         ],
         "y": [
          0.8136078715324402
         ],
         "z": [
          -0.03395092487335205
         ]
        },
        {
         "hovertemplate": "color=small<br>0=%{x}<br>1=%{y}<br>2=%{z}<extra></extra>",
         "legendgroup": "small",
         "marker": {
          "color": "#ab63fa",
          "symbol": "circle"
         },
         "mode": "markers",
         "name": "small",
         "scene": "scene",
         "showlegend": true,
         "type": "scatter3d",
         "x": [
          -0.23854418098926544
         ],
         "y": [
          0.3401627838611603
         ],
         "z": [
          -0.19358491897583008
         ]
        },
        {
         "hovertemplate": "color=cold<br>0=%{x}<br>1=%{y}<br>2=%{z}<extra></extra>",
         "legendgroup": "cold",
         "marker": {
          "color": "#FFA15A",
          "symbol": "circle"
         },
         "mode": "markers",
         "name": "cold",
         "scene": "scene",
         "showlegend": true,
         "type": "scatter3d",
         "x": [
          -0.3556057810783386
         ],
         "y": [
          0.4610125422477722
         ],
         "z": [
          0.2167281061410904
         ]
        },
        {
         "hovertemplate": "color=winterfell<br>0=%{x}<br>1=%{y}<br>2=%{z}<extra></extra>",
         "legendgroup": "winterfell",
         "marker": {
          "color": "#19d3f3",
          "symbol": "circle"
         },
         "mode": "markers",
         "name": "winterfell",
         "scene": "scene",
         "showlegend": true,
         "type": "scatter3d",
         "x": [
          0.31657472252845764
         ],
         "y": [
          0.7177016139030457
         ],
         "z": [
          -0.05235615372657776
         ]
        },
        {
         "hovertemplate": "color=most<br>0=%{x}<br>1=%{y}<br>2=%{z}<extra></extra>",
         "legendgroup": "most",
         "marker": {
          "color": "#FF6692",
          "symbol": "circle"
         },
         "mode": "markers",
         "name": "most",
         "scene": "scene",
         "showlegend": true,
         "type": "scatter3d",
         "x": [
          0.4488796889781952
         ],
         "y": [
          0.527282178401947
         ],
         "z": [
          -0.31759002804756165
         ]
        },
        {
         "hovertemplate": "color=hundred<br>0=%{x}<br>1=%{y}<br>2=%{z}<extra></extra>",
         "legendgroup": "hundred",
         "marker": {
          "color": "#B6E880",
          "symbol": "circle"
         },
         "mode": "markers",
         "name": "hundred",
         "scene": "scene",
         "showlegend": true,
         "type": "scatter3d",
         "x": [
          -0.007861519232392311
         ],
         "y": [
          0.5861795544624329
         ],
         "z": [
          -0.41357675194740295
         ]
        },
        {
         "hovertemplate": "color=stood<br>0=%{x}<br>1=%{y}<br>2=%{z}<extra></extra>",
         "legendgroup": "stood",
         "marker": {
          "color": "#FF97FF",
          "symbol": "circle"
         },
         "mode": "markers",
         "name": "stood",
         "scene": "scene",
         "showlegend": true,
         "type": "scatter3d",
         "x": [
          -0.27674630284309387
         ],
         "y": [
          0.43062958121299744
         ],
         "z": [
          0.1879063844680786
         ]
        },
        {
         "hovertemplate": "color=end<br>0=%{x}<br>1=%{y}<br>2=%{z}<extra></extra>",
         "legendgroup": "end",
         "marker": {
          "color": "#FECB52",
          "symbol": "circle"
         },
         "mode": "markers",
         "name": "end",
         "scene": "scene",
         "showlegend": true,
         "type": "scatter3d",
         "x": [
          0.09822844713926315
         ],
         "y": [
          0.7704512476921082
         ],
         "z": [
          0.05361204221844673
         ]
        },
        {
         "hovertemplate": "color=sister<br>0=%{x}<br>1=%{y}<br>2=%{z}<extra></extra>",
         "legendgroup": "sister",
         "marker": {
          "color": "#636efa",
          "symbol": "circle"
         },
         "mode": "markers",
         "name": "sister",
         "scene": "scene",
         "showlegend": true,
         "type": "scatter3d",
         "x": [
          0.5905435085296631
         ],
         "y": [
          0.43507102131843567
         ],
         "z": [
          0.22380468249320984
         ]
        },
        {
         "hovertemplate": "color=words<br>0=%{x}<br>1=%{y}<br>2=%{z}<extra></extra>",
         "legendgroup": "words",
         "marker": {
          "color": "#EF553B",
          "symbol": "circle"
         },
         "mode": "markers",
         "name": "words",
         "scene": "scene",
         "showlegend": true,
         "type": "scatter3d",
         "x": [
          0.2819307744503021
         ],
         "y": [
          0.460580438375473
         ],
         "z": [
          0.23018845915794373
         ]
        },
        {
         "hovertemplate": "color=sea<br>0=%{x}<br>1=%{y}<br>2=%{z}<extra></extra>",
         "legendgroup": "sea",
         "marker": {
          "color": "#00cc96",
          "symbol": "circle"
         },
         "mode": "markers",
         "name": "sea",
         "scene": "scene",
         "showlegend": true,
         "type": "scatter3d",
         "x": [
          -0.0962754637002945
         ],
         "y": [
          0.7897370457649231
         ],
         "z": [
          -0.314924955368042
         ]
        },
        {
         "hovertemplate": "color=right<br>0=%{x}<br>1=%{y}<br>2=%{z}<extra></extra>",
         "legendgroup": "right",
         "marker": {
          "color": "#ab63fa",
          "symbol": "circle"
         },
         "mode": "markers",
         "name": "right",
         "scene": "scene",
         "showlegend": true,
         "type": "scatter3d",
         "x": [
          -0.09956003725528717
         ],
         "y": [
          0.5289309620857239
         ],
         "z": [
          0.3945164084434509
         ]
        },
        {
         "hovertemplate": "color=nothing<br>0=%{x}<br>1=%{y}<br>2=%{z}<extra></extra>",
         "legendgroup": "nothing",
         "marker": {
          "color": "#FFA15A",
          "symbol": "circle"
         },
         "mode": "markers",
         "name": "nothing",
         "scene": "scene",
         "showlegend": true,
         "type": "scatter3d",
         "x": [
          0.258526086807251
         ],
         "y": [
          0.5091918110847473
         ],
         "z": [
          0.09276488423347473
         ]
        },
        {
         "hovertemplate": "color=walls<br>0=%{x}<br>1=%{y}<br>2=%{z}<extra></extra>",
         "legendgroup": "walls",
         "marker": {
          "color": "#19d3f3",
          "symbol": "circle"
         },
         "mode": "markers",
         "name": "walls",
         "scene": "scene",
         "showlegend": true,
         "type": "scatter3d",
         "x": [
          -0.4101944863796234
         ],
         "y": [
          0.7495689392089844
         ],
         "z": [
          -0.33356568217277527
         ]
        },
        {
         "hovertemplate": "color=fingers<br>0=%{x}<br>1=%{y}<br>2=%{z}<extra></extra>",
         "legendgroup": "fingers",
         "marker": {
          "color": "#FF6692",
          "symbol": "circle"
         },
         "mode": "markers",
         "name": "fingers",
         "scene": "scene",
         "showlegend": true,
         "type": "scatter3d",
         "x": [
          -0.46748459339141846
         ],
         "y": [
          0.36552807688713074
         ],
         "z": [
          0.49274885654449463
         ]
        },
        {
         "hovertemplate": "color=same<br>0=%{x}<br>1=%{y}<br>2=%{z}<extra></extra>",
         "legendgroup": "same",
         "marker": {
          "color": "#B6E880",
          "symbol": "circle"
         },
         "mode": "markers",
         "name": "same",
         "scene": "scene",
         "showlegend": true,
         "type": "scatter3d",
         "x": [
          0.24718619883060455
         ],
         "y": [
          0.5038642883300781
         ],
         "z": [
          0.15142469108104706
         ]
        },
        {
         "hovertemplate": "color=cloak<br>0=%{x}<br>1=%{y}<br>2=%{z}<extra></extra>",
         "legendgroup": "cloak",
         "marker": {
          "color": "#FF97FF",
          "symbol": "circle"
         },
         "mode": "markers",
         "name": "cloak",
         "scene": "scene",
         "showlegend": true,
         "type": "scatter3d",
         "x": [
          -0.4063800275325775
         ],
         "y": [
          0.3167972266674042
         ],
         "z": [
          0.3216697871685028
         ]
        },
        {
         "hovertemplate": "color=house<br>0=%{x}<br>1=%{y}<br>2=%{z}<extra></extra>",
         "legendgroup": "house",
         "marker": {
          "color": "#FECB52",
          "symbol": "circle"
         },
         "mode": "markers",
         "name": "house",
         "scene": "scene",
         "showlegend": true,
         "type": "scatter3d",
         "x": [
          0.31031233072280884
         ],
         "y": [
          0.43891674280166626
         ],
         "z": [
          -0.20833605527877808
         ]
        },
        {
         "hovertemplate": "color=young<br>0=%{x}<br>1=%{y}<br>2=%{z}<extra></extra>",
         "legendgroup": "young",
         "marker": {
          "color": "#636efa",
          "symbol": "circle"
         },
         "mode": "markers",
         "name": "young",
         "scene": "scene",
         "showlegend": true,
         "type": "scatter3d",
         "x": [
          0.44811713695526123
         ],
         "y": [
          0.28828346729278564
         ],
         "z": [
          0.009036943316459656
         ]
        },
        {
         "hovertemplate": "color=does<br>0=%{x}<br>1=%{y}<br>2=%{z}<extra></extra>",
         "legendgroup": "does",
         "marker": {
          "color": "#EF553B",
          "symbol": "circle"
         },
         "mode": "markers",
         "name": "does",
         "scene": "scene",
         "showlegend": true,
         "type": "scatter3d",
         "x": [
          0.6626009345054626
         ],
         "y": [
          0.3472043573856354
         ],
         "z": [
          0.2694403827190399
         ]
        },
        {
         "hovertemplate": "color=beside<br>0=%{x}<br>1=%{y}<br>2=%{z}<extra></extra>",
         "legendgroup": "beside",
         "marker": {
          "color": "#00cc96",
          "symbol": "circle"
         },
         "mode": "markers",
         "name": "beside",
         "scene": "scene",
         "showlegend": true,
         "type": "scatter3d",
         "x": [
          -0.24142394959926605
         ],
         "y": [
          0.3956521153450012
         ],
         "z": [
          0.42817381024360657
         ]
        },
        {
         "hovertemplate": "color=get<br>0=%{x}<br>1=%{y}<br>2=%{z}<extra></extra>",
         "legendgroup": "get",
         "marker": {
          "color": "#ab63fa",
          "symbol": "circle"
         },
         "mode": "markers",
         "name": "get",
         "scene": "scene",
         "showlegend": true,
         "type": "scatter3d",
         "x": [
          0.21638864278793335
         ],
         "y": [
          0.6079672574996948
         ],
         "z": [
          0.46291089057922363
         ]
        },
        {
         "hovertemplate": "color=mouth<br>0=%{x}<br>1=%{y}<br>2=%{z}<extra></extra>",
         "legendgroup": "mouth",
         "marker": {
          "color": "#FFA15A",
          "symbol": "circle"
         },
         "mode": "markers",
         "name": "mouth",
         "scene": "scene",
         "showlegend": true,
         "type": "scatter3d",
         "x": [
          -0.3239922523498535
         ],
         "y": [
          0.3140212595462799
         ],
         "z": [
          0.5519809722900391
         ]
        },
        {
         "hovertemplate": "color=seven<br>0=%{x}<br>1=%{y}<br>2=%{z}<extra></extra>",
         "legendgroup": "seven",
         "marker": {
          "color": "#19d3f3",
          "symbol": "circle"
         },
         "mode": "markers",
         "name": "seven",
         "scene": "scene",
         "showlegend": true,
         "type": "scatter3d",
         "x": [
          0.34040367603302
         ],
         "y": [
          0.7062219381332397
         ],
         "z": [
          -0.5255305767059326
         ]
        },
        {
         "hovertemplate": "color=watch<br>0=%{x}<br>1=%{y}<br>2=%{z}<extra></extra>",
         "legendgroup": "watch",
         "marker": {
          "color": "#FF6692",
          "symbol": "circle"
         },
         "mode": "markers",
         "name": "watch",
         "scene": "scene",
         "showlegend": true,
         "type": "scatter3d",
         "x": [
          0.32526102662086487
         ],
         "y": [
          0.6361280679702759
         ],
         "z": [
          -0.06159224733710289
         ]
        },
        {
         "hovertemplate": "color=door<br>0=%{x}<br>1=%{y}<br>2=%{z}<extra></extra>",
         "legendgroup": "door",
         "marker": {
          "color": "#B6E880",
          "symbol": "circle"
         },
         "mode": "markers",
         "name": "door",
         "scene": "scene",
         "showlegend": true,
         "type": "scatter3d",
         "x": [
          -0.4267137944698334
         ],
         "y": [
          0.5531022548675537
         ],
         "z": [
          0.3599453270435333
         ]
        },
        {
         "hovertemplate": "color=joffrey<br>0=%{x}<br>1=%{y}<br>2=%{z}<extra></extra>",
         "legendgroup": "joffrey",
         "marker": {
          "color": "#FF97FF",
          "symbol": "circle"
         },
         "mode": "markers",
         "name": "joffrey",
         "scene": "scene",
         "showlegend": true,
         "type": "scatter3d",
         "x": [
          0.5069655179977417
         ],
         "y": [
          0.39305731654167175
         ],
         "z": [
          0.21312592923641205
         ]
        },
        {
         "hovertemplate": "color=green<br>0=%{x}<br>1=%{y}<br>2=%{z}<extra></extra>",
         "legendgroup": "green",
         "marker": {
          "color": "#FECB52",
          "symbol": "circle"
         },
         "mode": "markers",
         "name": "green",
         "scene": "scene",
         "showlegend": true,
         "type": "scatter3d",
         "x": [
          -0.43409591913223267
         ],
         "y": [
          0.2715490758419037
         ],
         "z": [
          -0.15114334225654602
         ]
        },
        {
         "hovertemplate": "color=big<br>0=%{x}<br>1=%{y}<br>2=%{z}<extra></extra>",
         "legendgroup": "big",
         "marker": {
          "color": "#636efa",
          "symbol": "circle"
         },
         "mode": "markers",
         "name": "big",
         "scene": "scene",
         "showlegend": true,
         "type": "scatter3d",
         "x": [
          -0.2141420990228653
         ],
         "y": [
          0.15761461853981018
         ],
         "z": [
          0.20454585552215576
         ]
        },
        {
         "hovertemplate": "color=under<br>0=%{x}<br>1=%{y}<br>2=%{z}<extra></extra>",
         "legendgroup": "under",
         "marker": {
          "color": "#EF553B",
          "symbol": "circle"
         },
         "mode": "markers",
         "name": "under",
         "scene": "scene",
         "showlegend": true,
         "type": "scatter3d",
         "x": [
          -0.524914026260376
         ],
         "y": [
          0.2957165241241455
         ],
         "z": [
          0.2936840355396271
         ]
        },
        {
         "hovertemplate": "color=few<br>0=%{x}<br>1=%{y}<br>2=%{z}<extra></extra>",
         "legendgroup": "few",
         "marker": {
          "color": "#00cc96",
          "symbol": "circle"
         },
         "mode": "markers",
         "name": "few",
         "scene": "scene",
         "showlegend": true,
         "type": "scatter3d",
         "x": [
          0.011452602222561836
         ],
         "y": [
          0.5709527134895325
         ],
         "z": [
          -0.23916541039943695
         ]
        },
        {
         "hovertemplate": "color=sent<br>0=%{x}<br>1=%{y}<br>2=%{z}<extra></extra>",
         "legendgroup": "sent",
         "marker": {
          "color": "#ab63fa",
          "symbol": "circle"
         },
         "mode": "markers",
         "name": "sent",
         "scene": "scene",
         "showlegend": true,
         "type": "scatter3d",
         "x": [
          0.26944947242736816
         ],
         "y": [
          0.5250958204269409
         ],
         "z": [
          0.42155683040618896
         ]
        },
        {
         "hovertemplate": "color=perhaps<br>0=%{x}<br>1=%{y}<br>2=%{z}<extra></extra>",
         "legendgroup": "perhaps",
         "marker": {
          "color": "#FFA15A",
          "symbol": "circle"
         },
         "mode": "markers",
         "name": "perhaps",
         "scene": "scene",
         "showlegend": true,
         "type": "scatter3d",
         "x": [
          0.7141817212104797
         ],
         "y": [
          0.49779102206230164
         ],
         "z": [
          0.11449525505304337
         ]
        },
        {
         "hovertemplate": "color=almost<br>0=%{x}<br>1=%{y}<br>2=%{z}<extra></extra>",
         "legendgroup": "almost",
         "marker": {
          "color": "#19d3f3",
          "symbol": "circle"
         },
         "mode": "markers",
         "name": "almost",
         "scene": "scene",
         "showlegend": true,
         "type": "scatter3d",
         "x": [
          -0.19092436134815216
         ],
         "y": [
          0.3603456914424896
         ],
         "z": [
          0.46305736899375916
         ]
        },
        {
         "hovertemplate": "color=such<br>0=%{x}<br>1=%{y}<br>2=%{z}<extra></extra>",
         "legendgroup": "such",
         "marker": {
          "color": "#FF6692",
          "symbol": "circle"
         },
         "mode": "markers",
         "name": "such",
         "scene": "scene",
         "showlegend": true,
         "type": "scatter3d",
         "x": [
          0.6638621687889099
         ],
         "y": [
          0.4099676012992859
         ],
         "z": [
          -0.13479562103748322
         ]
        },
        {
         "hovertemplate": "color=wanted<br>0=%{x}<br>1=%{y}<br>2=%{z}<extra></extra>",
         "legendgroup": "wanted",
         "marker": {
          "color": "#B6E880",
          "symbol": "circle"
         },
         "mode": "markers",
         "name": "wanted",
         "scene": "scene",
         "showlegend": true,
         "type": "scatter3d",
         "x": [
          0.48976731300354004
         ],
         "y": [
          0.43502599000930786
         ],
         "z": [
          0.5466716885566711
         ]
        },
        {
         "hovertemplate": "color=daughter<br>0=%{x}<br>1=%{y}<br>2=%{z}<extra></extra>",
         "legendgroup": "daughter",
         "marker": {
          "color": "#FF97FF",
          "symbol": "circle"
         },
         "mode": "markers",
         "name": "daughter",
         "scene": "scene",
         "showlegend": true,
         "type": "scatter3d",
         "x": [
          0.537524938583374
         ],
         "y": [
          0.3102300465106964
         ],
         "z": [
          0.03401438146829605
         ]
        },
        {
         "hovertemplate": "color=true<br>0=%{x}<br>1=%{y}<br>2=%{z}<extra></extra>",
         "legendgroup": "true",
         "marker": {
          "color": "#FECB52",
          "symbol": "circle"
         },
         "mode": "markers",
         "name": "true",
         "scene": "scene",
         "showlegend": true,
         "type": "scatter3d",
         "x": [
          0.7250155210494995
         ],
         "y": [
          0.41983819007873535
         ],
         "z": [
          -0.05891571566462517
         ]
        },
        {
         "hovertemplate": "color=while<br>0=%{x}<br>1=%{y}<br>2=%{z}<extra></extra>",
         "legendgroup": "while",
         "marker": {
          "color": "#636efa",
          "symbol": "circle"
         },
         "mode": "markers",
         "name": "while",
         "scene": "scene",
         "showlegend": true,
         "type": "scatter3d",
         "x": [
          -0.3423056900501251
         ],
         "y": [
          0.5049072504043579
         ],
         "z": [
          0.18914170563220978
         ]
        },
        {
         "hovertemplate": "color=leave<br>0=%{x}<br>1=%{y}<br>2=%{z}<extra></extra>",
         "legendgroup": "leave",
         "marker": {
          "color": "#EF553B",
          "symbol": "circle"
         },
         "mode": "markers",
         "name": "leave",
         "scene": "scene",
         "showlegend": true,
         "type": "scatter3d",
         "x": [
          0.4726316034793854
         ],
         "y": [
          0.6423763036727905
         ],
         "z": [
          0.3523658812046051
         ]
        },
        {
         "hovertemplate": "color=city<br>0=%{x}<br>1=%{y}<br>2=%{z}<extra></extra>",
         "legendgroup": "city",
         "marker": {
          "color": "#00cc96",
          "symbol": "circle"
         },
         "mode": "markers",
         "name": "city",
         "scene": "scene",
         "showlegend": true,
         "type": "scatter3d",
         "x": [
          0.1363227665424347
         ],
         "y": [
          0.8225624561309814
         ],
         "z": [
          -0.39860740303993225
         ]
        },
        {
         "hovertemplate": "color=wind<br>0=%{x}<br>1=%{y}<br>2=%{z}<extra></extra>",
         "legendgroup": "wind",
         "marker": {
          "color": "#ab63fa",
          "symbol": "circle"
         },
         "mode": "markers",
         "name": "wind",
         "scene": "scene",
         "showlegend": true,
         "type": "scatter3d",
         "x": [
          -0.5771604180335999
         ],
         "y": [
          0.5397119522094727
         ],
         "z": [
          0.10372938215732574
         ]
        },
        {
         "hovertemplate": "color=light<br>0=%{x}<br>1=%{y}<br>2=%{z}<extra></extra>",
         "legendgroup": "light",
         "marker": {
          "color": "#FFA15A",
          "symbol": "circle"
         },
         "mode": "markers",
         "name": "light",
         "scene": "scene",
         "showlegend": true,
         "type": "scatter3d",
         "x": [
          -0.4006395637989044
         ],
         "y": [
          0.6156688928604126
         ],
         "z": [
          0.048766691237688065
         ]
        },
        {
         "hovertemplate": "color=arms<br>0=%{x}<br>1=%{y}<br>2=%{z}<extra></extra>",
         "legendgroup": "arms",
         "marker": {
          "color": "#19d3f3",
          "symbol": "circle"
         },
         "mode": "markers",
         "name": "arms",
         "scene": "scene",
         "showlegend": true,
         "type": "scatter3d",
         "x": [
          -0.18501326441764832
         ],
         "y": [
          0.3943074643611908
         ],
         "z": [
          0.251581072807312
         ]
        },
        {
         "hovertemplate": "color=children<br>0=%{x}<br>1=%{y}<br>2=%{z}<extra></extra>",
         "legendgroup": "children",
         "marker": {
          "color": "#FF6692",
          "symbol": "circle"
         },
         "mode": "markers",
         "name": "children",
         "scene": "scene",
         "showlegend": true,
         "type": "scatter3d",
         "x": [
          0.3735736012458801
         ],
         "y": [
          0.6519518494606018
         ],
         "z": [
          -0.31018996238708496
         ]
        },
        {
         "hovertemplate": "color=herself<br>0=%{x}<br>1=%{y}<br>2=%{z}<extra></extra>",
         "legendgroup": "herself",
         "marker": {
          "color": "#B6E880",
          "symbol": "circle"
         },
         "mode": "markers",
         "name": "herself",
         "scene": "scene",
         "showlegend": true,
         "type": "scatter3d",
         "x": [
          0.08539844304323196
         ],
         "y": [
          0.3654889762401581
         ],
         "z": [
          0.35675856471061707
         ]
        },
        {
         "hovertemplate": "color=sweet<br>0=%{x}<br>1=%{y}<br>2=%{z}<extra></extra>",
         "legendgroup": "sweet",
         "marker": {
          "color": "#FF97FF",
          "symbol": "circle"
         },
         "mode": "markers",
         "name": "sweet",
         "scene": "scene",
         "showlegend": true,
         "type": "scatter3d",
         "x": [
          0.4412809908390045
         ],
         "y": [
          0.19230681657791138
         ],
         "z": [
          0.28322750329971313
         ]
        },
        {
         "hovertemplate": "color=others<br>0=%{x}<br>1=%{y}<br>2=%{z}<extra></extra>",
         "legendgroup": "others",
         "marker": {
          "color": "#FECB52",
          "symbol": "circle"
         },
         "mode": "markers",
         "name": "others",
         "scene": "scene",
         "showlegend": true,
         "type": "scatter3d",
         "x": [
          0.013620967976748943
         ],
         "y": [
          0.6142485737800598
         ],
         "z": [
          -0.17302633821964264
         ]
        },
        {
         "hovertemplate": "color=lost<br>0=%{x}<br>1=%{y}<br>2=%{z}<extra></extra>",
         "legendgroup": "lost",
         "marker": {
          "color": "#636efa",
          "symbol": "circle"
         },
         "mode": "markers",
         "name": "lost",
         "scene": "scene",
         "showlegend": true,
         "type": "scatter3d",
         "x": [
          0.253563791513443
         ],
         "y": [
          0.5296459197998047
         ],
         "z": [
          0.1922106295824051
         ]
        },
        {
         "hovertemplate": "color=theon<br>0=%{x}<br>1=%{y}<br>2=%{z}<extra></extra>",
         "legendgroup": "theon",
         "marker": {
          "color": "#EF553B",
          "symbol": "circle"
         },
         "mode": "markers",
         "name": "theon",
         "scene": "scene",
         "showlegend": true,
         "type": "scatter3d",
         "x": [
          0.23891642689704895
         ],
         "y": [
          0.32894906401634216
         ],
         "z": [
          0.26019784808158875
         ]
        },
        {
         "hovertemplate": "color=each<br>0=%{x}<br>1=%{y}<br>2=%{z}<extra></extra>",
         "legendgroup": "each",
         "marker": {
          "color": "#00cc96",
          "symbol": "circle"
         },
         "mode": "markers",
         "name": "each",
         "scene": "scene",
         "showlegend": true,
         "type": "scatter3d",
         "x": [
          -0.21966810524463654
         ],
         "y": [
          0.533362627029419
         ],
         "z": [
          -0.051881350576877594
         ]
        },
        {
         "hovertemplate": "color=felt<br>0=%{x}<br>1=%{y}<br>2=%{z}<extra></extra>",
         "legendgroup": "felt",
         "marker": {
          "color": "#ab63fa",
          "symbol": "circle"
         },
         "mode": "markers",
         "name": "felt",
         "scene": "scene",
         "showlegend": true,
         "type": "scatter3d",
         "x": [
          -0.12624181807041168
         ],
         "y": [
          0.28501054644584656
         ],
         "z": [
          0.6445780992507935
         ]
        },
        {
         "hovertemplate": "color=side<br>0=%{x}<br>1=%{y}<br>2=%{z}<extra></extra>",
         "legendgroup": "side",
         "marker": {
          "color": "#FFA15A",
          "symbol": "circle"
         },
         "mode": "markers",
         "name": "side",
         "scene": "scene",
         "showlegend": true,
         "type": "scatter3d",
         "x": [
          -0.2636221945285797
         ],
         "y": [
          0.6947879791259766
         ],
         "z": [
          0.17532142996788025
         ]
        },
        {
         "hovertemplate": "color=yes<br>0=%{x}<br>1=%{y}<br>2=%{z}<extra></extra>",
         "legendgroup": "yes",
         "marker": {
          "color": "#19d3f3",
          "symbol": "circle"
         },
         "mode": "markers",
         "name": "yes",
         "scene": "scene",
         "showlegend": true,
         "type": "scatter3d",
         "x": [
          0.7309871315956116
         ],
         "y": [
          0.24705418944358826
         ],
         "z": [
          0.2499656230211258
         ]
        },
        {
         "hovertemplate": "color=brothers<br>0=%{x}<br>1=%{y}<br>2=%{z}<extra></extra>",
         "legendgroup": "brothers",
         "marker": {
          "color": "#FF6692",
          "symbol": "circle"
         },
         "mode": "markers",
         "name": "brothers",
         "scene": "scene",
         "showlegend": true,
         "type": "scatter3d",
         "x": [
          0.2995332181453705
         ],
         "y": [
          0.681119978427887
         ],
         "z": [
          -0.15247401595115662
         ]
        },
        {
         "hovertemplate": "color=best<br>0=%{x}<br>1=%{y}<br>2=%{z}<extra></extra>",
         "legendgroup": "best",
         "marker": {
          "color": "#B6E880",
          "symbol": "circle"
         },
         "mode": "markers",
         "name": "best",
         "scene": "scene",
         "showlegend": true,
         "type": "scatter3d",
         "x": [
          0.5619794726371765
         ],
         "y": [
          0.6195494532585144
         ],
         "z": [
          0.12121360749006271
         ]
        },
        {
         "hovertemplate": "color=very<br>0=%{x}<br>1=%{y}<br>2=%{z}<extra></extra>",
         "legendgroup": "very",
         "marker": {
          "color": "#FF97FF",
          "symbol": "circle"
         },
         "mode": "markers",
         "name": "very",
         "scene": "scene",
         "showlegend": true,
         "type": "scatter3d",
         "x": [
          0.3612252175807953
         ],
         "y": [
          0.3356035053730011
         ],
         "z": [
          0.10827953368425369
         ]
        },
        {
         "hovertemplate": "color=die<br>0=%{x}<br>1=%{y}<br>2=%{z}<extra></extra>",
         "legendgroup": "die",
         "marker": {
          "color": "#FECB52",
          "symbol": "circle"
         },
         "mode": "markers",
         "name": "die",
         "scene": "scene",
         "showlegend": true,
         "type": "scatter3d",
         "x": [
          0.4962563216686249
         ],
         "y": [
          0.6601674556732178
         ],
         "z": [
          0.17599819600582123
         ]
        },
        {
         "hovertemplate": "color=brought<br>0=%{x}<br>1=%{y}<br>2=%{z}<extra></extra>",
         "legendgroup": "brought",
         "marker": {
          "color": "#636efa",
          "symbol": "circle"
         },
         "mode": "markers",
         "name": "brought",
         "scene": "scene",
         "showlegend": true,
         "type": "scatter3d",
         "x": [
          0.18542461097240448
         ],
         "y": [
          0.38802865147590637
         ],
         "z": [
          0.44435444474220276
         ]
        },
        {
         "hovertemplate": "color=soon<br>0=%{x}<br>1=%{y}<br>2=%{z}<extra></extra>",
         "legendgroup": "soon",
         "marker": {
          "color": "#EF553B",
          "symbol": "circle"
         },
         "mode": "markers",
         "name": "soon",
         "scene": "scene",
         "showlegend": true,
         "type": "scatter3d",
         "x": [
          0.2182004600763321
         ],
         "y": [
          0.5325303077697754
         ],
         "z": [
          0.11297962814569473
         ]
        },
        {
         "hovertemplate": "color=far<br>0=%{x}<br>1=%{y}<br>2=%{z}<extra></extra>",
         "legendgroup": "far",
         "marker": {
          "color": "#00cc96",
          "symbol": "circle"
         },
         "mode": "markers",
         "name": "far",
         "scene": "scene",
         "showlegend": true,
         "type": "scatter3d",
         "x": [
          0.019791429862380028
         ],
         "y": [
          0.6289141774177551
         ],
         "z": [
          0.03603954240679741
         ]
        },
        {
         "hovertemplate": "color=died<br>0=%{x}<br>1=%{y}<br>2=%{z}<extra></extra>",
         "legendgroup": "died",
         "marker": {
          "color": "#ab63fa",
          "symbol": "circle"
         },
         "mode": "markers",
         "name": "died",
         "scene": "scene",
         "showlegend": true,
         "type": "scatter3d",
         "x": [
          0.34803491830825806
         ],
         "y": [
          0.5017203092575073
         ],
         "z": [
          0.16774488985538483
         ]
        },
        {
         "hovertemplate": "color=north<br>0=%{x}<br>1=%{y}<br>2=%{z}<extra></extra>",
         "legendgroup": "north",
         "marker": {
          "color": "#FFA15A",
          "symbol": "circle"
         },
         "mode": "markers",
         "name": "north",
         "scene": "scene",
         "showlegend": true,
         "type": "scatter3d",
         "x": [
          0.1145903617143631
         ],
         "y": [
          0.8006264567375183
         ],
         "z": [
          -0.22831560671329498
         ]
        },
        {
         "hovertemplate": "color=child<br>0=%{x}<br>1=%{y}<br>2=%{z}<extra></extra>",
         "legendgroup": "child",
         "marker": {
          "color": "#19d3f3",
          "symbol": "circle"
         },
         "mode": "markers",
         "name": "child",
         "scene": "scene",
         "showlegend": true,
         "type": "scatter3d",
         "x": [
          0.5230153203010559
         ],
         "y": [
          0.4117226004600525
         ],
         "z": [
          0.1288536638021469
         ]
        },
        {
         "hovertemplate": "color=fear<br>0=%{x}<br>1=%{y}<br>2=%{z}<extra></extra>",
         "legendgroup": "fear",
         "marker": {
          "color": "#FF6692",
          "symbol": "circle"
         },
         "mode": "markers",
         "name": "fear",
         "scene": "scene",
         "showlegend": true,
         "type": "scatter3d",
         "x": [
          0.3946189880371094
         ],
         "y": [
          0.49937722086906433
         ],
         "z": [
          0.22201833128929138
         ]
        },
        {
         "hovertemplate": "color=along<br>0=%{x}<br>1=%{y}<br>2=%{z}<extra></extra>",
         "legendgroup": "along",
         "marker": {
          "color": "#B6E880",
          "symbol": "circle"
         },
         "mode": "markers",
         "name": "along",
         "scene": "scene",
         "showlegend": true,
         "type": "scatter3d",
         "x": [
          -0.4391677677631378
         ],
         "y": [
          0.5747562646865845
         ],
         "z": [
          -0.11554860323667526
         ]
        },
        {
         "hovertemplate": "color=word<br>0=%{x}<br>1=%{y}<br>2=%{z}<extra></extra>",
         "legendgroup": "word",
         "marker": {
          "color": "#FF97FF",
          "symbol": "circle"
         },
         "mode": "markers",
         "name": "word",
         "scene": "scene",
         "showlegend": true,
         "type": "scatter3d",
         "x": [
          0.4213055372238159
         ],
         "y": [
          0.6661584377288818
         ],
         "z": [
          0.15637315809726715
         ]
        },
        {
         "hovertemplate": "color=brienne<br>0=%{x}<br>1=%{y}<br>2=%{z}<extra></extra>",
         "legendgroup": "brienne",
         "marker": {
          "color": "#FECB52",
          "symbol": "circle"
         },
         "mode": "markers",
         "name": "brienne",
         "scene": "scene",
         "showlegend": true,
         "type": "scatter3d",
         "x": [
          -0.038817036896944046
         ],
         "y": [
          0.26817432045936584
         ],
         "z": [
          0.2889982759952545
         ]
        },
        {
         "hovertemplate": "color=both<br>0=%{x}<br>1=%{y}<br>2=%{z}<extra></extra>",
         "legendgroup": "both",
         "marker": {
          "color": "#636efa",
          "symbol": "circle"
         },
         "mode": "markers",
         "name": "both",
         "scene": "scene",
         "showlegend": true,
         "type": "scatter3d",
         "x": [
          0.02503550425171852
         ],
         "y": [
          0.44592028856277466
         ],
         "z": [
          0.008688179776072502
         ]
        },
        {
         "hovertemplate": "color=taken<br>0=%{x}<br>1=%{y}<br>2=%{z}<extra></extra>",
         "legendgroup": "taken",
         "marker": {
          "color": "#EF553B",
          "symbol": "circle"
         },
         "mode": "markers",
         "name": "taken",
         "scene": "scene",
         "showlegend": true,
         "type": "scatter3d",
         "x": [
          0.3695506453514099
         ],
         "y": [
          0.6105232238769531
         ],
         "z": [
          0.17273133993148804
         ]
        },
        {
         "hovertemplate": "color=battle<br>0=%{x}<br>1=%{y}<br>2=%{z}<extra></extra>",
         "legendgroup": "battle",
         "marker": {
          "color": "#00cc96",
          "symbol": "circle"
         },
         "mode": "markers",
         "name": "battle",
         "scene": "scene",
         "showlegend": true,
         "type": "scatter3d",
         "x": [
          0.26468709111213684
         ],
         "y": [
          0.7603986859321594
         ],
         "z": [
          -0.23561015725135803
         ]
        },
        {
         "hovertemplate": "color=help<br>0=%{x}<br>1=%{y}<br>2=%{z}<extra></extra>",
         "legendgroup": "help",
         "marker": {
          "color": "#ab63fa",
          "symbol": "circle"
         },
         "mode": "markers",
         "name": "help",
         "scene": "scene",
         "showlegend": true,
         "type": "scatter3d",
         "x": [
          0.5543941259384155
         ],
         "y": [
          0.47237303853034973
         ],
         "z": [
          0.4439396560192108
         ]
        },
        {
         "hovertemplate": "color=new<br>0=%{x}<br>1=%{y}<br>2=%{z}<extra></extra>",
         "legendgroup": "new",
         "marker": {
          "color": "#FFA15A",
          "symbol": "circle"
         },
         "mode": "markers",
         "name": "new",
         "scene": "scene",
         "showlegend": true,
         "type": "scatter3d",
         "x": [
          0.43192189931869507
         ],
         "y": [
          0.5604916214942932
         ],
         "z": [
          -0.3465355336666107
         ]
        },
        {
         "hovertemplate": "color=tywin<br>0=%{x}<br>1=%{y}<br>2=%{z}<extra></extra>",
         "legendgroup": "tywin",
         "marker": {
          "color": "#19d3f3",
          "symbol": "circle"
         },
         "mode": "markers",
         "name": "tywin",
         "scene": "scene",
         "showlegend": true,
         "type": "scatter3d",
         "x": [
          0.3852778375148773
         ],
         "y": [
          0.33151957392692566
         ],
         "z": [
          0.038073040544986725
         ]
        },
        {
         "hovertemplate": "color=davos<br>0=%{x}<br>1=%{y}<br>2=%{z}<extra></extra>",
         "legendgroup": "davos",
         "marker": {
          "color": "#FF6692",
          "symbol": "circle"
         },
         "mode": "markers",
         "name": "davos",
         "scene": "scene",
         "showlegend": true,
         "type": "scatter3d",
         "x": [
          0.13304460048675537
         ],
         "y": [
          0.3234529197216034
         ],
         "z": [
          0.049326300621032715
         ]
        },
        {
         "hovertemplate": "color=lords<br>0=%{x}<br>1=%{y}<br>2=%{z}<extra></extra>",
         "legendgroup": "lords",
         "marker": {
          "color": "#B6E880",
          "symbol": "circle"
         },
         "mode": "markers",
         "name": "lords",
         "scene": "scene",
         "showlegend": true,
         "type": "scatter3d",
         "x": [
          0.42885661125183105
         ],
         "y": [
          0.6097246408462524
         ],
         "z": [
          -0.3678703010082245
         ]
        },
        {
         "hovertemplate": "color=something<br>0=%{x}<br>1=%{y}<br>2=%{z}<extra></extra>",
         "legendgroup": "something",
         "marker": {
          "color": "#FF97FF",
          "symbol": "circle"
         },
         "mode": "markers",
         "name": "something",
         "scene": "scene",
         "showlegend": true,
         "type": "scatter3d",
         "x": [
          0.11492054164409637
         ],
         "y": [
          0.4010261297225952
         ],
         "z": [
          0.33369964361190796
         ]
        },
        {
         "hovertemplate": "color=ve<br>0=%{x}<br>1=%{y}<br>2=%{z}<extra></extra>",
         "legendgroup": "ve",
         "marker": {
          "color": "#FECB52",
          "symbol": "circle"
         },
         "mode": "markers",
         "name": "ve",
         "scene": "scene",
         "showlegend": true,
         "type": "scatter3d",
         "x": [
          0.426613450050354
         ],
         "y": [
          0.5031816959381104
         ],
         "z": [
          0.008500388823449612
         ]
        },
        {
         "hovertemplate": "color=wife<br>0=%{x}<br>1=%{y}<br>2=%{z}<extra></extra>",
         "legendgroup": "wife",
         "marker": {
          "color": "#636efa",
          "symbol": "circle"
         },
         "mode": "markers",
         "name": "wife",
         "scene": "scene",
         "showlegend": true,
         "type": "scatter3d",
         "x": [
          0.5943233966827393
         ],
         "y": [
          0.39352983236312866
         ],
         "z": [
          0.040255870670080185
         ]
        },
        {
         "hovertemplate": "color=mean<br>0=%{x}<br>1=%{y}<br>2=%{z}<extra></extra>",
         "legendgroup": "mean",
         "marker": {
          "color": "#EF553B",
          "symbol": "circle"
         },
         "mode": "markers",
         "name": "mean",
         "scene": "scene",
         "showlegend": true,
         "type": "scatter3d",
         "x": [
          0.6754162907600403
         ],
         "y": [
          0.4862538278102875
         ],
         "z": [
          0.2503393292427063
         ]
        },
        {
         "hovertemplate": "color=rest<br>0=%{x}<br>1=%{y}<br>2=%{z}<extra></extra>",
         "legendgroup": "rest",
         "marker": {
          "color": "#00cc96",
          "symbol": "circle"
         },
         "mode": "markers",
         "name": "rest",
         "scene": "scene",
         "showlegend": true,
         "type": "scatter3d",
         "x": [
          0.12655366957187653
         ],
         "y": [
          0.7299420833587646
         ],
         "z": [
          -0.08903086185455322
         ]
        },
        {
         "hovertemplate": "color=hall<br>0=%{x}<br>1=%{y}<br>2=%{z}<extra></extra>",
         "legendgroup": "hall",
         "marker": {
          "color": "#ab63fa",
          "symbol": "circle"
         },
         "mode": "markers",
         "name": "hall",
         "scene": "scene",
         "showlegend": true,
         "type": "scatter3d",
         "x": [
          -0.3320523500442505
         ],
         "y": [
          0.6336392164230347
         ],
         "z": [
          -0.11586596071720123
         ]
        },
        {
         "hovertemplate": "color=kill<br>0=%{x}<br>1=%{y}<br>2=%{z}<extra></extra>",
         "legendgroup": "kill",
         "marker": {
          "color": "#FFA15A",
          "symbol": "circle"
         },
         "mode": "markers",
         "name": "kill",
         "scene": "scene",
         "showlegend": true,
         "type": "scatter3d",
         "x": [
          0.5773563385009766
         ],
         "y": [
          0.46624717116355896
         ],
         "z": [
          0.4413565397262573
         ]
        },
        {
         "hovertemplate": "color=strong<br>0=%{x}<br>1=%{y}<br>2=%{z}<extra></extra>",
         "legendgroup": "strong",
         "marker": {
          "color": "#19d3f3",
          "symbol": "circle"
         },
         "mode": "markers",
         "name": "strong",
         "scene": "scene",
         "showlegend": true,
         "type": "scatter3d",
         "x": [
          0.2833360433578491
         ],
         "y": [
          0.23480428755283356
         ],
         "z": [
          0.007150297984480858
         ]
        },
        {
         "hovertemplate": "color=steel<br>0=%{x}<br>1=%{y}<br>2=%{z}<extra></extra>",
         "legendgroup": "steel",
         "marker": {
          "color": "#FF6692",
          "symbol": "circle"
         },
         "mode": "markers",
         "name": "steel",
         "scene": "scene",
         "showlegend": true,
         "type": "scatter3d",
         "x": [
          -0.5711899995803833
         ],
         "y": [
          0.33315226435661316
         ],
         "z": [
          0.032952819019556046
         ]
        },
        {
         "hovertemplate": "color=began<br>0=%{x}<br>1=%{y}<br>2=%{z}<extra></extra>",
         "legendgroup": "began",
         "marker": {
          "color": "#B6E880",
          "symbol": "circle"
         },
         "mode": "markers",
         "name": "began",
         "scene": "scene",
         "showlegend": true,
         "type": "scatter3d",
         "x": [
          -0.2710043787956238
         ],
         "y": [
          0.3797125816345215
         ],
         "z": [
          0.5569993257522583
         ]
        },
        {
         "hovertemplate": "color=sound<br>0=%{x}<br>1=%{y}<br>2=%{z}<extra></extra>",
         "legendgroup": "sound",
         "marker": {
          "color": "#FF97FF",
          "symbol": "circle"
         },
         "mode": "markers",
         "name": "sound",
         "scene": "scene",
         "showlegend": true,
         "type": "scatter3d",
         "x": [
          -0.39671820402145386
         ],
         "y": [
          0.42777082324028015
         ],
         "z": [
          0.270908385515213
         ]
        },
        {
         "hovertemplate": "color=won<br>0=%{x}<br>1=%{y}<br>2=%{z}<extra></extra>",
         "legendgroup": "won",
         "marker": {
          "color": "#FECB52",
          "symbol": "circle"
         },
         "mode": "markers",
         "name": "won",
         "scene": "scene",
         "showlegend": true,
         "type": "scatter3d",
         "x": [
          0.6433497667312622
         ],
         "y": [
          0.4909786283969879
         ],
         "z": [
          0.20213550329208374
         ]
        },
        {
         "hovertemplate": "color=dragon<br>0=%{x}<br>1=%{y}<br>2=%{z}<extra></extra>",
         "legendgroup": "dragon",
         "marker": {
          "color": "#636efa",
          "symbol": "circle"
         },
         "mode": "markers",
         "name": "dragon",
         "scene": "scene",
         "showlegend": true,
         "type": "scatter3d",
         "x": [
          -0.043965667486190796
         ],
         "y": [
          0.6369399428367615
         ],
         "z": [
          -0.1685914844274521
         ]
        },
        {
         "hovertemplate": "color=past<br>0=%{x}<br>1=%{y}<br>2=%{z}<extra></extra>",
         "legendgroup": "past",
         "marker": {
          "color": "#EF553B",
          "symbol": "circle"
         },
         "mode": "markers",
         "name": "past",
         "scene": "scene",
         "showlegend": true,
         "type": "scatter3d",
         "x": [
          -0.317638635635376
         ],
         "y": [
          0.5156477689743042
         ],
         "z": [
          0.09259027242660522
         ]
        },
        {
         "hovertemplate": "color=life<br>0=%{x}<br>1=%{y}<br>2=%{z}<extra></extra>",
         "legendgroup": "life",
         "marker": {
          "color": "#00cc96",
          "symbol": "circle"
         },
         "mode": "markers",
         "name": "life",
         "scene": "scene",
         "showlegend": true,
         "type": "scatter3d",
         "x": [
          0.47560998797416687
         ],
         "y": [
          0.723331093788147
         ],
         "z": [
          -0.009790129028260708
         ]
        },
        {
         "hovertemplate": "color=tower<br>0=%{x}<br>1=%{y}<br>2=%{z}<extra></extra>",
         "legendgroup": "tower",
         "marker": {
          "color": "#ab63fa",
          "symbol": "circle"
         },
         "mode": "markers",
         "name": "tower",
         "scene": "scene",
         "showlegend": true,
         "type": "scatter3d",
         "x": [
          -0.32602494955062866
         ],
         "y": [
          0.6686250567436218
         ],
         "z": [
          -0.042816225439310074
         ]
        },
        {
         "hovertemplate": "color=killed<br>0=%{x}<br>1=%{y}<br>2=%{z}<extra></extra>",
         "legendgroup": "killed",
         "marker": {
          "color": "#FFA15A",
          "symbol": "circle"
         },
         "mode": "markers",
         "name": "killed",
         "scene": "scene",
         "showlegend": true,
         "type": "scatter3d",
         "x": [
          0.5820722579956055
         ],
         "y": [
          0.40401822328567505
         ],
         "z": [
          0.3827875852584839
         ]
        },
        {
         "hovertemplate": "color=arm<br>0=%{x}<br>1=%{y}<br>2=%{z}<extra></extra>",
         "legendgroup": "arm",
         "marker": {
          "color": "#19d3f3",
          "symbol": "circle"
         },
         "mode": "markers",
         "name": "arm",
         "scene": "scene",
         "showlegend": true,
         "type": "scatter3d",
         "x": [
          -0.3322941064834595
         ],
         "y": [
          0.39751583337783813
         ],
         "z": [
          0.5833753347396851
         ]
        },
        {
         "hovertemplate": "color=sons<br>0=%{x}<br>1=%{y}<br>2=%{z}<extra></extra>",
         "legendgroup": "sons",
         "marker": {
          "color": "#FF6692",
          "symbol": "circle"
         },
         "mode": "markers",
         "name": "sons",
         "scene": "scene",
         "showlegend": true,
         "type": "scatter3d",
         "x": [
          0.47572410106658936
         ],
         "y": [
          0.5499507784843445
         ],
         "z": [
          -0.26401522755622864
         ]
        },
        {
         "hovertemplate": "color=tried<br>0=%{x}<br>1=%{y}<br>2=%{z}<extra></extra>",
         "legendgroup": "tried",
         "marker": {
          "color": "#B6E880",
          "symbol": "circle"
         },
         "mode": "markers",
         "name": "tried",
         "scene": "scene",
         "showlegend": true,
         "type": "scatter3d",
         "x": [
          0.1318397969007492
         ],
         "y": [
          0.36376920342445374
         ],
         "z": [
          0.6530364751815796
         ]
        },
        {
         "hovertemplate": "color=free<br>0=%{x}<br>1=%{y}<br>2=%{z}<extra></extra>",
         "legendgroup": "free",
         "marker": {
          "color": "#FF97FF",
          "symbol": "circle"
         },
         "mode": "markers",
         "name": "free",
         "scene": "scene",
         "showlegend": true,
         "type": "scatter3d",
         "x": [
          0.19799074530601501
         ],
         "y": [
          0.6444224119186401
         ],
         "z": [
          -0.1848766803741455
         ]
        },
        {
         "hovertemplate": "color=thing<br>0=%{x}<br>1=%{y}<br>2=%{z}<extra></extra>",
         "legendgroup": "thing",
         "marker": {
          "color": "#FECB52",
          "symbol": "circle"
         },
         "mode": "markers",
         "name": "thing",
         "scene": "scene",
         "showlegend": true,
         "type": "scatter3d",
         "x": [
          0.2393132448196411
         ],
         "y": [
          0.5496992468833923
         ],
         "z": [
          0.12798631191253662
         ]
        },
        {
         "hovertemplate": "color=days<br>0=%{x}<br>1=%{y}<br>2=%{z}<extra></extra>",
         "legendgroup": "days",
         "marker": {
          "color": "#636efa",
          "symbol": "circle"
         },
         "mode": "markers",
         "name": "days",
         "scene": "scene",
         "showlegend": true,
         "type": "scatter3d",
         "x": [
          0.11798565834760666
         ],
         "y": [
          0.7472808361053467
         ],
         "z": [
          -0.23236361145973206
         ]
        },
        {
         "hovertemplate": "color=bear<br>0=%{x}<br>1=%{y}<br>2=%{z}<extra></extra>",
         "legendgroup": "bear",
         "marker": {
          "color": "#EF553B",
          "symbol": "circle"
         },
         "mode": "markers",
         "name": "bear",
         "scene": "scene",
         "showlegend": true,
         "type": "scatter3d",
         "x": [
          0.16357380151748657
         ],
         "y": [
          0.48428913950920105
         ],
         "z": [
          0.0966232419013977
         ]
        },
        {
         "hovertemplate": "color=bloody<br>0=%{x}<br>1=%{y}<br>2=%{z}<extra></extra>",
         "legendgroup": "bloody",
         "marker": {
          "color": "#00cc96",
          "symbol": "circle"
         },
         "mode": "markers",
         "name": "bloody",
         "scene": "scene",
         "showlegend": true,
         "type": "scatter3d",
         "x": [
          0.008441939949989319
         ],
         "y": [
          0.4446401596069336
         ],
         "z": [
          0.19814640283584595
         ]
        },
        {
         "hovertemplate": "color=heart<br>0=%{x}<br>1=%{y}<br>2=%{z}<extra></extra>",
         "legendgroup": "heart",
         "marker": {
          "color": "#ab63fa",
          "symbol": "circle"
         },
         "mode": "markers",
         "name": "heart",
         "scene": "scene",
         "showlegend": true,
         "type": "scatter3d",
         "x": [
          -0.1201547384262085
         ],
         "y": [
          0.5849955081939697
         ],
         "z": [
          0.2048754096031189
         ]
        },
        {
         "hovertemplate": "color=pale<br>0=%{x}<br>1=%{y}<br>2=%{z}<extra></extra>",
         "legendgroup": "pale",
         "marker": {
          "color": "#FFA15A",
          "symbol": "circle"
         },
         "mode": "markers",
         "name": "pale",
         "scene": "scene",
         "showlegend": true,
         "type": "scatter3d",
         "x": [
          -0.600669801235199
         ],
         "y": [
          0.21616552770137787
         ],
         "z": [
          0.15866144001483917
         ]
        },
        {
         "hovertemplate": "color=love<br>0=%{x}<br>1=%{y}<br>2=%{z}<extra></extra>",
         "legendgroup": "love",
         "marker": {
          "color": "#19d3f3",
          "symbol": "circle"
         },
         "mode": "markers",
         "name": "love",
         "scene": "scene",
         "showlegend": true,
         "type": "scatter3d",
         "x": [
          0.789604902267456
         ],
         "y": [
          0.4337495267391205
         ],
         "z": [
          0.15930680930614471
         ]
        },
        {
         "hovertemplate": "color=moment<br>0=%{x}<br>1=%{y}<br>2=%{z}<extra></extra>",
         "legendgroup": "moment",
         "marker": {
          "color": "#FF6692",
          "symbol": "circle"
         },
         "mode": "markers",
         "name": "moment",
         "scene": "scene",
         "showlegend": true,
         "type": "scatter3d",
         "x": [
          0.03212426230311394
         ],
         "y": [
          0.42268800735473633
         ],
         "z": [
          0.45063334703445435
         ]
        },
        {
         "hovertemplate": "color=sat<br>0=%{x}<br>1=%{y}<br>2=%{z}<extra></extra>",
         "legendgroup": "sat",
         "marker": {
          "color": "#B6E880",
          "symbol": "circle"
         },
         "mode": "markers",
         "name": "sat",
         "scene": "scene",
         "showlegend": true,
         "type": "scatter3d",
         "x": [
          -0.2864757478237152
         ],
         "y": [
          0.3625703454017639
         ],
         "z": [
          0.4710175096988678
         ]
        },
        {
         "hovertemplate": "color=bring<br>0=%{x}<br>1=%{y}<br>2=%{z}<extra></extra>",
         "legendgroup": "bring",
         "marker": {
          "color": "#FF97FF",
          "symbol": "circle"
         },
         "mode": "markers",
         "name": "bring",
         "scene": "scene",
         "showlegend": true,
         "type": "scatter3d",
         "x": [
          0.4882427752017975
         ],
         "y": [
          0.5419818162918091
         ],
         "z": [
          0.4192045032978058
         ]
        },
        {
         "hovertemplate": "color=bed<br>0=%{x}<br>1=%{y}<br>2=%{z}<extra></extra>",
         "legendgroup": "bed",
         "marker": {
          "color": "#FECB52",
          "symbol": "circle"
         },
         "mode": "markers",
         "name": "bed",
         "scene": "scene",
         "showlegend": true,
         "type": "scatter3d",
         "x": [
          -0.06868772208690643
         ],
         "y": [
          0.6121622920036316
         ],
         "z": [
          0.42233431339263916
         ]
        },
        {
         "hovertemplate": "color=close<br>0=%{x}<br>1=%{y}<br>2=%{z}<extra></extra>",
         "legendgroup": "close",
         "marker": {
          "color": "#636efa",
          "symbol": "circle"
         },
         "mode": "markers",
         "name": "close",
         "scene": "scene",
         "showlegend": true,
         "type": "scatter3d",
         "x": [
          -0.27160876989364624
         ],
         "y": [
          0.3819058835506439
         ],
         "z": [
          0.34924760460853577
         ]
        },
        {
         "hovertemplate": "color=knights<br>0=%{x}<br>1=%{y}<br>2=%{z}<extra></extra>",
         "legendgroup": "knights",
         "marker": {
          "color": "#EF553B",
          "symbol": "circle"
         },
         "mode": "markers",
         "name": "knights",
         "scene": "scene",
         "showlegend": true,
         "type": "scatter3d",
         "x": [
          0.23745086789131165
         ],
         "y": [
          0.5499126315116882
         ],
         "z": [
          -0.4243902862071991
         ]
        },
        {
         "hovertemplate": "color=cut<br>0=%{x}<br>1=%{y}<br>2=%{z}<extra></extra>",
         "legendgroup": "cut",
         "marker": {
          "color": "#00cc96",
          "symbol": "circle"
         },
         "mode": "markers",
         "name": "cut",
         "scene": "scene",
         "showlegend": true,
         "type": "scatter3d",
         "x": [
          -0.08453454822301865
         ],
         "y": [
          0.39181581139564514
         ],
         "z": [
          0.5958191752433777
         ]
        },
        {
         "hovertemplate": "color=wolf<br>0=%{x}<br>1=%{y}<br>2=%{z}<extra></extra>",
         "legendgroup": "wolf",
         "marker": {
          "color": "#ab63fa",
          "symbol": "circle"
         },
         "mode": "markers",
         "name": "wolf",
         "scene": "scene",
         "showlegend": true,
         "type": "scatter3d",
         "x": [
          -0.015875721350312233
         ],
         "y": [
          0.524390459060669
         ],
         "z": [
          0.1458781212568283
         ]
        },
        {
         "hovertemplate": "color=horses<br>0=%{x}<br>1=%{y}<br>2=%{z}<extra></extra>",
         "legendgroup": "horses",
         "marker": {
          "color": "#FFA15A",
          "symbol": "circle"
         },
         "mode": "markers",
         "name": "horses",
         "scene": "scene",
         "showlegend": true,
         "type": "scatter3d",
         "x": [
          -0.2692895531654358
         ],
         "y": [
          0.6029829978942871
         ],
         "z": [
          -0.1358007788658142
         ]
        },
        {
         "hovertemplate": "color=smile<br>0=%{x}<br>1=%{y}<br>2=%{z}<extra></extra>",
         "legendgroup": "smile",
         "marker": {
          "color": "#19d3f3",
          "symbol": "circle"
         },
         "mode": "markers",
         "name": "smile",
         "scene": "scene",
         "showlegend": true,
         "type": "scatter3d",
         "x": [
          0.11122795939445496
         ],
         "y": [
          0.12095248699188232
         ],
         "z": [
          0.5564461350440979
         ]
        },
        {
         "hovertemplate": "color=death<br>0=%{x}<br>1=%{y}<br>2=%{z}<extra></extra>",
         "legendgroup": "death",
         "marker": {
          "color": "#FF6692",
          "symbol": "circle"
         },
         "mode": "markers",
         "name": "death",
         "scene": "scene",
         "showlegend": true,
         "type": "scatter3d",
         "x": [
          0.40024903416633606
         ],
         "y": [
          0.6332096457481384
         ],
         "z": [
          0.02614239603281021
         ]
        },
        {
         "hovertemplate": "color=inside<br>0=%{x}<br>1=%{y}<br>2=%{z}<extra></extra>",
         "legendgroup": "inside",
         "marker": {
          "color": "#B6E880",
          "symbol": "circle"
         },
         "mode": "markers",
         "name": "inside",
         "scene": "scene",
         "showlegend": true,
         "type": "scatter3d",
         "x": [
          -0.5254133343696594
         ],
         "y": [
          0.40581902861595154
         ],
         "z": [
          0.3636952042579651
         ]
        },
        {
         "hovertemplate": "color=four<br>0=%{x}<br>1=%{y}<br>2=%{z}<extra></extra>",
         "legendgroup": "four",
         "marker": {
          "color": "#FF97FF",
          "symbol": "circle"
         },
         "mode": "markers",
         "name": "four",
         "scene": "scene",
         "showlegend": true,
         "type": "scatter3d",
         "x": [
          -0.03376392647624016
         ],
         "y": [
          0.5192689895629883
         ],
         "z": [
          -0.34030112624168396
         ]
        },
        {
         "hovertemplate": "color=brown<br>0=%{x}<br>1=%{y}<br>2=%{z}<extra></extra>",
         "legendgroup": "brown",
         "marker": {
          "color": "#FECB52",
          "symbol": "circle"
         },
         "mode": "markers",
         "name": "brown",
         "scene": "scene",
         "showlegend": true,
         "type": "scatter3d",
         "x": [
          -0.4647925794124603
         ],
         "y": [
          0.07656625658273697
         ],
         "z": [
          0.0681423544883728
         ]
        },
        {
         "hovertemplate": "color=dragons<br>0=%{x}<br>1=%{y}<br>2=%{z}<extra></extra>",
         "legendgroup": "dragons",
         "marker": {
          "color": "#636efa",
          "symbol": "circle"
         },
         "mode": "markers",
         "name": "dragons",
         "scene": "scene",
         "showlegend": true,
         "type": "scatter3d",
         "x": [
          0.25072208046913147
         ],
         "y": [
          0.5939412117004395
         ],
         "z": [
          -0.30227741599082947
         ]
        },
        {
         "hovertemplate": "color=hot<br>0=%{x}<br>1=%{y}<br>2=%{z}<extra></extra>",
         "legendgroup": "hot",
         "marker": {
          "color": "#EF553B",
          "symbol": "circle"
         },
         "mode": "markers",
         "name": "hot",
         "scene": "scene",
         "showlegend": true,
         "type": "scatter3d",
         "x": [
          -0.3565635681152344
         ],
         "y": [
          0.26755183935165405
         ],
         "z": [
          0.31507715582847595
         ]
        },
        {
         "hovertemplate": "color=silver<br>0=%{x}<br>1=%{y}<br>2=%{z}<extra></extra>",
         "legendgroup": "silver",
         "marker": {
          "color": "#00cc96",
          "symbol": "circle"
         },
         "mode": "markers",
         "name": "silver",
         "scene": "scene",
         "showlegend": true,
         "type": "scatter3d",
         "x": [
          -0.3631559908390045
         ],
         "y": [
          0.26307621598243713
         ],
         "z": [
          -0.06352480500936508
         ]
        },
        {
         "hovertemplate": "color=part<br>0=%{x}<br>1=%{y}<br>2=%{z}<extra></extra>",
         "legendgroup": "part",
         "marker": {
          "color": "#ab63fa",
          "symbol": "circle"
         },
         "mode": "markers",
         "name": "part",
         "scene": "scene",
         "showlegend": true,
         "type": "scatter3d",
         "x": [
          0.4535331130027771
         ],
         "y": [
          0.6439850330352783
         ],
         "z": [
          -0.10516218841075897
         ]
        },
        {
         "hovertemplate": "color=bastard<br>0=%{x}<br>1=%{y}<br>2=%{z}<extra></extra>",
         "legendgroup": "bastard",
         "marker": {
          "color": "#FFA15A",
          "symbol": "circle"
         },
         "mode": "markers",
         "name": "bastard",
         "scene": "scene",
         "showlegend": true,
         "type": "scatter3d",
         "x": [
          0.648533046245575
         ],
         "y": [
          0.3594629168510437
         ],
         "z": [
          0.006695158779621124
         ]
        },
        {
         "hovertemplate": "color=open<br>0=%{x}<br>1=%{y}<br>2=%{z}<extra></extra>",
         "legendgroup": "open",
         "marker": {
          "color": "#19d3f3",
          "symbol": "circle"
         },
         "mode": "markers",
         "name": "open",
         "scene": "scene",
         "showlegend": true,
         "type": "scatter3d",
         "x": [
          -0.36192193627357483
         ],
         "y": [
          0.4072344899177551
         ],
         "z": [
          0.4024476408958435
         ]
        },
        {
         "hovertemplate": "color=nor<br>0=%{x}<br>1=%{y}<br>2=%{z}<extra></extra>",
         "legendgroup": "nor",
         "marker": {
          "color": "#FF6692",
          "symbol": "circle"
         },
         "mode": "markers",
         "name": "nor",
         "scene": "scene",
         "showlegend": true,
         "type": "scatter3d",
         "x": [
          0.4444269835948944
         ],
         "y": [
          0.42836812138557434
         ],
         "z": [
          0.03632989898324013
         ]
        },
        {
         "hovertemplate": "color=thousand<br>0=%{x}<br>1=%{y}<br>2=%{z}<extra></extra>",
         "legendgroup": "thousand",
         "marker": {
          "color": "#B6E880",
          "symbol": "circle"
         },
         "mode": "markers",
         "name": "thousand",
         "scene": "scene",
         "showlegend": true,
         "type": "scatter3d",
         "x": [
          0.08910307288169861
         ],
         "y": [
          0.6024152636528015
         ],
         "z": [
          -0.40537500381469727
         ]
        },
        {
         "hovertemplate": "color=landing<br>0=%{x}<br>1=%{y}<br>2=%{z}<extra></extra>",
         "legendgroup": "landing",
         "marker": {
          "color": "#FF97FF",
          "symbol": "circle"
         },
         "mode": "markers",
         "name": "landing",
         "scene": "scene",
         "showlegend": true,
         "type": "scatter3d",
         "x": [
          0.21940594911575317
         ],
         "y": [
          0.6204970479011536
         ],
         "z": [
          0.04725523665547371
         ]
        },
        {
         "hovertemplate": "color=uncle<br>0=%{x}<br>1=%{y}<br>2=%{z}<extra></extra>",
         "legendgroup": "uncle",
         "marker": {
          "color": "#FECB52",
          "symbol": "circle"
         },
         "mode": "markers",
         "name": "uncle",
         "scene": "scene",
         "showlegend": true,
         "type": "scatter3d",
         "x": [
          0.6178426742553711
         ],
         "y": [
          0.42470964789390564
         ],
         "z": [
          0.1542893797159195
         ]
        },
        {
         "hovertemplate": "color=above<br>0=%{x}<br>1=%{y}<br>2=%{z}<extra></extra>",
         "legendgroup": "above",
         "marker": {
          "color": "#636efa",
          "symbol": "circle"
         },
         "mode": "markers",
         "name": "above",
         "scene": "scene",
         "showlegend": true,
         "type": "scatter3d",
         "x": [
          -0.5132280588150024
         ],
         "y": [
          0.4689653813838959
         ],
         "z": [
          0.06712733954191208
         ]
        },
        {
         "hovertemplate": "color=going<br>0=%{x}<br>1=%{y}<br>2=%{z}<extra></extra>",
         "legendgroup": "going",
         "marker": {
          "color": "#EF553B",
          "symbol": "circle"
         },
         "mode": "markers",
         "name": "going",
         "scene": "scene",
         "showlegend": true,
         "type": "scatter3d",
         "x": [
          0.20927780866622925
         ],
         "y": [
          0.548703134059906
         ],
         "z": [
          0.2503712773323059
         ]
        },
        {
         "hovertemplate": "color=blue<br>0=%{x}<br>1=%{y}<br>2=%{z}<extra></extra>",
         "legendgroup": "blue",
         "marker": {
          "color": "#00cc96",
          "symbol": "circle"
         },
         "mode": "markers",
         "name": "blue",
         "scene": "scene",
         "showlegend": true,
         "type": "scatter3d",
         "x": [
          -0.49614956974983215
         ],
         "y": [
          0.22661304473876953
         ],
         "z": [
          -0.07584556937217712
         ]
        },
        {
         "hovertemplate": "color=air<br>0=%{x}<br>1=%{y}<br>2=%{z}<extra></extra>",
         "legendgroup": "air",
         "marker": {
          "color": "#ab63fa",
          "symbol": "circle"
         },
         "mode": "markers",
         "name": "air",
         "scene": "scene",
         "showlegend": true,
         "type": "scatter3d",
         "x": [
          -0.6566040515899658
         ],
         "y": [
          0.4238167703151703
         ],
         "z": [
          0.1355566382408142
         ]
        },
        {
         "hovertemplate": "color=captain<br>0=%{x}<br>1=%{y}<br>2=%{z}<extra></extra>",
         "legendgroup": "captain",
         "marker": {
          "color": "#FFA15A",
          "symbol": "circle"
         },
         "mode": "markers",
         "name": "captain",
         "scene": "scene",
         "showlegend": true,
         "type": "scatter3d",
         "x": [
          0.3359772264957428
         ],
         "y": [
          0.33874982595443726
         ],
         "z": [
          -0.08479000627994537
         ]
        },
        {
         "hovertemplate": "color=please<br>0=%{x}<br>1=%{y}<br>2=%{z}<extra></extra>",
         "legendgroup": "please",
         "marker": {
          "color": "#19d3f3",
          "symbol": "circle"
         },
         "mode": "markers",
         "name": "please",
         "scene": "scene",
         "showlegend": true,
         "type": "scatter3d",
         "x": [
          0.6353797316551208
         ],
         "y": [
          0.2583983838558197
         ],
         "z": [
          0.5219758152961731
         ]
        },
        {
         "hovertemplate": "color=laughed<br>0=%{x}<br>1=%{y}<br>2=%{z}<extra></extra>",
         "legendgroup": "laughed",
         "marker": {
          "color": "#FF6692",
          "symbol": "circle"
         },
         "mode": "markers",
         "name": "laughed",
         "scene": "scene",
         "showlegend": true,
         "type": "scatter3d",
         "x": [
          0.3497895896434784
         ],
         "y": [
          0.12979236245155334
         ],
         "z": [
          0.6288622617721558
         ]
        },
        {
         "hovertemplate": "color=river<br>0=%{x}<br>1=%{y}<br>2=%{z}<extra></extra>",
         "legendgroup": "river",
         "marker": {
          "color": "#B6E880",
          "symbol": "circle"
         },
         "mode": "markers",
         "name": "river",
         "scene": "scene",
         "showlegend": true,
         "type": "scatter3d",
         "x": [
          -0.39366406202316284
         ],
         "y": [
          0.7318118810653687
         ],
         "z": [
          -0.26530399918556213
         ]
        },
        {
         "hovertemplate": "color=sun<br>0=%{x}<br>1=%{y}<br>2=%{z}<extra></extra>",
         "legendgroup": "sun",
         "marker": {
          "color": "#FF97FF",
          "symbol": "circle"
         },
         "mode": "markers",
         "name": "sun",
         "scene": "scene",
         "showlegend": true,
         "type": "scatter3d",
         "x": [
          -0.4599466025829315
         ],
         "y": [
          0.6706783771514893
         ],
         "z": [
          -0.04397506266832352
         ]
        },
        {
         "hovertemplate": "color=rose<br>0=%{x}<br>1=%{y}<br>2=%{z}<extra></extra>",
         "legendgroup": "rose",
         "marker": {
          "color": "#FECB52",
          "symbol": "circle"
         },
         "mode": "markers",
         "name": "rose",
         "scene": "scene",
         "showlegend": true,
         "type": "scatter3d",
         "x": [
          -0.5250422358512878
         ],
         "y": [
          0.34916895627975464
         ],
         "z": [
          0.2806670665740967
         ]
        },
        {
         "hovertemplate": "color=fell<br>0=%{x}<br>1=%{y}<br>2=%{z}<extra></extra>",
         "legendgroup": "fell",
         "marker": {
          "color": "#636efa",
          "symbol": "circle"
         },
         "mode": "markers",
         "name": "fell",
         "scene": "scene",
         "showlegend": true,
         "type": "scatter3d",
         "x": [
          -0.4513823688030243
         ],
         "y": [
          0.35017627477645874
         ],
         "z": [
          0.5397840142250061
         ]
        },
        {
         "hovertemplate": "color=war<br>0=%{x}<br>1=%{y}<br>2=%{z}<extra></extra>",
         "legendgroup": "war",
         "marker": {
          "color": "#EF553B",
          "symbol": "circle"
         },
         "mode": "markers",
         "name": "war",
         "scene": "scene",
         "showlegend": true,
         "type": "scatter3d",
         "x": [
          0.4719391167163849
         ],
         "y": [
          0.7407468557357788
         ],
         "z": [
          -0.40034863352775574
         ]
        },
        {
         "hovertemplate": "color=golden<br>0=%{x}<br>1=%{y}<br>2=%{z}<extra></extra>",
         "legendgroup": "golden",
         "marker": {
          "color": "#00cc96",
          "symbol": "circle"
         },
         "mode": "markers",
         "name": "golden",
         "scene": "scene",
         "showlegend": true,
         "type": "scatter3d",
         "x": [
          -0.33716148138046265
         ],
         "y": [
          0.29106202721595764
         ],
         "z": [
          -0.1160229966044426
         ]
        },
        {
         "hovertemplate": "color=sleep<br>0=%{x}<br>1=%{y}<br>2=%{z}<extra></extra>",
         "legendgroup": "sleep",
         "marker": {
          "color": "#ab63fa",
          "symbol": "circle"
         },
         "mode": "markers",
         "name": "sleep",
         "scene": "scene",
         "showlegend": true,
         "type": "scatter3d",
         "x": [
          0.04405704885721207
         ],
         "y": [
          0.5828971266746521
         ],
         "z": [
          0.4864266812801361
         ]
        },
        {
         "hovertemplate": "color=without<br>0=%{x}<br>1=%{y}<br>2=%{z}<extra></extra>",
         "legendgroup": "without",
         "marker": {
          "color": "#FFA15A",
          "symbol": "circle"
         },
         "mode": "markers",
         "name": "without",
         "scene": "scene",
         "showlegend": true,
         "type": "scatter3d",
         "x": [
          0.5616378784179688
         ],
         "y": [
          0.4380236864089966
         ],
         "z": [
          0.14880909025669098
         ]
        },
        {
         "hovertemplate": "color=swords<br>0=%{x}<br>1=%{y}<br>2=%{z}<extra></extra>",
         "legendgroup": "swords",
         "marker": {
          "color": "#19d3f3",
          "symbol": "circle"
         },
         "mode": "markers",
         "name": "swords",
         "scene": "scene",
         "showlegend": true,
         "type": "scatter3d",
         "x": [
          0.08201844245195389
         ],
         "y": [
          0.5994852185249329
         ],
         "z": [
          -0.332541823387146
         ]
        },
        {
         "hovertemplate": "color=speak<br>0=%{x}<br>1=%{y}<br>2=%{z}<extra></extra>",
         "legendgroup": "speak",
         "marker": {
          "color": "#FF6692",
          "symbol": "circle"
         },
         "mode": "markers",
         "name": "speak",
         "scene": "scene",
         "showlegend": true,
         "type": "scatter3d",
         "x": [
          0.6127954125404358
         ],
         "y": [
          0.5127407312393188
         ],
         "z": [
          0.2818715274333954
         ]
        },
        {
         "hovertemplate": "color=renly<br>0=%{x}<br>1=%{y}<br>2=%{z}<extra></extra>",
         "legendgroup": "renly",
         "marker": {
          "color": "#B6E880",
          "symbol": "circle"
         },
         "mode": "markers",
         "name": "renly",
         "scene": "scene",
         "showlegend": true,
         "type": "scatter3d",
         "x": [
          0.4659048318862915
         ],
         "y": [
          0.39803048968315125
         ],
         "z": [
          -0.029800303280353546
         ]
        },
        {
         "hovertemplate": "color=full<br>0=%{x}<br>1=%{y}<br>2=%{z}<extra></extra>",
         "legendgroup": "full",
         "marker": {
          "color": "#FF97FF",
          "symbol": "circle"
         },
         "mode": "markers",
         "name": "full",
         "scene": "scene",
         "showlegend": true,
         "type": "scatter3d",
         "x": [
          -0.2397172451019287
         ],
         "y": [
          0.35041049122810364
         ],
         "z": [
          -0.08940622955560684
         ]
        },
        {
         "hovertemplate": "color=fool<br>0=%{x}<br>1=%{y}<br>2=%{z}<extra></extra>",
         "legendgroup": "fool",
         "marker": {
          "color": "#FECB52",
          "symbol": "circle"
         },
         "mode": "markers",
         "name": "fool",
         "scene": "scene",
         "showlegend": true,
         "type": "scatter3d",
         "x": [
          0.5632814764976501
         ],
         "y": [
          0.23433753848075867
         ],
         "z": [
          0.16056503355503082
         ]
        },
        {
         "hovertemplate": "color=certain<br>0=%{x}<br>1=%{y}<br>2=%{z}<extra></extra>",
         "legendgroup": "certain",
         "marker": {
          "color": "#636efa",
          "symbol": "circle"
         },
         "mode": "markers",
         "name": "certain",
         "scene": "scene",
         "showlegend": true,
         "type": "scatter3d",
         "x": [
          0.4581318199634552
         ],
         "y": [
          0.49500182271003723
         ],
         "z": [
          0.006163130514323711
         ]
        },
        {
         "hovertemplate": "color=beyond<br>0=%{x}<br>1=%{y}<br>2=%{z}<extra></extra>",
         "legendgroup": "beyond",
         "marker": {
          "color": "#EF553B",
          "symbol": "circle"
         },
         "mode": "markers",
         "name": "beyond",
         "scene": "scene",
         "showlegend": true,
         "type": "scatter3d",
         "x": [
          0.019205130636692047
         ],
         "y": [
          0.6769590973854065
         ],
         "z": [
          -0.19249793887138367
         ]
        },
        {
         "hovertemplate": "color=feel<br>0=%{x}<br>1=%{y}<br>2=%{z}<extra></extra>",
         "legendgroup": "feel",
         "marker": {
          "color": "#00cc96",
          "symbol": "circle"
         },
         "mode": "markers",
         "name": "feel",
         "scene": "scene",
         "showlegend": true,
         "type": "scatter3d",
         "x": [
          -0.04718613997101784
         ],
         "y": [
          0.4140927195549011
         ],
         "z": [
          0.5081079006195068
         ]
        },
        {
         "hovertemplate": "color=send<br>0=%{x}<br>1=%{y}<br>2=%{z}<extra></extra>",
         "legendgroup": "send",
         "marker": {
          "color": "#ab63fa",
          "symbol": "circle"
         },
         "mode": "markers",
         "name": "send",
         "scene": "scene",
         "showlegend": true,
         "type": "scatter3d",
         "x": [
          0.48668745160102844
         ],
         "y": [
          0.543339192867279
         ],
         "z": [
          0.38144320249557495
         ]
        },
        {
         "hovertemplate": "color=tongue<br>0=%{x}<br>1=%{y}<br>2=%{z}<extra></extra>",
         "legendgroup": "tongue",
         "marker": {
          "color": "#FFA15A",
          "symbol": "circle"
         },
         "mode": "markers",
         "name": "tongue",
         "scene": "scene",
         "showlegend": true,
         "type": "scatter3d",
         "x": [
          0.1374167501926422
         ],
         "y": [
          0.438227117061615
         ],
         "z": [
          0.2638288140296936
         ]
        },
        {
         "hovertemplate": "color=got<br>0=%{x}<br>1=%{y}<br>2=%{z}<extra></extra>",
         "legendgroup": "got",
         "marker": {
          "color": "#19d3f3",
          "symbol": "circle"
         },
         "mode": "markers",
         "name": "got",
         "scene": "scene",
         "showlegend": true,
         "type": "scatter3d",
         "x": [
          0.1812620609998703
         ],
         "y": [
          0.35384681820869446
         ],
         "z": [
          0.6578249335289001
         ]
        },
        {
         "hovertemplate": "color=fight<br>0=%{x}<br>1=%{y}<br>2=%{z}<extra></extra>",
         "legendgroup": "fight",
         "marker": {
          "color": "#FF6692",
          "symbol": "circle"
         },
         "mode": "markers",
         "name": "fight",
         "scene": "scene",
         "showlegend": true,
         "type": "scatter3d",
         "x": [
          0.4700067639350891
         ],
         "y": [
          0.6449493765830994
         ],
         "z": [
          0.03961741551756859
         ]
        },
        {
         "hovertemplate": "color=rode<br>0=%{x}<br>1=%{y}<br>2=%{z}<extra></extra>",
         "legendgroup": "rode",
         "marker": {
          "color": "#B6E880",
          "symbol": "circle"
         },
         "mode": "markers",
         "name": "rode",
         "scene": "scene",
         "showlegend": true,
         "type": "scatter3d",
         "x": [
          -0.20883557200431824
         ],
         "y": [
          0.4594225287437439
         ],
         "z": [
          0.3227483928203583
         ]
        },
        {
         "hovertemplate": "color=set<br>0=%{x}<br>1=%{y}<br>2=%{z}<extra></extra>",
         "legendgroup": "set",
         "marker": {
          "color": "#FF97FF",
          "symbol": "circle"
         },
         "mode": "markers",
         "name": "set",
         "scene": "scene",
         "showlegend": true,
         "type": "scatter3d",
         "x": [
          -0.17952868342399597
         ],
         "y": [
          0.5240683555603027
         ],
         "z": [
          0.3300982713699341
         ]
        },
        {
         "hovertemplate": "color=thick<br>0=%{x}<br>1=%{y}<br>2=%{z}<extra></extra>",
         "legendgroup": "thick",
         "marker": {
          "color": "#FECB52",
          "symbol": "circle"
         },
         "mode": "markers",
         "name": "thick",
         "scene": "scene",
         "showlegend": true,
         "type": "scatter3d",
         "x": [
          -0.631401777267456
         ],
         "y": [
          0.15536844730377197
         ],
         "z": [
          0.11036042869091034
         ]
        },
        {
         "hovertemplate": "color=throat<br>0=%{x}<br>1=%{y}<br>2=%{z}<extra></extra>",
         "legendgroup": "throat",
         "marker": {
          "color": "#636efa",
          "symbol": "circle"
         },
         "mode": "markers",
         "name": "throat",
         "scene": "scene",
         "showlegend": true,
         "type": "scatter3d",
         "x": [
          -0.3301095962524414
         ],
         "y": [
          0.31321007013320923
         ],
         "z": [
          0.6244245767593384
         ]
        },
        {
         "hovertemplate": "color=world<br>0=%{x}<br>1=%{y}<br>2=%{z}<extra></extra>",
         "legendgroup": "world",
         "marker": {
          "color": "#EF553B",
          "symbol": "circle"
         },
         "mode": "markers",
         "name": "world",
         "scene": "scene",
         "showlegend": true,
         "type": "scatter3d",
         "x": [
          -0.04240470379590988
         ],
         "y": [
          0.8074419498443604
         ],
         "z": [
          -0.1818593591451645
         ]
        },
        {
         "hovertemplate": "color=deep<br>0=%{x}<br>1=%{y}<br>2=%{z}<extra></extra>",
         "legendgroup": "deep",
         "marker": {
          "color": "#00cc96",
          "symbol": "circle"
         },
         "mode": "markers",
         "name": "deep",
         "scene": "scene",
         "showlegend": true,
         "type": "scatter3d",
         "x": [
          -0.7010015845298767
         ],
         "y": [
          0.3222646415233612
         ],
         "z": [
          0.059478674083948135
         ]
        },
        {
         "hovertemplate": "color=legs<br>0=%{x}<br>1=%{y}<br>2=%{z}<extra></extra>",
         "legendgroup": "legs",
         "marker": {
          "color": "#ab63fa",
          "symbol": "circle"
         },
         "mode": "markers",
         "name": "legs",
         "scene": "scene",
         "showlegend": true,
         "type": "scatter3d",
         "x": [
          -0.48350560665130615
         ],
         "y": [
          0.38721901178359985
         ],
         "z": [
          0.3846159279346466
         ]
        },
        {
         "hovertemplate": "color=call<br>0=%{x}<br>1=%{y}<br>2=%{z}<extra></extra>",
         "legendgroup": "call",
         "marker": {
          "color": "#FFA15A",
          "symbol": "circle"
         },
         "mode": "markers",
         "name": "call",
         "scene": "scene",
         "showlegend": true,
         "type": "scatter3d",
         "x": [
          0.5316698551177979
         ],
         "y": [
          0.4106002151966095
         ],
         "z": [
          0.4206404983997345
         ]
        },
        {
         "hovertemplate": "color=honor<br>0=%{x}<br>1=%{y}<br>2=%{z}<extra></extra>",
         "legendgroup": "honor",
         "marker": {
          "color": "#19d3f3",
          "symbol": "circle"
         },
         "mode": "markers",
         "name": "honor",
         "scene": "scene",
         "showlegend": true,
         "type": "scatter3d",
         "x": [
          0.6369608044624329
         ],
         "y": [
          0.5788969993591309
         ],
         "z": [
          -0.14841191470623016
         ]
        },
        {
         "hovertemplate": "color=rock<br>0=%{x}<br>1=%{y}<br>2=%{z}<extra></extra>",
         "legendgroup": "rock",
         "marker": {
          "color": "#FF6692",
          "symbol": "circle"
         },
         "mode": "markers",
         "name": "rock",
         "scene": "scene",
         "showlegend": true,
         "type": "scatter3d",
         "x": [
          -0.05055328458547592
         ],
         "y": [
          0.6129376888275146
         ],
         "z": [
          -0.12664924561977386
         ]
        },
        {
         "hovertemplate": "color=trees<br>0=%{x}<br>1=%{y}<br>2=%{z}<extra></extra>",
         "legendgroup": "trees",
         "marker": {
          "color": "#B6E880",
          "symbol": "circle"
         },
         "mode": "markers",
         "name": "trees",
         "scene": "scene",
         "showlegend": true,
         "type": "scatter3d",
         "x": [
          -0.6218711733818054
         ],
         "y": [
          0.5589785575866699
         ],
         "z": [
          -0.17169585824012756
         ]
        },
        {
         "hovertemplate": "color=tall<br>0=%{x}<br>1=%{y}<br>2=%{z}<extra></extra>",
         "legendgroup": "tall",
         "marker": {
          "color": "#FF97FF",
          "symbol": "circle"
         },
         "mode": "markers",
         "name": "tall",
         "scene": "scene",
         "showlegend": true,
         "type": "scatter3d",
         "x": [
          -0.4232867658138275
         ],
         "y": [
          0.2584547698497772
         ],
         "z": [
          -0.060510750859975815
         ]
        },
        {
         "hovertemplate": "color=table<br>0=%{x}<br>1=%{y}<br>2=%{z}<extra></extra>",
         "legendgroup": "table",
         "marker": {
          "color": "#FECB52",
          "symbol": "circle"
         },
         "mode": "markers",
         "name": "table",
         "scene": "scene",
         "showlegend": true,
         "type": "scatter3d",
         "x": [
          -0.40017610788345337
         ],
         "y": [
          0.44376182556152344
         ],
         "z": [
          0.2137683928012848
         ]
        },
        {
         "hovertemplate": "color=pulled<br>0=%{x}<br>1=%{y}<br>2=%{z}<extra></extra>",
         "legendgroup": "pulled",
         "marker": {
          "color": "#636efa",
          "symbol": "circle"
         },
         "mode": "markers",
         "name": "pulled",
         "scene": "scene",
         "showlegend": true,
         "type": "scatter3d",
         "x": [
          -0.4056106507778168
         ],
         "y": [
          0.22143904864788055
         ],
         "z": [
          0.7120110392570496
         ]
        },
        {
         "hovertemplate": "color=broken<br>0=%{x}<br>1=%{y}<br>2=%{z}<extra></extra>",
         "legendgroup": "broken",
         "marker": {
          "color": "#EF553B",
          "symbol": "circle"
         },
         "mode": "markers",
         "name": "broken",
         "scene": "scene",
         "showlegend": true,
         "type": "scatter3d",
         "x": [
          -0.6521650552749634
         ],
         "y": [
          0.3766595125198364
         ],
         "z": [
          0.01468527689576149
         ]
        },
        {
         "hovertemplate": "color=mormont<br>0=%{x}<br>1=%{y}<br>2=%{z}<extra></extra>",
         "legendgroup": "mormont",
         "marker": {
          "color": "#00cc96",
          "symbol": "circle"
         },
         "mode": "markers",
         "name": "mormont",
         "scene": "scene",
         "showlegend": true,
         "type": "scatter3d",
         "x": [
          0.10177116841077805
         ],
         "y": [
          0.18505318462848663
         ],
         "z": [
          0.18561691045761108
         ]
        },
        {
         "hovertemplate": "color=women<br>0=%{x}<br>1=%{y}<br>2=%{z}<extra></extra>",
         "legendgroup": "women",
         "marker": {
          "color": "#ab63fa",
          "symbol": "circle"
         },
         "mode": "markers",
         "name": "women",
         "scene": "scene",
         "showlegend": true,
         "type": "scatter3d",
         "x": [
          0.180294007062912
         ],
         "y": [
          0.5222244262695312
         ],
         "z": [
          -0.3605439066886902
         ]
        },
        {
         "hovertemplate": "color=steps<br>0=%{x}<br>1=%{y}<br>2=%{z}<extra></extra>",
         "legendgroup": "steps",
         "marker": {
          "color": "#FFA15A",
          "symbol": "circle"
         },
         "mode": "markers",
         "name": "steps",
         "scene": "scene",
         "showlegend": true,
         "type": "scatter3d",
         "x": [
          -0.5264727473258972
         ],
         "y": [
          0.5915682911872864
         ],
         "z": [
          0.22897101938724518
         ]
        },
        {
         "hovertemplate": "color=things<br>0=%{x}<br>1=%{y}<br>2=%{z}<extra></extra>",
         "legendgroup": "things",
         "marker": {
          "color": "#19d3f3",
          "symbol": "circle"
         },
         "mode": "markers",
         "name": "things",
         "scene": "scene",
         "showlegend": true,
         "type": "scatter3d",
         "x": [
          0.3067821264266968
         ],
         "y": [
          0.590994656085968
         ],
         "z": [
          -0.1442357897758484
         ]
        },
        {
         "hovertemplate": "color=next<br>0=%{x}<br>1=%{y}<br>2=%{z}<extra></extra>",
         "legendgroup": "next",
         "marker": {
          "color": "#FF6692",
          "symbol": "circle"
         },
         "mode": "markers",
         "name": "next",
         "scene": "scene",
         "showlegend": true,
         "type": "scatter3d",
         "x": [
          0.08891724050045013
         ],
         "y": [
          0.589522659778595
         ],
         "z": [
          0.285983681678772
         ]
        },
        {
         "hovertemplate": "color=hodor<br>0=%{x}<br>1=%{y}<br>2=%{z}<extra></extra>",
         "legendgroup": "hodor",
         "marker": {
          "color": "#B6E880",
          "symbol": "circle"
         },
         "mode": "markers",
         "name": "hodor",
         "scene": "scene",
         "showlegend": true,
         "type": "scatter3d",
         "x": [
          -0.30138710141181946
         ],
         "y": [
          0.19180680811405182
         ],
         "z": [
          0.538461446762085
         ]
        },
        {
         "hovertemplate": "color=heavy<br>0=%{x}<br>1=%{y}<br>2=%{z}<extra></extra>",
         "legendgroup": "heavy",
         "marker": {
          "color": "#FF97FF",
          "symbol": "circle"
         },
         "mode": "markers",
         "name": "heavy",
         "scene": "scene",
         "showlegend": true,
         "type": "scatter3d",
         "x": [
          -0.6552148461341858
         ],
         "y": [
          0.16487175226211548
         ],
         "z": [
          0.1378536969423294
         ]
        },
        {
         "hovertemplate": "color=burned<br>0=%{x}<br>1=%{y}<br>2=%{z}<extra></extra>",
         "legendgroup": "burned",
         "marker": {
          "color": "#FECB52",
          "symbol": "circle"
         },
         "mode": "markers",
         "name": "burned",
         "scene": "scene",
         "showlegend": true,
         "type": "scatter3d",
         "x": [
          -0.39015480875968933
         ],
         "y": [
          0.564886212348938
         ],
         "z": [
          -0.016367673873901367
         ]
        },
        {
         "hovertemplate": "color=oh<br>0=%{x}<br>1=%{y}<br>2=%{z}<extra></extra>",
         "legendgroup": "oh",
         "marker": {
          "color": "#636efa",
          "symbol": "circle"
         },
         "mode": "markers",
         "name": "oh",
         "scene": "scene",
         "showlegend": true,
         "type": "scatter3d",
         "x": [
          0.7406067252159119
         ],
         "y": [
          0.16378934681415558
         ],
         "z": [
          0.16479215025901794
         ]
        },
        {
         "hovertemplate": "color=toward<br>0=%{x}<br>1=%{y}<br>2=%{z}<extra></extra>",
         "legendgroup": "toward",
         "marker": {
          "color": "#EF553B",
          "symbol": "circle"
         },
         "mode": "markers",
         "name": "toward",
         "scene": "scene",
         "showlegend": true,
         "type": "scatter3d",
         "x": [
          -0.456926167011261
         ],
         "y": [
          0.3943902850151062
         ],
         "z": [
          0.4282313883304596
         ]
        },
        {
         "hovertemplate": "color=together<br>0=%{x}<br>1=%{y}<br>2=%{z}<extra></extra>",
         "legendgroup": "together",
         "marker": {
          "color": "#00cc96",
          "symbol": "circle"
         },
         "mode": "markers",
         "name": "together",
         "scene": "scene",
         "showlegend": true,
         "type": "scatter3d",
         "x": [
          -0.29784533381462097
         ],
         "y": [
          0.4313214421272278
         ],
         "z": [
          0.11045680195093155
         ]
        },
        {
         "hovertemplate": "color=skin<br>0=%{x}<br>1=%{y}<br>2=%{z}<extra></extra>",
         "legendgroup": "skin",
         "marker": {
          "color": "#ab63fa",
          "symbol": "circle"
         },
         "mode": "markers",
         "name": "skin",
         "scene": "scene",
         "showlegend": true,
         "type": "scatter3d",
         "x": [
          -0.49390101432800293
         ],
         "y": [
          0.24191516637802124
         ],
         "z": [
          0.4089585840702057
         ]
        },
        {
         "hovertemplate": "color=given<br>0=%{x}<br>1=%{y}<br>2=%{z}<extra></extra>",
         "legendgroup": "given",
         "marker": {
          "color": "#FFA15A",
          "symbol": "circle"
         },
         "mode": "markers",
         "name": "given",
         "scene": "scene",
         "showlegend": true,
         "type": "scatter3d",
         "x": [
          0.43015769124031067
         ],
         "y": [
          0.42372673749923706
         ],
         "z": [
          0.3560929000377655
         ]
        },
        {
         "hovertemplate": "color=since<br>0=%{x}<br>1=%{y}<br>2=%{z}<extra></extra>",
         "legendgroup": "since",
         "marker": {
          "color": "#19d3f3",
          "symbol": "circle"
         },
         "mode": "markers",
         "name": "since",
         "scene": "scene",
         "showlegend": true,
         "type": "scatter3d",
         "x": [
          0.3126816153526306
         ],
         "y": [
          0.5090985894203186
         ],
         "z": [
          0.04982101544737816
         ]
        },
        {
         "hovertemplate": "color=smiled<br>0=%{x}<br>1=%{y}<br>2=%{z}<extra></extra>",
         "legendgroup": "smiled",
         "marker": {
          "color": "#FF6692",
          "symbol": "circle"
         },
         "mode": "markers",
         "name": "smiled",
         "scene": "scene",
         "showlegend": true,
         "type": "scatter3d",
         "x": [
          0.16112449765205383
         ],
         "y": [
          0.024164237082004547
         ],
         "z": [
          0.6884810328483582
         ]
        },
        {
         "hovertemplate": "color=dwarf<br>0=%{x}<br>1=%{y}<br>2=%{z}<extra></extra>",
         "legendgroup": "dwarf",
         "marker": {
          "color": "#B6E880",
          "symbol": "circle"
         },
         "mode": "markers",
         "name": "dwarf",
         "scene": "scene",
         "showlegend": true,
         "type": "scatter3d",
         "x": [
          0.34858763217926025
         ],
         "y": [
          0.3228111267089844
         ],
         "z": [
          0.3348669111728668
         ]
        },
        {
         "hovertemplate": "color=alone<br>0=%{x}<br>1=%{y}<br>2=%{z}<extra></extra>",
         "legendgroup": "alone",
         "marker": {
          "color": "#FF97FF",
          "symbol": "circle"
         },
         "mode": "markers",
         "name": "alone",
         "scene": "scene",
         "showlegend": true,
         "type": "scatter3d",
         "x": [
          0.16383978724479675
         ],
         "y": [
          0.5865505337715149
         ],
         "z": [
          0.22020383179187775
         ]
        },
        {
         "hovertemplate": "color=moved<br>0=%{x}<br>1=%{y}<br>2=%{z}<extra></extra>",
         "legendgroup": "moved",
         "marker": {
          "color": "#FECB52",
          "symbol": "circle"
         },
         "mode": "markers",
         "name": "moved",
         "scene": "scene",
         "showlegend": true,
         "type": "scatter3d",
         "x": [
          -0.3997078537940979
         ],
         "y": [
          0.32519206404685974
         ],
         "z": [
          0.6402379870414734
         ]
        },
        {
         "hovertemplate": "color=storm<br>0=%{x}<br>1=%{y}<br>2=%{z}<extra></extra>",
         "legendgroup": "storm",
         "marker": {
          "color": "#636efa",
          "symbol": "circle"
         },
         "mode": "markers",
         "name": "storm",
         "scene": "scene",
         "showlegend": true,
         "type": "scatter3d",
         "x": [
          0.16608883440494537
         ],
         "y": [
          0.6263813972473145
         ],
         "z": [
          -0.2001422643661499
         ]
        },
        {
         "hovertemplate": "color=raised<br>0=%{x}<br>1=%{y}<br>2=%{z}<extra></extra>",
         "legendgroup": "raised",
         "marker": {
          "color": "#EF553B",
          "symbol": "circle"
         },
         "mode": "markers",
         "name": "raised",
         "scene": "scene",
         "showlegend": true,
         "type": "scatter3d",
         "x": [
          -0.13757263123989105
         ],
         "y": [
          0.2872004210948944
         ],
         "z": [
          0.4673864245414734
         ]
        },
        {
         "hovertemplate": "color=ride<br>0=%{x}<br>1=%{y}<br>2=%{z}<extra></extra>",
         "legendgroup": "ride",
         "marker": {
          "color": "#00cc96",
          "symbol": "circle"
         },
         "mode": "markers",
         "name": "ride",
         "scene": "scene",
         "showlegend": true,
         "type": "scatter3d",
         "x": [
          0.23961655795574188
         ],
         "y": [
          0.738694965839386
         ],
         "z": [
          0.21432726085186005
         ]
        },
        {
         "hovertemplate": "color=ask<br>0=%{x}<br>1=%{y}<br>2=%{z}<extra></extra>",
         "legendgroup": "ask",
         "marker": {
          "color": "#ab63fa",
          "symbol": "circle"
         },
         "mode": "markers",
         "name": "ask",
         "scene": "scene",
         "showlegend": true,
         "type": "scatter3d",
         "x": [
          0.771611750125885
         ],
         "y": [
          0.4639805257320404
         ],
         "z": [
          0.3197425603866577
         ]
        },
        {
         "hovertemplate": "color=hope<br>0=%{x}<br>1=%{y}<br>2=%{z}<extra></extra>",
         "legendgroup": "hope",
         "marker": {
          "color": "#FFA15A",
          "symbol": "circle"
         },
         "mode": "markers",
         "name": "hope",
         "scene": "scene",
         "showlegend": true,
         "type": "scatter3d",
         "x": [
          0.6479945182800293
         ],
         "y": [
          0.6092689037322998
         ],
         "z": [
          0.1568921059370041
         ]
        },
        {
         "hovertemplate": "color=eye<br>0=%{x}<br>1=%{y}<br>2=%{z}<extra></extra>",
         "legendgroup": "eye",
         "marker": {
          "color": "#19d3f3",
          "symbol": "circle"
         },
         "mode": "markers",
         "name": "eye",
         "scene": "scene",
         "showlegend": true,
         "type": "scatter3d",
         "x": [
          -0.20222823321819305
         ],
         "y": [
          0.5447916388511658
         ],
         "z": [
          0.1941441297531128
         ]
        },
        {
         "hovertemplate": "color=soft<br>0=%{x}<br>1=%{y}<br>2=%{z}<extra></extra>",
         "legendgroup": "soft",
         "marker": {
          "color": "#FF6692",
          "symbol": "circle"
         },
         "mode": "markers",
         "name": "soft",
         "scene": "scene",
         "showlegend": true,
         "type": "scatter3d",
         "x": [
          -0.542495608329773
         ],
         "y": [
          0.060115523636341095
         ],
         "z": [
          0.32619524002075195
         ]
        },
        {
         "hovertemplate": "color=reached<br>0=%{x}<br>1=%{y}<br>2=%{z}<extra></extra>",
         "legendgroup": "reached",
         "marker": {
          "color": "#B6E880",
          "symbol": "circle"
         },
         "mode": "markers",
         "name": "reached",
         "scene": "scene",
         "showlegend": true,
         "type": "scatter3d",
         "x": [
          -0.25193527340888977
         ],
         "y": [
          0.467613160610199
         ],
         "z": [
          0.5789281725883484
         ]
        },
        {
         "hovertemplate": "color=frey<br>0=%{x}<br>1=%{y}<br>2=%{z}<extra></extra>",
         "legendgroup": "frey",
         "marker": {
          "color": "#FF97FF",
          "symbol": "circle"
         },
         "mode": "markers",
         "name": "frey",
         "scene": "scene",
         "showlegend": true,
         "type": "scatter3d",
         "x": [
          0.40807878971099854
         ],
         "y": [
          0.21980784833431244
         ],
         "z": [
          -0.08337198197841644
         ]
        },
        {
         "hovertemplate": "color=second<br>0=%{x}<br>1=%{y}<br>2=%{z}<extra></extra>",
         "legendgroup": "second",
         "marker": {
          "color": "#FECB52",
          "symbol": "circle"
         },
         "mode": "markers",
         "name": "second",
         "scene": "scene",
         "showlegend": true,
         "type": "scatter3d",
         "x": [
          0.05883221700787544
         ],
         "y": [
          0.34909313917160034
         ],
         "z": [
          0.008217754773795605
         ]
        },
        {
         "hovertemplate": "color=remember<br>0=%{x}<br>1=%{y}<br>2=%{z}<extra></extra>",
         "legendgroup": "remember",
         "marker": {
          "color": "#636efa",
          "symbol": "circle"
         },
         "mode": "markers",
         "name": "remember",
         "scene": "scene",
         "showlegend": true,
         "type": "scatter3d",
         "x": [
          0.5003471374511719
         ],
         "y": [
          0.40348154306411743
         ],
         "z": [
          0.3995632827281952
         ]
        },
        {
         "hovertemplate": "color=someone<br>0=%{x}<br>1=%{y}<br>2=%{z}<extra></extra>",
         "legendgroup": "someone",
         "marker": {
          "color": "#EF553B",
          "symbol": "circle"
         },
         "mode": "markers",
         "name": "someone",
         "scene": "scene",
         "showlegend": true,
         "type": "scatter3d",
         "x": [
          0.29002347588539124
         ],
         "y": [
          0.4535764753818512
         ],
         "z": [
          0.2126302719116211
         ]
        },
        {
         "hovertemplate": "color=remembered<br>0=%{x}<br>1=%{y}<br>2=%{z}<extra></extra>",
         "legendgroup": "remembered",
         "marker": {
          "color": "#00cc96",
          "symbol": "circle"
         },
         "mode": "markers",
         "name": "remembered",
         "scene": "scene",
         "showlegend": true,
         "type": "scatter3d",
         "x": [
          0.186188206076622
         ],
         "y": [
          0.31056904792785645
         ],
         "z": [
          0.4968887269496918
         ]
        },
        {
         "hovertemplate": "color=coming<br>0=%{x}<br>1=%{y}<br>2=%{z}<extra></extra>",
         "legendgroup": "coming",
         "marker": {
          "color": "#ab63fa",
          "symbol": "circle"
         },
         "mode": "markers",
         "name": "coming",
         "scene": "scene",
         "showlegend": true,
         "type": "scatter3d",
         "x": [
          -0.005955481436103582
         ],
         "y": [
          0.671752393245697
         ],
         "z": [
          0.10140708833932877
         ]
        },
        {
         "hovertemplate": "color=meant<br>0=%{x}<br>1=%{y}<br>2=%{z}<extra></extra>",
         "legendgroup": "meant",
         "marker": {
          "color": "#FFA15A",
          "symbol": "circle"
         },
         "mode": "markers",
         "name": "meant",
         "scene": "scene",
         "showlegend": true,
         "type": "scatter3d",
         "x": [
          0.6218857765197754
         ],
         "y": [
          0.4130391776561737
         ],
         "z": [
          0.3690257966518402
         ]
        },
        {
         "hovertemplate": "color=cannot<br>0=%{x}<br>1=%{y}<br>2=%{z}<extra></extra>",
         "legendgroup": "cannot",
         "marker": {
          "color": "#19d3f3",
          "symbol": "circle"
         },
         "mode": "markers",
         "name": "cannot",
         "scene": "scene",
         "showlegend": true,
         "type": "scatter3d",
         "x": [
          0.5877976417541504
         ],
         "y": [
          0.4236677885055542
         ],
         "z": [
          0.115667924284935
         ]
        },
        {
         "hovertemplate": "color=hold<br>0=%{x}<br>1=%{y}<br>2=%{z}<extra></extra>",
         "legendgroup": "hold",
         "marker": {
          "color": "#FF6692",
          "symbol": "circle"
         },
         "mode": "markers",
         "name": "hold",
         "scene": "scene",
         "showlegend": true,
         "type": "scatter3d",
         "x": [
          0.4146093428134918
         ],
         "y": [
          0.5289158225059509
         ],
         "z": [
          0.33887970447540283
         ]
        },
        {
         "hovertemplate": "color=morning<br>0=%{x}<br>1=%{y}<br>2=%{z}<extra></extra>",
         "legendgroup": "morning",
         "marker": {
          "color": "#B6E880",
          "symbol": "circle"
         },
         "mode": "markers",
         "name": "morning",
         "scene": "scene",
         "showlegend": true,
         "type": "scatter3d",
         "x": [
          -0.20981748402118683
         ],
         "y": [
          0.5963591933250427
         ],
         "z": [
          0.10392157733440399
         ]
        },
        {
         "hovertemplate": "color=ten<br>0=%{x}<br>1=%{y}<br>2=%{z}<extra></extra>",
         "legendgroup": "ten",
         "marker": {
          "color": "#FF97FF",
          "symbol": "circle"
         },
         "mode": "markers",
         "name": "ten",
         "scene": "scene",
         "showlegend": true,
         "type": "scatter3d",
         "x": [
          0.1613161414861679
         ],
         "y": [
          0.48556676506996155
         ],
         "z": [
          -0.2956559658050537
         ]
        },
        {
         "hovertemplate": "color=teeth<br>0=%{x}<br>1=%{y}<br>2=%{z}<extra></extra>",
         "legendgroup": "teeth",
         "marker": {
          "color": "#FECB52",
          "symbol": "circle"
         },
         "mode": "markers",
         "name": "teeth",
         "scene": "scene",
         "showlegend": true,
         "type": "scatter3d",
         "x": [
          -0.499677836894989
         ],
         "y": [
          0.2534812390804291
         ],
         "z": [
          0.42152050137519836
         ]
        },
        {
         "hovertemplate": "color=else<br>0=%{x}<br>1=%{y}<br>2=%{z}<extra></extra>",
         "legendgroup": "else",
         "marker": {
          "color": "#636efa",
          "symbol": "circle"
         },
         "mode": "markers",
         "name": "else",
         "scene": "scene",
         "showlegend": true,
         "type": "scatter3d",
         "x": [
          0.498535692691803
         ],
         "y": [
          0.38309159874916077
         ],
         "z": [
          0.23187227547168732
         ]
        },
        {
         "hovertemplate": "color=throne<br>0=%{x}<br>1=%{y}<br>2=%{z}<extra></extra>",
         "legendgroup": "throne",
         "marker": {
          "color": "#EF553B",
          "symbol": "circle"
         },
         "mode": "markers",
         "name": "throne",
         "scene": "scene",
         "showlegend": true,
         "type": "scatter3d",
         "x": [
          0.18421755731105804
         ],
         "y": [
          0.6084575057029724
         ],
         "z": [
          0.031176429241895676
         ]
        },
        {
         "hovertemplate": "color=command<br>0=%{x}<br>1=%{y}<br>2=%{z}<extra></extra>",
         "legendgroup": "command",
         "marker": {
          "color": "#00cc96",
          "symbol": "circle"
         },
         "mode": "markers",
         "name": "command",
         "scene": "scene",
         "showlegend": true,
         "type": "scatter3d",
         "x": [
          0.4486662745475769
         ],
         "y": [
          0.5688484311103821
         ],
         "z": [
          0.07083330303430557
         ]
        },
        {
         "hovertemplate": "color=which<br>0=%{x}<br>1=%{y}<br>2=%{z}<extra></extra>",
         "legendgroup": "which",
         "marker": {
          "color": "#ab63fa",
          "symbol": "circle"
         },
         "mode": "markers",
         "name": "which",
         "scene": "scene",
         "showlegend": true,
         "type": "scatter3d",
         "x": [
          0.34298819303512573
         ],
         "y": [
          0.5184897780418396
         ],
         "z": [
          -0.16857358813285828
         ]
        },
        {
         "hovertemplate": "color=fat<br>0=%{x}<br>1=%{y}<br>2=%{z}<extra></extra>",
         "legendgroup": "fat",
         "marker": {
          "color": "#FFA15A",
          "symbol": "circle"
         },
         "mode": "markers",
         "name": "fat",
         "scene": "scene",
         "showlegend": true,
         "type": "scatter3d",
         "x": [
          0.07647135853767395
         ],
         "y": [
          0.053608547896146774
         ],
         "z": [
          0.2315608561038971
         ]
        },
        {
         "hovertemplate": "color=truth<br>0=%{x}<br>1=%{y}<br>2=%{z}<extra></extra>",
         "legendgroup": "truth",
         "marker": {
          "color": "#19d3f3",
          "symbol": "circle"
         },
         "mode": "markers",
         "name": "truth",
         "scene": "scene",
         "showlegend": true,
         "type": "scatter3d",
         "x": [
          0.5388162732124329
         ],
         "y": [
          0.4747682213783264
         ],
         "z": [
          -0.11120773106813431
         ]
        },
        {
         "hovertemplate": "color=commander<br>0=%{x}<br>1=%{y}<br>2=%{z}<extra></extra>",
         "legendgroup": "commander",
         "marker": {
          "color": "#FF6692",
          "symbol": "circle"
         },
         "mode": "markers",
         "name": "commander",
         "scene": "scene",
         "showlegend": true,
         "type": "scatter3d",
         "x": [
          0.350791335105896
         ],
         "y": [
          0.43933194875717163
         ],
         "z": [
          -0.12026567757129669
         ]
        },
        {
         "hovertemplate": "color=walder<br>0=%{x}<br>1=%{y}<br>2=%{z}<extra></extra>",
         "legendgroup": "walder",
         "marker": {
          "color": "#B6E880",
          "symbol": "circle"
         },
         "mode": "markers",
         "name": "walder",
         "scene": "scene",
         "showlegend": true,
         "type": "scatter3d",
         "x": [
          0.3478247821331024
         ],
         "y": [
          0.1945388913154602
         ],
         "z": [
          -0.10186303406953812
         ]
        },
        {
         "hovertemplate": "color=doubt<br>0=%{x}<br>1=%{y}<br>2=%{z}<extra></extra>",
         "legendgroup": "doubt",
         "marker": {
          "color": "#FF97FF",
          "symbol": "circle"
         },
         "mode": "markers",
         "name": "doubt",
         "scene": "scene",
         "showlegend": true,
         "type": "scatter3d",
         "x": [
          0.540777862071991
         ],
         "y": [
          0.4690481424331665
         ],
         "z": [
          0.07984514534473419
         ]
        },
        {
         "hovertemplate": "color=ground<br>0=%{x}<br>1=%{y}<br>2=%{z}<extra></extra>",
         "legendgroup": "ground",
         "marker": {
          "color": "#FECB52",
          "symbol": "circle"
         },
         "mode": "markers",
         "name": "ground",
         "scene": "scene",
         "showlegend": true,
         "type": "scatter3d",
         "x": [
          -0.725818932056427
         ],
         "y": [
          0.4876716136932373
         ],
         "z": [
          0.24795763194561005
         ]
        },
        {
         "hovertemplate": "color=jorah<br>0=%{x}<br>1=%{y}<br>2=%{z}<extra></extra>",
         "legendgroup": "jorah",
         "marker": {
          "color": "#636efa",
          "symbol": "circle"
         },
         "mode": "markers",
         "name": "jorah",
         "scene": "scene",
         "showlegend": true,
         "type": "scatter3d",
         "x": [
          0.10168252885341644
         ],
         "y": [
          0.22606195509433746
         ],
         "z": [
          0.34946611523628235
         ]
        },
        {
         "hovertemplate": "color=cup<br>0=%{x}<br>1=%{y}<br>2=%{z}<extra></extra>",
         "legendgroup": "cup",
         "marker": {
          "color": "#EF553B",
          "symbol": "circle"
         },
         "mode": "markers",
         "name": "cup",
         "scene": "scene",
         "showlegend": true,
         "type": "scatter3d",
         "x": [
          -0.09115162491798401
         ],
         "y": [
          0.2200433313846588
         ],
         "z": [
          0.4909590482711792
         ]
        },
        {
         "hovertemplate": "color=outside<br>0=%{x}<br>1=%{y}<br>2=%{z}<extra></extra>",
         "legendgroup": "outside",
         "marker": {
          "color": "#00cc96",
          "symbol": "circle"
         },
         "mode": "markers",
         "name": "outside",
         "scene": "scene",
         "showlegend": true,
         "type": "scatter3d",
         "x": [
          -0.3132747411727905
         ],
         "y": [
          0.5398879051208496
         ],
         "z": [
          0.02006537653505802
         ]
        },
        {
         "hovertemplate": "color=known<br>0=%{x}<br>1=%{y}<br>2=%{z}<extra></extra>",
         "legendgroup": "known",
         "marker": {
          "color": "#ab63fa",
          "symbol": "circle"
         },
         "mode": "markers",
         "name": "known",
         "scene": "scene",
         "showlegend": true,
         "type": "scatter3d",
         "x": [
          0.5208886861801147
         ],
         "y": [
          0.4071930944919586
         ],
         "z": [
          0.14077796041965485
         ]
        },
        {
         "hovertemplate": "color=wore<br>0=%{x}<br>1=%{y}<br>2=%{z}<extra></extra>",
         "legendgroup": "wore",
         "marker": {
          "color": "#FFA15A",
          "symbol": "circle"
         },
         "mode": "markers",
         "name": "wore",
         "scene": "scene",
         "showlegend": true,
         "type": "scatter3d",
         "x": [
          -0.26256075501441956
         ],
         "y": [
          0.15843398869037628
         ],
         "z": [
          0.12664566934108734
         ]
        },
        {
         "hovertemplate": "color=ran<br>0=%{x}<br>1=%{y}<br>2=%{z}<extra></extra>",
         "legendgroup": "ran",
         "marker": {
          "color": "#19d3f3",
          "symbol": "circle"
         },
         "mode": "markers",
         "name": "ran",
         "scene": "scene",
         "showlegend": true,
         "type": "scatter3d",
         "x": [
          -0.524622917175293
         ],
         "y": [
          0.2853487730026245
         ],
         "z": [
          0.5363779664039612
         ]
        },
        {
         "hovertemplate": "color=gate<br>0=%{x}<br>1=%{y}<br>2=%{z}<extra></extra>",
         "legendgroup": "gate",
         "marker": {
          "color": "#FF6692",
          "symbol": "circle"
         },
         "mode": "markers",
         "name": "gate",
         "scene": "scene",
         "showlegend": true,
         "type": "scatter3d",
         "x": [
          -0.3807080388069153
         ],
         "y": [
          0.7173886895179749
         ],
         "z": [
          -0.03948132321238518
         ]
        },
        {
         "hovertemplate": "color=room<br>0=%{x}<br>1=%{y}<br>2=%{z}<extra></extra>",
         "legendgroup": "room",
         "marker": {
          "color": "#B6E880",
          "symbol": "circle"
         },
         "mode": "markers",
         "name": "room",
         "scene": "scene",
         "showlegend": true,
         "type": "scatter3d",
         "x": [
          -0.4895842671394348
         ],
         "y": [
          0.648426353931427
         ],
         "z": [
          0.06799530982971191
         ]
        },
        {
         "hovertemplate": "color=held<br>0=%{x}<br>1=%{y}<br>2=%{z}<extra></extra>",
         "legendgroup": "held",
         "marker": {
          "color": "#FF97FF",
          "symbol": "circle"
         },
         "mode": "markers",
         "name": "held",
         "scene": "scene",
         "showlegend": true,
         "type": "scatter3d",
         "x": [
          -0.11924570053815842
         ],
         "y": [
          0.21219661831855774
         ],
         "z": [
          0.5896586775779724
         ]
        },
        {
         "hovertemplate": "color=closed<br>0=%{x}<br>1=%{y}<br>2=%{z}<extra></extra>",
         "legendgroup": "closed",
         "marker": {
          "color": "#FECB52",
          "symbol": "circle"
         },
         "mode": "markers",
         "name": "closed",
         "scene": "scene",
         "showlegend": true,
         "type": "scatter3d",
         "x": [
          -0.37539538741111755
         ],
         "y": [
          0.3055422306060791
         ],
         "z": [
          0.47077950835227966
         ]
        },
        {
         "hovertemplate": "color=home<br>0=%{x}<br>1=%{y}<br>2=%{z}<extra></extra>",
         "legendgroup": "home",
         "marker": {
          "color": "#636efa",
          "symbol": "circle"
         },
         "mode": "markers",
         "name": "home",
         "scene": "scene",
         "showlegend": true,
         "type": "scatter3d",
         "x": [
          0.35356324911117554
         ],
         "y": [
          0.6816698908805847
         ],
         "z": [
          0.06154680624604225
         ]
        },
        {
         "hovertemplate": "color=matter<br>0=%{x}<br>1=%{y}<br>2=%{z}<extra></extra>",
         "legendgroup": "matter",
         "marker": {
          "color": "#EF553B",
          "symbol": "circle"
         },
         "mode": "markers",
         "name": "matter",
         "scene": "scene",
         "showlegend": true,
         "type": "scatter3d",
         "x": [
          0.46319523453712463
         ],
         "y": [
          0.3945296108722687
         ],
         "z": [
          0.15068891644477844
         ]
        },
        {
         "hovertemplate": "color=sky<br>0=%{x}<br>1=%{y}<br>2=%{z}<extra></extra>",
         "legendgroup": "sky",
         "marker": {
          "color": "#00cc96",
          "symbol": "circle"
         },
         "mode": "markers",
         "name": "sky",
         "scene": "scene",
         "showlegend": true,
         "type": "scatter3d",
         "x": [
          -0.6037840247154236
         ],
         "y": [
          0.5529144406318665
         ],
         "z": [
          -0.05887048318982124
         ]
        },
        {
         "hovertemplate": "color=south<br>0=%{x}<br>1=%{y}<br>2=%{z}<extra></extra>",
         "legendgroup": "south",
         "marker": {
          "color": "#ab63fa",
          "symbol": "circle"
         },
         "mode": "markers",
         "name": "south",
         "scene": "scene",
         "showlegend": true,
         "type": "scatter3d",
         "x": [
          -0.06463933736085892
         ],
         "y": [
          0.7964943051338196
         ],
         "z": [
          -0.26984983682632446
         ]
        },
        {
         "hovertemplate": "color=wood<br>0=%{x}<br>1=%{y}<br>2=%{z}<extra></extra>",
         "legendgroup": "wood",
         "marker": {
          "color": "#FFA15A",
          "symbol": "circle"
         },
         "mode": "markers",
         "name": "wood",
         "scene": "scene",
         "showlegend": true,
         "type": "scatter3d",
         "x": [
          -0.6702722907066345
         ],
         "y": [
          0.5146538019180298
         ],
         "z": [
          -0.1337745636701584
         ]
        },
        {
         "hovertemplate": "color=dozen<br>0=%{x}<br>1=%{y}<br>2=%{z}<extra></extra>",
         "legendgroup": "dozen",
         "marker": {
          "color": "#19d3f3",
          "symbol": "circle"
         },
         "mode": "markers",
         "name": "dozen",
         "scene": "scene",
         "showlegend": true,
         "type": "scatter3d",
         "x": [
          -0.2758544981479645
         ],
         "y": [
          0.4826942980289459
         ],
         "z": [
          -0.29474255442619324
         ]
        },
        {
         "hovertemplate": "color=wed<br>0=%{x}<br>1=%{y}<br>2=%{z}<extra></extra>",
         "legendgroup": "wed",
         "marker": {
          "color": "#FF6692",
          "symbol": "circle"
         },
         "mode": "markers",
         "name": "wed",
         "scene": "scene",
         "showlegend": true,
         "type": "scatter3d",
         "x": [
          0.7628185153007507
         ],
         "y": [
          0.4033636152744293
         ],
         "z": [
          0.18843606114387512
         ]
        },
        {
         "hovertemplate": "color=people<br>0=%{x}<br>1=%{y}<br>2=%{z}<extra></extra>",
         "legendgroup": "people",
         "marker": {
          "color": "#B6E880",
          "symbol": "circle"
         },
         "mode": "markers",
         "name": "people",
         "scene": "scene",
         "showlegend": true,
         "type": "scatter3d",
         "x": [
          0.33668944239616394
         ],
         "y": [
          0.7166051864624023
         ],
         "z": [
          -0.3416523337364197
         ]
        },
        {
         "hovertemplate": "color=neck<br>0=%{x}<br>1=%{y}<br>2=%{z}<extra></extra>",
         "legendgroup": "neck",
         "marker": {
          "color": "#FF97FF",
          "symbol": "circle"
         },
         "mode": "markers",
         "name": "neck",
         "scene": "scene",
         "showlegend": true,
         "type": "scatter3d",
         "x": [
          -0.5157825946807861
         ],
         "y": [
          0.33572980761528015
         ],
         "z": [
          0.4234771728515625
         ]
        },
        {
         "hovertemplate": "color=riverrun<br>0=%{x}<br>1=%{y}<br>2=%{z}<extra></extra>",
         "legendgroup": "riverrun",
         "marker": {
          "color": "#FECB52",
          "symbol": "circle"
         },
         "mode": "markers",
         "name": "riverrun",
         "scene": "scene",
         "showlegend": true,
         "type": "scatter3d",
         "x": [
          0.350585013628006
         ],
         "y": [
          0.6133290529251099
         ],
         "z": [
          -0.13408298790454865
         ]
        },
        {
         "hovertemplate": "color=food<br>0=%{x}<br>1=%{y}<br>2=%{z}<extra></extra>",
         "legendgroup": "food",
         "marker": {
          "color": "#636efa",
          "symbol": "circle"
         },
         "mode": "markers",
         "name": "food",
         "scene": "scene",
         "showlegend": true,
         "type": "scatter3d",
         "x": [
          0.04550293833017349
         ],
         "y": [
          0.5586403608322144
         ],
         "z": [
          -0.06499014049768448
         ]
        },
        {
         "hovertemplate": "color=instead<br>0=%{x}<br>1=%{y}<br>2=%{z}<extra></extra>",
         "legendgroup": "instead",
         "marker": {
          "color": "#EF553B",
          "symbol": "circle"
         },
         "mode": "markers",
         "name": "instead",
         "scene": "scene",
         "showlegend": true,
         "type": "scatter3d",
         "x": [
          -0.020061403512954712
         ],
         "y": [
          0.30136123299598694
         ],
         "z": [
          0.3494618535041809
         ]
        },
        {
         "hovertemplate": "color=near<br>0=%{x}<br>1=%{y}<br>2=%{z}<extra></extra>",
         "legendgroup": "near",
         "marker": {
          "color": "#00cc96",
          "symbol": "circle"
         },
         "mode": "markers",
         "name": "near",
         "scene": "scene",
         "showlegend": true,
         "type": "scatter3d",
         "x": [
          -0.150272399187088
         ],
         "y": [
          0.41708430647850037
         ],
         "z": [
          -0.07495488226413727
         ]
        },
        {
         "hovertemplate": "color=talk<br>0=%{x}<br>1=%{y}<br>2=%{z}<extra></extra>",
         "legendgroup": "talk",
         "marker": {
          "color": "#ab63fa",
          "symbol": "circle"
         },
         "mode": "markers",
         "name": "talk",
         "scene": "scene",
         "showlegend": true,
         "type": "scatter3d",
         "x": [
          0.4606891870498657
         ],
         "y": [
          0.5816832780838013
         ],
         "z": [
          0.18484322726726532
         ]
        },
        {
         "hovertemplate": "color=turn<br>0=%{x}<br>1=%{y}<br>2=%{z}<extra></extra>",
         "legendgroup": "turn",
         "marker": {
          "color": "#FFA15A",
          "symbol": "circle"
         },
         "mode": "markers",
         "name": "turn",
         "scene": "scene",
         "showlegend": true,
         "type": "scatter3d",
         "x": [
          0.09736337512731552
         ],
         "y": [
          0.7120421528816223
         ],
         "z": [
          0.38605040311813354
         ]
        },
        {
         "hovertemplate": "color=none<br>0=%{x}<br>1=%{y}<br>2=%{z}<extra></extra>",
         "legendgroup": "none",
         "marker": {
          "color": "#19d3f3",
          "symbol": "circle"
         },
         "mode": "markers",
         "name": "none",
         "scene": "scene",
         "showlegend": true,
         "type": "scatter3d",
         "x": [
          0.5211926102638245
         ],
         "y": [
          0.48080480098724365
         ],
         "z": [
          -0.126291424036026
         ]
        },
        {
         "hovertemplate": "color=ships<br>0=%{x}<br>1=%{y}<br>2=%{z}<extra></extra>",
         "legendgroup": "ships",
         "marker": {
          "color": "#FF6692",
          "symbol": "circle"
         },
         "mode": "markers",
         "name": "ships",
         "scene": "scene",
         "showlegend": true,
         "type": "scatter3d",
         "x": [
          0.11365096271038055
         ],
         "y": [
          0.7321311235427856
         ],
         "z": [
          -0.49251219630241394
         ]
        },
        {
         "hovertemplate": "color=tyrell<br>0=%{x}<br>1=%{y}<br>2=%{z}<extra></extra>",
         "legendgroup": "tyrell",
         "marker": {
          "color": "#B6E880",
          "symbol": "circle"
         },
         "mode": "markers",
         "name": "tyrell",
         "scene": "scene",
         "showlegend": true,
         "type": "scatter3d",
         "x": [
          0.48042768239974976
         ],
         "y": [
          0.21966314315795898
         ],
         "z": [
          -0.02112552337348461
         ]
        },
        {
         "hovertemplate": "color=below<br>0=%{x}<br>1=%{y}<br>2=%{z}<extra></extra>",
         "legendgroup": "below",
         "marker": {
          "color": "#FF97FF",
          "symbol": "circle"
         },
         "mode": "markers",
         "name": "below",
         "scene": "scene",
         "showlegend": true,
         "type": "scatter3d",
         "x": [
          -0.5922587513923645
         ],
         "y": [
          0.5245072841644287
         ],
         "z": [
          0.08666583150625229
         ]
        },
        {
         "hovertemplate": "color=moon<br>0=%{x}<br>1=%{y}<br>2=%{z}<extra></extra>",
         "legendgroup": "moon",
         "marker": {
          "color": "#FECB52",
          "symbol": "circle"
         },
         "mode": "markers",
         "name": "moon",
         "scene": "scene",
         "showlegend": true,
         "type": "scatter3d",
         "x": [
          -0.3435102701187134
         ],
         "y": [
          0.5429605841636658
         ],
         "z": [
          -0.09382573515176773
         ]
        },
        {
         "hovertemplate": "color=summer<br>0=%{x}<br>1=%{y}<br>2=%{z}<extra></extra>",
         "legendgroup": "summer",
         "marker": {
          "color": "#636efa",
          "symbol": "circle"
         },
         "mode": "markers",
         "name": "summer",
         "scene": "scene",
         "showlegend": true,
         "type": "scatter3d",
         "x": [
          -0.267798513174057
         ],
         "y": [
          0.4382532238960266
         ],
         "z": [
          -0.173330619931221
         ]
        },
        {
         "hovertemplate": "color=bolton<br>0=%{x}<br>1=%{y}<br>2=%{z}<extra></extra>",
         "legendgroup": "bolton",
         "marker": {
          "color": "#EF553B",
          "symbol": "circle"
         },
         "mode": "markers",
         "name": "bolton",
         "scene": "scene",
         "showlegend": true,
         "type": "scatter3d",
         "x": [
          0.4526022672653198
         ],
         "y": [
          0.33371785283088684
         ],
         "z": [
          -0.03226853907108307
         ]
        },
        {
         "hovertemplate": "color=shadow<br>0=%{x}<br>1=%{y}<br>2=%{z}<extra></extra>",
         "legendgroup": "shadow",
         "marker": {
          "color": "#00cc96",
          "symbol": "circle"
         },
         "mode": "markers",
         "name": "shadow",
         "scene": "scene",
         "showlegend": true,
         "type": "scatter3d",
         "x": [
          -0.4138047397136688
         ],
         "y": [
          0.6276062726974487
         ],
         "z": [
          -0.07710815966129303
         ]
        },
        {
         "hovertemplate": "color=lips<br>0=%{x}<br>1=%{y}<br>2=%{z}<extra></extra>",
         "legendgroup": "lips",
         "marker": {
          "color": "#ab63fa",
          "symbol": "circle"
         },
         "mode": "markers",
         "name": "lips",
         "scene": "scene",
         "showlegend": true,
         "type": "scatter3d",
         "x": [
          -0.27698493003845215
         ],
         "y": [
          0.19134539365768433
         ],
         "z": [
          0.5390228629112244
         ]
        },
        {
         "hovertemplate": "color=watched<br>0=%{x}<br>1=%{y}<br>2=%{z}<extra></extra>",
         "legendgroup": "watched",
         "marker": {
          "color": "#FFA15A",
          "symbol": "circle"
         },
         "mode": "markers",
         "name": "watched",
         "scene": "scene",
         "showlegend": true,
         "type": "scatter3d",
         "x": [
          -0.20643505454063416
         ],
         "y": [
          0.3517662286758423
         ],
         "z": [
          0.5798081755638123
         ]
        },
        {
         "hovertemplate": "color=times<br>0=%{x}<br>1=%{y}<br>2=%{z}<extra></extra>",
         "legendgroup": "times",
         "marker": {
          "color": "#19d3f3",
          "symbol": "circle"
         },
         "mode": "markers",
         "name": "times",
         "scene": "scene",
         "showlegend": true,
         "type": "scatter3d",
         "x": [
          0.2767725884914398
         ],
         "y": [
          0.6328638195991516
         ],
         "z": [
          -0.11369159817695618
         ]
        },
        {
         "hovertemplate": "color=leather<br>0=%{x}<br>1=%{y}<br>2=%{z}<extra></extra>",
         "legendgroup": "leather",
         "marker": {
          "color": "#FF6692",
          "symbol": "circle"
         },
         "mode": "markers",
         "name": "leather",
         "scene": "scene",
         "showlegend": true,
         "type": "scatter3d",
         "x": [
          -0.6101335883140564
         ],
         "y": [
          0.15911783277988434
         ],
         "z": [
          0.04170436039566994
         ]
        },
        {
         "hovertemplate": "color=varys<br>0=%{x}<br>1=%{y}<br>2=%{z}<extra></extra>",
         "legendgroup": "varys",
         "marker": {
          "color": "#B6E880",
          "symbol": "circle"
         },
         "mode": "markers",
         "name": "varys",
         "scene": "scene",
         "showlegend": true,
         "type": "scatter3d",
         "x": [
          0.5360644459724426
         ],
         "y": [
          0.13470782339572906
         ],
         "z": [
          0.09593071043491364
         ]
        },
        {
         "hovertemplate": "color=shoulder<br>0=%{x}<br>1=%{y}<br>2=%{z}<extra></extra>",
         "legendgroup": "shoulder",
         "marker": {
          "color": "#FF97FF",
          "symbol": "circle"
         },
         "mode": "markers",
         "name": "shoulder",
         "scene": "scene",
         "showlegend": true,
         "type": "scatter3d",
         "x": [
          -0.4947948455810547
         ],
         "y": [
          0.3042912781238556
         ],
         "z": [
          0.4859490394592285
         ]
        },
        {
         "hovertemplate": "color=septon<br>0=%{x}<br>1=%{y}<br>2=%{z}<extra></extra>",
         "legendgroup": "septon",
         "marker": {
          "color": "#FECB52",
          "symbol": "circle"
         },
         "mode": "markers",
         "name": "septon",
         "scene": "scene",
         "showlegend": true,
         "type": "scatter3d",
         "x": [
          0.2636694312095642
         ],
         "y": [
          0.4571809768676758
         ],
         "z": [
          -0.25559693574905396
         ]
        }
       ],
       "layout": {
        "legend": {
         "title": {
          "text": "color"
         },
         "tracegroupgap": 0
        },
        "margin": {
         "t": 60
        },
        "scene": {
         "domain": {
          "x": [
           0,
           1
          ],
          "y": [
           0,
           1
          ]
         },
         "xaxis": {
          "title": {
           "text": "0"
          }
         },
         "yaxis": {
          "title": {
           "text": "1"
          }
         },
         "zaxis": {
          "title": {
           "text": "2"
          }
         }
        },
        "template": {
         "data": {
          "bar": [
           {
            "error_x": {
             "color": "#2a3f5f"
            },
            "error_y": {
             "color": "#2a3f5f"
            },
            "marker": {
             "line": {
              "color": "#E5ECF6",
              "width": 0.5
             },
             "pattern": {
              "fillmode": "overlay",
              "size": 10,
              "solidity": 0.2
             }
            },
            "type": "bar"
           }
          ],
          "barpolar": [
           {
            "marker": {
             "line": {
              "color": "#E5ECF6",
              "width": 0.5
             },
             "pattern": {
              "fillmode": "overlay",
              "size": 10,
              "solidity": 0.2
             }
            },
            "type": "barpolar"
           }
          ],
          "carpet": [
           {
            "aaxis": {
             "endlinecolor": "#2a3f5f",
             "gridcolor": "white",
             "linecolor": "white",
             "minorgridcolor": "white",
             "startlinecolor": "#2a3f5f"
            },
            "baxis": {
             "endlinecolor": "#2a3f5f",
             "gridcolor": "white",
             "linecolor": "white",
             "minorgridcolor": "white",
             "startlinecolor": "#2a3f5f"
            },
            "type": "carpet"
           }
          ],
          "choropleth": [
           {
            "colorbar": {
             "outlinewidth": 0,
             "ticks": ""
            },
            "type": "choropleth"
           }
          ],
          "contour": [
           {
            "colorbar": {
             "outlinewidth": 0,
             "ticks": ""
            },
            "colorscale": [
             [
              0,
              "#0d0887"
             ],
             [
              0.1111111111111111,
              "#46039f"
             ],
             [
              0.2222222222222222,
              "#7201a8"
             ],
             [
              0.3333333333333333,
              "#9c179e"
             ],
             [
              0.4444444444444444,
              "#bd3786"
             ],
             [
              0.5555555555555556,
              "#d8576b"
             ],
             [
              0.6666666666666666,
              "#ed7953"
             ],
             [
              0.7777777777777778,
              "#fb9f3a"
             ],
             [
              0.8888888888888888,
              "#fdca26"
             ],
             [
              1,
              "#f0f921"
             ]
            ],
            "type": "contour"
           }
          ],
          "contourcarpet": [
           {
            "colorbar": {
             "outlinewidth": 0,
             "ticks": ""
            },
            "type": "contourcarpet"
           }
          ],
          "heatmap": [
           {
            "colorbar": {
             "outlinewidth": 0,
             "ticks": ""
            },
            "colorscale": [
             [
              0,
              "#0d0887"
             ],
             [
              0.1111111111111111,
              "#46039f"
             ],
             [
              0.2222222222222222,
              "#7201a8"
             ],
             [
              0.3333333333333333,
              "#9c179e"
             ],
             [
              0.4444444444444444,
              "#bd3786"
             ],
             [
              0.5555555555555556,
              "#d8576b"
             ],
             [
              0.6666666666666666,
              "#ed7953"
             ],
             [
              0.7777777777777778,
              "#fb9f3a"
             ],
             [
              0.8888888888888888,
              "#fdca26"
             ],
             [
              1,
              "#f0f921"
             ]
            ],
            "type": "heatmap"
           }
          ],
          "heatmapgl": [
           {
            "colorbar": {
             "outlinewidth": 0,
             "ticks": ""
            },
            "colorscale": [
             [
              0,
              "#0d0887"
             ],
             [
              0.1111111111111111,
              "#46039f"
             ],
             [
              0.2222222222222222,
              "#7201a8"
             ],
             [
              0.3333333333333333,
              "#9c179e"
             ],
             [
              0.4444444444444444,
              "#bd3786"
             ],
             [
              0.5555555555555556,
              "#d8576b"
             ],
             [
              0.6666666666666666,
              "#ed7953"
             ],
             [
              0.7777777777777778,
              "#fb9f3a"
             ],
             [
              0.8888888888888888,
              "#fdca26"
             ],
             [
              1,
              "#f0f921"
             ]
            ],
            "type": "heatmapgl"
           }
          ],
          "histogram": [
           {
            "marker": {
             "pattern": {
              "fillmode": "overlay",
              "size": 10,
              "solidity": 0.2
             }
            },
            "type": "histogram"
           }
          ],
          "histogram2d": [
           {
            "colorbar": {
             "outlinewidth": 0,
             "ticks": ""
            },
            "colorscale": [
             [
              0,
              "#0d0887"
             ],
             [
              0.1111111111111111,
              "#46039f"
             ],
             [
              0.2222222222222222,
              "#7201a8"
             ],
             [
              0.3333333333333333,
              "#9c179e"
             ],
             [
              0.4444444444444444,
              "#bd3786"
             ],
             [
              0.5555555555555556,
              "#d8576b"
             ],
             [
              0.6666666666666666,
              "#ed7953"
             ],
             [
              0.7777777777777778,
              "#fb9f3a"
             ],
             [
              0.8888888888888888,
              "#fdca26"
             ],
             [
              1,
              "#f0f921"
             ]
            ],
            "type": "histogram2d"
           }
          ],
          "histogram2dcontour": [
           {
            "colorbar": {
             "outlinewidth": 0,
             "ticks": ""
            },
            "colorscale": [
             [
              0,
              "#0d0887"
             ],
             [
              0.1111111111111111,
              "#46039f"
             ],
             [
              0.2222222222222222,
              "#7201a8"
             ],
             [
              0.3333333333333333,
              "#9c179e"
             ],
             [
              0.4444444444444444,
              "#bd3786"
             ],
             [
              0.5555555555555556,
              "#d8576b"
             ],
             [
              0.6666666666666666,
              "#ed7953"
             ],
             [
              0.7777777777777778,
              "#fb9f3a"
             ],
             [
              0.8888888888888888,
              "#fdca26"
             ],
             [
              1,
              "#f0f921"
             ]
            ],
            "type": "histogram2dcontour"
           }
          ],
          "mesh3d": [
           {
            "colorbar": {
             "outlinewidth": 0,
             "ticks": ""
            },
            "type": "mesh3d"
           }
          ],
          "parcoords": [
           {
            "line": {
             "colorbar": {
              "outlinewidth": 0,
              "ticks": ""
             }
            },
            "type": "parcoords"
           }
          ],
          "pie": [
           {
            "automargin": true,
            "type": "pie"
           }
          ],
          "scatter": [
           {
            "fillpattern": {
             "fillmode": "overlay",
             "size": 10,
             "solidity": 0.2
            },
            "type": "scatter"
           }
          ],
          "scatter3d": [
           {
            "line": {
             "colorbar": {
              "outlinewidth": 0,
              "ticks": ""
             }
            },
            "marker": {
             "colorbar": {
              "outlinewidth": 0,
              "ticks": ""
             }
            },
            "type": "scatter3d"
           }
          ],
          "scattercarpet": [
           {
            "marker": {
             "colorbar": {
              "outlinewidth": 0,
              "ticks": ""
             }
            },
            "type": "scattercarpet"
           }
          ],
          "scattergeo": [
           {
            "marker": {
             "colorbar": {
              "outlinewidth": 0,
              "ticks": ""
             }
            },
            "type": "scattergeo"
           }
          ],
          "scattergl": [
           {
            "marker": {
             "colorbar": {
              "outlinewidth": 0,
              "ticks": ""
             }
            },
            "type": "scattergl"
           }
          ],
          "scattermapbox": [
           {
            "marker": {
             "colorbar": {
              "outlinewidth": 0,
              "ticks": ""
             }
            },
            "type": "scattermapbox"
           }
          ],
          "scatterpolar": [
           {
            "marker": {
             "colorbar": {
              "outlinewidth": 0,
              "ticks": ""
             }
            },
            "type": "scatterpolar"
           }
          ],
          "scatterpolargl": [
           {
            "marker": {
             "colorbar": {
              "outlinewidth": 0,
              "ticks": ""
             }
            },
            "type": "scatterpolargl"
           }
          ],
          "scatterternary": [
           {
            "marker": {
             "colorbar": {
              "outlinewidth": 0,
              "ticks": ""
             }
            },
            "type": "scatterternary"
           }
          ],
          "surface": [
           {
            "colorbar": {
             "outlinewidth": 0,
             "ticks": ""
            },
            "colorscale": [
             [
              0,
              "#0d0887"
             ],
             [
              0.1111111111111111,
              "#46039f"
             ],
             [
              0.2222222222222222,
              "#7201a8"
             ],
             [
              0.3333333333333333,
              "#9c179e"
             ],
             [
              0.4444444444444444,
              "#bd3786"
             ],
             [
              0.5555555555555556,
              "#d8576b"
             ],
             [
              0.6666666666666666,
              "#ed7953"
             ],
             [
              0.7777777777777778,
              "#fb9f3a"
             ],
             [
              0.8888888888888888,
              "#fdca26"
             ],
             [
              1,
              "#f0f921"
             ]
            ],
            "type": "surface"
           }
          ],
          "table": [
           {
            "cells": {
             "fill": {
              "color": "#EBF0F8"
             },
             "line": {
              "color": "white"
             }
            },
            "header": {
             "fill": {
              "color": "#C8D4E3"
             },
             "line": {
              "color": "white"
             }
            },
            "type": "table"
           }
          ]
         },
         "layout": {
          "annotationdefaults": {
           "arrowcolor": "#2a3f5f",
           "arrowhead": 0,
           "arrowwidth": 1
          },
          "autotypenumbers": "strict",
          "coloraxis": {
           "colorbar": {
            "outlinewidth": 0,
            "ticks": ""
           }
          },
          "colorscale": {
           "diverging": [
            [
             0,
             "#8e0152"
            ],
            [
             0.1,
             "#c51b7d"
            ],
            [
             0.2,
             "#de77ae"
            ],
            [
             0.3,
             "#f1b6da"
            ],
            [
             0.4,
             "#fde0ef"
            ],
            [
             0.5,
             "#f7f7f7"
            ],
            [
             0.6,
             "#e6f5d0"
            ],
            [
             0.7,
             "#b8e186"
            ],
            [
             0.8,
             "#7fbc41"
            ],
            [
             0.9,
             "#4d9221"
            ],
            [
             1,
             "#276419"
            ]
           ],
           "sequential": [
            [
             0,
             "#0d0887"
            ],
            [
             0.1111111111111111,
             "#46039f"
            ],
            [
             0.2222222222222222,
             "#7201a8"
            ],
            [
             0.3333333333333333,
             "#9c179e"
            ],
            [
             0.4444444444444444,
             "#bd3786"
            ],
            [
             0.5555555555555556,
             "#d8576b"
            ],
            [
             0.6666666666666666,
             "#ed7953"
            ],
            [
             0.7777777777777778,
             "#fb9f3a"
            ],
            [
             0.8888888888888888,
             "#fdca26"
            ],
            [
             1,
             "#f0f921"
            ]
           ],
           "sequentialminus": [
            [
             0,
             "#0d0887"
            ],
            [
             0.1111111111111111,
             "#46039f"
            ],
            [
             0.2222222222222222,
             "#7201a8"
            ],
            [
             0.3333333333333333,
             "#9c179e"
            ],
            [
             0.4444444444444444,
             "#bd3786"
            ],
            [
             0.5555555555555556,
             "#d8576b"
            ],
            [
             0.6666666666666666,
             "#ed7953"
            ],
            [
             0.7777777777777778,
             "#fb9f3a"
            ],
            [
             0.8888888888888888,
             "#fdca26"
            ],
            [
             1,
             "#f0f921"
            ]
           ]
          },
          "colorway": [
           "#636efa",
           "#EF553B",
           "#00cc96",
           "#ab63fa",
           "#FFA15A",
           "#19d3f3",
           "#FF6692",
           "#B6E880",
           "#FF97FF",
           "#FECB52"
          ],
          "font": {
           "color": "#2a3f5f"
          },
          "geo": {
           "bgcolor": "white",
           "lakecolor": "white",
           "landcolor": "#E5ECF6",
           "showlakes": true,
           "showland": true,
           "subunitcolor": "white"
          },
          "hoverlabel": {
           "align": "left"
          },
          "hovermode": "closest",
          "mapbox": {
           "style": "light"
          },
          "paper_bgcolor": "white",
          "plot_bgcolor": "#E5ECF6",
          "polar": {
           "angularaxis": {
            "gridcolor": "white",
            "linecolor": "white",
            "ticks": ""
           },
           "bgcolor": "#E5ECF6",
           "radialaxis": {
            "gridcolor": "white",
            "linecolor": "white",
            "ticks": ""
           }
          },
          "scene": {
           "xaxis": {
            "backgroundcolor": "#E5ECF6",
            "gridcolor": "white",
            "gridwidth": 2,
            "linecolor": "white",
            "showbackground": true,
            "ticks": "",
            "zerolinecolor": "white"
           },
           "yaxis": {
            "backgroundcolor": "#E5ECF6",
            "gridcolor": "white",
            "gridwidth": 2,
            "linecolor": "white",
            "showbackground": true,
            "ticks": "",
            "zerolinecolor": "white"
           },
           "zaxis": {
            "backgroundcolor": "#E5ECF6",
            "gridcolor": "white",
            "gridwidth": 2,
            "linecolor": "white",
            "showbackground": true,
            "ticks": "",
            "zerolinecolor": "white"
           }
          },
          "shapedefaults": {
           "line": {
            "color": "#2a3f5f"
           }
          },
          "ternary": {
           "aaxis": {
            "gridcolor": "white",
            "linecolor": "white",
            "ticks": ""
           },
           "baxis": {
            "gridcolor": "white",
            "linecolor": "white",
            "ticks": ""
           },
           "bgcolor": "#E5ECF6",
           "caxis": {
            "gridcolor": "white",
            "linecolor": "white",
            "ticks": ""
           }
          },
          "title": {
           "x": 0.05
          },
          "xaxis": {
           "automargin": true,
           "gridcolor": "white",
           "linecolor": "white",
           "ticks": "",
           "title": {
            "standoff": 15
           },
           "zerolinecolor": "white",
           "zerolinewidth": 2
          },
          "yaxis": {
           "automargin": true,
           "gridcolor": "white",
           "linecolor": "white",
           "ticks": "",
           "title": {
            "standoff": 15
           },
           "zerolinecolor": "white",
           "zerolinewidth": 2
          }
         }
        }
       }
      }
     },
     "metadata": {},
     "output_type": "display_data"
    }
   ],
   "source": [
    "import plotly.express as px\n",
    "fig = px.scatter_3d(x[:500], x=0, y=1, z=2, color=y[:500])\n",
    "fig.show()"
   ]
  },
  {
   "cell_type": "code",
   "execution_count": 72,
   "metadata": {},
   "outputs": [
    {
     "data": {
      "application/vnd.plotly.v1+json": {
       "config": {
        "plotlyServerURL": "https://plot.ly"
       },
       "data": [
        {
         "hovertemplate": "color=hands<br>0=%{x}<br>1=%{y}<br>2=%{z}<extra></extra>",
         "legendgroup": "hands",
         "marker": {
          "color": "#636efa",
          "symbol": "circle"
         },
         "mode": "markers",
         "name": "hands",
         "scene": "scene",
         "showlegend": true,
         "type": "scatter3d",
         "x": [
          -0.27295488119125366
         ],
         "y": [
          0.45414412021636963
         ],
         "z": [
          0.41249746084213257
         ]
        },
        {
         "hovertemplate": "color=stannis<br>0=%{x}<br>1=%{y}<br>2=%{z}<extra></extra>",
         "legendgroup": "stannis",
         "marker": {
          "color": "#EF553B",
          "symbol": "circle"
         },
         "mode": "markers",
         "name": "stannis",
         "scene": "scene",
         "showlegend": true,
         "type": "scatter3d",
         "x": [
          0.41526997089385986
         ],
         "y": [
          0.6194778084754944
         ],
         "z": [
          -0.07641736418008804
         ]
        },
        {
         "hovertemplate": "color=mother<br>0=%{x}<br>1=%{y}<br>2=%{z}<extra></extra>",
         "legendgroup": "mother",
         "marker": {
          "color": "#00cc96",
          "symbol": "circle"
         },
         "mode": "markers",
         "name": "mother",
         "scene": "scene",
         "showlegend": true,
         "type": "scatter3d",
         "x": [
          0.45044785737991333
         ],
         "y": [
          0.48905467987060547
         ],
         "z": [
          0.12379992008209229
         ]
        },
        {
         "hovertemplate": "color=catelyn<br>0=%{x}<br>1=%{y}<br>2=%{z}<extra></extra>",
         "legendgroup": "catelyn",
         "marker": {
          "color": "#ab63fa",
          "symbol": "circle"
         },
         "mode": "markers",
         "name": "catelyn",
         "scene": "scene",
         "showlegend": true,
         "type": "scatter3d",
         "x": [
          0.22133950889110565
         ],
         "y": [
          0.352159321308136
         ],
         "z": [
          0.1922813504934311
         ]
        },
        {
         "hovertemplate": "color=robert<br>0=%{x}<br>1=%{y}<br>2=%{z}<extra></extra>",
         "legendgroup": "robert",
         "marker": {
          "color": "#FFA15A",
          "symbol": "circle"
         },
         "mode": "markers",
         "name": "robert",
         "scene": "scene",
         "showlegend": true,
         "type": "scatter3d",
         "x": [
          0.5294657945632935
         ],
         "y": [
          0.4742180407047272
         ],
         "z": [
          0.03266751393675804
         ]
        },
        {
         "hovertemplate": "color=seemed<br>0=%{x}<br>1=%{y}<br>2=%{z}<extra></extra>",
         "legendgroup": "seemed",
         "marker": {
          "color": "#19d3f3",
          "symbol": "circle"
         },
         "mode": "markers",
         "name": "seemed",
         "scene": "scene",
         "showlegend": true,
         "type": "scatter3d",
         "x": [
          0.045295391231775284
         ],
         "y": [
          0.43995893001556396
         ],
         "z": [
          0.3017693758010864
         ]
        },
        {
         "hovertemplate": "color=prince<br>0=%{x}<br>1=%{y}<br>2=%{z}<extra></extra>",
         "legendgroup": "prince",
         "marker": {
          "color": "#FF6692",
          "symbol": "circle"
         },
         "mode": "markers",
         "name": "prince",
         "scene": "scene",
         "showlegend": true,
         "type": "scatter3d",
         "x": [
          0.5626295208930969
         ],
         "y": [
          0.4384276866912842
         ],
         "z": [
          0.10707876831293106
         ]
        },
        {
         "hovertemplate": "color=may<br>0=%{x}<br>1=%{y}<br>2=%{z}<extra></extra>",
         "legendgroup": "may",
         "marker": {
          "color": "#B6E880",
          "symbol": "circle"
         },
         "mode": "markers",
         "name": "may",
         "scene": "scene",
         "showlegend": true,
         "type": "scatter3d",
         "x": [
          0.5749349594116211
         ],
         "y": [
          0.45479586720466614
         ],
         "z": [
          0.12324878573417664
         ]
        },
        {
         "hovertemplate": "color=ever<br>0=%{x}<br>1=%{y}<br>2=%{z}<extra></extra>",
         "legendgroup": "ever",
         "marker": {
          "color": "#FF97FF",
          "symbol": "circle"
         },
         "mode": "markers",
         "name": "ever",
         "scene": "scene",
         "showlegend": true,
         "type": "scatter3d",
         "x": [
          0.4433337152004242
         ],
         "y": [
          0.5104780197143555
         ],
         "z": [
          0.08823344856500626
         ]
        },
        {
         "hovertemplate": "color=robb<br>0=%{x}<br>1=%{y}<br>2=%{z}<extra></extra>",
         "legendgroup": "robb",
         "marker": {
          "color": "#FECB52",
          "symbol": "circle"
         },
         "mode": "markers",
         "name": "robb",
         "scene": "scene",
         "showlegend": true,
         "type": "scatter3d",
         "x": [
          0.3952503502368927
         ],
         "y": [
          0.4627070128917694
         ],
         "z": [
          0.1700558215379715
         ]
        },
        {
         "hovertemplate": "color=done<br>0=%{x}<br>1=%{y}<br>2=%{z}<extra></extra>",
         "legendgroup": "done",
         "marker": {
          "color": "#636efa",
          "symbol": "circle"
         },
         "mode": "markers",
         "name": "done",
         "scene": "scene",
         "showlegend": true,
         "type": "scatter3d",
         "x": [
          0.48797208070755005
         ],
         "y": [
          0.5814638137817383
         ],
         "z": [
          0.23190224170684814
         ]
        },
        {
         "hovertemplate": "color=don<br>0=%{x}<br>1=%{y}<br>2=%{z}<extra></extra>",
         "legendgroup": "don",
         "marker": {
          "color": "#EF553B",
          "symbol": "circle"
         },
         "mode": "markers",
         "name": "don",
         "scene": "scene",
         "showlegend": true,
         "type": "scatter3d",
         "x": [
          0.46896058320999146
         ],
         "y": [
          0.3185114860534668
         ],
         "z": [
          0.33714011311531067
         ]
        },
        {
         "hovertemplate": "color=find<br>0=%{x}<br>1=%{y}<br>2=%{z}<extra></extra>",
         "legendgroup": "find",
         "marker": {
          "color": "#00cc96",
          "symbol": "circle"
         },
         "mode": "markers",
         "name": "find",
         "scene": "scene",
         "showlegend": true,
         "type": "scatter3d",
         "x": [
          0.3983505368232727
         ],
         "y": [
          0.6145980358123779
         ],
         "z": [
          0.3612426519393921
         ]
        },
        {
         "hovertemplate": "color=lannister<br>0=%{x}<br>1=%{y}<br>2=%{z}<extra></extra>",
         "legendgroup": "lannister",
         "marker": {
          "color": "#ab63fa",
          "symbol": "circle"
         },
         "mode": "markers",
         "name": "lannister",
         "scene": "scene",
         "showlegend": true,
         "type": "scatter3d",
         "x": [
          0.4039647877216339
         ],
         "y": [
          0.4038620591163635
         ],
         "z": [
          0.0594593770802021
         ]
        },
        {
         "hovertemplate": "color=re<br>0=%{x}<br>1=%{y}<br>2=%{z}<extra></extra>",
         "legendgroup": "re",
         "marker": {
          "color": "#FFA15A",
          "symbol": "circle"
         },
         "mode": "markers",
         "name": "re",
         "scene": "scene",
         "showlegend": true,
         "type": "scatter3d",
         "x": [
          0.36858370900154114
         ],
         "y": [
          0.4404321312904358
         ],
         "z": [
          0.25915274024009705
         ]
        },
        {
         "hovertemplate": "color=hear<br>0=%{x}<br>1=%{y}<br>2=%{z}<extra></extra>",
         "legendgroup": "hear",
         "marker": {
          "color": "#19d3f3",
          "symbol": "circle"
         },
         "mode": "markers",
         "name": "hear",
         "scene": "scene",
         "showlegend": true,
         "type": "scatter3d",
         "x": [
          0.1884840428829193
         ],
         "y": [
          0.5151255130767822
         ],
         "z": [
          0.44480830430984497
         ]
        },
        {
         "hovertemplate": "color=grey<br>0=%{x}<br>1=%{y}<br>2=%{z}<extra></extra>",
         "legendgroup": "grey",
         "marker": {
          "color": "#FF6692",
          "symbol": "circle"
         },
         "mode": "markers",
         "name": "grey",
         "scene": "scene",
         "showlegend": true,
         "type": "scatter3d",
         "x": [
          -0.4533112347126007
         ],
         "y": [
          0.263045996427536
         ],
         "z": [
          0.009227912873029709
         ]
        },
        {
         "hovertemplate": "color=name<br>0=%{x}<br>1=%{y}<br>2=%{z}<extra></extra>",
         "legendgroup": "name",
         "marker": {
          "color": "#B6E880",
          "symbol": "circle"
         },
         "mode": "markers",
         "name": "name",
         "scene": "scene",
         "showlegend": true,
         "type": "scatter3d",
         "x": [
          0.5927097797393799
         ],
         "y": [
          0.5735249519348145
         ],
         "z": [
          0.1939261108636856
         ]
        },
        {
         "hovertemplate": "color=horse<br>0=%{x}<br>1=%{y}<br>2=%{z}<extra></extra>",
         "legendgroup": "horse",
         "marker": {
          "color": "#FF97FF",
          "symbol": "circle"
         },
         "mode": "markers",
         "name": "horse",
         "scene": "scene",
         "showlegend": true,
         "type": "scatter3d",
         "x": [
          -0.3429638147354126
         ],
         "y": [
          0.5214144587516785
         ],
         "z": [
          0.3114610016345978
         ]
        },
        {
         "hovertemplate": "color=high<br>0=%{x}<br>1=%{y}<br>2=%{z}<extra></extra>",
         "legendgroup": "high",
         "marker": {
          "color": "#FECB52",
          "symbol": "circle"
         },
         "mode": "markers",
         "name": "high",
         "scene": "scene",
         "showlegend": true,
         "type": "scatter3d",
         "x": [
          -0.14575140178203583
         ],
         "y": [
          0.4975305497646332
         ],
         "z": [
          -0.2194811999797821
         ]
        },
        {
         "hovertemplate": "color=put<br>0=%{x}<br>1=%{y}<br>2=%{z}<extra></extra>",
         "legendgroup": "put",
         "marker": {
          "color": "#636efa",
          "symbol": "circle"
         },
         "mode": "markers",
         "name": "put",
         "scene": "scene",
         "showlegend": true,
         "type": "scatter3d",
         "x": [
          0.2659893035888672
         ],
         "y": [
          0.4892379939556122
         ],
         "z": [
          0.6166069507598877
         ]
        },
        {
         "hovertemplate": "color=stone<br>0=%{x}<br>1=%{y}<br>2=%{z}<extra></extra>",
         "legendgroup": "stone",
         "marker": {
          "color": "#EF553B",
          "symbol": "circle"
         },
         "mode": "markers",
         "name": "stone",
         "scene": "scene",
         "showlegend": true,
         "type": "scatter3d",
         "x": [
          -0.6239102482795715
         ],
         "y": [
          0.5244388580322266
         ],
         "z": [
          -0.16095668077468872
         ]
        },
        {
         "hovertemplate": "color=wine<br>0=%{x}<br>1=%{y}<br>2=%{z}<extra></extra>",
         "legendgroup": "wine",
         "marker": {
          "color": "#00cc96",
          "symbol": "circle"
         },
         "mode": "markers",
         "name": "wine",
         "scene": "scene",
         "showlegend": true,
         "type": "scatter3d",
         "x": [
          -0.074260413646698
         ],
         "y": [
          0.2806451618671417
         ],
         "z": [
          0.33026325702667236
         ]
        },
        {
         "hovertemplate": "color=hard<br>0=%{x}<br>1=%{y}<br>2=%{z}<extra></extra>",
         "legendgroup": "hard",
         "marker": {
          "color": "#ab63fa",
          "symbol": "circle"
         },
         "mode": "markers",
         "name": "hard",
         "scene": "scene",
         "showlegend": true,
         "type": "scatter3d",
         "x": [
          -0.3143302798271179
         ],
         "y": [
          0.3446366488933563
         ],
         "z": [
          0.372371107339859
         ]
        },
        {
         "hovertemplate": "color=water<br>0=%{x}<br>1=%{y}<br>2=%{z}<extra></extra>",
         "legendgroup": "water",
         "marker": {
          "color": "#FFA15A",
          "symbol": "circle"
         },
         "mode": "markers",
         "name": "water",
         "scene": "scene",
         "showlegend": true,
         "type": "scatter3d",
         "x": [
          -0.5486096739768982
         ],
         "y": [
          0.5040711164474487
         ],
         "z": [
          0.2078395038843155
         ]
        },
        {
         "hovertemplate": "color=upon<br>0=%{x}<br>1=%{y}<br>2=%{z}<extra></extra>",
         "legendgroup": "upon",
         "marker": {
          "color": "#19d3f3",
          "symbol": "circle"
         },
         "mode": "markers",
         "name": "upon",
         "scene": "scene",
         "showlegend": true,
         "type": "scatter3d",
         "x": [
          -0.11144951730966568
         ],
         "y": [
          0.4739997684955597
         ],
         "z": [
          0.12666364014148712
         ]
        },
        {
         "hovertemplate": "color=fire<br>0=%{x}<br>1=%{y}<br>2=%{z}<extra></extra>",
         "legendgroup": "fire",
         "marker": {
          "color": "#FF6692",
          "symbol": "circle"
         },
         "mode": "markers",
         "name": "fire",
         "scene": "scene",
         "showlegend": true,
         "type": "scatter3d",
         "x": [
          -0.48534175753593445
         ],
         "y": [
          0.6600684523582458
         ],
         "z": [
          0.01455568615347147
         ]
        },
        {
         "hovertemplate": "color=iron<br>0=%{x}<br>1=%{y}<br>2=%{z}<extra></extra>",
         "legendgroup": "iron",
         "marker": {
          "color": "#B6E880",
          "symbol": "circle"
         },
         "mode": "markers",
         "name": "iron",
         "scene": "scene",
         "showlegend": true,
         "type": "scatter3d",
         "x": [
          -0.17785081267356873
         ],
         "y": [
          0.5367574691772461
         ],
         "z": [
          -0.16316938400268555
         ]
        },
        {
         "hovertemplate": "color=until<br>0=%{x}<br>1=%{y}<br>2=%{z}<extra></extra>",
         "legendgroup": "until",
         "marker": {
          "color": "#FF97FF",
          "symbol": "circle"
         },
         "mode": "markers",
         "name": "until",
         "scene": "scene",
         "showlegend": true,
         "type": "scatter3d",
         "x": [
          -0.10473769903182983
         ],
         "y": [
          0.5853486061096191
         ],
         "z": [
          0.37522539496421814
         ]
        },
        {
         "hovertemplate": "color=these<br>0=%{x}<br>1=%{y}<br>2=%{z}<extra></extra>",
         "legendgroup": "these",
         "marker": {
          "color": "#FECB52",
          "symbol": "circle"
         },
         "mode": "markers",
         "name": "these",
         "scene": "scene",
         "showlegend": true,
         "type": "scatter3d",
         "x": [
          0.42867231369018555
         ],
         "y": [
          0.6141011118888855
         ],
         "z": [
          -0.4252729117870331
         ]
        },
        {
         "hovertemplate": "color=voice<br>0=%{x}<br>1=%{y}<br>2=%{z}<extra></extra>",
         "legendgroup": "voice",
         "marker": {
          "color": "#636efa",
          "symbol": "circle"
         },
         "mode": "markers",
         "name": "voice",
         "scene": "scene",
         "showlegend": true,
         "type": "scatter3d",
         "x": [
          0.020390935242176056
         ],
         "y": [
          0.2949305474758148
         ],
         "z": [
          0.42881351709365845
         ]
        },
        {
         "hovertemplate": "color=gone<br>0=%{x}<br>1=%{y}<br>2=%{z}<extra></extra>",
         "legendgroup": "gone",
         "marker": {
          "color": "#EF553B",
          "symbol": "circle"
         },
         "mode": "markers",
         "name": "gone",
         "scene": "scene",
         "showlegend": true,
         "type": "scatter3d",
         "x": [
          0.05416208133101463
         ],
         "y": [
          0.5835431814193726
         ],
         "z": [
          0.2823754847049713
         ]
        },
        {
         "hovertemplate": "color=give<br>0=%{x}<br>1=%{y}<br>2=%{z}<extra></extra>",
         "legendgroup": "give",
         "marker": {
          "color": "#00cc96",
          "symbol": "circle"
         },
         "mode": "markers",
         "name": "give",
         "scene": "scene",
         "showlegend": true,
         "type": "scatter3d",
         "x": [
          0.6001370549201965
         ],
         "y": [
          0.4685995280742645
         ],
         "z": [
          0.40130937099456787
         ]
        },
        {
         "hovertemplate": "color=sam<br>0=%{x}<br>1=%{y}<br>2=%{z}<extra></extra>",
         "legendgroup": "sam",
         "marker": {
          "color": "#ab63fa",
          "symbol": "circle"
         },
         "mode": "markers",
         "name": "sam",
         "scene": "scene",
         "showlegend": true,
         "type": "scatter3d",
         "x": [
          -0.009094751439988613
         ],
         "y": [
          0.32938578724861145
         ],
         "z": [
          0.3648988902568817
         ]
        },
        {
         "hovertemplate": "color=seen<br>0=%{x}<br>1=%{y}<br>2=%{z}<extra></extra>",
         "legendgroup": "seen",
         "marker": {
          "color": "#FFA15A",
          "symbol": "circle"
         },
         "mode": "markers",
         "name": "seen",
         "scene": "scene",
         "showlegend": true,
         "type": "scatter3d",
         "x": [
          0.1519896686077118
         ],
         "y": [
          0.6017032861709595
         ],
         "z": [
          0.18877176940441132
         ]
        },
        {
         "hovertemplate": "color=better<br>0=%{x}<br>1=%{y}<br>2=%{z}<extra></extra>",
         "legendgroup": "better",
         "marker": {
          "color": "#19d3f3",
          "symbol": "circle"
         },
         "mode": "markers",
         "name": "better",
         "scene": "scene",
         "showlegend": true,
         "type": "scatter3d",
         "x": [
          0.45757240056991577
         ],
         "y": [
          0.4599497616291046
         ],
         "z": [
          0.10112527012825012
         ]
        },
        {
         "hovertemplate": "color=shall<br>0=%{x}<br>1=%{y}<br>2=%{z}<extra></extra>",
         "legendgroup": "shall",
         "marker": {
          "color": "#FF6692",
          "symbol": "circle"
         },
         "mode": "markers",
         "name": "shall",
         "scene": "scene",
         "showlegend": true,
         "type": "scatter3d",
         "x": [
          0.5257814526557922
         ],
         "y": [
          0.5107247233390808
         ],
         "z": [
          0.09761005640029907
         ]
        },
        {
         "hovertemplate": "color=ned<br>0=%{x}<br>1=%{y}<br>2=%{z}<extra></extra>",
         "legendgroup": "ned",
         "marker": {
          "color": "#B6E880",
          "symbol": "circle"
         },
         "mode": "markers",
         "name": "ned",
         "scene": "scene",
         "showlegend": true,
         "type": "scatter3d",
         "x": [
          0.27512049674987793
         ],
         "y": [
          0.34726378321647644
         ],
         "z": [
          0.27536672353744507
         ]
        },
        {
         "hovertemplate": "color=always<br>0=%{x}<br>1=%{y}<br>2=%{z}<extra></extra>",
         "legendgroup": "always",
         "marker": {
          "color": "#FF97FF",
          "symbol": "circle"
         },
         "mode": "markers",
         "name": "always",
         "scene": "scene",
         "showlegend": true,
         "type": "scatter3d",
         "x": [
          0.47172486782073975
         ],
         "y": [
          0.38149160146713257
         ],
         "z": [
          0.10419590771198273
         ]
        },
        {
         "hovertemplate": "color=years<br>0=%{x}<br>1=%{y}<br>2=%{z}<extra></extra>",
         "legendgroup": "years",
         "marker": {
          "color": "#FECB52",
          "symbol": "circle"
         },
         "mode": "markers",
         "name": "years",
         "scene": "scene",
         "showlegend": true,
         "type": "scatter3d",
         "x": [
          0.3230001628398895
         ],
         "y": [
          0.597300112247467
         ],
         "z": [
          -0.16823320090770721
         ]
        },
        {
         "hovertemplate": "color=between<br>0=%{x}<br>1=%{y}<br>2=%{z}<extra></extra>",
         "legendgroup": "between",
         "marker": {
          "color": "#636efa",
          "symbol": "circle"
         },
         "mode": "markers",
         "name": "between",
         "scene": "scene",
         "showlegend": true,
         "type": "scatter3d",
         "x": [
          -0.3930946886539459
         ],
         "y": [
          0.34258803725242615
         ],
         "z": [
          0.25665009021759033
         ]
        },
        {
         "hovertemplate": "color=dark<br>0=%{x}<br>1=%{y}<br>2=%{z}<extra></extra>",
         "legendgroup": "dark",
         "marker": {
          "color": "#EF553B",
          "symbol": "circle"
         },
         "mode": "markers",
         "name": "dark",
         "scene": "scene",
         "showlegend": true,
         "type": "scatter3d",
         "x": [
          -0.49906712770462036
         ],
         "y": [
          0.4295347034931183
         ],
         "z": [
          0.011096392758190632
         ]
        },
        {
         "hovertemplate": "color=place<br>0=%{x}<br>1=%{y}<br>2=%{z}<extra></extra>",
         "legendgroup": "place",
         "marker": {
          "color": "#00cc96",
          "symbol": "circle"
         },
         "mode": "markers",
         "name": "place",
         "scene": "scene",
         "showlegend": true,
         "type": "scatter3d",
         "x": [
          0.18005986511707306
         ],
         "y": [
          0.8136078715324402
         ],
         "z": [
          -0.03395092487335205
         ]
        },
        {
         "hovertemplate": "color=small<br>0=%{x}<br>1=%{y}<br>2=%{z}<extra></extra>",
         "legendgroup": "small",
         "marker": {
          "color": "#ab63fa",
          "symbol": "circle"
         },
         "mode": "markers",
         "name": "small",
         "scene": "scene",
         "showlegend": true,
         "type": "scatter3d",
         "x": [
          -0.23854418098926544
         ],
         "y": [
          0.3401627838611603
         ],
         "z": [
          -0.19358491897583008
         ]
        },
        {
         "hovertemplate": "color=cold<br>0=%{x}<br>1=%{y}<br>2=%{z}<extra></extra>",
         "legendgroup": "cold",
         "marker": {
          "color": "#FFA15A",
          "symbol": "circle"
         },
         "mode": "markers",
         "name": "cold",
         "scene": "scene",
         "showlegend": true,
         "type": "scatter3d",
         "x": [
          -0.3556057810783386
         ],
         "y": [
          0.4610125422477722
         ],
         "z": [
          0.2167281061410904
         ]
        },
        {
         "hovertemplate": "color=winterfell<br>0=%{x}<br>1=%{y}<br>2=%{z}<extra></extra>",
         "legendgroup": "winterfell",
         "marker": {
          "color": "#19d3f3",
          "symbol": "circle"
         },
         "mode": "markers",
         "name": "winterfell",
         "scene": "scene",
         "showlegend": true,
         "type": "scatter3d",
         "x": [
          0.31657472252845764
         ],
         "y": [
          0.7177016139030457
         ],
         "z": [
          -0.05235615372657776
         ]
        },
        {
         "hovertemplate": "color=most<br>0=%{x}<br>1=%{y}<br>2=%{z}<extra></extra>",
         "legendgroup": "most",
         "marker": {
          "color": "#FF6692",
          "symbol": "circle"
         },
         "mode": "markers",
         "name": "most",
         "scene": "scene",
         "showlegend": true,
         "type": "scatter3d",
         "x": [
          0.4488796889781952
         ],
         "y": [
          0.527282178401947
         ],
         "z": [
          -0.31759002804756165
         ]
        },
        {
         "hovertemplate": "color=hundred<br>0=%{x}<br>1=%{y}<br>2=%{z}<extra></extra>",
         "legendgroup": "hundred",
         "marker": {
          "color": "#B6E880",
          "symbol": "circle"
         },
         "mode": "markers",
         "name": "hundred",
         "scene": "scene",
         "showlegend": true,
         "type": "scatter3d",
         "x": [
          -0.007861519232392311
         ],
         "y": [
          0.5861795544624329
         ],
         "z": [
          -0.41357675194740295
         ]
        },
        {
         "hovertemplate": "color=stood<br>0=%{x}<br>1=%{y}<br>2=%{z}<extra></extra>",
         "legendgroup": "stood",
         "marker": {
          "color": "#FF97FF",
          "symbol": "circle"
         },
         "mode": "markers",
         "name": "stood",
         "scene": "scene",
         "showlegend": true,
         "type": "scatter3d",
         "x": [
          -0.27674630284309387
         ],
         "y": [
          0.43062958121299744
         ],
         "z": [
          0.1879063844680786
         ]
        },
        {
         "hovertemplate": "color=end<br>0=%{x}<br>1=%{y}<br>2=%{z}<extra></extra>",
         "legendgroup": "end",
         "marker": {
          "color": "#FECB52",
          "symbol": "circle"
         },
         "mode": "markers",
         "name": "end",
         "scene": "scene",
         "showlegend": true,
         "type": "scatter3d",
         "x": [
          0.09822844713926315
         ],
         "y": [
          0.7704512476921082
         ],
         "z": [
          0.05361204221844673
         ]
        },
        {
         "hovertemplate": "color=sister<br>0=%{x}<br>1=%{y}<br>2=%{z}<extra></extra>",
         "legendgroup": "sister",
         "marker": {
          "color": "#636efa",
          "symbol": "circle"
         },
         "mode": "markers",
         "name": "sister",
         "scene": "scene",
         "showlegend": true,
         "type": "scatter3d",
         "x": [
          0.5905435085296631
         ],
         "y": [
          0.43507102131843567
         ],
         "z": [
          0.22380468249320984
         ]
        },
        {
         "hovertemplate": "color=words<br>0=%{x}<br>1=%{y}<br>2=%{z}<extra></extra>",
         "legendgroup": "words",
         "marker": {
          "color": "#EF553B",
          "symbol": "circle"
         },
         "mode": "markers",
         "name": "words",
         "scene": "scene",
         "showlegend": true,
         "type": "scatter3d",
         "x": [
          0.2819307744503021
         ],
         "y": [
          0.460580438375473
         ],
         "z": [
          0.23018845915794373
         ]
        },
        {
         "hovertemplate": "color=sea<br>0=%{x}<br>1=%{y}<br>2=%{z}<extra></extra>",
         "legendgroup": "sea",
         "marker": {
          "color": "#00cc96",
          "symbol": "circle"
         },
         "mode": "markers",
         "name": "sea",
         "scene": "scene",
         "showlegend": true,
         "type": "scatter3d",
         "x": [
          -0.0962754637002945
         ],
         "y": [
          0.7897370457649231
         ],
         "z": [
          -0.314924955368042
         ]
        },
        {
         "hovertemplate": "color=right<br>0=%{x}<br>1=%{y}<br>2=%{z}<extra></extra>",
         "legendgroup": "right",
         "marker": {
          "color": "#ab63fa",
          "symbol": "circle"
         },
         "mode": "markers",
         "name": "right",
         "scene": "scene",
         "showlegend": true,
         "type": "scatter3d",
         "x": [
          -0.09956003725528717
         ],
         "y": [
          0.5289309620857239
         ],
         "z": [
          0.3945164084434509
         ]
        },
        {
         "hovertemplate": "color=nothing<br>0=%{x}<br>1=%{y}<br>2=%{z}<extra></extra>",
         "legendgroup": "nothing",
         "marker": {
          "color": "#FFA15A",
          "symbol": "circle"
         },
         "mode": "markers",
         "name": "nothing",
         "scene": "scene",
         "showlegend": true,
         "type": "scatter3d",
         "x": [
          0.258526086807251
         ],
         "y": [
          0.5091918110847473
         ],
         "z": [
          0.09276488423347473
         ]
        },
        {
         "hovertemplate": "color=walls<br>0=%{x}<br>1=%{y}<br>2=%{z}<extra></extra>",
         "legendgroup": "walls",
         "marker": {
          "color": "#19d3f3",
          "symbol": "circle"
         },
         "mode": "markers",
         "name": "walls",
         "scene": "scene",
         "showlegend": true,
         "type": "scatter3d",
         "x": [
          -0.4101944863796234
         ],
         "y": [
          0.7495689392089844
         ],
         "z": [
          -0.33356568217277527
         ]
        },
        {
         "hovertemplate": "color=fingers<br>0=%{x}<br>1=%{y}<br>2=%{z}<extra></extra>",
         "legendgroup": "fingers",
         "marker": {
          "color": "#FF6692",
          "symbol": "circle"
         },
         "mode": "markers",
         "name": "fingers",
         "scene": "scene",
         "showlegend": true,
         "type": "scatter3d",
         "x": [
          -0.46748459339141846
         ],
         "y": [
          0.36552807688713074
         ],
         "z": [
          0.49274885654449463
         ]
        },
        {
         "hovertemplate": "color=same<br>0=%{x}<br>1=%{y}<br>2=%{z}<extra></extra>",
         "legendgroup": "same",
         "marker": {
          "color": "#B6E880",
          "symbol": "circle"
         },
         "mode": "markers",
         "name": "same",
         "scene": "scene",
         "showlegend": true,
         "type": "scatter3d",
         "x": [
          0.24718619883060455
         ],
         "y": [
          0.5038642883300781
         ],
         "z": [
          0.15142469108104706
         ]
        },
        {
         "hovertemplate": "color=cloak<br>0=%{x}<br>1=%{y}<br>2=%{z}<extra></extra>",
         "legendgroup": "cloak",
         "marker": {
          "color": "#FF97FF",
          "symbol": "circle"
         },
         "mode": "markers",
         "name": "cloak",
         "scene": "scene",
         "showlegend": true,
         "type": "scatter3d",
         "x": [
          -0.4063800275325775
         ],
         "y": [
          0.3167972266674042
         ],
         "z": [
          0.3216697871685028
         ]
        },
        {
         "hovertemplate": "color=house<br>0=%{x}<br>1=%{y}<br>2=%{z}<extra></extra>",
         "legendgroup": "house",
         "marker": {
          "color": "#FECB52",
          "symbol": "circle"
         },
         "mode": "markers",
         "name": "house",
         "scene": "scene",
         "showlegend": true,
         "type": "scatter3d",
         "x": [
          0.31031233072280884
         ],
         "y": [
          0.43891674280166626
         ],
         "z": [
          -0.20833605527877808
         ]
        },
        {
         "hovertemplate": "color=young<br>0=%{x}<br>1=%{y}<br>2=%{z}<extra></extra>",
         "legendgroup": "young",
         "marker": {
          "color": "#636efa",
          "symbol": "circle"
         },
         "mode": "markers",
         "name": "young",
         "scene": "scene",
         "showlegend": true,
         "type": "scatter3d",
         "x": [
          0.44811713695526123
         ],
         "y": [
          0.28828346729278564
         ],
         "z": [
          0.009036943316459656
         ]
        },
        {
         "hovertemplate": "color=does<br>0=%{x}<br>1=%{y}<br>2=%{z}<extra></extra>",
         "legendgroup": "does",
         "marker": {
          "color": "#EF553B",
          "symbol": "circle"
         },
         "mode": "markers",
         "name": "does",
         "scene": "scene",
         "showlegend": true,
         "type": "scatter3d",
         "x": [
          0.6626009345054626
         ],
         "y": [
          0.3472043573856354
         ],
         "z": [
          0.2694403827190399
         ]
        },
        {
         "hovertemplate": "color=beside<br>0=%{x}<br>1=%{y}<br>2=%{z}<extra></extra>",
         "legendgroup": "beside",
         "marker": {
          "color": "#00cc96",
          "symbol": "circle"
         },
         "mode": "markers",
         "name": "beside",
         "scene": "scene",
         "showlegend": true,
         "type": "scatter3d",
         "x": [
          -0.24142394959926605
         ],
         "y": [
          0.3956521153450012
         ],
         "z": [
          0.42817381024360657
         ]
        },
        {
         "hovertemplate": "color=get<br>0=%{x}<br>1=%{y}<br>2=%{z}<extra></extra>",
         "legendgroup": "get",
         "marker": {
          "color": "#ab63fa",
          "symbol": "circle"
         },
         "mode": "markers",
         "name": "get",
         "scene": "scene",
         "showlegend": true,
         "type": "scatter3d",
         "x": [
          0.21638864278793335
         ],
         "y": [
          0.6079672574996948
         ],
         "z": [
          0.46291089057922363
         ]
        },
        {
         "hovertemplate": "color=mouth<br>0=%{x}<br>1=%{y}<br>2=%{z}<extra></extra>",
         "legendgroup": "mouth",
         "marker": {
          "color": "#FFA15A",
          "symbol": "circle"
         },
         "mode": "markers",
         "name": "mouth",
         "scene": "scene",
         "showlegend": true,
         "type": "scatter3d",
         "x": [
          -0.3239922523498535
         ],
         "y": [
          0.3140212595462799
         ],
         "z": [
          0.5519809722900391
         ]
        },
        {
         "hovertemplate": "color=seven<br>0=%{x}<br>1=%{y}<br>2=%{z}<extra></extra>",
         "legendgroup": "seven",
         "marker": {
          "color": "#19d3f3",
          "symbol": "circle"
         },
         "mode": "markers",
         "name": "seven",
         "scene": "scene",
         "showlegend": true,
         "type": "scatter3d",
         "x": [
          0.34040367603302
         ],
         "y": [
          0.7062219381332397
         ],
         "z": [
          -0.5255305767059326
         ]
        },
        {
         "hovertemplate": "color=watch<br>0=%{x}<br>1=%{y}<br>2=%{z}<extra></extra>",
         "legendgroup": "watch",
         "marker": {
          "color": "#FF6692",
          "symbol": "circle"
         },
         "mode": "markers",
         "name": "watch",
         "scene": "scene",
         "showlegend": true,
         "type": "scatter3d",
         "x": [
          0.32526102662086487
         ],
         "y": [
          0.6361280679702759
         ],
         "z": [
          -0.06159224733710289
         ]
        },
        {
         "hovertemplate": "color=door<br>0=%{x}<br>1=%{y}<br>2=%{z}<extra></extra>",
         "legendgroup": "door",
         "marker": {
          "color": "#B6E880",
          "symbol": "circle"
         },
         "mode": "markers",
         "name": "door",
         "scene": "scene",
         "showlegend": true,
         "type": "scatter3d",
         "x": [
          -0.4267137944698334
         ],
         "y": [
          0.5531022548675537
         ],
         "z": [
          0.3599453270435333
         ]
        },
        {
         "hovertemplate": "color=joffrey<br>0=%{x}<br>1=%{y}<br>2=%{z}<extra></extra>",
         "legendgroup": "joffrey",
         "marker": {
          "color": "#FF97FF",
          "symbol": "circle"
         },
         "mode": "markers",
         "name": "joffrey",
         "scene": "scene",
         "showlegend": true,
         "type": "scatter3d",
         "x": [
          0.5069655179977417
         ],
         "y": [
          0.39305731654167175
         ],
         "z": [
          0.21312592923641205
         ]
        },
        {
         "hovertemplate": "color=green<br>0=%{x}<br>1=%{y}<br>2=%{z}<extra></extra>",
         "legendgroup": "green",
         "marker": {
          "color": "#FECB52",
          "symbol": "circle"
         },
         "mode": "markers",
         "name": "green",
         "scene": "scene",
         "showlegend": true,
         "type": "scatter3d",
         "x": [
          -0.43409591913223267
         ],
         "y": [
          0.2715490758419037
         ],
         "z": [
          -0.15114334225654602
         ]
        },
        {
         "hovertemplate": "color=big<br>0=%{x}<br>1=%{y}<br>2=%{z}<extra></extra>",
         "legendgroup": "big",
         "marker": {
          "color": "#636efa",
          "symbol": "circle"
         },
         "mode": "markers",
         "name": "big",
         "scene": "scene",
         "showlegend": true,
         "type": "scatter3d",
         "x": [
          -0.2141420990228653
         ],
         "y": [
          0.15761461853981018
         ],
         "z": [
          0.20454585552215576
         ]
        },
        {
         "hovertemplate": "color=under<br>0=%{x}<br>1=%{y}<br>2=%{z}<extra></extra>",
         "legendgroup": "under",
         "marker": {
          "color": "#EF553B",
          "symbol": "circle"
         },
         "mode": "markers",
         "name": "under",
         "scene": "scene",
         "showlegend": true,
         "type": "scatter3d",
         "x": [
          -0.524914026260376
         ],
         "y": [
          0.2957165241241455
         ],
         "z": [
          0.2936840355396271
         ]
        },
        {
         "hovertemplate": "color=few<br>0=%{x}<br>1=%{y}<br>2=%{z}<extra></extra>",
         "legendgroup": "few",
         "marker": {
          "color": "#00cc96",
          "symbol": "circle"
         },
         "mode": "markers",
         "name": "few",
         "scene": "scene",
         "showlegend": true,
         "type": "scatter3d",
         "x": [
          0.011452602222561836
         ],
         "y": [
          0.5709527134895325
         ],
         "z": [
          -0.23916541039943695
         ]
        },
        {
         "hovertemplate": "color=sent<br>0=%{x}<br>1=%{y}<br>2=%{z}<extra></extra>",
         "legendgroup": "sent",
         "marker": {
          "color": "#ab63fa",
          "symbol": "circle"
         },
         "mode": "markers",
         "name": "sent",
         "scene": "scene",
         "showlegend": true,
         "type": "scatter3d",
         "x": [
          0.26944947242736816
         ],
         "y": [
          0.5250958204269409
         ],
         "z": [
          0.42155683040618896
         ]
        },
        {
         "hovertemplate": "color=perhaps<br>0=%{x}<br>1=%{y}<br>2=%{z}<extra></extra>",
         "legendgroup": "perhaps",
         "marker": {
          "color": "#FFA15A",
          "symbol": "circle"
         },
         "mode": "markers",
         "name": "perhaps",
         "scene": "scene",
         "showlegend": true,
         "type": "scatter3d",
         "x": [
          0.7141817212104797
         ],
         "y": [
          0.49779102206230164
         ],
         "z": [
          0.11449525505304337
         ]
        },
        {
         "hovertemplate": "color=almost<br>0=%{x}<br>1=%{y}<br>2=%{z}<extra></extra>",
         "legendgroup": "almost",
         "marker": {
          "color": "#19d3f3",
          "symbol": "circle"
         },
         "mode": "markers",
         "name": "almost",
         "scene": "scene",
         "showlegend": true,
         "type": "scatter3d",
         "x": [
          -0.19092436134815216
         ],
         "y": [
          0.3603456914424896
         ],
         "z": [
          0.46305736899375916
         ]
        },
        {
         "hovertemplate": "color=such<br>0=%{x}<br>1=%{y}<br>2=%{z}<extra></extra>",
         "legendgroup": "such",
         "marker": {
          "color": "#FF6692",
          "symbol": "circle"
         },
         "mode": "markers",
         "name": "such",
         "scene": "scene",
         "showlegend": true,
         "type": "scatter3d",
         "x": [
          0.6638621687889099
         ],
         "y": [
          0.4099676012992859
         ],
         "z": [
          -0.13479562103748322
         ]
        },
        {
         "hovertemplate": "color=wanted<br>0=%{x}<br>1=%{y}<br>2=%{z}<extra></extra>",
         "legendgroup": "wanted",
         "marker": {
          "color": "#B6E880",
          "symbol": "circle"
         },
         "mode": "markers",
         "name": "wanted",
         "scene": "scene",
         "showlegend": true,
         "type": "scatter3d",
         "x": [
          0.48976731300354004
         ],
         "y": [
          0.43502599000930786
         ],
         "z": [
          0.5466716885566711
         ]
        },
        {
         "hovertemplate": "color=daughter<br>0=%{x}<br>1=%{y}<br>2=%{z}<extra></extra>",
         "legendgroup": "daughter",
         "marker": {
          "color": "#FF97FF",
          "symbol": "circle"
         },
         "mode": "markers",
         "name": "daughter",
         "scene": "scene",
         "showlegend": true,
         "type": "scatter3d",
         "x": [
          0.537524938583374
         ],
         "y": [
          0.3102300465106964
         ],
         "z": [
          0.03401438146829605
         ]
        },
        {
         "hovertemplate": "color=true<br>0=%{x}<br>1=%{y}<br>2=%{z}<extra></extra>",
         "legendgroup": "true",
         "marker": {
          "color": "#FECB52",
          "symbol": "circle"
         },
         "mode": "markers",
         "name": "true",
         "scene": "scene",
         "showlegend": true,
         "type": "scatter3d",
         "x": [
          0.7250155210494995
         ],
         "y": [
          0.41983819007873535
         ],
         "z": [
          -0.05891571566462517
         ]
        },
        {
         "hovertemplate": "color=while<br>0=%{x}<br>1=%{y}<br>2=%{z}<extra></extra>",
         "legendgroup": "while",
         "marker": {
          "color": "#636efa",
          "symbol": "circle"
         },
         "mode": "markers",
         "name": "while",
         "scene": "scene",
         "showlegend": true,
         "type": "scatter3d",
         "x": [
          -0.3423056900501251
         ],
         "y": [
          0.5049072504043579
         ],
         "z": [
          0.18914170563220978
         ]
        },
        {
         "hovertemplate": "color=leave<br>0=%{x}<br>1=%{y}<br>2=%{z}<extra></extra>",
         "legendgroup": "leave",
         "marker": {
          "color": "#EF553B",
          "symbol": "circle"
         },
         "mode": "markers",
         "name": "leave",
         "scene": "scene",
         "showlegend": true,
         "type": "scatter3d",
         "x": [
          0.4726316034793854
         ],
         "y": [
          0.6423763036727905
         ],
         "z": [
          0.3523658812046051
         ]
        },
        {
         "hovertemplate": "color=city<br>0=%{x}<br>1=%{y}<br>2=%{z}<extra></extra>",
         "legendgroup": "city",
         "marker": {
          "color": "#00cc96",
          "symbol": "circle"
         },
         "mode": "markers",
         "name": "city",
         "scene": "scene",
         "showlegend": true,
         "type": "scatter3d",
         "x": [
          0.1363227665424347
         ],
         "y": [
          0.8225624561309814
         ],
         "z": [
          -0.39860740303993225
         ]
        },
        {
         "hovertemplate": "color=wind<br>0=%{x}<br>1=%{y}<br>2=%{z}<extra></extra>",
         "legendgroup": "wind",
         "marker": {
          "color": "#ab63fa",
          "symbol": "circle"
         },
         "mode": "markers",
         "name": "wind",
         "scene": "scene",
         "showlegend": true,
         "type": "scatter3d",
         "x": [
          -0.5771604180335999
         ],
         "y": [
          0.5397119522094727
         ],
         "z": [
          0.10372938215732574
         ]
        },
        {
         "hovertemplate": "color=light<br>0=%{x}<br>1=%{y}<br>2=%{z}<extra></extra>",
         "legendgroup": "light",
         "marker": {
          "color": "#FFA15A",
          "symbol": "circle"
         },
         "mode": "markers",
         "name": "light",
         "scene": "scene",
         "showlegend": true,
         "type": "scatter3d",
         "x": [
          -0.4006395637989044
         ],
         "y": [
          0.6156688928604126
         ],
         "z": [
          0.048766691237688065
         ]
        },
        {
         "hovertemplate": "color=arms<br>0=%{x}<br>1=%{y}<br>2=%{z}<extra></extra>",
         "legendgroup": "arms",
         "marker": {
          "color": "#19d3f3",
          "symbol": "circle"
         },
         "mode": "markers",
         "name": "arms",
         "scene": "scene",
         "showlegend": true,
         "type": "scatter3d",
         "x": [
          -0.18501326441764832
         ],
         "y": [
          0.3943074643611908
         ],
         "z": [
          0.251581072807312
         ]
        },
        {
         "hovertemplate": "color=children<br>0=%{x}<br>1=%{y}<br>2=%{z}<extra></extra>",
         "legendgroup": "children",
         "marker": {
          "color": "#FF6692",
          "symbol": "circle"
         },
         "mode": "markers",
         "name": "children",
         "scene": "scene",
         "showlegend": true,
         "type": "scatter3d",
         "x": [
          0.3735736012458801
         ],
         "y": [
          0.6519518494606018
         ],
         "z": [
          -0.31018996238708496
         ]
        },
        {
         "hovertemplate": "color=herself<br>0=%{x}<br>1=%{y}<br>2=%{z}<extra></extra>",
         "legendgroup": "herself",
         "marker": {
          "color": "#B6E880",
          "symbol": "circle"
         },
         "mode": "markers",
         "name": "herself",
         "scene": "scene",
         "showlegend": true,
         "type": "scatter3d",
         "x": [
          0.08539844304323196
         ],
         "y": [
          0.3654889762401581
         ],
         "z": [
          0.35675856471061707
         ]
        },
        {
         "hovertemplate": "color=sweet<br>0=%{x}<br>1=%{y}<br>2=%{z}<extra></extra>",
         "legendgroup": "sweet",
         "marker": {
          "color": "#FF97FF",
          "symbol": "circle"
         },
         "mode": "markers",
         "name": "sweet",
         "scene": "scene",
         "showlegend": true,
         "type": "scatter3d",
         "x": [
          0.4412809908390045
         ],
         "y": [
          0.19230681657791138
         ],
         "z": [
          0.28322750329971313
         ]
        },
        {
         "hovertemplate": "color=others<br>0=%{x}<br>1=%{y}<br>2=%{z}<extra></extra>",
         "legendgroup": "others",
         "marker": {
          "color": "#FECB52",
          "symbol": "circle"
         },
         "mode": "markers",
         "name": "others",
         "scene": "scene",
         "showlegend": true,
         "type": "scatter3d",
         "x": [
          0.013620967976748943
         ],
         "y": [
          0.6142485737800598
         ],
         "z": [
          -0.17302633821964264
         ]
        },
        {
         "hovertemplate": "color=lost<br>0=%{x}<br>1=%{y}<br>2=%{z}<extra></extra>",
         "legendgroup": "lost",
         "marker": {
          "color": "#636efa",
          "symbol": "circle"
         },
         "mode": "markers",
         "name": "lost",
         "scene": "scene",
         "showlegend": true,
         "type": "scatter3d",
         "x": [
          0.253563791513443
         ],
         "y": [
          0.5296459197998047
         ],
         "z": [
          0.1922106295824051
         ]
        },
        {
         "hovertemplate": "color=theon<br>0=%{x}<br>1=%{y}<br>2=%{z}<extra></extra>",
         "legendgroup": "theon",
         "marker": {
          "color": "#EF553B",
          "symbol": "circle"
         },
         "mode": "markers",
         "name": "theon",
         "scene": "scene",
         "showlegend": true,
         "type": "scatter3d",
         "x": [
          0.23891642689704895
         ],
         "y": [
          0.32894906401634216
         ],
         "z": [
          0.26019784808158875
         ]
        },
        {
         "hovertemplate": "color=each<br>0=%{x}<br>1=%{y}<br>2=%{z}<extra></extra>",
         "legendgroup": "each",
         "marker": {
          "color": "#00cc96",
          "symbol": "circle"
         },
         "mode": "markers",
         "name": "each",
         "scene": "scene",
         "showlegend": true,
         "type": "scatter3d",
         "x": [
          -0.21966810524463654
         ],
         "y": [
          0.533362627029419
         ],
         "z": [
          -0.051881350576877594
         ]
        },
        {
         "hovertemplate": "color=felt<br>0=%{x}<br>1=%{y}<br>2=%{z}<extra></extra>",
         "legendgroup": "felt",
         "marker": {
          "color": "#ab63fa",
          "symbol": "circle"
         },
         "mode": "markers",
         "name": "felt",
         "scene": "scene",
         "showlegend": true,
         "type": "scatter3d",
         "x": [
          -0.12624181807041168
         ],
         "y": [
          0.28501054644584656
         ],
         "z": [
          0.6445780992507935
         ]
        },
        {
         "hovertemplate": "color=side<br>0=%{x}<br>1=%{y}<br>2=%{z}<extra></extra>",
         "legendgroup": "side",
         "marker": {
          "color": "#FFA15A",
          "symbol": "circle"
         },
         "mode": "markers",
         "name": "side",
         "scene": "scene",
         "showlegend": true,
         "type": "scatter3d",
         "x": [
          -0.2636221945285797
         ],
         "y": [
          0.6947879791259766
         ],
         "z": [
          0.17532142996788025
         ]
        },
        {
         "hovertemplate": "color=yes<br>0=%{x}<br>1=%{y}<br>2=%{z}<extra></extra>",
         "legendgroup": "yes",
         "marker": {
          "color": "#19d3f3",
          "symbol": "circle"
         },
         "mode": "markers",
         "name": "yes",
         "scene": "scene",
         "showlegend": true,
         "type": "scatter3d",
         "x": [
          0.7309871315956116
         ],
         "y": [
          0.24705418944358826
         ],
         "z": [
          0.2499656230211258
         ]
        },
        {
         "hovertemplate": "color=brothers<br>0=%{x}<br>1=%{y}<br>2=%{z}<extra></extra>",
         "legendgroup": "brothers",
         "marker": {
          "color": "#FF6692",
          "symbol": "circle"
         },
         "mode": "markers",
         "name": "brothers",
         "scene": "scene",
         "showlegend": true,
         "type": "scatter3d",
         "x": [
          0.2995332181453705
         ],
         "y": [
          0.681119978427887
         ],
         "z": [
          -0.15247401595115662
         ]
        },
        {
         "hovertemplate": "color=best<br>0=%{x}<br>1=%{y}<br>2=%{z}<extra></extra>",
         "legendgroup": "best",
         "marker": {
          "color": "#B6E880",
          "symbol": "circle"
         },
         "mode": "markers",
         "name": "best",
         "scene": "scene",
         "showlegend": true,
         "type": "scatter3d",
         "x": [
          0.5619794726371765
         ],
         "y": [
          0.6195494532585144
         ],
         "z": [
          0.12121360749006271
         ]
        },
        {
         "hovertemplate": "color=very<br>0=%{x}<br>1=%{y}<br>2=%{z}<extra></extra>",
         "legendgroup": "very",
         "marker": {
          "color": "#FF97FF",
          "symbol": "circle"
         },
         "mode": "markers",
         "name": "very",
         "scene": "scene",
         "showlegend": true,
         "type": "scatter3d",
         "x": [
          0.3612252175807953
         ],
         "y": [
          0.3356035053730011
         ],
         "z": [
          0.10827953368425369
         ]
        },
        {
         "hovertemplate": "color=die<br>0=%{x}<br>1=%{y}<br>2=%{z}<extra></extra>",
         "legendgroup": "die",
         "marker": {
          "color": "#FECB52",
          "symbol": "circle"
         },
         "mode": "markers",
         "name": "die",
         "scene": "scene",
         "showlegend": true,
         "type": "scatter3d",
         "x": [
          0.4962563216686249
         ],
         "y": [
          0.6601674556732178
         ],
         "z": [
          0.17599819600582123
         ]
        }
       ],
       "layout": {
        "legend": {
         "title": {
          "text": "color"
         },
         "tracegroupgap": 0
        },
        "margin": {
         "t": 60
        },
        "scene": {
         "domain": {
          "x": [
           0,
           1
          ],
          "y": [
           0,
           1
          ]
         },
         "xaxis": {
          "title": {
           "text": "0"
          }
         },
         "yaxis": {
          "title": {
           "text": "1"
          }
         },
         "zaxis": {
          "title": {
           "text": "2"
          }
         }
        },
        "template": {
         "data": {
          "bar": [
           {
            "error_x": {
             "color": "#2a3f5f"
            },
            "error_y": {
             "color": "#2a3f5f"
            },
            "marker": {
             "line": {
              "color": "#E5ECF6",
              "width": 0.5
             },
             "pattern": {
              "fillmode": "overlay",
              "size": 10,
              "solidity": 0.2
             }
            },
            "type": "bar"
           }
          ],
          "barpolar": [
           {
            "marker": {
             "line": {
              "color": "#E5ECF6",
              "width": 0.5
             },
             "pattern": {
              "fillmode": "overlay",
              "size": 10,
              "solidity": 0.2
             }
            },
            "type": "barpolar"
           }
          ],
          "carpet": [
           {
            "aaxis": {
             "endlinecolor": "#2a3f5f",
             "gridcolor": "white",
             "linecolor": "white",
             "minorgridcolor": "white",
             "startlinecolor": "#2a3f5f"
            },
            "baxis": {
             "endlinecolor": "#2a3f5f",
             "gridcolor": "white",
             "linecolor": "white",
             "minorgridcolor": "white",
             "startlinecolor": "#2a3f5f"
            },
            "type": "carpet"
           }
          ],
          "choropleth": [
           {
            "colorbar": {
             "outlinewidth": 0,
             "ticks": ""
            },
            "type": "choropleth"
           }
          ],
          "contour": [
           {
            "colorbar": {
             "outlinewidth": 0,
             "ticks": ""
            },
            "colorscale": [
             [
              0,
              "#0d0887"
             ],
             [
              0.1111111111111111,
              "#46039f"
             ],
             [
              0.2222222222222222,
              "#7201a8"
             ],
             [
              0.3333333333333333,
              "#9c179e"
             ],
             [
              0.4444444444444444,
              "#bd3786"
             ],
             [
              0.5555555555555556,
              "#d8576b"
             ],
             [
              0.6666666666666666,
              "#ed7953"
             ],
             [
              0.7777777777777778,
              "#fb9f3a"
             ],
             [
              0.8888888888888888,
              "#fdca26"
             ],
             [
              1,
              "#f0f921"
             ]
            ],
            "type": "contour"
           }
          ],
          "contourcarpet": [
           {
            "colorbar": {
             "outlinewidth": 0,
             "ticks": ""
            },
            "type": "contourcarpet"
           }
          ],
          "heatmap": [
           {
            "colorbar": {
             "outlinewidth": 0,
             "ticks": ""
            },
            "colorscale": [
             [
              0,
              "#0d0887"
             ],
             [
              0.1111111111111111,
              "#46039f"
             ],
             [
              0.2222222222222222,
              "#7201a8"
             ],
             [
              0.3333333333333333,
              "#9c179e"
             ],
             [
              0.4444444444444444,
              "#bd3786"
             ],
             [
              0.5555555555555556,
              "#d8576b"
             ],
             [
              0.6666666666666666,
              "#ed7953"
             ],
             [
              0.7777777777777778,
              "#fb9f3a"
             ],
             [
              0.8888888888888888,
              "#fdca26"
             ],
             [
              1,
              "#f0f921"
             ]
            ],
            "type": "heatmap"
           }
          ],
          "heatmapgl": [
           {
            "colorbar": {
             "outlinewidth": 0,
             "ticks": ""
            },
            "colorscale": [
             [
              0,
              "#0d0887"
             ],
             [
              0.1111111111111111,
              "#46039f"
             ],
             [
              0.2222222222222222,
              "#7201a8"
             ],
             [
              0.3333333333333333,
              "#9c179e"
             ],
             [
              0.4444444444444444,
              "#bd3786"
             ],
             [
              0.5555555555555556,
              "#d8576b"
             ],
             [
              0.6666666666666666,
              "#ed7953"
             ],
             [
              0.7777777777777778,
              "#fb9f3a"
             ],
             [
              0.8888888888888888,
              "#fdca26"
             ],
             [
              1,
              "#f0f921"
             ]
            ],
            "type": "heatmapgl"
           }
          ],
          "histogram": [
           {
            "marker": {
             "pattern": {
              "fillmode": "overlay",
              "size": 10,
              "solidity": 0.2
             }
            },
            "type": "histogram"
           }
          ],
          "histogram2d": [
           {
            "colorbar": {
             "outlinewidth": 0,
             "ticks": ""
            },
            "colorscale": [
             [
              0,
              "#0d0887"
             ],
             [
              0.1111111111111111,
              "#46039f"
             ],
             [
              0.2222222222222222,
              "#7201a8"
             ],
             [
              0.3333333333333333,
              "#9c179e"
             ],
             [
              0.4444444444444444,
              "#bd3786"
             ],
             [
              0.5555555555555556,
              "#d8576b"
             ],
             [
              0.6666666666666666,
              "#ed7953"
             ],
             [
              0.7777777777777778,
              "#fb9f3a"
             ],
             [
              0.8888888888888888,
              "#fdca26"
             ],
             [
              1,
              "#f0f921"
             ]
            ],
            "type": "histogram2d"
           }
          ],
          "histogram2dcontour": [
           {
            "colorbar": {
             "outlinewidth": 0,
             "ticks": ""
            },
            "colorscale": [
             [
              0,
              "#0d0887"
             ],
             [
              0.1111111111111111,
              "#46039f"
             ],
             [
              0.2222222222222222,
              "#7201a8"
             ],
             [
              0.3333333333333333,
              "#9c179e"
             ],
             [
              0.4444444444444444,
              "#bd3786"
             ],
             [
              0.5555555555555556,
              "#d8576b"
             ],
             [
              0.6666666666666666,
              "#ed7953"
             ],
             [
              0.7777777777777778,
              "#fb9f3a"
             ],
             [
              0.8888888888888888,
              "#fdca26"
             ],
             [
              1,
              "#f0f921"
             ]
            ],
            "type": "histogram2dcontour"
           }
          ],
          "mesh3d": [
           {
            "colorbar": {
             "outlinewidth": 0,
             "ticks": ""
            },
            "type": "mesh3d"
           }
          ],
          "parcoords": [
           {
            "line": {
             "colorbar": {
              "outlinewidth": 0,
              "ticks": ""
             }
            },
            "type": "parcoords"
           }
          ],
          "pie": [
           {
            "automargin": true,
            "type": "pie"
           }
          ],
          "scatter": [
           {
            "fillpattern": {
             "fillmode": "overlay",
             "size": 10,
             "solidity": 0.2
            },
            "type": "scatter"
           }
          ],
          "scatter3d": [
           {
            "line": {
             "colorbar": {
              "outlinewidth": 0,
              "ticks": ""
             }
            },
            "marker": {
             "colorbar": {
              "outlinewidth": 0,
              "ticks": ""
             }
            },
            "type": "scatter3d"
           }
          ],
          "scattercarpet": [
           {
            "marker": {
             "colorbar": {
              "outlinewidth": 0,
              "ticks": ""
             }
            },
            "type": "scattercarpet"
           }
          ],
          "scattergeo": [
           {
            "marker": {
             "colorbar": {
              "outlinewidth": 0,
              "ticks": ""
             }
            },
            "type": "scattergeo"
           }
          ],
          "scattergl": [
           {
            "marker": {
             "colorbar": {
              "outlinewidth": 0,
              "ticks": ""
             }
            },
            "type": "scattergl"
           }
          ],
          "scattermapbox": [
           {
            "marker": {
             "colorbar": {
              "outlinewidth": 0,
              "ticks": ""
             }
            },
            "type": "scattermapbox"
           }
          ],
          "scatterpolar": [
           {
            "marker": {
             "colorbar": {
              "outlinewidth": 0,
              "ticks": ""
             }
            },
            "type": "scatterpolar"
           }
          ],
          "scatterpolargl": [
           {
            "marker": {
             "colorbar": {
              "outlinewidth": 0,
              "ticks": ""
             }
            },
            "type": "scatterpolargl"
           }
          ],
          "scatterternary": [
           {
            "marker": {
             "colorbar": {
              "outlinewidth": 0,
              "ticks": ""
             }
            },
            "type": "scatterternary"
           }
          ],
          "surface": [
           {
            "colorbar": {
             "outlinewidth": 0,
             "ticks": ""
            },
            "colorscale": [
             [
              0,
              "#0d0887"
             ],
             [
              0.1111111111111111,
              "#46039f"
             ],
             [
              0.2222222222222222,
              "#7201a8"
             ],
             [
              0.3333333333333333,
              "#9c179e"
             ],
             [
              0.4444444444444444,
              "#bd3786"
             ],
             [
              0.5555555555555556,
              "#d8576b"
             ],
             [
              0.6666666666666666,
              "#ed7953"
             ],
             [
              0.7777777777777778,
              "#fb9f3a"
             ],
             [
              0.8888888888888888,
              "#fdca26"
             ],
             [
              1,
              "#f0f921"
             ]
            ],
            "type": "surface"
           }
          ],
          "table": [
           {
            "cells": {
             "fill": {
              "color": "#EBF0F8"
             },
             "line": {
              "color": "white"
             }
            },
            "header": {
             "fill": {
              "color": "#C8D4E3"
             },
             "line": {
              "color": "white"
             }
            },
            "type": "table"
           }
          ]
         },
         "layout": {
          "annotationdefaults": {
           "arrowcolor": "#2a3f5f",
           "arrowhead": 0,
           "arrowwidth": 1
          },
          "autotypenumbers": "strict",
          "coloraxis": {
           "colorbar": {
            "outlinewidth": 0,
            "ticks": ""
           }
          },
          "colorscale": {
           "diverging": [
            [
             0,
             "#8e0152"
            ],
            [
             0.1,
             "#c51b7d"
            ],
            [
             0.2,
             "#de77ae"
            ],
            [
             0.3,
             "#f1b6da"
            ],
            [
             0.4,
             "#fde0ef"
            ],
            [
             0.5,
             "#f7f7f7"
            ],
            [
             0.6,
             "#e6f5d0"
            ],
            [
             0.7,
             "#b8e186"
            ],
            [
             0.8,
             "#7fbc41"
            ],
            [
             0.9,
             "#4d9221"
            ],
            [
             1,
             "#276419"
            ]
           ],
           "sequential": [
            [
             0,
             "#0d0887"
            ],
            [
             0.1111111111111111,
             "#46039f"
            ],
            [
             0.2222222222222222,
             "#7201a8"
            ],
            [
             0.3333333333333333,
             "#9c179e"
            ],
            [
             0.4444444444444444,
             "#bd3786"
            ],
            [
             0.5555555555555556,
             "#d8576b"
            ],
            [
             0.6666666666666666,
             "#ed7953"
            ],
            [
             0.7777777777777778,
             "#fb9f3a"
            ],
            [
             0.8888888888888888,
             "#fdca26"
            ],
            [
             1,
             "#f0f921"
            ]
           ],
           "sequentialminus": [
            [
             0,
             "#0d0887"
            ],
            [
             0.1111111111111111,
             "#46039f"
            ],
            [
             0.2222222222222222,
             "#7201a8"
            ],
            [
             0.3333333333333333,
             "#9c179e"
            ],
            [
             0.4444444444444444,
             "#bd3786"
            ],
            [
             0.5555555555555556,
             "#d8576b"
            ],
            [
             0.6666666666666666,
             "#ed7953"
            ],
            [
             0.7777777777777778,
             "#fb9f3a"
            ],
            [
             0.8888888888888888,
             "#fdca26"
            ],
            [
             1,
             "#f0f921"
            ]
           ]
          },
          "colorway": [
           "#636efa",
           "#EF553B",
           "#00cc96",
           "#ab63fa",
           "#FFA15A",
           "#19d3f3",
           "#FF6692",
           "#B6E880",
           "#FF97FF",
           "#FECB52"
          ],
          "font": {
           "color": "#2a3f5f"
          },
          "geo": {
           "bgcolor": "white",
           "lakecolor": "white",
           "landcolor": "#E5ECF6",
           "showlakes": true,
           "showland": true,
           "subunitcolor": "white"
          },
          "hoverlabel": {
           "align": "left"
          },
          "hovermode": "closest",
          "mapbox": {
           "style": "light"
          },
          "paper_bgcolor": "white",
          "plot_bgcolor": "#E5ECF6",
          "polar": {
           "angularaxis": {
            "gridcolor": "white",
            "linecolor": "white",
            "ticks": ""
           },
           "bgcolor": "#E5ECF6",
           "radialaxis": {
            "gridcolor": "white",
            "linecolor": "white",
            "ticks": ""
           }
          },
          "scene": {
           "xaxis": {
            "backgroundcolor": "#E5ECF6",
            "gridcolor": "white",
            "gridwidth": 2,
            "linecolor": "white",
            "showbackground": true,
            "ticks": "",
            "zerolinecolor": "white"
           },
           "yaxis": {
            "backgroundcolor": "#E5ECF6",
            "gridcolor": "white",
            "gridwidth": 2,
            "linecolor": "white",
            "showbackground": true,
            "ticks": "",
            "zerolinecolor": "white"
           },
           "zaxis": {
            "backgroundcolor": "#E5ECF6",
            "gridcolor": "white",
            "gridwidth": 2,
            "linecolor": "white",
            "showbackground": true,
            "ticks": "",
            "zerolinecolor": "white"
           }
          },
          "shapedefaults": {
           "line": {
            "color": "#2a3f5f"
           }
          },
          "ternary": {
           "aaxis": {
            "gridcolor": "white",
            "linecolor": "white",
            "ticks": ""
           },
           "baxis": {
            "gridcolor": "white",
            "linecolor": "white",
            "ticks": ""
           },
           "bgcolor": "#E5ECF6",
           "caxis": {
            "gridcolor": "white",
            "linecolor": "white",
            "ticks": ""
           }
          },
          "title": {
           "x": 0.05
          },
          "xaxis": {
           "automargin": true,
           "gridcolor": "white",
           "linecolor": "white",
           "ticks": "",
           "title": {
            "standoff": 15
           },
           "zerolinecolor": "white",
           "zerolinewidth": 2
          },
          "yaxis": {
           "automargin": true,
           "gridcolor": "white",
           "linecolor": "white",
           "ticks": "",
           "title": {
            "standoff": 15
           },
           "zerolinecolor": "white",
           "zerolinewidth": 2
          }
         }
        }
       }
      }
     },
     "metadata": {},
     "output_type": "display_data"
    }
   ],
   "source": [
    "import plotly.express as px\n",
    "fig = px.scatter_3d(x[200 : 300], x=0, y=1, z=2, color=y[200 : 300])\n",
    "fig.show()"
   ]
  }
 ],
 "metadata": {
  "kernelspec": {
   "display_name": "Python 3",
   "language": "python",
   "name": "python3"
  },
  "language_info": {
   "codemirror_mode": {
    "name": "ipython",
    "version": 3
   },
   "file_extension": ".py",
   "mimetype": "text/x-python",
   "name": "python",
   "nbconvert_exporter": "python",
   "pygments_lexer": "ipython3",
   "version": "3.12.2"
  }
 },
 "nbformat": 4,
 "nbformat_minor": 2
}
